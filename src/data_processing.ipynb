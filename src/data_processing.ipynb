{
 "cells": [
  {
   "cell_type": "markdown",
   "id": "16def7fd",
   "metadata": {},
   "source": [
    "# Data cleaning\n",
    "## Data structure\n",
    "Raw data has match info and the game PGN format (moves made in the games)\n",
    "Example:\n",
    "\n",
    "```\n",
    "                Event            White       Black Result     UTCDate   UTCTime \\\n",
    "0           Classical          eisaaaa    HAMID449    1-0  2016.06.30  22:00:01 \\\n",
    "1               Blitz           go4jas  Sergei1973    0-1  2016.06.30  22:00:01 \\\n",
    "2    Blitz tournament  Evangelistaizac      kafune    1-0  2016.06.30  22:00:02 \\\n",
    "3      Correspondence           Jvayne    Wsjvayne    1-0  2016.06.30  22:00:02 \\\n",
    "4    Blitz tournament           kyoday   BrettDale    0-1  2016.06.30  22:00:02 \\\n",
    "\n",
    "    WhiteElo  BlackElo  WhiteRatingDiff  BlackRatingDiff  ECO\n",
    "0       1901      1896             11.0            -11.0  D10\n",
    "1       1641      1627            -11.0             12.0  C20\n",
    "2       1647      1688             13.0            -13.0  B01\n",
    "3       1706      1317             27.0            -25.0  A00\n",
    "4       1945      1900            -14.0             13.0  B9 \n",
    "\n",
    "                                         Opening  TimeControl   Termination                                                     AN\n",
    "0                                    Slav Defense       300+5  Time forfeit      1. d4 d5 2. c4 c6 3. e3 a6 4. Nf3 e5 5. cxd5 e...\n",
    "1                       King's Pawn Opening: 2.b3       300+0        Normal      1. e4 e5 2. b3 Nf6 3. Bb2 Nc6 4. Nf3 d6 5. d3 ...\n",
    "2   Scandinavian Defense: Mieses-Kotroc Variation       180+0  Time forfeit      1. e4 d5 2. exd5 Qxd5 3. Nf3 Bg4 4. Be2 Nf6 5....\n",
    "3                            Van't Kruijs Opening           -        Normal      1. e3 Nf6 2. Bc4 d6 3. e4 e6 4. Nf3 Nxe4 5. Nd...\n",
    "4     Sicilian Defense: Najdorf, Lipnitsky Attack       180+0  Time forfeit      1. e4 c5 2. Nf3 d6 3. d4 cxd4 4. Nxd4 Nf6 5. N...\n",
    "```\n",
    "So a few columns of the game info and then a column called `AN` that contains the PGN of the game, so we must convert this table into gameboards\n",
    "From this data, the most important data to save is `Result`, `ELO`s, `TimeControl` and `AN`\n"
   ]
  },
  {
   "cell_type": "code",
   "execution_count": 7,
   "id": "ffe9bd2a",
   "metadata": {},
   "outputs": [],
   "source": [
    "import pandas as pd\n",
    "import chess\n",
    "import numpy as np\n",
    "\n",
    "piece_to_idx = {\n",
    "    'P': 0, 'N': 1, 'B': 2, 'R': 3, 'Q': 4, 'K': 5,\n",
    "    'p': 6, 'n': 7, 'b': 8, 'r': 9, 'q': 10, 'k': 11\n",
    "}\n",
    "\n",
    "def board_to_tensor(board: chess.Board, sideToPlay: chess.Color):\n",
    "    tensor = np.zeros(12, dtype=np.uint64) # each board is represented in a int(8*8)-> uint64, a bit for each square\n",
    "    for square in chess.SQUARES:\n",
    "        piece = board.piece_at(square)\n",
    "        if piece:\n",
    "            idx = piece_to_idx[piece.symbol()]\n",
    "            tensor[idx] |= 1<<square # Set the bit to 1 at square for the board idx\n",
    "    # tensor[12] = 1 if sideToPlay==chess.WHITE else 0\n",
    "    return tensor\n",
    "\n",
    "def get_possible_moves(board: chess.Board) -> np.ndarray[np.uint64]: # np.ndarray[np.uint64, shape=(63)]\n",
    "    array = np.zeros(shape=(64,), dtype=np.uint64) # 64*63 bits (is set to 64 just to maintain homogeneity)\n",
    "    for move in board.legal_moves:\n",
    "        move_idx = MOVE_DICTIONARY[move.uci()[:4]]\n",
    "        num_idx = move_idx // 64\n",
    "        bit_idx = move_idx % 64\n",
    "        array[num_idx] |= 1<<bit_idx\n",
    "    return array\n",
    "\n",
    "\n",
    "letters = [\"a\", \"b\", \"c\", \"d\", \"e\", \"f\", \"g\", \"h\"]\n",
    "numbers = list(range(1, 10)) # [1..9]\n",
    "MOVE_DICTIONARY = {}\n",
    "cumulative = 0\n",
    "for num_games_saved in range(8):\n",
    "    for j in range(8):\n",
    "        for k in range(8):\n",
    "            for w in range (8):\n",
    "                if (num_games_saved == k and j == w):\n",
    "                    cumulative += 1\n",
    "                    continue\n",
    "                from_square = f\"{letters[num_games_saved]}{numbers[j]}\"\n",
    "                to_square = f\"{letters[k]}{numbers[w]}\"\n",
    "                MOVE_DICTIONARY[f\"{from_square}{to_square}\"] = (num_games_saved * 8**3) + (j * 8**2) + (k * 8) + w - cumulative\n",
    "REVERSE_MOVE_DICTIONARY = {\n",
    "    value: key for key, value in MOVE_DICTIONARY.items()\n",
    "}"
   ]
  },
  {
   "cell_type": "code",
   "execution_count": 8,
   "id": "202ec7f4",
   "metadata": {},
   "outputs": [],
   "source": [
    "import re\n",
    "\n",
    "def clean_pgn(pgn_text):\n",
    "    # Remove {...} comments and [%...] evals\n",
    "    cleaned = re.sub(r'\\{[^}]*\\}', '', pgn_text)\n",
    "    cleaned = re.sub(r'\\[%[^]]*\\]', '', cleaned)\n",
    "    # cleaned = re.sub(r'[0-9]+\\.\\.\\.', '', cleaned)\n",
    "    cleaned = re.sub(r'\\?!?', '', cleaned)\n",
    "    return cleaned\n",
    "\n",
    "def pgn_to_moves(pgn_text):\n",
    "    # Clean the PGN text\n",
    "    cleaned_pgn = clean_pgn(pgn_text)\n",
    "    # Split the cleaned PGN into moves\n",
    "    tokens = cleaned_pgn.replace(\"\\n\", \" \").split()\n",
    "    \n",
    "    moves = [token for token in tokens if not token[0].isdigit() and '.' not in token]\n",
    "    return moves"
   ]
  },
  {
   "cell_type": "code",
   "execution_count": 9,
   "id": "0e8939f8",
   "metadata": {},
   "outputs": [
    {
     "name": "stdout",
     "output_type": "stream",
     "text": [
      "Reading 1-th batch of games...\n"
     ]
    },
    {
     "name": "stderr",
     "output_type": "stream",
     "text": [
      "10000it [00:16, 594.40it/s]\n"
     ]
    },
    {
     "name": "stdout",
     "output_type": "stream",
     "text": [
      "Read 10000 in 16.892420530319214 | TOTAL: 10000 | num_games_saved 1680 | num_moves_saved 57_345 - 58_172\n",
      "Reading 2-th batch of games...\n"
     ]
    },
    {
     "name": "stderr",
     "output_type": "stream",
     "text": [
      "10000it [00:17, 557.42it/s]\n"
     ]
    },
    {
     "name": "stdout",
     "output_type": "stream",
     "text": [
      "Read 10000 in 18.03679132461548 | TOTAL: 20000 | num_games_saved 3490 | num_moves_saved 119_099 - 120_861\n",
      "Reading 3-th batch of games...\n"
     ]
    },
    {
     "name": "stderr",
     "output_type": "stream",
     "text": [
      "10000it [00:17, 582.70it/s]\n"
     ]
    },
    {
     "name": "stdout",
     "output_type": "stream",
     "text": [
      "Read 10000 in 17.242563247680664 | TOTAL: 30000 | num_games_saved 5290 | num_moves_saved 179_534 - 182_182\n",
      "Reading 4-th batch of games...\n"
     ]
    },
    {
     "name": "stderr",
     "output_type": "stream",
     "text": [
      "10000it [00:16, 621.55it/s]\n"
     ]
    },
    {
     "name": "stdout",
     "output_type": "stream",
     "text": [
      "Read 10000 in 16.19264268875122 | TOTAL: 40000 | num_games_saved 6923 | num_moves_saved 236_024 - 239_477\n",
      "Reading 5-th batch of games...\n"
     ]
    },
    {
     "name": "stderr",
     "output_type": "stream",
     "text": [
      "10000it [00:17, 560.29it/s]\n"
     ]
    },
    {
     "name": "stdout",
     "output_type": "stream",
     "text": [
      "Read 10000 in 18.025551080703735 | TOTAL: 50000 | num_games_saved 8783 | num_moves_saved 298_277 - 302_615\n",
      "Reading 6-th batch of games...\n"
     ]
    },
    {
     "name": "stderr",
     "output_type": "stream",
     "text": [
      "10000it [00:17, 574.63it/s]\n"
     ]
    },
    {
     "name": "stdout",
     "output_type": "stream",
     "text": [
      "Read 10000 in 17.540685176849365 | TOTAL: 60000 | num_games_saved 10608 | num_moves_saved 359_975 - 365_248\n",
      "Reading 7-th batch of games...\n"
     ]
    },
    {
     "name": "stderr",
     "output_type": "stream",
     "text": [
      "10000it [00:16, 601.06it/s]\n"
     ]
    },
    {
     "name": "stdout",
     "output_type": "stream",
     "text": [
      "Read 10000 in 16.838162422180176 | TOTAL: 70000 | num_games_saved 12370 | num_moves_saved 418_429 - 424_560\n",
      "Reading 8-th batch of games...\n"
     ]
    },
    {
     "name": "stderr",
     "output_type": "stream",
     "text": [
      "10000it [00:17, 565.21it/s]\n"
     ]
    },
    {
     "name": "stdout",
     "output_type": "stream",
     "text": [
      "Read 10000 in 17.906007766723633 | TOTAL: 80000 | num_games_saved 14237 | num_moves_saved 480_605 - 487_623\n",
      "Reading 9-th batch of games...\n"
     ]
    },
    {
     "name": "stderr",
     "output_type": "stream",
     "text": [
      "10000it [00:18, 529.83it/s]\n"
     ]
    },
    {
     "name": "stdout",
     "output_type": "stream",
     "text": [
      "Read 10000 in 19.070631742477417 | TOTAL: 90000 | num_games_saved 16236 | num_moves_saved 548_199 - 556_179\n",
      "Reading 10-th batch of games...\n"
     ]
    },
    {
     "name": "stderr",
     "output_type": "stream",
     "text": [
      "10000it [00:16, 599.92it/s]\n"
     ]
    },
    {
     "name": "stdout",
     "output_type": "stream",
     "text": [
      "Read 10000 in 16.870055437088013 | TOTAL: 100000 | num_games_saved 17972 | num_moves_saved 606_321 - 615_170\n",
      "Reading 11-th batch of games...\n"
     ]
    },
    {
     "name": "stderr",
     "output_type": "stream",
     "text": [
      "10000it [00:17, 582.27it/s]\n"
     ]
    },
    {
     "name": "stdout",
     "output_type": "stream",
     "text": [
      "Read 10000 in 17.397234201431274 | TOTAL: 110000 | num_games_saved 19778 | num_moves_saved 666_903 - 676_647\n",
      "Reading 12-th batch of games...\n"
     ]
    },
    {
     "name": "stderr",
     "output_type": "stream",
     "text": [
      "10000it [00:18, 526.51it/s]\n"
     ]
    },
    {
     "name": "stdout",
     "output_type": "stream",
     "text": [
      "Read 10000 in 19.277421474456787 | TOTAL: 120000 | num_games_saved 21745 | num_moves_saved 733_896 - 744_624\n",
      "Reading 13-th batch of games...\n"
     ]
    },
    {
     "name": "stderr",
     "output_type": "stream",
     "text": [
      "10000it [00:17, 559.51it/s]\n"
     ]
    },
    {
     "name": "stdout",
     "output_type": "stream",
     "text": [
      "Read 10000 in 18.179054737091064 | TOTAL: 130000 | num_games_saved 23616 | num_moves_saved 797_082 - 808_747\n",
      "Reading 14-th batch of games...\n"
     ]
    },
    {
     "name": "stderr",
     "output_type": "stream",
     "text": [
      "10000it [00:18, 526.47it/s]\n"
     ]
    },
    {
     "name": "stdout",
     "output_type": "stream",
     "text": [
      "Read 10000 in 19.25165367126465 | TOTAL: 140000 | num_games_saved 25585 | num_moves_saved 864_075 - 876_732\n",
      "Reading 15-th batch of games...\n"
     ]
    },
    {
     "name": "stderr",
     "output_type": "stream",
     "text": [
      "10000it [00:18, 550.35it/s]\n"
     ]
    },
    {
     "name": "stdout",
     "output_type": "stream",
     "text": [
      "Read 10000 in 18.486998558044434 | TOTAL: 150000 | num_games_saved 27457 | num_moves_saved 927_610 - 941_144\n",
      "Reading 16-th batch of games...\n"
     ]
    },
    {
     "name": "stderr",
     "output_type": "stream",
     "text": [
      "10000it [00:17, 564.70it/s]\n"
     ]
    },
    {
     "name": "stdout",
     "output_type": "stream",
     "text": [
      "Read 10000 in 18.04572367668152 | TOTAL: 160000 | num_games_saved 29292 | num_moves_saved 990_110 - 1_004_562\n",
      "Reading 17-th batch of games...\n"
     ]
    },
    {
     "name": "stderr",
     "output_type": "stream",
     "text": [
      "10000it [00:15, 645.28it/s]\n"
     ]
    },
    {
     "name": "stdout",
     "output_type": "stream",
     "text": [
      "Read 10000 in 15.841851949691772 | TOTAL: 170000 | num_games_saved 30914 | num_moves_saved 1_044_677 - 1_059_924\n",
      "Reading 18-th batch of games...\n"
     ]
    },
    {
     "name": "stderr",
     "output_type": "stream",
     "text": [
      "10000it [00:17, 587.66it/s]\n"
     ]
    },
    {
     "name": "stdout",
     "output_type": "stream",
     "text": [
      "Read 10000 in 17.32669496536255 | TOTAL: 180000 | num_games_saved 32722 | num_moves_saved 1_104_535 - 1_120_702\n",
      "Reading 19-th batch of games...\n"
     ]
    },
    {
     "name": "stderr",
     "output_type": "stream",
     "text": [
      "10000it [00:18, 546.43it/s]\n"
     ]
    },
    {
     "name": "stdout",
     "output_type": "stream",
     "text": [
      "Read 10000 in 18.621102333068848 | TOTAL: 190000 | num_games_saved 34645 | num_moves_saved 1_169_307 - 1_186_452\n",
      "Reading 20-th batch of games...\n"
     ]
    },
    {
     "name": "stderr",
     "output_type": "stream",
     "text": [
      "10000it [00:16, 588.39it/s]\n"
     ]
    },
    {
     "name": "stdout",
     "output_type": "stream",
     "text": [
      "Read 10000 in 17.344062089920044 | TOTAL: 200000 | num_games_saved 36437 | num_moves_saved 1_229_002 - 1_247_010\n",
      "Reading 21-th batch of games...\n"
     ]
    },
    {
     "name": "stderr",
     "output_type": "stream",
     "text": [
      "10000it [00:17, 576.59it/s]\n"
     ]
    },
    {
     "name": "stdout",
     "output_type": "stream",
     "text": [
      "Read 10000 in 17.778011798858643 | TOTAL: 210000 | num_games_saved 38243 | num_moves_saved 1_290_866 - 1_309_771\n",
      "Reading 22-th batch of games...\n"
     ]
    },
    {
     "name": "stderr",
     "output_type": "stream",
     "text": [
      "10000it [00:17, 582.29it/s]\n"
     ]
    },
    {
     "name": "stdout",
     "output_type": "stream",
     "text": [
      "Read 10000 in 17.59740662574768 | TOTAL: 220000 | num_games_saved 40050 | num_moves_saved 1_351_308 - 1_371_131\n",
      "Reading 23-th batch of games...\n"
     ]
    },
    {
     "name": "stderr",
     "output_type": "stream",
     "text": [
      "10000it [00:16, 594.52it/s]\n"
     ]
    },
    {
     "name": "stdout",
     "output_type": "stream",
     "text": [
      "Read 10000 in 17.193068504333496 | TOTAL: 230000 | num_games_saved 41786 | num_moves_saved 1_409_976 - 1_430_652\n",
      "Reading 24-th batch of games...\n"
     ]
    },
    {
     "name": "stderr",
     "output_type": "stream",
     "text": [
      "10000it [00:17, 568.43it/s]\n"
     ]
    },
    {
     "name": "stdout",
     "output_type": "stream",
     "text": [
      "Read 10000 in 18.046130895614624 | TOTAL: 240000 | num_games_saved 43626 | num_moves_saved 1_472_180 - 1_493_780\n",
      "Reading 25-th batch of games...\n"
     ]
    },
    {
     "name": "stderr",
     "output_type": "stream",
     "text": [
      "10000it [00:18, 541.36it/s]\n"
     ]
    },
    {
     "name": "stdout",
     "output_type": "stream",
     "text": [
      "Read 10000 in 18.881910800933838 | TOTAL: 250000 | num_games_saved 45578 | num_moves_saved 1_537_170 - 1_559_746\n",
      "Reading 26-th batch of games...\n"
     ]
    },
    {
     "name": "stderr",
     "output_type": "stream",
     "text": [
      "10000it [00:17, 557.64it/s]\n"
     ]
    },
    {
     "name": "stdout",
     "output_type": "stream",
     "text": [
      "Read 10000 in 18.41776752471924 | TOTAL: 260000 | num_games_saved 47427 | num_moves_saved 1_600_233 - 1_623_703\n",
      "Reading 27-th batch of games...\n"
     ]
    },
    {
     "name": "stderr",
     "output_type": "stream",
     "text": [
      "10000it [00:19, 511.56it/s]\n"
     ]
    },
    {
     "name": "stdout",
     "output_type": "stream",
     "text": [
      "Read 10000 in 20.058351039886475 | TOTAL: 270000 | num_games_saved 49461 | num_moves_saved 1_669_812 - 1_694_316\n",
      "Reading 28-th batch of games...\n"
     ]
    },
    {
     "name": "stderr",
     "output_type": "stream",
     "text": [
      "10000it [00:18, 553.55it/s]\n"
     ]
    },
    {
     "name": "stdout",
     "output_type": "stream",
     "text": [
      "Read 10000 in 18.546111822128296 | TOTAL: 280000 | num_games_saved 51345 | num_moves_saved 1_733_886 - 1_759_303\n",
      "Reading 29-th batch of games...\n"
     ]
    },
    {
     "name": "stderr",
     "output_type": "stream",
     "text": [
      "10000it [00:18, 546.58it/s]\n"
     ]
    },
    {
     "name": "stdout",
     "output_type": "stream",
     "text": [
      "Read 10000 in 18.754746675491333 | TOTAL: 290000 | num_games_saved 53306 | num_moves_saved 1_799_350 - 1_825_712\n",
      "Reading 30-th batch of games...\n"
     ]
    },
    {
     "name": "stderr",
     "output_type": "stream",
     "text": [
      "10000it [00:17, 577.06it/s]\n"
     ]
    },
    {
     "name": "stdout",
     "output_type": "stream",
     "text": [
      "Read 10000 in 17.850574493408203 | TOTAL: 300000 | num_games_saved 55113 | num_moves_saved 1_860_893 - 1_888_147\n",
      "Reading 31-th batch of games...\n"
     ]
    },
    {
     "name": "stderr",
     "output_type": "stream",
     "text": [
      "10000it [00:18, 545.58it/s]\n"
     ]
    },
    {
     "name": "stdout",
     "output_type": "stream",
     "text": [
      "Read 10000 in 18.811514139175415 | TOTAL: 310000 | num_games_saved 57082 | num_moves_saved 1_926_402 - 1_954_621\n",
      "Reading 32-th batch of games...\n"
     ]
    },
    {
     "name": "stderr",
     "output_type": "stream",
     "text": [
      "10000it [00:17, 557.99it/s]\n"
     ]
    },
    {
     "name": "stdout",
     "output_type": "stream",
     "text": [
      "Read 10000 in 18.485278844833374 | TOTAL: 320000 | num_games_saved 58972 | num_moves_saved 1_990_111 - 2_019_265\n",
      "Reading 33-th batch of games...\n"
     ]
    },
    {
     "name": "stderr",
     "output_type": "stream",
     "text": [
      "10000it [00:19, 501.41it/s]\n"
     ]
    },
    {
     "name": "stdout",
     "output_type": "stream",
     "text": [
      "Read 10000 in 20.53594708442688 | TOTAL: 330000 | num_games_saved 61054 | num_moves_saved 2_061_729 - 2_091_898\n",
      "Reading 34-th batch of games...\n"
     ]
    },
    {
     "name": "stderr",
     "output_type": "stream",
     "text": [
      "10000it [00:19, 514.11it/s]\n"
     ]
    },
    {
     "name": "stdout",
     "output_type": "stream",
     "text": [
      "Read 10000 in 20.043050527572632 | TOTAL: 340000 | num_games_saved 63060 | num_moves_saved 2_130_344 - 2_161_516\n",
      "Reading 35-th batch of games...\n"
     ]
    },
    {
     "name": "stderr",
     "output_type": "stream",
     "text": [
      "10000it [00:19, 523.98it/s]\n"
     ]
    },
    {
     "name": "stdout",
     "output_type": "stream",
     "text": [
      "Read 10000 in 19.65183115005493 | TOTAL: 350000 | num_games_saved 65065 | num_moves_saved 2_198_320 - 2_230_513\n",
      "Reading 36-th batch of games...\n"
     ]
    },
    {
     "name": "stderr",
     "output_type": "stream",
     "text": [
      "10000it [00:18, 536.68it/s]\n"
     ]
    },
    {
     "name": "stdout",
     "output_type": "stream",
     "text": [
      "Read 10000 in 19.208228588104248 | TOTAL: 360000 | num_games_saved 67020 | num_moves_saved 2_264_401 - 2_297_561\n",
      "Reading 37-th batch of games...\n"
     ]
    },
    {
     "name": "stderr",
     "output_type": "stream",
     "text": [
      "10000it [00:17, 567.48it/s]\n"
     ]
    },
    {
     "name": "stdout",
     "output_type": "stream",
     "text": [
      "Read 10000 in 18.217193365097046 | TOTAL: 370000 | num_games_saved 68873 | num_moves_saved 2_325_772 - 2_359_857\n",
      "Reading 38-th batch of games...\n"
     ]
    },
    {
     "name": "stderr",
     "output_type": "stream",
     "text": [
      "4725it [00:08, 550.84it/s]"
     ]
    },
    {
     "name": "stdout",
     "output_type": "stream",
     "text": [
      "Skipping bad game: ['e4', 'c6', 'd4', 'd5', 'f3', 'dxe4', 'fxe4', 'e5', 'Nf3', 'exd4', 'Bc4', 'Be6', 'Bxe6', 'fxe6', 'O-O', 'Nf6', 'e5', 'Nd5', 'Ng5', 'Qb6', 'Nxe6', 'd3+', 'Kh1', 'dxc2', 'Qxc2', 'Nd7', 'Nc3', 'Nxc3', 'bxc3', 'Be7', '*'] - * – #invalid san: '*'#\n"
     ]
    },
    {
     "name": "stderr",
     "output_type": "stream",
     "text": [
      "10000it [00:17, 582.43it/s]\n"
     ]
    },
    {
     "name": "stdout",
     "output_type": "stream",
     "text": [
      "Read 10000 in 17.80600142478943 | TOTAL: 380000 | num_games_saved 70745 | num_moves_saved 2_387_158 - 2_422_168\n",
      "Reading 39-th batch of games...\n"
     ]
    },
    {
     "name": "stderr",
     "output_type": "stream",
     "text": [
      "10000it [00:17, 586.70it/s]\n"
     ]
    },
    {
     "name": "stdout",
     "output_type": "stream",
     "text": [
      "Read 10000 in 17.655624389648438 | TOTAL: 390000 | num_games_saved 72540 | num_moves_saved 2_448_789 - 2_484_703\n",
      "Reading 40-th batch of games...\n"
     ]
    },
    {
     "name": "stderr",
     "output_type": "stream",
     "text": [
      "10000it [00:17, 581.78it/s]\n"
     ]
    },
    {
     "name": "stdout",
     "output_type": "stream",
     "text": [
      "Read 10000 in 17.808775424957275 | TOTAL: 400000 | num_games_saved 74356 | num_moves_saved 2_511_137 - 2_547_946\n",
      "Reading 41-th batch of games...\n"
     ]
    },
    {
     "name": "stderr",
     "output_type": "stream",
     "text": [
      "10000it [00:17, 588.10it/s]\n"
     ]
    },
    {
     "name": "stdout",
     "output_type": "stream",
     "text": [
      "Read 10000 in 17.68393564224243 | TOTAL: 410000 | num_games_saved 76111 | num_moves_saved 2_572_228 - 2_609_917\n",
      "Reading 42-th batch of games...\n"
     ]
    },
    {
     "name": "stderr",
     "output_type": "stream",
     "text": [
      "10000it [00:16, 607.67it/s]\n"
     ]
    },
    {
     "name": "stdout",
     "output_type": "stream",
     "text": [
      "Read 10000 in 17.111701488494873 | TOTAL: 420000 | num_games_saved 77811 | num_moves_saved 2_630_544 - 2_669_053\n",
      "Reading 43-th batch of games...\n"
     ]
    },
    {
     "name": "stderr",
     "output_type": "stream",
     "text": [
      "10000it [00:16, 591.50it/s]\n"
     ]
    },
    {
     "name": "stdout",
     "output_type": "stream",
     "text": [
      "Read 10000 in 17.62601900100708 | TOTAL: 430000 | num_games_saved 79611 | num_moves_saved 2_691_868 - 2_731_228\n",
      "Reading 44-th batch of games...\n"
     ]
    },
    {
     "name": "stderr",
     "output_type": "stream",
     "text": [
      "10000it [00:18, 551.10it/s]\n"
     ]
    },
    {
     "name": "stdout",
     "output_type": "stream",
     "text": [
      "Read 10000 in 18.804633855819702 | TOTAL: 440000 | num_games_saved 81523 | num_moves_saved 2_756_384 - 2_796_661\n",
      "Reading 45-th batch of games...\n"
     ]
    },
    {
     "name": "stderr",
     "output_type": "stream",
     "text": [
      "10000it [00:17, 574.73it/s]\n"
     ]
    },
    {
     "name": "stdout",
     "output_type": "stream",
     "text": [
      "Read 10000 in 18.14565396308899 | TOTAL: 450000 | num_games_saved 83364 | num_moves_saved 2_819_030 - 2_860_216\n",
      "Reading 46-th batch of games...\n"
     ]
    },
    {
     "name": "stderr",
     "output_type": "stream",
     "text": [
      "10000it [00:16, 588.29it/s]\n"
     ]
    },
    {
     "name": "stdout",
     "output_type": "stream",
     "text": [
      "Read 10000 in 17.763460636138916 | TOTAL: 460000 | num_games_saved 85180 | num_moves_saved 2_880_188 - 2_922_255\n",
      "Reading 47-th batch of games...\n"
     ]
    },
    {
     "name": "stderr",
     "output_type": "stream",
     "text": [
      "10000it [00:16, 599.49it/s]\n"
     ]
    },
    {
     "name": "stdout",
     "output_type": "stream",
     "text": [
      "Read 10000 in 17.410394191741943 | TOTAL: 470000 | num_games_saved 86982 | num_moves_saved 2_940_574 - 2_983_537\n",
      "Reading 48-th batch of games...\n"
     ]
    },
    {
     "name": "stderr",
     "output_type": "stream",
     "text": [
      "10000it [00:17, 577.51it/s]\n"
     ]
    },
    {
     "name": "stdout",
     "output_type": "stream",
     "text": [
      "Read 10000 in 18.04107642173767 | TOTAL: 480000 | num_games_saved 88835 | num_moves_saved 3_002_936 - 3_046_815\n",
      "Reading 49-th batch of games...\n"
     ]
    },
    {
     "name": "stderr",
     "output_type": "stream",
     "text": [
      "10000it [00:18, 552.35it/s]\n"
     ]
    },
    {
     "name": "stdout",
     "output_type": "stream",
     "text": [
      "Read 10000 in 18.890077829360962 | TOTAL: 490000 | num_games_saved 90777 | num_moves_saved 3_068_226 - 3_113_036\n",
      "Reading 50-th batch of games...\n"
     ]
    },
    {
     "name": "stderr",
     "output_type": "stream",
     "text": [
      "10000it [00:18, 545.76it/s]\n"
     ]
    },
    {
     "name": "stdout",
     "output_type": "stream",
     "text": [
      "Read 10000 in 19.10921883583069 | TOTAL: 500000 | num_games_saved 92739 | num_moves_saved 3_135_047 - 3_180_852\n",
      "Reading 51-th batch of games...\n"
     ]
    },
    {
     "name": "stderr",
     "output_type": "stream",
     "text": [
      "10000it [00:18, 554.38it/s]\n"
     ]
    },
    {
     "name": "stdout",
     "output_type": "stream",
     "text": [
      "Read 10000 in 18.8547420501709 | TOTAL: 510000 | num_games_saved 94646 | num_moves_saved 3_200_658 - 3_247_420\n",
      "Reading 52-th batch of games...\n"
     ]
    },
    {
     "name": "stderr",
     "output_type": "stream",
     "text": [
      "10000it [00:18, 533.84it/s]\n"
     ]
    },
    {
     "name": "stdout",
     "output_type": "stream",
     "text": [
      "Read 10000 in 19.560866117477417 | TOTAL: 520000 | num_games_saved 96594 | num_moves_saved 3_268_982 - 3_316_678\n",
      "Reading 53-th batch of games...\n"
     ]
    },
    {
     "name": "stderr",
     "output_type": "stream",
     "text": [
      "10000it [00:19, 524.01it/s]\n"
     ]
    },
    {
     "name": "stdout",
     "output_type": "stream",
     "text": [
      "Read 10000 in 19.858524322509766 | TOTAL: 530000 | num_games_saved 98606 | num_moves_saved 3_337_419 - 3_386_094\n",
      "Reading 54-th batch of games...\n"
     ]
    },
    {
     "name": "stderr",
     "output_type": "stream",
     "text": [
      "10000it [00:17, 581.40it/s]\n"
     ]
    },
    {
     "name": "stdout",
     "output_type": "stream",
     "text": [
      "Read 10000 in 18.046491622924805 | TOTAL: 540000 | num_games_saved 100448 | num_moves_saved 3_399_709 - 3_449_317\n",
      "Reading 55-th batch of games...\n"
     ]
    },
    {
     "name": "stderr",
     "output_type": "stream",
     "text": [
      "10000it [00:18, 547.84it/s]\n"
     ]
    },
    {
     "name": "stdout",
     "output_type": "stream",
     "text": [
      "Read 10000 in 19.108325242996216 | TOTAL: 550000 | num_games_saved 102406 | num_moves_saved 3_466_164 - 3_516_770\n",
      "Reading 56-th batch of games...\n"
     ]
    },
    {
     "name": "stderr",
     "output_type": "stream",
     "text": [
      "10000it [00:17, 574.61it/s]\n"
     ]
    },
    {
     "name": "stdout",
     "output_type": "stream",
     "text": [
      "Read 10000 in 18.284054040908813 | TOTAL: 560000 | num_games_saved 104240 | num_moves_saved 3_529_437 - 3_580_961\n",
      "Reading 57-th batch of games...\n"
     ]
    },
    {
     "name": "stderr",
     "output_type": "stream",
     "text": [
      "10000it [00:18, 548.06it/s]\n"
     ]
    },
    {
     "name": "stdout",
     "output_type": "stream",
     "text": [
      "Read 10000 in 19.134828090667725 | TOTAL: 570000 | num_games_saved 106168 | num_moves_saved 3_594_239 - 3_646_746\n",
      "Reading 58-th batch of games...\n"
     ]
    },
    {
     "name": "stderr",
     "output_type": "stream",
     "text": [
      "10000it [00:19, 524.03it/s]\n"
     ]
    },
    {
     "name": "stdout",
     "output_type": "stream",
     "text": [
      "Read 10000 in 19.97822618484497 | TOTAL: 580000 | num_games_saved 108213 | num_moves_saved 3_663_419 - 3_716_966\n",
      "Reading 59-th batch of games...\n"
     ]
    },
    {
     "name": "stderr",
     "output_type": "stream",
     "text": [
      "10000it [00:17, 580.84it/s]\n"
     ]
    },
    {
     "name": "stdout",
     "output_type": "stream",
     "text": [
      "Read 10000 in 18.068917989730835 | TOTAL: 590000 | num_games_saved 110039 | num_moves_saved 3_725_959 - 3_780_426\n",
      "Reading 60-th batch of games...\n"
     ]
    },
    {
     "name": "stderr",
     "output_type": "stream",
     "text": [
      "10000it [00:16, 591.75it/s]\n"
     ]
    },
    {
     "name": "stdout",
     "output_type": "stream",
     "text": [
      "Read 10000 in 17.828773736953735 | TOTAL: 600000 | num_games_saved 111841 | num_moves_saved 3_787_221 - 3_842_595\n",
      "Reading 61-th batch of games...\n"
     ]
    },
    {
     "name": "stderr",
     "output_type": "stream",
     "text": [
      "10000it [00:18, 539.45it/s]\n"
     ]
    },
    {
     "name": "stdout",
     "output_type": "stream",
     "text": [
      "Read 10000 in 19.4750497341156 | TOTAL: 610000 | num_games_saved 113803 | num_moves_saved 3_853_881 - 3_910_205\n",
      "Reading 62-th batch of games...\n"
     ]
    },
    {
     "name": "stderr",
     "output_type": "stream",
     "text": [
      "10000it [00:16, 592.52it/s]\n"
     ]
    },
    {
     "name": "stdout",
     "output_type": "stream",
     "text": [
      "Read 10000 in 17.822946786880493 | TOTAL: 620000 | num_games_saved 115579 | num_moves_saved 3_914_543 - 3_971_756\n",
      "Reading 63-th batch of games...\n"
     ]
    },
    {
     "name": "stderr",
     "output_type": "stream",
     "text": [
      "10000it [00:15, 661.96it/s]\n"
     ]
    },
    {
     "name": "stdout",
     "output_type": "stream",
     "text": [
      "Read 10000 in 16.03043222427368 | TOTAL: 630000 | num_games_saved 117221 | num_moves_saved 3_968_684 - 4_026_681\n",
      "Reading 64-th batch of games...\n"
     ]
    },
    {
     "name": "stderr",
     "output_type": "stream",
     "text": [
      "10000it [00:16, 614.43it/s]\n"
     ]
    },
    {
     "name": "stdout",
     "output_type": "stream",
     "text": [
      "Read 10000 in 17.210588216781616 | TOTAL: 640000 | num_games_saved 118933 | num_moves_saved 4_027_451 - 4_086_268\n",
      "Reading 65-th batch of games...\n"
     ]
    },
    {
     "name": "stderr",
     "output_type": "stream",
     "text": [
      "5860it [00:09, 636.73it/s]"
     ]
    },
    {
     "name": "stdout",
     "output_type": "stream",
     "text": [
      "Skipping bad game: ['e4', 'Nf6', 'e5', 'Nd5', 'd4', 'd6', 'c4', 'Nb6', 'exd6', 'cxd6', 'Nf3', 'g6', 'Be2', 'Bg7', 'Nc3', 'O-O', 'O-O', 'Nc6', 'h3', 'e5', 'd5', 'Ne7', 'Be3', 'Nf5', 'Bg5', 'f6', 'Bd2', 'Bd7', 'Qc1', 'Rc8', 'b3', 'Nd4', 'Bd3', 'Nxf3+', 'gxf3', 'Bxh3', 'Re1', 'f5', 'Bg5', 'Bf6', 'f4', 'e4', 'Bf1', 'Bg4', 'Qe3', 'h6', 'Bxf6', 'Qxf6', 'Rac1', 'Qh4', 'Qg3', 'Qf6', 'Bh3', 'Bxh3', 'Qxh3', 'Kg7', 'Kg2', 'Rh8', 'Rh1', 'h5', 'Qe3', 'Rhe8', 'a4', 'Rc5', 'Nb5', 'a6', 'Nc3', 'Nd7', 'Qe2', 'Rcc8', 'Qd1', 'Nc5', 'Ne2', 'Nd3', 'Rc2', 'b5', 'axb5', 'axb5', 'cxb5', 'Rb8', 'Rc7+', 'Re7', 'Qc2', 'Qf7', 'Rc6', 'Nb4', 'Qc3+', 'Kg8', 'Qxb4', 'e3', 'Qxd6', 'Rxb5', 'Rc8+', 'Kg7', 'Qc6', 'Rxb3', 'd6', 'Rd7', 'Qxd7', 'Qxd7', 'Rc7', 'Rb7', 'Rxd7+', 'Rxd7', 'fxe3', 'Rxd6', 'Nd4', 'Ra6', 'Kf3', 'Ra3', 'Rg1', 'Kf6', 'Nc6', 'Rc3', 'Ne5', 'h4', 'Rxg6+', 'Ke7', 'Rh6', 'h3', 'Rxh3', 'Rc1', 'Rh8', 'Rf1+', 'Ke2', 'Rb1', 'Nd3', 'Ra1', 'Rh6', 'Ra2+', 'Kf3', 'Ra3', 'Nb4', 'Ra5', 'Nc6+', 'Kf7', 'Nxa5', 'Kg7', 'Rh5', 'Kg6', 'Rg5+', 'Kf6', 'Nc4', 'Ke6', 'Ne5', 'Kf6', 'Nd7+', 'Ke7', 'Nc5', 'Kf6', 'Kg3', 'Ke7', 'Rxf5', 'Kd6', 'Kg4', 'Kc6', 'Kg5', 'Kb5', 'Ne4+', 'Kc4', 'Kg4', 'Kd3', 'Kf3', 'Kc4', 'Rc5+', 'Kd3', 'Nf6', 'Kd2', '*'] - * – #invalid san: '*'#\n",
      "Skipping bad game: ['d4', 'Nf6', 'Nc3', 'e6', 'Bg5', 'd5', 'e4', 'dxe4', 'Nxe4', 'Be7', 'Bxf6', 'Bxf6', 'Nxf6+', 'Qxf6', 'Nf3', 'O-O', 'Bd3', 'h6', 'Qd2', 'b6', 'O-O-O', 'Bb7', 'Qe3', 'Nd7', 'Rhe1', 'c5', 'Be4', 'Bxe4', 'Qxe4', 'cxd4', 'Rxd4', 'Nc5', 'Qh4', 'Rfe8', 'Qxf6', 'gxf6', 'Rh4', 'Kg7', 'Nd4', 'a6', 'Re3', 'Rh8', 'Rg3+', 'Kh7', 'Rgh3', 'Kg7', 'Rg3+', 'Kh7', 'c3', 'Rad8', 'Nc2', 'Rd5', 'Ne3', 'Rg5', 'Rgh3', 'Kg7', 'Ng4', 'h5', 'Ne3', 'f5', 'Nc4', 'Ne4', 'Nxb6', 'Nxf2', 'Rf3', 'Rxg2', 'Nc4', 'Ne4', 'Ne3', 'Rg1+', 'Kc2', 'Kg6', 'Rfh3', 'Ng5', 'Rg3', 'f4', 'Rxg1', 'fxe3', 'Kd3', 'f5', 'Kxe3', 'Kf6', 'Ra4', 'Ra8', 'b4', 'e5', 'b5', 'f4+', 'Kf2', 'Nh3+', 'Kf1', 'Nxg1', 'Kxg1', 'a5', 'b6', 'Rb8', 'Rxa5', 'Rxb6', 'Ra8', 'Kf5', 'Rh8', 'Kg4', 'h3+', 'Kxh3', 'Rxh5+', 'Kg3', 'Rg5+', 'Kf3', 'Rxe5', 'Rb1+', 'Kh2', 'Rb2+', 'Kh3', 'Rxa2', 'Rd5', 'Rc2', 'Rd3+', 'Ke4', 'Rd4+', 'Ke3', 'Rc4', 'Kd3', 'Rxf4', 'Rxc3', 'Kg4', 'Ke3', 'Rf3+', 'Kd4', 'Rf8', 'Rc5', 'Kg3', 'Rc3+', 'Kf2', 'Rc2+', 'Kg3', 'Rc3+', 'Kh4', '*'] - * – #invalid san: '*'#\n"
     ]
    },
    {
     "name": "stderr",
     "output_type": "stream",
     "text": [
      "6055it [00:10, 579.47it/s]"
     ]
    },
    {
     "name": "stdout",
     "output_type": "stream",
     "text": [
      "Skipping bad game: ['d4', 'Nf6', 'c4', 'e6', 'Nc3', 'd5', 'cxd5', 'Nxd5', 'e4', 'Nxc3', 'bxc3', 'c5', 'Rb1', 'cxd4', 'cxd4', 'Nc6', 'Nf3', 'Bb4+', 'Bd2', 'Bxd2+', 'Qxd2', 'O-O', 'Be2', 'a6', 'O-O', 'b5', 'Rfd1', 'Bb7', 'd5', 'exd5', 'exd5', 'Ne7', 'd6', 'Nf5', 'Ng5', 'h6', 'Ne4', 'Rc8', 'Ng3', 'Nxg3', 'hxg3', 'Qd7', 'Bf3', 'Bxf3', 'gxf3', 'Rfd8', 'Rb3', 'Rc6', 'Rd3', 'a5', 'f4', 'b4', 'Kg2', 'Rc5', 'Rd4', 'Qc6+', 'f3', 'Rd7', 'Kh3', 'Rh5+', 'Kg2', 'Rc5', 'Qe3', 'Rc2+', 'R1d2', 'g6', 'Rxc2', 'Qxc2+', 'Rd2', 'Qc6', 'Qe8+', 'Kg7', 'Qe5+', 'f6', 'Qe6', 'a4', 'g4', 'b3', 'axb3', 'axb3', 'Qxb3', 'Rxd6', 'Rc2', 'Qd7', 'Qb4', 'h5', 'g5', 'fxg5', 'fxg5', 'Rd4', 'Qc3', 'Kh7', 'Re2', 'Rd3', 'Qf6', 'Rd2', 'Qe5', 'Rxe2+', 'Qxe2', 'h4', 'Qe4', 'h3+', 'Kh2', 'Kg7', 'Qe5+', 'Kh7', 'Qg3', 'Qd2+', 'Kxh3', 'Kg7', 'Qe5+', 'Kg8', 'Kg3', 'Qc1', 'Qe6+', 'Kg7', 'Qe7+', 'Kg8', 'Qf6', 'Qg1+', 'Kf4', 'Qh2+', 'Ke4', 'Qh4+', 'Ke5', 'Qg3+', 'Ke6', 'Qe1+', 'Kd7', 'Qd1+', 'Ke7', 'Qe2+', 'Qe6+', 'Kg7', 'Qxe2', '*'] - * – #invalid san: '*'#\n"
     ]
    },
    {
     "name": "stderr",
     "output_type": "stream",
     "text": [
      "6255it [00:10, 617.17it/s]"
     ]
    },
    {
     "name": "stdout",
     "output_type": "stream",
     "text": [
      "Skipping bad game: ['f4', 'e5', 'fxe5', 'd6', 'Nf3', 'Nc6', 'e4', 'dxe5', 'd4', 'exd4', 'Bf4', 'Bc5', 'Bd3', 'Nge7', 'O-O', 'O-O', 'Nbd2', 'f5', 'e5', 'Nd5', 'Bg5', 'Qe8', 'Re1', 'Ne3', 'Bxe3', 'dxe3', 'Kh1', 'exd2', 'Qxd2', 'Nd4', 'Ng5', 'Kh8', 'h4', 'Ne6', 'Nf3', 'f4', 'b4', 'Bd4', 'c3', 'Bb6', 'a4', 'a6', 'c4', 'Bd4', 'Rac1', 'Be3', 'Rxe3', 'fxe3', 'Qxe3', 'Nf4', 'Bb1', 'Qh5', 'Qe4', 'Bf5', 'Qxb7', 'Bxb1', 'Rxb1', 'Nxg2', 'Kxg2', 'Qg4+', 'Kf2', 'Qxh4+', 'Ke2', 'Qg4', 'Rg1', 'Qxc4+', 'Ke1', 'Qc1+', 'Kf2', 'Qd2+', 'Kg3', 'Qe3', 'Re1', 'Qh6', 'e6', 'Rae8', 'e7', 'Qg6+', 'Kh2', 'Rf5', 'Qe4', 'Rh5+', 'Nh4', 'Qxe4', 'Rxe4', 'h6', 'Kg3', 'Kh7', 'Ng6', 'Rg5+', 'Kf4', 'Rxg6', 'Kf5', 'Rf6+', 'Kg4', 'Rf7', 'Rc4', 'Rfxe7', 'Rc6', 'Re4+', 'Kf5', 'Rxb4', 'Rxa6', 'Rxa4', 'Rxa4', 'Rf8+', 'Ke4', 'g5', 'Ra7', 'Rf7', 'Ra8', 'Kg6', 'Ra6+', 'Kh5', 'Rc6', 'g4', 'Rc2', 'Kh4', 'Rg2', 'Kh3', 'Rg1', 'h5', 'Re1', 'h4', 'Re3+', 'g3', 'Re2', 'g2', 'Re3+', 'Kh2', 'Re1', 'h3', 'Re2', 'Kh1', 'Re3', '*'] - * – #invalid san: '*'#\n",
      "Skipping bad game: ['e4', 'e5', 'Nf3', 'Nf6', 'Nxe5', 'd6', 'Nxf7', 'Kxf7', 'Nc3', 'g6', 'd4', 'Bg7', 'f3', 'Re8', 'Be3', 'Kg8', 'Qd2', 'c5', 'O-O-O', 'cxd4', 'Bxd4', 'Nc6', 'Bf2', 'Be6', 'Qxd6', 'Qxd6', 'Rxd6', 'Rad8', 'Rxe6', 'Rxe6', 'Bc4', 'Kf7', 'Bxe6+', 'Kxe6', 'Rd1', 'Rxd1+', 'Kxd1', 'a6', 'a3', 'h5', 'Kd2', 'Nd7', 'Nd1', 'Nde5', 'Ne3', 'Bh6', 'b3', 'b5', 'Ke2', 'Nd4+', 'Kd1', 'Bxe3', 'Bxe3', 'Ndc6', 'Kd2', 'Nf7', 'c4', 'bxc4', 'bxc4', 'a5', 'Kc3', 'a4', 'f4', 'Nd6', 'Kd3', 'Na5', 'g3', 'Ndxc4', 'Bc5', 'Nd6', 'h3', 'Nb3', 'Bxd6', 'Kxd6', 'g4', 'hxg4', 'hxg4', 'Nc5+', 'Kd4', 'Nb3+', 'Kc4', 'Nd2+', 'Kd3', 'Nb1', 'Kc4', 'Nxa3+', 'Kb4', 'Nc2+', 'Kxa4', 'Ne3', 'e5+', 'Kd5', 'f5', 'g5', 'e6', 'Kd6', 'Kb4', 'Nxg4', 'Kc4', 'Ne3+', 'Kd4', 'Nxf5+', 'Ke4', 'Nh6', '*'] - * – #invalid san: '*'#\n",
      "Skipping bad game: ['e4', 'e6', 'd4', 'd5', 'Nc3', 'Bb4', 'e5', 'c5', 'a3', 'Bxc3+', 'bxc3', 'Qc7', 'Qg4', 'f5', 'Qh5+', 'g6', 'Qd1', 'cxd4', 'cxd4', 'Nc6', 'Nf3', 'Bd7', 'Be2', 'Nge7', 'O-O', 'a6', 'Bh6', 'O-O-O', 'Rb1', 'Na7', 'c4', 'dxc4', 'Bxc4', 'Nd5', 'Bxd5', 'exd5', 'Ng5', 'Rde8', 'Nf7', 'Kb8', 'Nxh8', 'Rxh8', 'Bg7', 'Re8', 'Bf6', 'Be6', 'Qa4', 'Rc8', 'h3', 'Nb5', 'Rfc1', 'Qd7', 'Qa5', 'Rxc1+', 'Rxc1', 'Nxd4', 'Rb1', 'Ka8', 'Qc5', 'Nc6', 'Bg5', 'd4', 'Qd6', 'Qxd6', 'exd6', 'd3', 'Be7', 'Kb8', 'Kf1', 'Kc8', 'Ke1', 'b5', 'Kd2', 'Kd7', 'Kxd3', 'Bc4+', 'Ke3', 'h6', 'Kf4', 'Bd3', 'Rd1', 'g5+', 'Kf3', 'Be4+', 'Ke3', 'Ne5', 'f3', 'Nc4+', 'Kf2', 'Bc2', 'Rc1', 'Bd3', 'a4', 'f4', 'Bf8', 'bxa4', 'Rc3', 'Nb2', 'Bg7', 'Bc4', 'Be5', 'a3', 'Rxa3', 'Nd3+', '*'] - * – #invalid san: '*'#\n",
      "Skipping bad game: ['e4', 'Nf6', 'e5', 'Nd5', 'd4', 'd6', 'c4', 'Nb6', 'exd6', 'exd6', 'Nc3', 'Nc6', 'Nf3', 'Bg4', 'Be2', 'Be7', 'O-O', 'O-O', 'b3', 'Bf6', 'Be3', 'Re8', 'h3', 'Bh5', 'Rc1', 'Qd7', 'Qc2', 'Bg6', 'Bd3', 'Nb4', 'Qb1', 'Bxd3', 'Qb2', 'Bxf1', 'Rxf1', 'Rxe3', 'fxe3', 'd5', 'c5', '*'] - * – #invalid san: '*'#\n",
      "Skipping bad game: ['e4', 'c6', 'Ne2', 'd5', 'e5', 'e6', 'd4', 'Nd7', 'c3', 'c5', 'Ng3', 'Ne7', 'Bd3', 'Nc6', 'Be3', 'Be7', 'O-O', 'Qb6', 'Bc2', 'Qxb2', 'Nd2', 'Qxc3', 'dxc5', 'Bxc5', 'Bxc5', 'Qxc5', 'Nde4', 'Qa5', 'Nd6+', 'Ke7', 'f4', 'b6', 'f5', 'Ndxe5', 'Nxc8+', 'Raxc8', 'fxe6', 'f6', 'Nf5+', 'Kxe6', 'Nxg7+', 'Kf7', 'Nf5', 'Ne7', 'Nd6+', 'Ke6', 'Nxc8', 'Rxc8', 'Bb3', 'Qc5+', '*'] - * – #invalid san: '*'#\n",
      "Skipping bad game: ['d4', 'Nf6', 'c4', 'g6', 'Nc3', 'd5', 'e3', 'Bg7', 'Nf3', 'O-O', 'Bd3', 'c5', 'O-O', 'Nc6', 'Qe2', 'cxd4', 'exd4', 'dxc4', 'Bxc4', 'e6', 'Be3', 'Ne7', 'Rad1', 'b6', 'Nb5', 'Bb7', 'Bf4', 'Ned5', 'Bg3', 'a6', 'Nd6', 'Bc6', 'Bb3', 'Nh5', 'Ne4', 'Nxg3', 'Nxg3', 'Nf4', 'Qe3', 'Qd6', 'Ne5', 'Nd5', 'Qf3', 'Bxe5', 'dxe5', 'Qxe5', 'Rfe1', 'Qxb2', 'h4', 'Rfd8', 'h5', 'Nc3', 'Rxd8+', 'Rxd8', 'Qxc6', 'Nxa2', 'Bxa2', 'Qxa2', 'hxg6', 'hxg6', 'Qxb6', 'Qd2', 'Re3', 'Qd1+', 'Kh2', 'Qd5', 'Rf3', 'a5', 'Qc7', 'Qd7', 'Qxa5', 'Qd6', 'Qg5', 'Qd7', 'Rf6', 'Qd2', 'Qg4', 'Qd4', 'Qf3', 'Qd3', 'Qf4', 'Qd4', 'Qh6', 'Qd2', 'Qxd2', 'Rxd2', 'Rf3', 'Rb2', 'Ne4', 'Rb4', 'Nf6+', 'Kg7', 'Nd7', 'Kg8', 'Ne5', 'Kh7', 'Nd3', 'Kh6', 'Nxb4', 'Kg7', 'Nc2', 'Kg8', 'Ne3', 'Kf8', 'Kg3', 'Ke8', 'Kg4', 'Kf8', 'Kf4', 'Kg8', 'Kg5', 'Kf8', 'Kf6', 'Ke8', 'Rh3', 'Kd7', 'Rh7', 'Kc6', '*'] - * – #invalid san: '*'#\n"
     ]
    },
    {
     "name": "stderr",
     "output_type": "stream",
     "text": [
      "6645it [00:11, 594.89it/s]"
     ]
    },
    {
     "name": "stdout",
     "output_type": "stream",
     "text": [
      "Skipping bad game: ['d4', 'b6', 'Nf3', 'Bb7', 'g3', 'e6', 'Bg2', 'Ne7', 'O-O', 'd5', 'b3', 'f6', 'Bb2', 'Nbc6', 'Nbd2', 'Qd7', 'e4', 'O-O-O', 'c4', 'g5', 'Rc1', 'Kb8', 'a4', 'g4', 'Nh4', 'dxc4', 'Nxc4', 'Nxd4', 'Qe1', 'Nf3+', 'Nxf3', 'gxf3', 'Bxf3', 'f5', 'Ne5', 'Qe8', 'Qc3', 'Rc8', 'a5', 'Rg8', 'a6', 'Ba8', 'Bg2', 'Bg7', 'Qe3', '*'] - * – #invalid san: '*'#\n"
     ]
    },
    {
     "name": "stderr",
     "output_type": "stream",
     "text": [
      "10000it [00:17, 576.36it/s]\n"
     ]
    },
    {
     "name": "stdout",
     "output_type": "stream",
     "text": [
      "Read 10000 in 18.36305046081543 | TOTAL: 650000 | num_games_saved 120815 | num_moves_saved 4_090_416 - 4_150_161\n",
      "Reading 66-th batch of games...\n"
     ]
    },
    {
     "name": "stderr",
     "output_type": "stream",
     "text": [
      "10000it [00:16, 611.17it/s]\n"
     ]
    },
    {
     "name": "stdout",
     "output_type": "stream",
     "text": [
      "Read 10000 in 17.385016918182373 | TOTAL: 660000 | num_games_saved 122582 | num_moves_saved 4_150_383 - 4_210_989\n",
      "Reading 67-th batch of games...\n"
     ]
    },
    {
     "name": "stderr",
     "output_type": "stream",
     "text": [
      "10000it [00:16, 610.79it/s]\n"
     ]
    },
    {
     "name": "stdout",
     "output_type": "stream",
     "text": [
      "Read 10000 in 17.407296419143677 | TOTAL: 670000 | num_games_saved 124356 | num_moves_saved 4_210_050 - 4_271_558\n",
      "Reading 68-th batch of games...\n"
     ]
    },
    {
     "name": "stderr",
     "output_type": "stream",
     "text": [
      "10000it [00:16, 597.67it/s]\n"
     ]
    },
    {
     "name": "stdout",
     "output_type": "stream",
     "text": [
      "Read 10000 in 17.774487733840942 | TOTAL: 680000 | num_games_saved 126167 | num_moves_saved 4_270_339 - 4_332_716\n",
      "Reading 69-th batch of games...\n"
     ]
    },
    {
     "name": "stderr",
     "output_type": "stream",
     "text": [
      "10000it [00:16, 593.58it/s]\n"
     ]
    },
    {
     "name": "stdout",
     "output_type": "stream",
     "text": [
      "Read 10000 in 17.89403200149536 | TOTAL: 690000 | num_games_saved 128010 | num_moves_saved 4_332_188 - 4_395_450\n",
      "Reading 70-th batch of games...\n"
     ]
    },
    {
     "name": "stderr",
     "output_type": "stream",
     "text": [
      "10000it [00:16, 609.27it/s]\n"
     ]
    },
    {
     "name": "stdout",
     "output_type": "stream",
     "text": [
      "Read 10000 in 17.4950590133667 | TOTAL: 700000 | num_games_saved 129795 | num_moves_saved 4_391_515 - 4_455_613\n",
      "Reading 71-th batch of games...\n"
     ]
    },
    {
     "name": "stderr",
     "output_type": "stream",
     "text": [
      "10000it [00:18, 547.01it/s]\n"
     ]
    },
    {
     "name": "stdout",
     "output_type": "stream",
     "text": [
      "Read 10000 in 19.300678253173828 | TOTAL: 710000 | num_games_saved 131737 | num_moves_saved 4_457_760 - 4_522_815\n",
      "Reading 72-th batch of games...\n"
     ]
    },
    {
     "name": "stderr",
     "output_type": "stream",
     "text": [
      "10000it [00:17, 558.28it/s]\n"
     ]
    },
    {
     "name": "stdout",
     "output_type": "stream",
     "text": [
      "Read 10000 in 19.000402212142944 | TOTAL: 720000 | num_games_saved 133645 | num_moves_saved 4_523_138 - 4_589_153\n",
      "Reading 73-th batch of games...\n"
     ]
    },
    {
     "name": "stderr",
     "output_type": "stream",
     "text": [
      "10000it [00:17, 575.37it/s]\n"
     ]
    },
    {
     "name": "stdout",
     "output_type": "stream",
     "text": [
      "Read 10000 in 18.514495134353638 | TOTAL: 730000 | num_games_saved 135508 | num_moves_saved 4_586_315 - 4_653_250\n",
      "Reading 74-th batch of games...\n"
     ]
    },
    {
     "name": "stderr",
     "output_type": "stream",
     "text": [
      "10000it [00:18, 542.78it/s]\n"
     ]
    },
    {
     "name": "stdout",
     "output_type": "stream",
     "text": [
      "Read 10000 in 19.504379272460938 | TOTAL: 740000 | num_games_saved 137448 | num_moves_saved 4_653_198 - 4_721_077\n",
      "Reading 75-th batch of games...\n"
     ]
    },
    {
     "name": "stderr",
     "output_type": "stream",
     "text": [
      "10000it [00:17, 572.67it/s]\n"
     ]
    },
    {
     "name": "stdout",
     "output_type": "stream",
     "text": [
      "Read 10000 in 18.624433755874634 | TOTAL: 750000 | num_games_saved 139322 | num_moves_saved 4_717_199 - 4_785_973\n",
      "Reading 76-th batch of games...\n"
     ]
    },
    {
     "name": "stderr",
     "output_type": "stream",
     "text": [
      "10000it [00:17, 572.03it/s]\n"
     ]
    },
    {
     "name": "stdout",
     "output_type": "stream",
     "text": [
      "Read 10000 in 18.649553775787354 | TOTAL: 760000 | num_games_saved 141181 | num_moves_saved 4_779_635 - 4_849_297\n",
      "Reading 77-th batch of games...\n"
     ]
    },
    {
     "name": "stderr",
     "output_type": "stream",
     "text": [
      "10000it [00:17, 576.07it/s]\n"
     ]
    },
    {
     "name": "stdout",
     "output_type": "stream",
     "text": [
      "Read 10000 in 18.516725540161133 | TOTAL: 770000 | num_games_saved 142996 | num_moves_saved 4_842_098 - 4_912_646\n",
      "Reading 78-th batch of games...\n"
     ]
    },
    {
     "name": "stderr",
     "output_type": "stream",
     "text": [
      "10000it [00:18, 543.97it/s]\n"
     ]
    },
    {
     "name": "stdout",
     "output_type": "stream",
     "text": [
      "Read 10000 in 19.54166579246521 | TOTAL: 780000 | num_games_saved 144900 | num_moves_saved 4_908_940 - 4_980_391\n",
      "Reading 79-th batch of games...\n"
     ]
    },
    {
     "name": "stderr",
     "output_type": "stream",
     "text": [
      "10000it [00:20, 494.60it/s]\n"
     ]
    },
    {
     "name": "stdout",
     "output_type": "stream",
     "text": [
      "Read 10000 in 21.399937868118286 | TOTAL: 790000 | num_games_saved 147048 | num_moves_saved 4_982_768 - 5_055_240\n",
      "Reading 80-th batch of games...\n"
     ]
    },
    {
     "name": "stderr",
     "output_type": "stream",
     "text": [
      "10000it [00:18, 551.71it/s]\n"
     ]
    },
    {
     "name": "stdout",
     "output_type": "stream",
     "text": [
      "Read 10000 in 19.340768098831177 | TOTAL: 800000 | num_games_saved 148955 | num_moves_saved 5_047_648 - 5_121_065\n",
      "Reading 81-th batch of games...\n"
     ]
    },
    {
     "name": "stderr",
     "output_type": "stream",
     "text": [
      "10000it [00:18, 550.63it/s]\n"
     ]
    },
    {
     "name": "stdout",
     "output_type": "stream",
     "text": [
      "Read 10000 in 19.359971284866333 | TOTAL: 810000 | num_games_saved 150854 | num_moves_saved 5_113_158 - 5_187_498\n",
      "Reading 82-th batch of games...\n"
     ]
    },
    {
     "name": "stderr",
     "output_type": "stream",
     "text": [
      "10000it [00:18, 553.14it/s]\n"
     ]
    },
    {
     "name": "stdout",
     "output_type": "stream",
     "text": [
      "Read 10000 in 19.277428150177002 | TOTAL: 820000 | num_games_saved 152749 | num_moves_saved 5_178_062 - 5_253_325\n",
      "Reading 83-th batch of games...\n"
     ]
    },
    {
     "name": "stderr",
     "output_type": "stream",
     "text": [
      "10000it [00:16, 600.91it/s]\n"
     ]
    },
    {
     "name": "stdout",
     "output_type": "stream",
     "text": [
      "Read 10000 in 17.8262140750885 | TOTAL: 830000 | num_games_saved 154490 | num_moves_saved 5_238_069 - 5_314_169\n",
      "Reading 84-th batch of games...\n"
     ]
    },
    {
     "name": "stderr",
     "output_type": "stream",
     "text": [
      "10000it [00:16, 602.71it/s]\n"
     ]
    },
    {
     "name": "stdout",
     "output_type": "stream",
     "text": [
      "Read 10000 in 17.846694946289062 | TOTAL: 840000 | num_games_saved 156250 | num_moves_saved 5_298_014 - 5_374_993\n",
      "Reading 85-th batch of games...\n"
     ]
    },
    {
     "name": "stderr",
     "output_type": "stream",
     "text": [
      "7978it [00:12, 698.36it/s]"
     ]
    },
    {
     "name": "stdout",
     "output_type": "stream",
     "text": [
      "Skipping bad game: ['e4', 'e5', 'Nc3', 'Nf6', 'f4', 'd5', 'fxe5', 'Nxe4', 'Qf3', 'Nxc3', 'bxc3', 'Be7', 'd4', 'O-O', 'Bd3', 'c5', 'Ne2', 'f6', 'Qh5', 'f5', 'Nf4', 'cxd4', 'cxd4', 'Bb4+', 'Bd2', 'Bxd2+', 'Kxd2', 'g5', 'Nh3', 'g4', 'Nf4', 'Nc6', 'c3', 'Ne7', 'h3', 'g3', 'Qg5+', 'Kh8', 'Qxg3', 'Rg8', 'Qf3', 'Qa5', 'Nh5', 'Be6', 'Nf6', 'Rg6', 'g4', 'Rc8', 'Rac1', 'Nc6', 'Ke3', 'fxg4', 'hxg4', 'Rg7', 'Bxh7', 'Rf7', 'Bg8+', 'Kg7', 'Rh7+', 'Kf8', 'Bxf7', 'Bxf7', 'Nd7+', 'Ke7', 'Qxf7+', '*'] - * – #invalid san: '*'#\n",
      "Skipping bad game: ['d4', 'c6', 'e3', 'd5', 'Bd3', 'Nf6', 'Nd2', 'Bg4', 'f3', 'Bh5', 'Nh3', 'Bg6', 'Nf4', 'e6', 'O-O', 'Qc7', 'Nxg6', 'hxg6', 'f4', 'g5', 'Qf3', 'gxf4', 'exf4', 'g6', 'g3', 'Nbd7', 'Re1', 'O-O-O', 'c4', 'dxc4', 'Nxc4', 'Nb6', 'Be3', 'Nbd5', 'Bf2', 'Bg7', 'a3', 'Ne7', 'Ne5', 'Nf5', 'Bxf5', 'gxf5', 'b4', 'Ne4', 'Rad1', 'Rdg8', 'Rxe4', 'fxe4', 'Qxe4', 'Bxe5', 'dxe5', 'a6', 'Bc5', 'Rd8', 'Bd6', 'Qb6+', 'Kg2', 'Qb5', 'Rd2', 'b6', 'Qe3', 'Kb7', 'Qf3', 'a5', 'bxa5', 'Qxa5', 'Qb3', 'Qxd2+', '*'] - * – #invalid san: '*'#\n"
     ]
    },
    {
     "name": "stderr",
     "output_type": "stream",
     "text": [
      "8159it [00:13, 682.71it/s]"
     ]
    },
    {
     "name": "stdout",
     "output_type": "stream",
     "text": [
      "Skipping bad game: ['e4', 'c5', 'Nf3', 'Nc6', 'd4', 'cxd4', 'Nxd4', 'e5', 'Nb5', 'a6', 'Nd6+', 'Bxd6', 'Qxd6', 'Qe7', 'Qc7', 'f5', 'Bd3', 'Nf6', 'exf5', 'd5', 'Qxe7+', 'Nxe7', 'Bg5', 'e4', 'Be2', 'O-O', 'Nc3', 'Bxf5', 'O-O-O', 'Rad8', 'h3', 'd4', 'Bc4+', 'Kh8', 'Ne2', 'Nc6', 'Ng3', 'Bg6', 'h4', 'h6', 'Bxf6', 'Rxf6', 'h5', 'Bh7', 'Rhf1', 'Ne5', 'Bb3', 'b5', 'a4', 'b4', 'Rd2', 'e3', 'fxe3', 'Rxf1+', 'Nxf1', 'Nc6', 'exd4', 'Nxd4', 'Bc4', 'Be4', 'Bd3', 'Bxg2', 'Rxg2', 'b3', 'Bg6', 'Nxc2', 'Bxc2', 'bxc2', 'Rxc2', 'Rd5', 'Ng3', 'Rg5', 'Rc3', 'a5', 'b3', 'Kg8', 'Rf3', 'Kh7', 'Kd2', 'g6', 'hxg6+', 'Kxg6', 'Kc3', 'h5', 'Ne4', 'Re5', 'Rf6+', 'Kg7', 'Rf4', 'Kg6', 'Kd4', 'Re8', 'Rf6+', 'Kg7', 'Ra6', 'Rd8+', 'Kc5', 'Rb8', 'Ng5', 'Rxb3', 'Ne6+', 'Kf7', 'Nd4', 'Rb4', 'Nc6', 'Rxa4', 'Nd8+', 'Ke8', 'Ne6', 'Rh4', 'Ng7+', 'Kf7', 'Ra7+', '*'] - * – #invalid san: '*'#\n"
     ]
    },
    {
     "name": "stderr",
     "output_type": "stream",
     "text": [
      "9219it [00:14, 552.59it/s]"
     ]
    },
    {
     "name": "stdout",
     "output_type": "stream",
     "text": [
      "Skipping bad game: ['e4', 'e5', 'Nc3', 'Nc6', 'f4', 'Bc5', 'fxe5', 'Nge7', 'Nf3', 'Ng6', 'd4', 'Bb6', 'Nd5', 'O-O', 'Bc4', 'd6', 'Bg5', 'Qd7', 'Nxb6', 'axb6', 'Bb5', 'Qg4', 'Qe2', 'Nf4', 'Bxf4', 'Qxf4', 'O-O', 'Bg4', 'h3', 'Bh5', 'g4', 'Bg6', 'exd6', 'cxd6', 'Bxc6', 'bxc6', 'Nd2', 'Qg3+', 'Qg2', 'Qe3+', 'Kh2', 'Qxd4', 'h4', 'Rfe8', 'Rae1', 'f6', 'c3', 'Qe5+', 'Qg3', 'Rxa2', 'Nc4', 'Qxg3+', 'Kxg3', 'Rxe4', 'Rxe4', 'Bxe4', 'Nxd6', 'Bd5', 'Re1', 'Ra8', 'c4', 'Rd8', 'cxd5', 'Rxd6', 'dxc6', 'Rxc6', 'Re2', 'Kf7', 'h5', 'b5', 'Rd2', 'Ke7', 'Re2+', 'Re6', 'Rc2', 'Rd6', 'Rc7+', 'Rd7', 'Rc5', 'Rb7', 'b4', 'Kd6', 'Kf4', 'Ke6', 'Ke4', 'g5', 'Rc6+', 'Kf7', 'Kf5', 'h6', 'Rxf6+', 'Kg7', 'Rg6+', 'Kh7', 'Rc6', 'Rd7', 'Rc5', 'Rf7+', 'Ke6', 'Rb7', 'Kd6', 'Kg7', 'Rc7+', 'Rxc7', 'Kxc7', 'Kf6', 'Kb6', 'Ke5', 'Kxb5', 'Kf4', 'Kc6', 'Kxg4', 'b5', 'Kxh5', 'b6', 'g4', 'b7', 'Kh4', 'b8=Q', 'h5', 'Qb3', 'g3', 'Qc4+', 'Kh3', 'Qe6+', 'Kh2', 'Qe2+', 'g2', 'Qxh5+', 'Kg3', 'Qg5+', 'Kf2', 'Qh4+', 'Kf1', 'Qf4+', 'Ke2', 'Qg3', 'Kf1', 'Qf3+', 'Kg1', 'Kd5', 'Kh2', 'Qf2', 'Kh1', 'Ke4', 'g1=Q', '*'] - * – #invalid san: '*'#\n"
     ]
    },
    {
     "name": "stderr",
     "output_type": "stream",
     "text": [
      "9706it [00:15, 645.62it/s]"
     ]
    },
    {
     "name": "stdout",
     "output_type": "stream",
     "text": [
      "Skipping bad game: ['e4', 'e6', 'd4', 'd5', 'Nc3', 'Bb4', 'Bd3', 'c5', 'exd5', 'Qxd5', 'Nf3', 'cxd4', 'a3', 'Ba5', 'b4', 'dxc3', 'bxa5', 'Nf6', 'O-O', 'O-O', 'Rb1', 'Qxa5', 'Rb5', 'Qc7', 'Bg5', 'Bd7', 'Rb4', 'Nd5', 'Rh4', 'h6', 'Bxh6', 'gxh6', 'Rxh6', 'Nc6', 'Ng5', 'Nf4', 'Bh7+', 'Kg7', 'Rh4', 'Rh8', 'Qg4', 'Ng6', 'Rh3', 'e5', 'Qf3', 'Bxh3', 'Bxg6', 'fxg6', 'gxh3', 'Nd4', 'Qe4', 'Rh5', 'f4', 'Rf8', 'h4', 'Rxh4', 'h3', 'Rf5', 'Qxd4', 'Rxg5+', 'fxg5', '*'] - * – #invalid san: '*'#\n"
     ]
    },
    {
     "name": "stderr",
     "output_type": "stream",
     "text": [
      "9835it [00:16, 511.25it/s]"
     ]
    },
    {
     "name": "stdout",
     "output_type": "stream",
     "text": [
      "Skipping bad game: ['e4', 'c5', 'Nf3', 'Nc6', 'd4', 'cxd4', 'Nxd4', 'Nf6', 'Nc3', 'd6', 'Be3', 'e5', 'Nb3', 'a6', 'f3', 'Be6', 'Qd2', 'Be7', 'h4', 'h5', 'Be2', 'O-O', 'O-O-O', 'Rc8', 'g4', 'Nb4', 'Kb1', 'hxg4', 'fxg4', 'Nxg4', 'Bxg4', 'Bxg4', 'Rdg1', 'Be6', 'h5', 'Kh7', 'Bg5', '*'] - * – #invalid san: '*'#\n"
     ]
    },
    {
     "name": "stderr",
     "output_type": "stream",
     "text": [
      "10000it [00:16, 616.62it/s]\n"
     ]
    },
    {
     "name": "stdout",
     "output_type": "stream",
     "text": [
      "Read 10000 in 17.501434803009033 | TOTAL: 850000 | num_games_saved 157952 | num_moves_saved 5_354_392 - 5_432_181\n",
      "Reading 86-th batch of games...\n"
     ]
    },
    {
     "name": "stderr",
     "output_type": "stream",
     "text": [
      "41it [00:00, 399.25it/s]"
     ]
    },
    {
     "name": "stdout",
     "output_type": "stream",
     "text": [
      "Skipping bad game: ['e4', 'c6', 'd4', 'd5', 'e5', 'e6', 'f4', 'Ne7', 'Bd3', 'Nf5', 'Bxf5', 'exf5', 'Nf3', 'Be6', 'O-O', 'Be7', 'b3', 'b5', 'a4', 'Nd7', 'axb5', 'cxb5', 'Qe2', 'Qb6', 'Nc3', 'b4', 'Na4', 'Qb7', 'c3', 'O-O', 'c4', 'Nb6', 'cxd5', 'Nxd5', 'Ng5', 'Rfc8', 'Qh5', 'h6', 'Nxe6', 'fxe6', 'Rf3', 'Kh7', 'Rg3', 'Bf8', 'Qg6+', 'Kh8', 'Qxe6', 'Rc6', 'Qxf5', 'Nc3', 'Qd3', 'Rac8', 'Bd2', 'Ne4', 'Rf3', 'Nxd2', 'Qxd2', 'Rc2', '*'] - * – #invalid san: '*'#\n",
      "Skipping bad game: ['e4', 'c5', 'Nf3', 'Nc6', 'd4', 'cxd4', 'Nxd4', 'Qb6', 'Nb3', 'Nf6', 'Be3', 'Qb4+', 'N1d2', 'e6', 'a3', 'Qe7', 'f3', 'd6', 'Nc4', 'b5', 'Nca5', 'Nxa5', 'Bxb5+', 'Bd7', 'Bxd7+', 'Nxd7', 'Nxa5', 'Qf6', 'Nc4', 'e5', 'Qd2', 'Be7', 'O-O-O', 'O-O', 'Nxd6', 'Nb6', 'Nf5', 'Nc4', 'Qd7', 'Nxe3', 'Nxe7+', 'Kh8', 'Rd6', 'Qf4', 'Kb1', 'h6', 'Nd5', 'Qg5', 'Nxe3', 'Qxe3', 'Rhd1', 'Rab8', 'R6d3', 'Qf2', 'R1d2', 'Qg1+', 'Ka2', 'Qxh2', '*'] - * – #invalid san: '*'#\n",
      "Skipping bad game: ['d4', 'Nf6', 'c4', 'g6', 'Nf3', 'Bg7', 'Nc3', 'O-O', 'e4', 'd6', 'Bg5', 'h6', 'Be3', 'Ng4', 'Bd3', 'Nxe3', 'fxe3', 'e5', 'd5', 'Nd7', 'O-O', 'Nc5', 'Bc2', 'a5', 'Qe2', 'h5', 'Qf2', 'Bh6', 'Nd1', 'Bg4', 'h3', 'Bd7', 'Nh2', 'Qg5', 'Kh1', 'b6', 'Nf3', 'Qe7', 'Qg3', 'Kh7', 'Nh4', 'Qg5', 'Rf3', 'Qxg3', 'Rxg3', 'Rae8', 'Rf3', 'Bg5', 'g3', 'Bxh3', 'Nf2', 'Bd7', 'Ng2', 'f5', 'exf5', 'gxf5', 'Nh3', 'Bh6', 'Raf1', 'e4', 'R3f2', 'Nd3', 'Bxd3', 'exd3', 'Nhf4', '*'] - * – #invalid san: '*'#\n"
     ]
    },
    {
     "name": "stderr",
     "output_type": "stream",
     "text": [
      "279it [00:00, 540.85it/s]"
     ]
    },
    {
     "name": "stdout",
     "output_type": "stream",
     "text": [
      "Skipping bad game: ['d4', 'Nf6', 'c4', 'e5', 'dxe5', 'Ng4', 'Bf4', 'Nc6', 'Nf3', 'Bc5', 'e3', 'Qe7', 'Qd5', 'Nb4', 'Qd2', 'Nc6', 'a3', 'Ngxe5', 'Nxe5', 'Nxe5', 'b4', 'Bd6', 'c5', 'Nc4', 'cxd6', 'Nxd2', 'dxe7', 'Nxf1', 'Rxf1', 'd6', 'Nc3', 'Kxe7', 'Ke2', 'Be6', 'Rac1', 'Bc4+', 'Ke1', 'Bxf1', 'Kxf1', 'c6', 'Ne4', 'd5', 'Nc5', '*'] - * – #invalid san: '*'#\n",
      "Skipping bad game: ['e4', 'e5', 'Nf3', 'Nc6', 'Nc3', 'Bc5', 'Bb5', 'd6', 'd3', 'h6', 'h3', 'Nf6', 'Be3', 'Bb6', 'Qd2', 'O-O', 'Bxc6', 'bxc6', 'g4', 'Bxe3', 'Qxe3', 'Nh7', 'O-O-O', 'Rb8', 'b3', 'c5', 'h4', 'Bxg4', 'Rdg1', 'h5', 'Ng5', 'f6', 'Nxh7', 'Kxh7', 'f3', 'Be6', 'f4', 'Bg4', 'f5', 'Rh8', 'Nd1', 'd5', 'Nf2', 'dxe4', 'dxe4', 'Kg8', 'Nxg4', 'hxg4', 'Rxg4', 'Qd4', 'Qxd4', 'cxd4', 'h5', 'Kf7', 'Rg6', 'Rh7', 'h6', '*'] - * – #invalid san: '*'#\n",
      "Skipping bad game: ['d4', 'Nf6', 'c4', 'g6', 'Nc3', 'd5', 'Bg5', 'Ne4', 'Nxe4', 'dxe4', 'Be3', 'Bg7', 'a3', 'c6', 'g3', 'O-O', 'Bg2', 'c5', 'Bxe4', 'cxd4', 'Bd2', 'Nc6', 'Bxc6', 'bxc6', 'Nf3', 'Ba6', 'Rc1', 'c5', 'O-O', 'e5', 'Bg5', 'Qb6', 'Qc2', 'h6', 'Bd2', 'Rfe8', 'Rfe1', 'e4', 'Nh4', 'Rab8', 'b4', 'e3', 'fxe3', 'dxe3', 'Bc3', 'Bxc3', 'Qxc3', 'cxb4', 'axb4', 'Qxb4', 'Qf6', 'Qe7', 'Qxa6', 'Rb6', 'Qa4', 'Rd8', 'c5', 'Rf6', 'c6', 'Qc7', 'Qc4', 'Rdd6', 'Rf1', 'Rxc6', 'Qd4', 'Rxc1', 'Qxf6', 'Rxf1+', 'Kxf1', 'Qc1+', 'Kg2', 'Qe1', 'Qf3', 'Qd2', 'Kh3', 'Qd7+', 'g4', 'h5', 'Ng2', 'hxg4+', 'Qxg4', 'Qd5', 'Nxe3', 'Qe5', 'Nc4', 'Qe7', 'Kg2', 'Kg7', 'Kf2', 'Qc5+', 'Ne3', 'f5', 'Qc4', 'Qe5', 'h4', '*'] - * – #invalid san: '*'#\n"
     ]
    },
    {
     "name": "stderr",
     "output_type": "stream",
     "text": [
      "465it [00:00, 518.34it/s]"
     ]
    },
    {
     "name": "stdout",
     "output_type": "stream",
     "text": [
      "Skipping bad game: ['d4', 'd5', 'c4', 'c6', 'Nf3', 'Nf6', 'e3', 'e6', 'Bd3', 'Nbd7', 'O-O', 'b6', 'Nbd2', 'Bd6', 'e4', 'dxe4', 'Nxe4', 'Nxe4', 'Bxe4', 'Bb7', 'Bg5', 'Be7', 'Bxe7', 'Qxe7', 'Qd2', 'Nf6', 'Bc2', 'O-O', 'Rfe1', 'Rfd8', 'Rad1', 'Qc7', 'Qe2', 'c5', 'dxc5', 'bxc5', 'Ne5', 'Rxd1', 'Rxd1', 'Rd8', 'f3', 'Rd6', 'Rxd6', 'Qxd6', 'Qe3', 'g6', 'Kf2', 'Ne8', 'Ke2', 'f6', 'Ng4', 'e5', 'h4', 'Qd4', 'Qxd4', 'exd4', 'Ba4', 'f5', 'Bxe8', 'fxg4', 'fxg4', 'Kf8', 'Bd7', 'h6', 'g3', 'g5', 'Bf5', 'Ke7', 'Kd3', 'Kd6', 'b3', 'a5', 'a3', 'Ke5', 'Bd7', 'Bf3', 'Bc8', 'gxh4', '*'] - * – #invalid san: '*'#\n",
      "Skipping bad game: ['e4', 'Nf6', 'Nc3', 'e5', 'Nf3', 'Nc6', 'Bc4', 'Nxe4', 'Nxe4', 'd5', 'Bd3', 'dxe4', 'Bxe4', 'Na5', 'c3', 'f5', 'Bc2', 'e4', 'Nd4', 'Bc5', 'Ne2', 'Qf6', 'O-O', 'O-O', 'Rb1', 'Bb6', 'd4', 'Bd7', 'b4', 'Nc4', 'Bb3', 'Qf7', 'd5', 'Ne5', 'c4', 'Nd3', 'c5', 'Bxc5', 'bxc5', 'Nxc5', 'Ba3', 'b6', 'Nf4', 'Bb5', 'd6', 'Nxb3', 'Qxb3', 'Bc4', 'Qc3', '*'] - * – #invalid san: '*'#\n",
      "Skipping bad game: ['e4', 'c5', 'Nf3', 'Nc6', 'd4', 'cxd4', 'Nxd4', 'Nxd4', 'Qxd4', 'Nf6', 'Nc3', 'd6', 'Bc4', 'e5', 'Qd1', 'Be7', 'O-O', 'O-O', 'h3', 'Be6', 'Bb3', 'a6', 'Bg5', 'Qb6', 'Kh1', 'Rfe8', 'Bxf6', 'Bxf6', 'f4', 'exf4', 'Rxf4', 'Bg5', 'Rf1', 'Rad8', 'Qh5', 'Bf6', 'Bxe6', 'Rxe6', 'Nd5', 'Qxb2', 'Rab1', 'Qe5', 'Rf5', '*'] - * – #invalid san: '*'#\n",
      "Skipping bad game: ['e4', 'd5', 'exd5', 'Nf6', 'Nc3', 'e6', 'dxe6', 'Bxe6', 'Nf3', 'Bb4', 'Be2', 'Bxc3', 'dxc3', 'Qe7', 'O-O', 'O-O', 'Bg5', 'h6', 'Bh4', 'Nbd7', 'Bb5', 'c6', 'Bd3', 'Qc5', 'Re1', 'Bg4', 'h3', 'Bh5', 'Be2', 'Rad8', 'Nd4', 'Rde8', 'Bxh5', 'Rxe1+', 'Qxe1', 'Qxh5', 'Bg3', 'Re8', 'Qd1', 'Qd5', 'Qd3', 'Nc5', 'Qf3', 'Qc4', 'b3', 'Qd5', '*'] - * – #invalid san: '*'#\n",
      "Skipping bad game: ['e4', 'c6', 'd4', 'd5', 'Nc3', 'dxe4', 'Nxe4', 'Nd7', 'Nf3', 'Ngf6', 'Nxf6+', 'Nxf6', 'Bf4', 'Bf5', 'Bd3', 'Bxd3', 'Qxd3', 'e6', 'O-O', 'Be7', 'c3', 'O-O', 'h3', 'h6', 'Rfe1', 'Bd6', 'Ne5', 'Qc7', 'Qf3', '*'] - * – #invalid san: '*'#\n",
      "Skipping bad game: ['d4', 'd5', 'c4', 'e6', 'Nc3', 'Nf6', 'Bg5', 'Be7', 'Nf3', 'a6', 'e3', 'Nbd7', 'Rc1', 'O-O', 'Bd3', 'dxc4', 'Bxc4', 'b5', 'Bd3', 'Bb7', 'O-O', 'Rc8', 'Re1', 'c5', 'Bb1', 'Re8', 'Ne5', 'Nxe5', 'dxe5', 'Qxd1', 'Rcxd1', 'Nd5', 'Bxe7', 'Rxe7', 'Ne4', 'Ba8', 'Nd6', 'Rd8', 'Rc1', 'c4', 'Red1', 'f6', 'Nxb5', 'axb5', 'e4', 'fxe5', 'exd5', 'exd5', 'b3', 'Bb7', 'bxc4', 'bxc4', 'Rxc4', 'Red7', 'Rc5', 'g6', 'f3', 'Kf7', 'Kf2', 'Ke6', 'a4', 'd4', 'Re1', 'Rd5', 'Ba2', 'd3', 'Bxd5+', 'Rxd5', 'Rxd5', 'Bxd5', '*'] - * – #invalid san: '*'#\n",
      "Skipping bad game: ['e4', 'e5', 'Nf3', 'Nc6', 'd4', 'exd4', 'Nxd4', 'Nxd4', 'Qxd4', 'd6', 'Nc3', 'Be6', 'Bd3', 'Nf6', 'Bg5', 'Be7', 'O-O-O', 'O-O', 'e5', 'dxe5', 'Qxe5', 'Qc8', 'f3', 'h6', 'Bh4', 'Re8', 'g4', 'Nd7', 'Qe4', 'Bxh4', 'Qh7+', 'Kf8', 'Qh8+', 'Ke7', 'Qxg7', 'Bg5+', 'Kb1', 'Nf6', 'Rhe1', 'Rg8', '*'] - * – #invalid san: '*'#\n"
     ]
    },
    {
     "name": "stderr",
     "output_type": "stream",
     "text": [
      "726it [00:01, 729.25it/s]"
     ]
    },
    {
     "name": "stdout",
     "output_type": "stream",
     "text": [
      "Skipping bad game: ['d4', 'd5', 'c4', 'e6', 'Nc3', 'Nf6', 'Bg5', 'Nbd7', 'e3', 'h6', 'Bh4', 'Be7', 'Nf3', 'O-O', 'Qc2', 'c5', 'dxc5', 'Nxc5', 'Rd1', 'Nce4', 'Bxf6', 'Nxf6', 'cxd5', 'Nxd5', 'Nxd5', 'exd5', 'Qa4', 'Qb6', 'b3', 'Be6', 'Bd3', 'Bb4+', 'Ke2', 'Rac8', 'a3', 'Bc3', 'Rc1', 'Rfd8', 'Qb5', 'Qc7', 'Rc2', 'a6', 'Qa4', 'Qb6', 'b4', 'd4', '*'] - * – #invalid san: '*'#\n",
      "Skipping bad game: ['e4', 'e5', 'Nf3', 'Nc6', 'Bb5', 'Bd6', 'O-O', 'h6', 'd4', 'Qe7', 'Bxc6', 'dxc6', 'Re1', 'g5', 'h3', 'g4', 'hxg4', 'Bxg4', 'Qd3', 'O-O-O', 'c3', 'Nf6', 'Nbd2', 'Kb8', 'Nc4', 'Bxf3', 'Qxf3', 'exd4', 'e5', 'Nd5', 'Bxh6', 'Rxh6', 'exd6', 'Qh4', 'dxc7+', 'Kxc7', 'Qg3+', 'Qxg3', 'fxg3', 'dxc3', 'bxc3', 'Nxc3', 'Re7+', 'Rd7', 'Rae1', 'Nd5', 'Rxd7+', 'Kxd7', '*'] - * – #invalid san: '*'#\n",
      "Skipping bad game: ['e4', 'e5', 'Nf3', 'Nc6', 'Bc4', 'Nf6', 'd3', 'Be7', 'Be3', 'd5', 'exd5', 'Nxd5', 'Nbd2', 'Nxe3', 'fxe3', 'O-O', 'O-O', 'Bf6', 'e4', 'Bg4', 'h3', 'Bh5', 'Qe1', 'Nd4', 'Bb3', 'a5', 'a4', 'Bxf3', 'Nxf3', 'Nxb3', 'cxb3', 'Qxd3', 'Qc3', 'Qxc3', '*'] - * – #invalid san: '*'#\n",
      "Skipping bad game: ['e4', 'e5', 'Nf3', 'Nf6', 'c3', 'Nxe4', 'Qe2', 'd5', 'd3', 'Nf6', 'Nxe5', 'Be7', 'Bg5', 'O-O', 'Nd2', 'h6', 'Bh4', 'Re8', 'O-O-O', 'd4', 'c4', 'Bd6', 'Ndf3', 'Bxe5', 'Nxe5', 'Qd6', 'Bg3', 'Qa6', 'a3', 'Nc6', 'Re1', 'Nxe5', 'Bxe5', 'Ng4', '*'] - * – #invalid san: '*'#\n",
      "Skipping bad game: ['c4', 'c5', 'Nf3', 'Nc6', 'e3', 'e5', 'd4', 'cxd4', 'exd4', 'exd4', 'Nxd4', 'Nxd4', 'Qxd4', 'Nf6', 'Bd3', 'd5', 'O-O', 'Be6', 'Re1', 'b6', 'cxd5', 'Qxd5', 'Qxd5', 'Nxd5', 'Bb5+', 'Kd8', 'Bg5+', 'Be7', 'Bxe7+', 'Kxe7', 'Bc6', 'Rad8', 'Na3', 'Rd6', 'Bb7', 'Rb8', 'Ba6', 'Nb4', 'Bc4', 'Kf6', 'Bxe6', 'fxe6', 'Re2', 'b5', 'Rae1', 'Nxa2', 'Re5', 'a6', 'g4', 'h6', 'f4', 'Nb4', 'f5', 'exf5', 'Rxf5+', 'Kg6', 'h4', 'Nd3', 'h5+', 'Kh7', 'Re2', 'Rb7', '*'] - * – #invalid san: '*'#\n",
      "Skipping bad game: ['d4', 'Nf6', 'Nc3', 'c6', 'e4', 'd5', 'e5', 'Ne4', 'Nxe4', 'dxe4', 'Bc4', 'Bf5', 'g4', 'Bg6', 'c3', 'b5', 'Bb3', 'h5', 'Ne2', 'hxg4', 'Nf4', 'Bf5', 'Be3', 'Qd7', 'Qe2', 'e6', 'O-O-O', 'Na6', 'Kb1', 'Qb7', 'Ng2', 'O-O-O', 'Bg5', 'Rd7', 'Ne3', 'g6', 'Nxg4', 'Bxg4', 'Qxg4', 'c5', 'd5', 'c4', 'dxe6', 'fxe6', 'Bc2', 'Nc5', 'Be3', 'Rd3', 'Bxc5', 'Bxc5', 'Qxe6+', 'Kb8', 'Bxd3', 'exd3', 'f4', 'Be3', 'f5', 'gxf5', 'Qxf5', 'd2', 'e6', '*'] - * – #invalid san: '*'#\n",
      "Skipping bad game: ['e4', 'Nf6', 'e5', 'Nd5', 'd4', 'd6', 'Nf3', 'g6', 'Bc4', 'c6', 'O-O', 'Bg7', 'exd6', 'Qxd6', 'c3', 'O-O', 'Nbd2', 'Bg4', 'Ne4', 'Qc7', 'h3', 'Bxf3', 'Qxf3', 'Nd7', 'Bb3', 'N7f6', 'Nc5', 'b6', 'Nd3', 'Rad8', 'c4', 'Nh5', 'cxd5', 'cxd5', 'Be3', 'Qd6', 'Rac1', 'f5', '*'] - * – #invalid san: '*'#\n"
     ]
    },
    {
     "name": "stderr",
     "output_type": "stream",
     "text": [
      "801it [00:01, 625.36it/s]"
     ]
    },
    {
     "name": "stdout",
     "output_type": "stream",
     "text": [
      "Skipping bad game: ['c4', 'f5', 'Nc3', 'Nf6', 'g3', 'g6', 'Bg2', 'Bg7', 'Nf3', 'O-O', 'O-O', 'd6', 'd3', 'Qe8', 'Rb1', 'c5', 'a3', 'Nc6', 'b4', 'cxb4', 'axb4', 'Bd7', 'b5', 'Nd8', 'Bg5', 'h6', 'Bxf6', 'Bxf6', 'Nd5', 'Ne6', 'Qd2', 'Kh7', '*'] - * – #invalid san: '*'#\n",
      "Skipping bad game: ['d4', 'd5', 'c4', 'c6', 'Nf3', 'f5', 'g3', 'Nf6', 'Bg2', 'e6', 'O-O', 'Bd6', 'Qb3', 'O-O', 'Nc3', 'Nbd7', 'Bg5', 'h6', 'Bd2', 'Ne4', 'cxd5', 'exd5', 'Rfd1', 'Ndf6', 'Rac1', '*'] - * – #invalid san: '*'#\n",
      "Skipping bad game: ['Nf3', 'Nf6', 'e3', 'g6', 'b3', 'Bg7', 'Bb2', 'O-O', 'c4', 'd5', 'cxd5', 'Qxd5', 'Qc2', 'c5', 'Bc4', 'Qd8', 'O-O', 'Nc6', 'Rd1', 'Bf5', 'Qc1', 'Nb4', 'Na3', 'Bd3', 'Qc3', 'Rc8', 'Ne5', 'Bxc4', 'Qxc4', 'Ne8', 'Bc3', 'Nd6', 'Qh4', 'Nd5', 'Bb2', 'b5', 'Rac1', 'a6', 'd4', 'Nf5', 'Qe4', 'cxd4', 'Bxd4', 'Nxd4', '*'] - * – #invalid san: '*'#\n",
      "Skipping bad game: ['e4', 'c5', 'Nf3', 'e6', 'Nc3', 'Nc6', 'd4', 'cxd4', 'Nxd4', 'Qc7', 'Be2', 'a6', 'Bg5', 'Nf6', 'Bxf6', 'gxf6', 'O-O', 'Bb4', 'Nxc6', 'bxc6', 'Qd4', 'Be7', 'Rad1', 'Rg8', 'g3', 'Bb7', 'Bh5', 'Rg5', 'Bf3', 'c5', 'Qe3', 'h5', 'h4', 'Rg8', 'Bxh5', 'f5', 'exf5', 'Bxh4', 'Rxd7', 'Kxd7', 'fxe6+', 'fxe6', 'Rd1+', 'Ke7', 'Qh6', 'Rxg3+', 'Kf1', 'Bg2+', 'Ke1', 'Qe5+', 'Ne2', '*'] - * – #invalid san: '*'#\n",
      "Skipping bad game: ['d4', 'c5', 'dxc5', 'e5', 'Be3', 'Nc6', 'Nf3', 'Nf6', 'g3', 'Qa5+', 'Nc3', 'Bxc5', 'Bxc5', 'Qxc5', 'Bg2', 'd6', 'O-O', 'Be6', 'a3', 'h5', 'Na4', 'Qa5', 'b3', '*'] - * – #invalid san: '*'#\n",
      "Skipping bad game: ['e4', 'd6', 'd4', 'g6', 'Nc3', 'Bg7', 'Be3', 'Nf6', 'f3', 'O-O', 'Qd2', 'c6', 'O-O-O', 'b5', 'Bh6', 'Qa5', 'Kb1', 'Re8', 'Bxg7', 'Kxg7', 'h4', 'h5', 'g4', 'hxg4', 'fxg4', 'Bxg4', 'Be2', 'Bxe2', 'Ngxe2', 'b4', 'e5', 'dxe5', 'dxe5', 'Qxe5', 'Na4', 'a5', 'h5', 'Nxh5', 'Nd4', 'Nd7', 'Rde1', 'Qd5', 'c4', 'Qd6', 'Qe3', 'Ndf6', 'Nf5+', 'gxf5', 'Qg5+', 'Kh7', 'c5', 'Qd3+', '*'] - * – #invalid san: '*'#\n",
      "Skipping bad game: ['e4', 'c5', 'Nf3', 'Nc6', 'Bc4', 'e6', 'O-O', 'd5', 'exd5', 'exd5', 'Bb3', 'Be7', 'c3', 'c4', 'Bc2', 'Bg4', 'h3', 'Bh5', 'g4', 'Bg6', 'd4', 'Nf6', 'Bf4', 'O-O', 'Nbd2', 'Bd6', 'Bxd6', 'Qxd6', 'Re1', 'Rfe8', 'Bxg6', 'Rxe1+', 'Nxe1', 'hxg6', 'Nf1', 'Re8', 'Qf3', 'Nd8', 'Ng2', 'Ne6', 'Re1', '*'] - * – #invalid san: '*'#\n",
      "Skipping bad game: ['e4', 'c5', 'Nf3', 'e6', 'Bc4', 'Nc6', 'O-O', 'a6', 'Re1', 'b5', 'Bf1', 'Bb7', 'c3', 'Be7', 'd3', 'Nf6', 'e5', 'Nd5', 'c4', 'Nb6', 'b3', 'O-O', 'Nc3', '*'] - * – #invalid san: '*'#\n",
      "Skipping bad game: ['d4', 'e6', 'e4', 'c6', 'Bd3', 'd5', 'e5', 'c5', 'c3', 'Nc6', 'f4', 'Qb6', 'Nf3', 'Bd7', 'O-O', 'cxd4', 'cxd4', 'Nxd4', 'Kh1', 'Nxf3', 'Qxf3', 'Bb5', 'Bxb5+', 'Qxb5', 'Nc3', 'Qb6', 'f5', 'Rc8', 'Be3', 'Bc5', 'Bxc5', 'Qxc5', 'fxe6', 'Qe7', 'exf7+', 'Kd7', 'e6+', 'Kd8', 'Qxd5+', 'Kc7', 'Qe5+', '*'] - * – #invalid san: '*'#\n"
     ]
    },
    {
     "name": "stderr",
     "output_type": "stream",
     "text": [
      "1048it [00:01, 947.97it/s]"
     ]
    },
    {
     "name": "stdout",
     "output_type": "stream",
     "text": [
      "Skipping bad game: ['e4', 'c5', 'Nf3', 'd6', 'c3', 'e6', 'Be2', 'Nc6', 'O-O', 'Qe7', 'd3', 'Bd7', 'Re1', 'O-O-O', 'Nbd2', 'f6', 'Nf1', 'g5', 'h3', 'h5', 'd4', 'g4', 'hxg4', 'hxg4', 'N3h2', 'Bh6', '*'] - * – #invalid san: '*'#\n",
      "Skipping bad game: ['f4', 'c5', 'e3', 'Nc6', 'Nf3', 'd5', 'Bb5', 'Bd7', 'Bxc6', 'Bxc6', 'O-O', 'e6', 'b3', 'Nf6', 'Bb2', 'Bd6', 'd3', 'O-O', 'Nbd2', 'Qc7', 'Ne5', 'Bb5', 'Rf3', 'a5', 'a4', 'Ba6', 'Rh3', 'Rad8', 'Qe1', 'Be7', 'Qh4', 'd4', 'e4', 'g6', 'Ng4', 'Nh5', 'Qf2', '*'] - * – #invalid san: '*'#\n",
      "Skipping bad game: ['d4', 'Nf6', 'c4', 'g6', 'Nc3', 'd5', 'cxd5', 'Nxd5', 'e4', 'Nxc3', 'bxc3', 'Bg7', 'Nf3', 'c5', 'h3', 'O-O', 'Be2', 'Nc6', 'Be3', 'Qa5', 'Qd2', 'cxd4', 'Nxd4', 'Rd8', 'Nxc6', 'bxc6', '*'] - * – #invalid san: '*'#\n",
      "Skipping bad game: ['e4', 'd5', 'e5', 'c5', 'd4', 'cxd4', 'Qxd4', 'a6', 'b4', 'Nc6', 'Qe3', 'Nxb4', 'Qb3', '*'] - * – #invalid san: '*'#\n",
      "Skipping bad game: ['e4', 'c5', 'Nf3', 'e6', 'd4', 'cxd4', 'Nxd4', 'a6', 'Nc3', 'Qc7', 'Be3', 'Bb4', 'Qd3', 'Nf6', 'f3', 'd5', 'Be2', 'dxe4', 'fxe4', 'Nxe4', 'Qxe4', 'Bxc3+', 'Kf2', 'O-O', 'Rhf1', 'Nc6', 'Nxc6', 'bxc6', 'bxc3', 'Bb7', 'Kg1', 'c5', 'Qc4', 'Bd5', 'Qg4', 'f5', 'Qg3', 'Qf7', 'c4', 'Be4', 'Bd3', 'Bb7', 'Rad1', 'Rac8', 'Be2', 'Qe7', 'Bf3', 'Rf6', 'Bxb7', 'Qxb7', 'Qe5', '*'] - * – #invalid san: '*'#\n",
      "Skipping bad game: ['e4', 'c5', 'Nc3', 'e6', 'Nf3', 'a6', 'Be2', 'Nc6', 'd4', 'cxd4', 'Nxd4', '*'] - * – #invalid san: '*'#\n",
      "Skipping bad game: ['e4', 'e6', 'd4', 'd5', 'Nc3', 'f5', 'exf5', 'exf5', 'Nf3', 'c6', 'Bg5', 'Nf6', 'Be2', 'Be7', 'O-O', 'Ne4', 'Re1', 'Bxg5', 'Nxg5', 'Qxg5', 'Bf1', 'O-O', 'Ne2', 'Qh4', 'g3', 'Qh6', 'Nf4', 'Nd7', 'Bg2', 'Ndf6', 'Re2', 'g5', 'Nd3', 'Ng4', 'h3', 'Ngf6', 'Ne5', 'f4', '*'] - * – #invalid san: '*'#\n",
      "Skipping bad game: ['d4', 'd5', 'c4', 'e5', 'dxe5', 'd4', 'e3', '*'] - * – #invalid san: '*'#\n",
      "Skipping bad game: ['f4', 'Nf6', 'e3', 'd5', 'Nf3', 'c5', 'd4', 'Nc6', 'Bb5', 'Bg4', 'Bxc6+', 'bxc6', 'O-O', 'e6', 'c3', 'cxd4', '*'] - * – #invalid san: '*'#\n",
      "Skipping bad game: ['e4', 'b6', 'd4', 'Bb7', 'Bd3', 'a6', 'Be3', 'Ra7', '*'] - * – #invalid san: '*'#\n"
     ]
    },
    {
     "name": "stderr",
     "output_type": "stream",
     "text": [
      "10000it [00:17, 565.02it/s]\n"
     ]
    },
    {
     "name": "stdout",
     "output_type": "stream",
     "text": [
      "Read 10000 in 18.959375143051147 | TOTAL: 860000 | num_games_saved 159825 | num_moves_saved 5_416_482 - 5_495_162\n",
      "Reading 87-th batch of games...\n"
     ]
    },
    {
     "name": "stderr",
     "output_type": "stream",
     "text": [
      "10000it [00:17, 562.60it/s]\n"
     ]
    },
    {
     "name": "stdout",
     "output_type": "stream",
     "text": [
      "Read 10000 in 19.036856651306152 | TOTAL: 870000 | num_games_saved 161712 | num_moves_saved 5_479_357 - 5_558_984\n",
      "Reading 88-th batch of games...\n"
     ]
    },
    {
     "name": "stderr",
     "output_type": "stream",
     "text": [
      "10000it [00:19, 519.17it/s]\n"
     ]
    },
    {
     "name": "stdout",
     "output_type": "stream",
     "text": [
      "Read 10000 in 20.618367433547974 | TOTAL: 880000 | num_games_saved 163705 | num_moves_saved 5_548_913 - 5_629_517\n",
      "Reading 89-th batch of games...\n"
     ]
    },
    {
     "name": "stderr",
     "output_type": "stream",
     "text": [
      "10000it [00:17, 582.34it/s]\n"
     ]
    },
    {
     "name": "stdout",
     "output_type": "stream",
     "text": [
      "Read 10000 in 18.493643760681152 | TOTAL: 890000 | num_games_saved 165530 | num_moves_saved 5_611_256 - 5_692_750\n",
      "Reading 90-th batch of games...\n"
     ]
    },
    {
     "name": "stderr",
     "output_type": "stream",
     "text": [
      "10000it [00:17, 575.62it/s]\n"
     ]
    },
    {
     "name": "stdout",
     "output_type": "stream",
     "text": [
      "Read 10000 in 18.70205783843994 | TOTAL: 900000 | num_games_saved 167394 | num_moves_saved 5_673_662 - 5_756_087\n",
      "Reading 91-th batch of games...\n"
     ]
    },
    {
     "name": "stderr",
     "output_type": "stream",
     "text": [
      "10000it [00:16, 602.85it/s]\n"
     ]
    },
    {
     "name": "stdout",
     "output_type": "stream",
     "text": [
      "Read 10000 in 17.922765493392944 | TOTAL: 910000 | num_games_saved 169168 | num_moves_saved 5_733_520 - 5_816_838\n",
      "Reading 92-th batch of games...\n"
     ]
    },
    {
     "name": "stderr",
     "output_type": "stream",
     "text": [
      "6533it [00:10, 618.40it/s]"
     ]
    },
    {
     "name": "stdout",
     "output_type": "stream",
     "text": [
      "Skipping bad game: ['Nf3', 'c5', 'c4', 'Nc6', 'Nc3', 'g6', 'e3', 'e5', 'd4', 'cxd4', 'exd4', 'exd4', 'Nxd4', 'd6', 'Be3', 'a6', 'Be2', 'Bg7', 'O-O', 'Nf6', 'Bf3', 'Bd7', 'Nxc6', 'Bxc6', 'Nd5', 'Bxd5', 'cxd5', 'O-O', 'Rc1', 'Nd7', 'Bd4', 'Ne5', 'Be2', 'Rc8', 'Qd2', 'b5', 'b3', 'Qd7', 'Bxe5', 'Bxe5', 'Bf3', 'Qf5', 'Rc6', 'Rxc6', 'dxc6', 'Rc8', '*'] - * – #invalid san: '*'#\n"
     ]
    },
    {
     "name": "stderr",
     "output_type": "stream",
     "text": [
      "10000it [00:16, 597.62it/s]\n"
     ]
    },
    {
     "name": "stdout",
     "output_type": "stream",
     "text": [
      "Read 10000 in 18.097156286239624 | TOTAL: 920000 | num_games_saved 170968 | num_moves_saved 5_794_215 - 5_878_403\n",
      "Reading 93-th batch of games...\n"
     ]
    },
    {
     "name": "stderr",
     "output_type": "stream",
     "text": [
      "10000it [00:17, 583.31it/s]\n"
     ]
    },
    {
     "name": "stdout",
     "output_type": "stream",
     "text": [
      "Read 10000 in 18.45240831375122 | TOTAL: 930000 | num_games_saved 172856 | num_moves_saved 5_856_733 - 5_941_865\n",
      "Reading 94-th batch of games...\n"
     ]
    },
    {
     "name": "stderr",
     "output_type": "stream",
     "text": [
      "10000it [00:18, 533.13it/s]\n"
     ]
    },
    {
     "name": "stdout",
     "output_type": "stream",
     "text": [
      "Read 10000 in 20.167266607284546 | TOTAL: 940000 | num_games_saved 174799 | num_moves_saved 5_922_452 - 6_008_596\n",
      "Reading 95-th batch of games...\n"
     ]
    },
    {
     "name": "stderr",
     "output_type": "stream",
     "text": [
      "10000it [00:18, 543.16it/s]\n"
     ]
    },
    {
     "name": "stdout",
     "output_type": "stream",
     "text": [
      "Read 10000 in 19.79040026664734 | TOTAL: 950000 | num_games_saved 176776 | num_moves_saved 5_988_953 - 6_076_073\n",
      "Reading 96-th batch of games...\n"
     ]
    },
    {
     "name": "stderr",
     "output_type": "stream",
     "text": [
      "10000it [00:20, 498.52it/s]\n"
     ]
    },
    {
     "name": "stdout",
     "output_type": "stream",
     "text": [
      "Read 10000 in 21.424046754837036 | TOTAL: 960000 | num_games_saved 178915 | num_moves_saved 6_062_657 - 6_150_811\n",
      "Reading 97-th batch of games...\n"
     ]
    },
    {
     "name": "stderr",
     "output_type": "stream",
     "text": [
      "10000it [00:18, 540.09it/s]\n"
     ]
    },
    {
     "name": "stdout",
     "output_type": "stream",
     "text": [
      "Read 10000 in 19.94086790084839 | TOTAL: 970000 | num_games_saved 180882 | num_moves_saved 6_128_923 - 6_218_040\n",
      "Reading 98-th batch of games...\n"
     ]
    },
    {
     "name": "stderr",
     "output_type": "stream",
     "text": [
      "10000it [00:18, 546.79it/s]\n"
     ]
    },
    {
     "name": "stdout",
     "output_type": "stream",
     "text": [
      "Read 10000 in 19.68813419342041 | TOTAL: 980000 | num_games_saved 182846 | num_moves_saved 6_195_534 - 6_285_633\n",
      "Reading 99-th batch of games...\n"
     ]
    },
    {
     "name": "stderr",
     "output_type": "stream",
     "text": [
      "10000it [00:18, 527.59it/s]\n"
     ]
    },
    {
     "name": "stdout",
     "output_type": "stream",
     "text": [
      "Read 10000 in 20.335970878601074 | TOTAL: 990000 | num_games_saved 184832 | num_moves_saved 6_263_403 - 6_354_507\n",
      "Reading 100-th batch of games...\n"
     ]
    },
    {
     "name": "stderr",
     "output_type": "stream",
     "text": [
      "10000it [00:18, 528.66it/s]\n"
     ]
    },
    {
     "name": "stdout",
     "output_type": "stream",
     "text": [
      "Read 10000 in 20.345598697662354 | TOTAL: 1000000 | num_games_saved 186835 | num_moves_saved 6_330_618 - 6_422_742\n",
      "Reading 101-th batch of games...\n"
     ]
    },
    {
     "name": "stderr",
     "output_type": "stream",
     "text": [
      "10000it [00:17, 566.59it/s]\n"
     ]
    },
    {
     "name": "stdout",
     "output_type": "stream",
     "text": [
      "Read 10000 in 19.062941074371338 | TOTAL: 1010000 | num_games_saved 188712 | num_moves_saved 6_393_485 - 6_486_555\n",
      "Reading 102-th batch of games...\n"
     ]
    },
    {
     "name": "stderr",
     "output_type": "stream",
     "text": [
      "10000it [00:17, 563.57it/s]\n"
     ]
    },
    {
     "name": "stdout",
     "output_type": "stream",
     "text": [
      "Read 10000 in 19.168593168258667 | TOTAL: 1020000 | num_games_saved 190582 | num_moves_saved 6_458_370 - 6_552_335\n",
      "Reading 103-th batch of games...\n"
     ]
    },
    {
     "name": "stderr",
     "output_type": "stream",
     "text": [
      "10000it [00:16, 591.69it/s]\n"
     ]
    },
    {
     "name": "stdout",
     "output_type": "stream",
     "text": [
      "Read 10000 in 18.346887350082397 | TOTAL: 1030000 | num_games_saved 192362 | num_moves_saved 6_519_738 - 6_614_593\n",
      "Reading 104-th batch of games...\n"
     ]
    },
    {
     "name": "stderr",
     "output_type": "stream",
     "text": [
      "10000it [00:15, 625.61it/s]\n"
     ]
    },
    {
     "name": "stdout",
     "output_type": "stream",
     "text": [
      "Read 10000 in 17.45289397239685 | TOTAL: 1040000 | num_games_saved 194062 | num_moves_saved 6_577_032 - 6_672_725\n",
      "Reading 105-th batch of games...\n"
     ]
    },
    {
     "name": "stderr",
     "output_type": "stream",
     "text": [
      "10000it [00:16, 589.38it/s]\n"
     ]
    },
    {
     "name": "stdout",
     "output_type": "stream",
     "text": [
      "Read 10000 in 18.432994842529297 | TOTAL: 1050000 | num_games_saved 195902 | num_moves_saved 6_637_947 - 6_734_571\n",
      "Reading 106-th batch of games...\n"
     ]
    },
    {
     "name": "stderr",
     "output_type": "stream",
     "text": [
      "10000it [00:16, 590.27it/s]\n"
     ]
    },
    {
     "name": "stdout",
     "output_type": "stream",
     "text": [
      "Read 10000 in 18.4452862739563 | TOTAL: 1060000 | num_games_saved 197666 | num_moves_saved 6_698_205 - 6_795_700\n",
      "Reading 107-th batch of games...\n"
     ]
    },
    {
     "name": "stderr",
     "output_type": "stream",
     "text": [
      "4462it [00:07, 611.38it/s]"
     ]
    },
    {
     "name": "stdout",
     "output_type": "stream",
     "text": [
      "Skipping bad game: ['e4', 'e6', 'Nc3', 'd5', 'Nf3', 'd4', 'Ne2', 'c5', 'c3', 'Nc6', 'd3', 'e5', 'Qa4', 'Nf6', 'Nxe5', 'Bd7', 'Nxd7', 'Qxd7', 'Bg5', 'Be7', 'Bxf6', 'Bxf6', 'Nf4', 'Be5', 'Ne2', 'O-O', 'f4', 'Bd6', 'e5', 'Be7', 'cxd4', 'cxd4', 'Ng3', 'Bb4+', 'Kf2', 'Qg4', 'Ne2', 'Bd2', 'Nxd4', 'Qxf4+', 'Ke2', 'Nxd4+', 'Kd1', 'Be3', 'Be2', 'Qxe5', 'Rf1', 'Nxe2', 'Kxe2', 'Bd4+', 'Kd1', 'Bxb2', 'Rb1', 'Bd4', 'Rb5', 'Qh5+', 'Kc2', 'Rac8+', 'Kb1', 'Bb6', 'Rxh5', 'g6', 'Rh3', 'Rc7', 'Qh4', 'h5', 'Rg3', 'Rc5', 'Rg5', 'Rxg5', 'Qxg5', 'Kg7', 'Qf6+', 'Kg8', 'g4', 'hxg4', 'Qg5', 'Kg7', 'Qxg4', 'Bd8', 'h4', 'f6', 'h5', 'g5', 'Qf5', 'Rg8', 'Qg6+', 'Kf8', 'Rxf6+', 'Bxf6', 'Qxf6+', 'Ke8', 'h6', 'g4', 'h7', 'Rf8', 'h8=Q', 'Rxh8', 'Qxh8+', 'Kf7', 'Qh4', 'Kg6', 'Qxg4+', 'Kf6', 'Qd7', 'Ke5', 'Qxb7', 'a5', 'Qa7', 'Kd5', 'Qxa5+', 'Kd4', '*'] - * – #invalid san: '*'#\n"
     ]
    },
    {
     "name": "stderr",
     "output_type": "stream",
     "text": [
      "4652it [00:07, 541.68it/s]"
     ]
    },
    {
     "name": "stdout",
     "output_type": "stream",
     "text": [
      "Skipping bad game: ['e4', 'd6', 'Nf3', 'Nf6', 'd3', 'g6', 'Bg5', 'h6', 'Nc3', 'hxg5', 'Nxg5', 'Bh6', 'f4', 'Bxg5', 'fxg5', 'Nfd7', 'Qf3', 'e5', 'h4', 'c6', 'O-O-O', 'Nf8', 'Be2', 'Be6', 'Qg3', 'Qa5', 'a3', 'Nbd7', 'Bg4', 'Bxg4', 'Qxg4', 'O-O-O', 'Rhf1', 'Rh7', 'Kb1', 'Kb8', 'Qh3', 'Nc5', 'g3', 'Nce6', 'Na2', 'Nxg5', 'Qg4', 'Nge6', 'Nb4', 'Qc7', 'Rf6', 'a5', 'Na2', 'Qb6', 'Rdf1', 'Qc7', 'Nc3', 'Re8', 'Na4', 'Re7', 'Qf3', 'b5', 'Nc3', 'b4', 'axb4', 'axb4', 'Na2', 'c5', 'Qe3', 'Nd7', 'R6f2', 'Nb6', 'Nc1', 'Nd4', 'c3', 'bxc3', 'bxc3', 'Nb5', 'Rb2', 'Qc6', 'd4', 'Na3+', 'Ka2', 'Nc4', 'Qd3', 'Qa4+', 'Kb1', 'Nxb2', 'Kxb2', 'Nc4+', 'Kb1', 'Qb5+', 'Nb3', 'Qxb3+', 'Kc1', 'Qb2+', 'Kd1', 'Na3', 'Ke1', 'c4', 'Qd1', '*'] - * – #invalid san: '*'#\n",
      "Skipping bad game: ['e4', 'e6', 'f4', 'd5', 'Nc3', 'd4', 'Nce2', 'Nc6', 'd3', 'f6', 'Nf3', 'e5', 'fxe5', 'fxe5', 'Bg5', 'Nf6', 'Qd2', 'Be7', 'O-O-O', 'Be6', 'Kb1', 'Qd7', 'h4', 'h6', 'Bxf6', 'Bxf6', 'c3', 'O-O-O', 'c4', 'Be7', 'a3', 'Kb8', 'b4', 'a6', 'Nc1', 'Bf6', 'Nb3', 'b5', 'Nc5', 'Qe7', 'Nxa6+', 'Kb7', 'cxb5', 'Na7', 'a4', 'c6', 'Nc5+', 'Kc7', 'bxc6', 'Nxc6', 'b5', 'Qxc5', 'Rc1', 'Qa3', 'Rxc6+', 'Kd7', 'Ra6', 'Qb3+', 'Qb2', 'Ra8', 'Nd2', 'Qxb2+', 'Kxb2', 'Rxa6', 'bxa6', 'Ra8', 'Be2', 'Rxa6', 'Bd1', 'Kc7', 'g4', 'Be7', 'Bb3', 'Bxb3', 'Nxb3', 'Rg6', 'g5', 'hxg5', 'hxg5', 'Bxg5', 'Ka3', 'Be7+', 'Kb2', 'Rg2+', 'Kb1', 'Ba3', 'Na1', 'Rb2+', 'Kc1', 'Rh2+', 'Kb1', 'Rxh1+', 'Ka2', 'Be7', 'Nb3', 'Rh2+', '*'] - * – #invalid san: '*'#\n"
     ]
    },
    {
     "name": "stderr",
     "output_type": "stream",
     "text": [
      "5022it [00:08, 478.52it/s]"
     ]
    },
    {
     "name": "stdout",
     "output_type": "stream",
     "text": [
      "Skipping bad game: ['e3', 'e5', 'b3', 'Nf6', 'Bb2', 'd6', 'd4', 'g6', 'dxe5', 'dxe5', 'Qxd8+', 'Kxd8', 'Bxe5', 'Bg7', 'Nd2', 'Nc6', 'Bb2', 'Bf5', 'O-O-O', 'Ke7', 'Ngf3', 'Rhd8', 'Ba3+', 'Ke8', 'Nh4', 'Be6', 'Bb5', 'a6', 'Bxc6+', 'bxc6', 'Nhf3', 'Nd5', 'Bb2', 'Nc3', 'Rde1', 'Nxa2+', 'Kb1', 'Nc3+', 'Kc1', 'a5', 'Nd4', 'Bxd4', 'exd4', 'Nd5', 'Nf3', 'Nf4', 'g3', 'Nd5', 'Ne5', 'a4', 'Nxc6', 'a3', 'Nxd8', 'axb2+', 'Kxb2', 'Rxd8', 'f4', 'Kf8', 'c4', 'Nb4', 'd5', 'Nd3+', 'Kc3', 'Nxe1', 'dxe6', 'Nf3', 'Rf1', 'Nxh2', 'e7+', 'Kxe7', 'Rh1', 'Ng4', 'Rxh7', 'Nf6', 'Rh2', 'Ne4+', 'Kb4', 'Nxg3', 'Rg2', 'Nf5', 'Re2+', 'Kf6', 'Re5', 'Rd6', 'Rc5', 'Rb6+', 'Kc3', 'c6', 'Ra5', 'Nd6', 'Ra7', 'Ne4+', 'Kd4', 'Nd2', 'c5', 'Nxb3+', 'Kc3', '*'] - * – #invalid san: '*'#\n",
      "Skipping bad game: ['d4', 'd6', 'Nf3', 'Nd7', 'c4', 'e5', 'dxe5', 'dxe5', 'Nc3', 'Ngf6', 'Bg5', 'Be7', 'Qd2', 'c6', 'O-O-O', 'Qc7', 'h4', 'a6', 'e4', 'h6', 'Be3', 'b5', 'cxb5', 'axb5', 'Kb1', 'Nb6', 'Nxb5', 'cxb5', 'Bxb5+', 'Bd7', 'Bxd7+', 'Nbxd7', 'Rc1', 'Qa5', 'Qxa5', 'Rxa5', 'Rc8+', 'Bd8', 'Rd1', 'O-O', 'a3', 'Ng4', 'Rxd7', 'Nxe3', 'fxe3', 'Bf6', 'Rc6', 'Rb5', 'g4', 'Rfb8', 'b4', 'Bd8', 'g5', 'f6', 'gxh6', 'gxh6', 'h5', 'Kf8', 'Nh4', 'Ke8', 'Rh7', 'Be7', 'Nf5', 'Bf8', 'Re6+', 'Kd8', 'Rxf6', 'R5b7', 'Rh8', 'Ke8', 'Rhxf8+', 'Kd7', 'R8f7+', 'Ke8', 'Rf8+', 'Kd7', 'R6f7+', 'Ke6', 'Rxb8', 'Rxb8', 'Rh7', 'Kf6', 'Rxh6+', 'Kg5', 'Rg6+', 'Kxh5', 'Re6', 'Kg4', 'Rxe5', 'Rc8', 'Re7', 'Kf3', 'Kb2', 'Rh8', 'Kb3', 'Rh2', 'a4', 'Rh1', 'a5', 'Rb1+', 'Kc4', 'Rc1+', 'Kb5', 'Rc8', 'a6', 'Rb8+', 'Ka5', 'Rc8', 'b5', 'Rc5', 'Kb6', 'Rc1', 'a7', 'Rc8', 'Kb7', 'Rf8', 'a8=Q', 'Rg8', 'Qxg8', 'Ke2', 'Nd6', 'Kd3', 'e5', 'Ke2', 'e6', 'Kd3', 'Nc4', 'Ke2', 'Rd7', 'Kf3', 'e7', 'Ke2', 'e8=Q', 'Ke1', 'e4', 'Ke2', 'e5', '*'] - * – #invalid san: '*'#\n",
      "Skipping bad game: ['e3', 'Nf6', 'b3', 'g6', 'Bb2', 'Bg7', 'Nf3', 'd6', 'Be2', 'e5', 'O-O', 'O-O', 'd4', 'Nc6', 'dxe5', 'Ng4', 'Nbd2', 'Ngxe5', 'Rb1', 'Nxf3+', 'Nxf3', 'Bxb2', 'Rxb2', 'Be6', 'c4', 'Qf6', 'Rd2', 'Ne7', 'Nd4', 'Bd7', 'Bf3', 'Bc6', 'Bxc6', 'Nxc6', 'Nb5', 'Rac8', 'Qa1', 'Qxa1', 'Rxa1', 'a6', 'Nc3', 'Ne7', 'Rad1', 'f6', 'h3', 'Kf7', 'Kf1', 'Rfe8', 'Ke2', 'Ke6', 'Kf3', 'f5', 'Ne2', 'Nc6', 'Nf4+', 'Kf7', 'Nd5', 'Ne5+', 'Ke2', 'Rcd8', 'Nxc7', 'Rd7', 'Nd5', 'Re6', 'Nb6', 'Rd8', 'Nd5', 'Nc6', 'Nf4', 'Re7', 'Rxd6', 'Rxd6', 'Rxd6', 'Rc7', 'Nd5', 'Rc8', 'Rd7+', 'Kg8', 'Nf6+', 'Kf8', 'Nxh7+', 'Ke8', 'Nf6+', 'Kf8', 'Rxb7', 'Ne7', 'Nh7+', 'Kf7', 'Ng5+', 'Kf6', 'Nf3', 'g5', 'Rb6+', 'Kf7', 'Ne5+', 'Ke8', 'Re6', 'Kf8', 'Nd7+', 'Kf7', 'Rf6+', 'Kg7', 'Rxa6', 'Rd8', 'Nc5', 'Kf7', 'Ne6', 'Rg8', 'Nd4', 'g4', 'Nxf5', 'Nxf5', 'hxg4', 'Ne7', 'Ra7', 'Rxg4', 'Kf3', 'Rg5', 'Ra5', 'Rf5+', 'Rxf5+', 'Nxf5', 'Kf4', 'Ne7', 'g4', 'Nc6', 'g5', 'Nb4', 'Ke4', 'Nc2', 'c5', 'Nb4', 'c6', 'Nxc6', 'Kd5', 'Ne7+', 'Kd6', 'Nf5+', 'Kd7', 'Nh4', 'b4', 'Nf3', 'b5', 'Nxg5', 'b6', 'Ne6', 'b7', 'Nc5+', '*'] - * – #invalid san: '*'#\n"
     ]
    },
    {
     "name": "stderr",
     "output_type": "stream",
     "text": [
      "5202it [00:08, 653.66it/s]"
     ]
    },
    {
     "name": "stdout",
     "output_type": "stream",
     "text": [
      "Skipping bad game: ['e4', 'e5', 'Nf3', 'Nc6', 'Nxe5', 'f5', 'Nxc6', 'dxc6', 'e5', 'Be6', 'Bd3', 'Qe7', 'O-O', 'O-O-O', 'Re1', 'h6', 'f4', 'g5', 'Kh1', 'gxf4', 'Bf1', 'h5', 'd4', 'h4', 'Bxf4', 'Bd5', 'Be2', 'h3', 'Bf3', 'hxg2+', 'Bxg2', 'Bxg2+', 'Kxg2', 'Nh6', 'Kh1', 'Ng4', 'c4', 'Rxh2+', 'Kg1', 'Qg7', 'Bxh2', 'Ne3+', 'Kf2', 'Nxd1+', 'Rxd1', 'Be7', 'Nc3', 'Qh6', 'Ke2', 'Qxh2+', 'Kd3', 'Qh6', 'Kc2', 'Qh2+', 'Rd2', 'Qh7', 'Rad1', 'Qg8', 'Kb3', 'Qe8', 'd5', 'c5', 'd6', 'Bg5', 'dxc7', 'Rxd2', 'Nd5', 'Qxe5', 'Rxd2', 'Qg3+', 'Rd3', 'Qg4', 'Ka4', 'f4', 'Kb5', 'f3', 'Kxc5', 'f2', 'Rd4', 'f1=Q', 'Rxg4', 'Be3+', 'Rd4', 'Qe1', 'Kb5', 'Bxd4', 'c5', '*'] - * – #invalid san: '*'#\n"
     ]
    },
    {
     "name": "stderr",
     "output_type": "stream",
     "text": [
      "10000it [00:18, 552.04it/s]\n"
     ]
    },
    {
     "name": "stdout",
     "output_type": "stream",
     "text": [
      "Read 10000 in 19.65293288230896 | TOTAL: 1070000 | num_games_saved 199569 | num_moves_saved 6_763_832 - 6_862_269\n",
      "Reading 108-th batch of games...\n"
     ]
    },
    {
     "name": "stderr",
     "output_type": "stream",
     "text": [
      "10000it [00:17, 574.50it/s]\n"
     ]
    },
    {
     "name": "stdout",
     "output_type": "stream",
     "text": [
      "Read 10000 in 18.971566677093506 | TOTAL: 1080000 | num_games_saved 201378 | num_moves_saved 6_827_446 - 6_926_755\n",
      "Reading 109-th batch of games...\n"
     ]
    },
    {
     "name": "stderr",
     "output_type": "stream",
     "text": [
      "10000it [00:17, 572.02it/s]\n"
     ]
    },
    {
     "name": "stdout",
     "output_type": "stream",
     "text": [
      "Read 10000 in 19.037067651748657 | TOTAL: 1090000 | num_games_saved 203222 | num_moves_saved 6_890_515 - 6_990_729\n",
      "Reading 110-th batch of games...\n"
     ]
    },
    {
     "name": "stderr",
     "output_type": "stream",
     "text": [
      "10000it [00:18, 536.66it/s]\n"
     ]
    },
    {
     "name": "stdout",
     "output_type": "stream",
     "text": [
      "Read 10000 in 20.203742742538452 | TOTAL: 1100000 | num_games_saved 205184 | num_moves_saved 6_957_058 - 7_058_232\n",
      "Reading 111-th batch of games...\n"
     ]
    },
    {
     "name": "stderr",
     "output_type": "stream",
     "text": [
      "3152it [00:05, 553.79it/s]\n"
     ]
    },
    {
     "ename": "KeyboardInterrupt",
     "evalue": "",
     "output_type": "error",
     "traceback": [
      "\u001b[31m---------------------------------------------------------------------------\u001b[39m",
      "\u001b[31mKeyboardInterrupt\u001b[39m                         Traceback (most recent call last)",
      "\u001b[36mCell\u001b[39m\u001b[36m \u001b[39m\u001b[32mIn[9]\u001b[39m\u001b[32m, line 62\u001b[39m\n\u001b[32m     59\u001b[39m         writer = black_writer\n\u001b[32m     60\u001b[39m         black_num_moves_saved+=\u001b[32m1\u001b[39m\n\u001b[32m---> \u001b[39m\u001b[32m62\u001b[39m     writer.writerow([\n\u001b[32m     63\u001b[39m         bitmap.tolist(), \u001b[38;5;66;03m# bitmaps\u001b[39;00m\n\u001b[32m     64\u001b[39m         MOVE_DICTIONARY[move.uci()[:\u001b[32m4\u001b[39m]], \u001b[38;5;66;03m# Played move\u001b[39;00m\n\u001b[32m     65\u001b[39m         possible_moves.tolist(), \u001b[38;5;66;03m# 0 for invalid 1 for valid\u001b[39;00m\n\u001b[32m     66\u001b[39m     ])\n\u001b[32m     68\u001b[39m \u001b[38;5;28;01mexcept\u001b[39;00m \u001b[38;5;167;01mException\u001b[39;00m \u001b[38;5;28;01mas\u001b[39;00m e:\n\u001b[32m     69\u001b[39m     \u001b[38;5;28mprint\u001b[39m(\u001b[33mf\u001b[39m\u001b[33m\"\u001b[39m\u001b[33mSkipping bad game: \u001b[39m\u001b[38;5;132;01m{\u001b[39;00mmoves\u001b[38;5;132;01m}\u001b[39;00m\u001b[33m - \u001b[39m\u001b[38;5;132;01m{\u001b[39;00mmove\u001b[38;5;132;01m}\u001b[39;00m\u001b[33m – #\u001b[39m\u001b[38;5;132;01m{\u001b[39;00me\u001b[38;5;132;01m}\u001b[39;00m\u001b[33m#\u001b[39m\u001b[33m\"\u001b[39m)\n",
      "\u001b[31mKeyboardInterrupt\u001b[39m: "
     ]
    }
   ],
   "source": [
    "import csv\n",
    "from time import time\n",
    "\n",
    "from tqdm import tqdm\n",
    "HEADERS=[\n",
    "    \"Event\", \"White\", \"Black\", \"Result\", \"UTCDate\", \"UTCTime\", \"WhiteElo\", \n",
    "    \"BlackElo\", \"WhiteRatingDiff\", \"BlackRatingDiff\", \"ECO\", \"Opening\", \n",
    "    \"TimeControl\", \"Termination\", \"AN\"\n",
    "]\n",
    "\n",
    "start = 1 # To ignore headers\n",
    "total = 0\n",
    "READ_SIZE = 10_000\n",
    "RUN = True\n",
    "num_games_saved = 0\n",
    "num_batches = 1\n",
    "try:\n",
    "    with open(\"./dataset/processed/results_ELO_1900_white.csv\", \"w\") as whiteFile, open(\"./dataset/processed/results_ELO_1900_black.csv\", \"w\") as blackFile:\n",
    "        white_writer = csv.writer(whiteFile)\n",
    "        black_writer = csv.writer(blackFile)\n",
    "\n",
    "        black_num_moves_saved = white_num_moves_saved = 0\n",
    "        while RUN:\n",
    "            ti = time()\n",
    "            games_df = pd.read_csv('./dataset/raw/chess_games.csv', skiprows=start, nrows=READ_SIZE, names=HEADERS)\n",
    "\n",
    "            print(f\"Reading {num_batches}-th batch of games...\")\n",
    "            for index, game in tqdm(games_df.iterrows()):\n",
    "                board = chess.Board()\n",
    "\n",
    "                Result = game[\"Result\"]\n",
    "                WhiteElo = int(game[\"WhiteElo\"])\n",
    "                BlackElo = int(game[\"BlackElo\"])\n",
    "                TimeControl = game[\"TimeControl\"]\n",
    "                moves = pgn_to_moves(game[\"AN\"])\n",
    "\n",
    "                bitmaps = []\n",
    "                numMoves = 0\n",
    "                if not(1900 < WhiteElo) or not(1900 < BlackElo):\n",
    "                    continue\n",
    "\n",
    "                for move in moves:\n",
    "                    try: \n",
    "                        bitmap = board_to_tensor(board, board.turn)\n",
    "                        possible_moves = get_possible_moves(board)                        \n",
    "                        numMoves += 1\n",
    "                        turn = board.turn # Save the turn before playing the move\n",
    "\n",
    "                        move: chess.Move = board.push_san(move)\n",
    "                        # Skip first 8 moves (To not penalize the model for playing a move that wasnt the expected ) | Skip if game is over\n",
    "                        if numMoves < 8 or board.is_game_over():\n",
    "                            continue\n",
    "                        \n",
    "\n",
    "                        if turn == chess.WHITE:\n",
    "                            writer = white_writer\n",
    "                            white_num_moves_saved+=1\n",
    "                        else:\n",
    "                            writer = black_writer\n",
    "                            black_num_moves_saved+=1\n",
    "\n",
    "                        writer.writerow([\n",
    "                            bitmap.tolist(), # bitmaps\n",
    "                            MOVE_DICTIONARY[move.uci()[:4]], # Played move\n",
    "                            possible_moves.tolist(), # 0 for invalid 1 for valid\n",
    "                        ])\n",
    "\n",
    "                    except Exception as e:\n",
    "                        print(f\"Skipping bad game: {moves} - {move} – #{e}#\")\n",
    "                        break\n",
    "                num_games_saved+=1\n",
    "            \n",
    "            start += READ_SIZE\n",
    "            tf = time()\n",
    "            total += len(games_df)\n",
    "            num_batches += 1\n",
    "            print(f\"Read {len(games_df)} in {tf-ti} | TOTAL: {total} | num_games_saved {num_games_saved} | num_moves_saved {white_num_moves_saved:_d} - {black_num_moves_saved:_d}\")\n",
    "\n",
    "            # if 500_000 <= num_games_saved:\n",
    "            #     RUN = False\n",
    "\n",
    "except Exception as e:\n",
    "    print(e.with_traceback())"
   ]
  },
  {
   "cell_type": "code",
   "execution_count": null,
   "id": "c2c12f91",
   "metadata": {},
   "outputs": [
    {
     "name": "stdout",
     "output_type": "stream",
     "text": [
      "[134479872, 0, 0, 1, 0, 536870912, 9078117754732800, 1073741824, 0, 72057594037927936, 0, 2305843009213693952, 0]\n"
     ]
    }
   ],
   "source": [
    "import polars as pl\n",
    "df = pl.read_csv(\"./dataset/processed/results_ELO_1900_50k_whiteonly.csv\", n_rows=10, skip_rows=1000, has_header=False)\n",
    "print(df[1, 0])"
   ]
  }
 ],
 "metadata": {
  "kernelspec": {
   "display_name": ".venv",
   "language": "python",
   "name": "python3"
  },
  "language_info": {
   "codemirror_mode": {
    "name": "ipython",
    "version": 3
   },
   "file_extension": ".py",
   "mimetype": "text/x-python",
   "name": "python",
   "nbconvert_exporter": "python",
   "pygments_lexer": "ipython3",
   "version": "3.11.9"
  }
 },
 "nbformat": 4,
 "nbformat_minor": 5
}
