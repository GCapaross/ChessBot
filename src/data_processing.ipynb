{
 "cells": [
  {
   "cell_type": "markdown",
   "id": "16def7fd",
   "metadata": {},
   "source": [
    "# Data cleaning\n",
    "## Data structure\n",
    "Raw data has match info and the game PGN format (moves made in the games)\n",
    "Example:\n",
    "\n",
    "```\n",
    "                Event            White       Black Result     UTCDate   UTCTime \\\n",
    "0           Classical          eisaaaa    HAMID449    1-0  2016.06.30  22:00:01 \\\n",
    "1               Blitz           go4jas  Sergei1973    0-1  2016.06.30  22:00:01 \\\n",
    "2    Blitz tournament  Evangelistaizac      kafune    1-0  2016.06.30  22:00:02 \\\n",
    "3      Correspondence           Jvayne    Wsjvayne    1-0  2016.06.30  22:00:02 \\\n",
    "4    Blitz tournament           kyoday   BrettDale    0-1  2016.06.30  22:00:02 \\\n",
    "\n",
    "    WhiteElo  BlackElo  WhiteRatingDiff  BlackRatingDiff  ECO\n",
    "0       1901      1896             11.0            -11.0  D10\n",
    "1       1641      1627            -11.0             12.0  C20\n",
    "2       1647      1688             13.0            -13.0  B01\n",
    "3       1706      1317             27.0            -25.0  A00\n",
    "4       1945      1900            -14.0             13.0  B9 \n",
    "\n",
    "                                         Opening  TimeControl   Termination                                                     AN\n",
    "0                                    Slav Defense       300+5  Time forfeit      1. d4 d5 2. c4 c6 3. e3 a6 4. Nf3 e5 5. cxd5 e...\n",
    "1                       King's Pawn Opening: 2.b3       300+0        Normal      1. e4 e5 2. b3 Nf6 3. Bb2 Nc6 4. Nf3 d6 5. d3 ...\n",
    "2   Scandinavian Defense: Mieses-Kotroc Variation       180+0  Time forfeit      1. e4 d5 2. exd5 Qxd5 3. Nf3 Bg4 4. Be2 Nf6 5....\n",
    "3                            Van't Kruijs Opening           -        Normal      1. e3 Nf6 2. Bc4 d6 3. e4 e6 4. Nf3 Nxe4 5. Nd...\n",
    "4     Sicilian Defense: Najdorf, Lipnitsky Attack       180+0  Time forfeit      1. e4 c5 2. Nf3 d6 3. d4 cxd4 4. Nxd4 Nf6 5. N...\n",
    "```\n",
    "So a few columns of the game info and then a column called `AN` that contains the PGN of the game, so we must convert this table into gameboards\n",
    "From this data, the most important data to save is `Result`, `ELO`s, `TimeControl` and `AN`\n"
   ]
  },
  {
   "cell_type": "code",
   "execution_count": 1,
   "id": "ffe9bd2a",
   "metadata": {},
   "outputs": [],
   "source": [
    "import pandas as pd\n",
    "import chess\n",
    "import numpy as np\n",
    "\n",
    "piece_to_idx = {\n",
    "    'P': 0, 'N': 1, 'B': 2, 'R': 3, 'Q': 4, 'K': 5,\n",
    "    'p': 6, 'n': 7, 'b': 8, 'r': 9, 'q': 10, 'k': 11\n",
    "}\n",
    "\n",
    "def board_to_tensor(board: chess.Board, sideToPlay: bool):\n",
    "    tensor = np.zeros(13, dtype=np.uint64) # each board is represented in a int(8*8)-> uint64, a bit for each square\n",
    "    for square in chess.SQUARES:\n",
    "        piece = board.piece_at(square)\n",
    "        if piece:\n",
    "            idx = piece_to_idx[piece.symbol()]\n",
    "            tensor[idx] |= 1<<square # Set the bit to 1 at square for the board idx\n",
    "    tensor[12] = 1 if sideToPlay else 0\n",
    "    return tensor\n",
    "\n",
    "def get_possible_moves(board: chess.Board) -> np.ndarray[np.uint64]: # np.ndarray[np.uint64, shape=(63)]\n",
    "    array = np.zeros(shape=(64,), dtype=np.uint64) # 64*63 bits (is set to 64 just to maintain homogeneity)\n",
    "    for move in board.legal_moves:\n",
    "        move_idx = MOVE_DICTIONARY[move.uci()[:4]]\n",
    "        num_idx = move_idx // 64\n",
    "        bit_idx = move_idx % 64\n",
    "        array[num_idx] |= 1<<bit_idx\n",
    "    return array\n",
    "\n",
    "\n",
    "letters = [\"a\", \"b\", \"c\", \"d\", \"e\", \"f\", \"g\", \"h\"]\n",
    "numbers = list(range(1, 10)) # [1..9]\n",
    "MOVE_DICTIONARY = {}\n",
    "cumulative = 0\n",
    "for num_games_saved in range(8):\n",
    "    for j in range(8):\n",
    "        for k in range(8):\n",
    "            for w in range (8):\n",
    "                if (num_games_saved == k and j == w):\n",
    "                    cumulative += 1\n",
    "                    continue\n",
    "                from_square = f\"{letters[num_games_saved]}{numbers[j]}\"\n",
    "                to_square = f\"{letters[k]}{numbers[w]}\"\n",
    "                MOVE_DICTIONARY[f\"{from_square}{to_square}\"] = (num_games_saved * 8**3) + (j * 8**2) + (k * 8) + w - cumulative\n",
    "REVERSE_MOVE_DICTIONARY = {\n",
    "    value: key for key, value in MOVE_DICTIONARY.items()\n",
    "}"
   ]
  },
  {
   "cell_type": "code",
   "execution_count": 2,
   "id": "202ec7f4",
   "metadata": {},
   "outputs": [],
   "source": [
    "import re\n",
    "\n",
    "def clean_pgn(pgn_text):\n",
    "    # Remove {...} comments and [%...] evals\n",
    "    cleaned = re.sub(r'\\{[^}]*\\}', '', pgn_text)\n",
    "    cleaned = re.sub(r'\\[%[^]]*\\]', '', cleaned)\n",
    "    # cleaned = re.sub(r'[0-9]+\\.\\.\\.', '', cleaned)\n",
    "    cleaned = re.sub(r'\\?!?', '', cleaned)\n",
    "    return cleaned\n",
    "\n"
   ]
  },
  {
   "cell_type": "code",
   "execution_count": 3,
   "id": "0e8939f8",
   "metadata": {},
   "outputs": [
    {
     "name": "stdout",
     "output_type": "stream",
     "text": [
      "Reading 1-th batch of games...\n"
     ]
    },
    {
     "name": "stderr",
     "output_type": "stream",
     "text": [
      "10000it [00:07, 1362.97it/s]\n"
     ]
    },
    {
     "name": "stdout",
     "output_type": "stream",
     "text": [
      "Read 10000 in 7.405849933624268 | TOTAL: 10000 | 939\n",
      "Reading 2-th batch of games...\n"
     ]
    },
    {
     "name": "stderr",
     "output_type": "stream",
     "text": [
      "10000it [00:07, 1396.23it/s]\n"
     ]
    },
    {
     "name": "stdout",
     "output_type": "stream",
     "text": [
      "Read 10000 in 7.289352655410767 | TOTAL: 20000 | 1848\n",
      "Reading 3-th batch of games...\n"
     ]
    },
    {
     "name": "stderr",
     "output_type": "stream",
     "text": [
      "10000it [00:06, 1516.78it/s]\n"
     ]
    },
    {
     "name": "stdout",
     "output_type": "stream",
     "text": [
      "Read 10000 in 6.731014251708984 | TOTAL: 30000 | 2741\n",
      "Reading 4-th batch of games...\n"
     ]
    },
    {
     "name": "stderr",
     "output_type": "stream",
     "text": [
      "10000it [00:06, 1584.82it/s]\n"
     ]
    },
    {
     "name": "stdout",
     "output_type": "stream",
     "text": [
      "Read 10000 in 6.415791749954224 | TOTAL: 40000 | 3624\n",
      "Reading 5-th batch of games...\n"
     ]
    },
    {
     "name": "stderr",
     "output_type": "stream",
     "text": [
      "10000it [00:06, 1517.15it/s]\n"
     ]
    },
    {
     "name": "stdout",
     "output_type": "stream",
     "text": [
      "Read 10000 in 6.708066701889038 | TOTAL: 50000 | 4516\n",
      "Reading 6-th batch of games...\n"
     ]
    },
    {
     "name": "stderr",
     "output_type": "stream",
     "text": [
      "10000it [00:06, 1499.39it/s]\n"
     ]
    },
    {
     "name": "stdout",
     "output_type": "stream",
     "text": [
      "Read 10000 in 6.856912612915039 | TOTAL: 60000 | 5388\n",
      "Reading 7-th batch of games...\n"
     ]
    },
    {
     "name": "stderr",
     "output_type": "stream",
     "text": [
      "10000it [00:07, 1405.43it/s]\n"
     ]
    },
    {
     "name": "stdout",
     "output_type": "stream",
     "text": [
      "Read 10000 in 7.262658357620239 | TOTAL: 70000 | 6319\n",
      "Reading 8-th batch of games...\n"
     ]
    },
    {
     "name": "stderr",
     "output_type": "stream",
     "text": [
      "10000it [00:06, 1549.67it/s]\n"
     ]
    },
    {
     "name": "stdout",
     "output_type": "stream",
     "text": [
      "Read 10000 in 6.661570310592651 | TOTAL: 80000 | 7161\n",
      "Reading 9-th batch of games...\n"
     ]
    },
    {
     "name": "stderr",
     "output_type": "stream",
     "text": [
      "10000it [00:07, 1422.93it/s]\n"
     ]
    },
    {
     "name": "stdout",
     "output_type": "stream",
     "text": [
      "Read 10000 in 7.250102996826172 | TOTAL: 90000 | 8107\n",
      "Reading 10-th batch of games...\n"
     ]
    },
    {
     "name": "stderr",
     "output_type": "stream",
     "text": [
      "10000it [00:07, 1387.41it/s]\n"
     ]
    },
    {
     "name": "stdout",
     "output_type": "stream",
     "text": [
      "Read 10000 in 7.404059648513794 | TOTAL: 100000 | 9075\n",
      "Reading 11-th batch of games...\n"
     ]
    },
    {
     "name": "stderr",
     "output_type": "stream",
     "text": [
      "10000it [00:07, 1424.84it/s]\n"
     ]
    },
    {
     "name": "stdout",
     "output_type": "stream",
     "text": [
      "Read 10000 in 7.284004211425781 | TOTAL: 110000 | 9993\n",
      "Reading 12-th batch of games...\n"
     ]
    },
    {
     "name": "stderr",
     "output_type": "stream",
     "text": [
      "10000it [00:06, 1435.95it/s]\n"
     ]
    },
    {
     "name": "stdout",
     "output_type": "stream",
     "text": [
      "Read 10000 in 7.1792051792144775 | TOTAL: 120000 | 10921\n",
      "Reading 13-th batch of games...\n"
     ]
    },
    {
     "name": "stderr",
     "output_type": "stream",
     "text": [
      "10000it [00:06, 1611.63it/s]\n"
     ]
    },
    {
     "name": "stdout",
     "output_type": "stream",
     "text": [
      "Read 10000 in 6.488637685775757 | TOTAL: 130000 | 11745\n",
      "Reading 14-th batch of games...\n"
     ]
    },
    {
     "name": "stderr",
     "output_type": "stream",
     "text": [
      "10000it [00:06, 1571.92it/s]\n"
     ]
    },
    {
     "name": "stdout",
     "output_type": "stream",
     "text": [
      "Read 10000 in 6.657057285308838 | TOTAL: 140000 | 12613\n",
      "Reading 15-th batch of games...\n"
     ]
    },
    {
     "name": "stderr",
     "output_type": "stream",
     "text": [
      "10000it [00:06, 1538.87it/s]\n"
     ]
    },
    {
     "name": "stdout",
     "output_type": "stream",
     "text": [
      "Read 10000 in 6.765083312988281 | TOTAL: 150000 | 13429\n",
      "Reading 16-th batch of games...\n"
     ]
    },
    {
     "name": "stderr",
     "output_type": "stream",
     "text": [
      "10000it [00:06, 1557.74it/s]\n"
     ]
    },
    {
     "name": "stdout",
     "output_type": "stream",
     "text": [
      "Read 10000 in 6.703218221664429 | TOTAL: 160000 | 14259\n",
      "Reading 17-th batch of games...\n"
     ]
    },
    {
     "name": "stderr",
     "output_type": "stream",
     "text": [
      "10000it [00:06, 1452.91it/s]\n"
     ]
    },
    {
     "name": "stdout",
     "output_type": "stream",
     "text": [
      "Read 10000 in 7.213481187820435 | TOTAL: 170000 | 15178\n",
      "Reading 18-th batch of games...\n"
     ]
    },
    {
     "name": "stderr",
     "output_type": "stream",
     "text": [
      "10000it [00:06, 1468.26it/s]\n"
     ]
    },
    {
     "name": "stdout",
     "output_type": "stream",
     "text": [
      "Read 10000 in 7.105506896972656 | TOTAL: 180000 | 16106\n",
      "Reading 19-th batch of games...\n"
     ]
    },
    {
     "name": "stderr",
     "output_type": "stream",
     "text": [
      "10000it [00:06, 1485.61it/s]\n"
     ]
    },
    {
     "name": "stdout",
     "output_type": "stream",
     "text": [
      "Read 10000 in 7.091328144073486 | TOTAL: 190000 | 17012\n",
      "Reading 20-th batch of games...\n"
     ]
    },
    {
     "name": "stderr",
     "output_type": "stream",
     "text": [
      "10000it [00:07, 1364.21it/s]\n"
     ]
    },
    {
     "name": "stdout",
     "output_type": "stream",
     "text": [
      "Read 10000 in 7.71476936340332 | TOTAL: 200000 | 17972\n",
      "Reading 21-th batch of games...\n"
     ]
    },
    {
     "name": "stderr",
     "output_type": "stream",
     "text": [
      "10000it [00:07, 1425.35it/s]\n"
     ]
    },
    {
     "name": "stdout",
     "output_type": "stream",
     "text": [
      "Read 10000 in 7.355025768280029 | TOTAL: 210000 | 18886\n",
      "Reading 22-th batch of games...\n"
     ]
    },
    {
     "name": "stderr",
     "output_type": "stream",
     "text": [
      "10000it [00:07, 1366.57it/s]\n"
     ]
    },
    {
     "name": "stdout",
     "output_type": "stream",
     "text": [
      "Read 10000 in 7.727439641952515 | TOTAL: 220000 | 19843\n",
      "Reading 23-th batch of games...\n"
     ]
    },
    {
     "name": "stderr",
     "output_type": "stream",
     "text": [
      "10000it [00:06, 1500.85it/s]\n"
     ]
    },
    {
     "name": "stdout",
     "output_type": "stream",
     "text": [
      "Read 10000 in 7.029229640960693 | TOTAL: 230000 | 20724\n",
      "Reading 24-th batch of games...\n"
     ]
    },
    {
     "name": "stderr",
     "output_type": "stream",
     "text": [
      "10000it [00:06, 1521.80it/s]\n"
     ]
    },
    {
     "name": "stdout",
     "output_type": "stream",
     "text": [
      "Read 10000 in 6.954445838928223 | TOTAL: 240000 | 21577\n",
      "Reading 25-th batch of games...\n"
     ]
    },
    {
     "name": "stderr",
     "output_type": "stream",
     "text": [
      "10000it [00:06, 1526.36it/s]\n"
     ]
    },
    {
     "name": "stdout",
     "output_type": "stream",
     "text": [
      "Read 10000 in 6.94579291343689 | TOTAL: 250000 | 22433\n",
      "Reading 26-th batch of games...\n"
     ]
    },
    {
     "name": "stderr",
     "output_type": "stream",
     "text": [
      "10000it [00:06, 1515.72it/s]\n"
     ]
    },
    {
     "name": "stdout",
     "output_type": "stream",
     "text": [
      "Read 10000 in 7.062845230102539 | TOTAL: 260000 | 23305\n",
      "Reading 27-th batch of games...\n"
     ]
    },
    {
     "name": "stderr",
     "output_type": "stream",
     "text": [
      "10000it [00:06, 1575.51it/s]\n"
     ]
    },
    {
     "name": "stdout",
     "output_type": "stream",
     "text": [
      "Read 10000 in 6.811849594116211 | TOTAL: 270000 | 24142\n",
      "Reading 28-th batch of games...\n"
     ]
    },
    {
     "name": "stderr",
     "output_type": "stream",
     "text": [
      "10000it [00:06, 1508.72it/s]\n"
     ]
    },
    {
     "name": "stdout",
     "output_type": "stream",
     "text": [
      "Read 10000 in 7.083369493484497 | TOTAL: 280000 | 25027\n",
      "Reading 29-th batch of games...\n"
     ]
    },
    {
     "name": "stderr",
     "output_type": "stream",
     "text": [
      "10000it [00:06, 1575.84it/s]\n"
     ]
    },
    {
     "name": "stdout",
     "output_type": "stream",
     "text": [
      "Read 10000 in 6.846589088439941 | TOTAL: 290000 | 25868\n",
      "Reading 30-th batch of games...\n"
     ]
    },
    {
     "name": "stderr",
     "output_type": "stream",
     "text": [
      "10000it [00:06, 1507.18it/s]\n"
     ]
    },
    {
     "name": "stdout",
     "output_type": "stream",
     "text": [
      "Read 10000 in 7.0974061489105225 | TOTAL: 300000 | 26741\n",
      "Reading 31-th batch of games...\n"
     ]
    },
    {
     "name": "stderr",
     "output_type": "stream",
     "text": [
      "10000it [00:06, 1579.90it/s]\n"
     ]
    },
    {
     "name": "stdout",
     "output_type": "stream",
     "text": [
      "Read 10000 in 6.805160284042358 | TOTAL: 310000 | 27565\n",
      "Reading 32-th batch of games...\n"
     ]
    },
    {
     "name": "stderr",
     "output_type": "stream",
     "text": [
      "10000it [00:06, 1618.51it/s]\n"
     ]
    },
    {
     "name": "stdout",
     "output_type": "stream",
     "text": [
      "Read 10000 in 6.723486661911011 | TOTAL: 320000 | 28420\n",
      "Reading 33-th batch of games...\n"
     ]
    },
    {
     "name": "stderr",
     "output_type": "stream",
     "text": [
      "10000it [00:06, 1526.28it/s]\n"
     ]
    },
    {
     "name": "stdout",
     "output_type": "stream",
     "text": [
      "Read 10000 in 7.1068432331085205 | TOTAL: 330000 | 29302\n",
      "Reading 34-th batch of games...\n"
     ]
    },
    {
     "name": "stderr",
     "output_type": "stream",
     "text": [
      "10000it [00:06, 1428.68it/s]\n"
     ]
    },
    {
     "name": "stdout",
     "output_type": "stream",
     "text": [
      "Read 10000 in 7.5176591873168945 | TOTAL: 340000 | 30240\n",
      "Reading 35-th batch of games...\n"
     ]
    },
    {
     "name": "stderr",
     "output_type": "stream",
     "text": [
      "10000it [00:06, 1652.85it/s]\n"
     ]
    },
    {
     "name": "stdout",
     "output_type": "stream",
     "text": [
      "Read 10000 in 6.649463653564453 | TOTAL: 350000 | 31043\n",
      "Reading 36-th batch of games...\n"
     ]
    },
    {
     "name": "stderr",
     "output_type": "stream",
     "text": [
      "10000it [00:06, 1637.92it/s]\n"
     ]
    },
    {
     "name": "stdout",
     "output_type": "stream",
     "text": [
      "Read 10000 in 6.645040035247803 | TOTAL: 360000 | 31846\n",
      "Reading 37-th batch of games...\n"
     ]
    },
    {
     "name": "stderr",
     "output_type": "stream",
     "text": [
      "10000it [00:06, 1567.79it/s]\n"
     ]
    },
    {
     "name": "stdout",
     "output_type": "stream",
     "text": [
      "Read 10000 in 6.9322121143341064 | TOTAL: 370000 | 32687\n",
      "Reading 38-th batch of games...\n"
     ]
    },
    {
     "name": "stderr",
     "output_type": "stream",
     "text": [
      "10000it [00:06, 1578.80it/s]\n"
     ]
    },
    {
     "name": "stdout",
     "output_type": "stream",
     "text": [
      "Read 10000 in 6.950740337371826 | TOTAL: 380000 | 33522\n",
      "Reading 39-th batch of games...\n"
     ]
    },
    {
     "name": "stderr",
     "output_type": "stream",
     "text": [
      "10000it [00:06, 1624.44it/s]\n"
     ]
    },
    {
     "name": "stdout",
     "output_type": "stream",
     "text": [
      "Read 10000 in 6.7473554611206055 | TOTAL: 390000 | 34350\n",
      "Reading 40-th batch of games...\n"
     ]
    },
    {
     "name": "stderr",
     "output_type": "stream",
     "text": [
      "10000it [00:06, 1546.93it/s]\n"
     ]
    },
    {
     "name": "stdout",
     "output_type": "stream",
     "text": [
      "Read 10000 in 7.111943960189819 | TOTAL: 400000 | 35176\n",
      "Reading 41-th batch of games...\n"
     ]
    },
    {
     "name": "stderr",
     "output_type": "stream",
     "text": [
      "10000it [00:06, 1544.79it/s]\n"
     ]
    },
    {
     "name": "stdout",
     "output_type": "stream",
     "text": [
      "Read 10000 in 7.134520530700684 | TOTAL: 410000 | 36026\n",
      "Reading 42-th batch of games...\n"
     ]
    },
    {
     "name": "stderr",
     "output_type": "stream",
     "text": [
      "10000it [00:06, 1434.21it/s]\n"
     ]
    },
    {
     "name": "stdout",
     "output_type": "stream",
     "text": [
      "Read 10000 in 7.612217664718628 | TOTAL: 420000 | 36971\n",
      "Reading 43-th batch of games...\n"
     ]
    },
    {
     "name": "stderr",
     "output_type": "stream",
     "text": [
      "10000it [00:06, 1433.57it/s]\n"
     ]
    },
    {
     "name": "stdout",
     "output_type": "stream",
     "text": [
      "Read 10000 in 7.674192428588867 | TOTAL: 430000 | 37883\n",
      "Reading 44-th batch of games...\n"
     ]
    },
    {
     "name": "stderr",
     "output_type": "stream",
     "text": [
      "10000it [00:06, 1527.43it/s]\n"
     ]
    },
    {
     "name": "stdout",
     "output_type": "stream",
     "text": [
      "Read 10000 in 7.208237886428833 | TOTAL: 440000 | 38737\n",
      "Reading 45-th batch of games...\n"
     ]
    },
    {
     "name": "stderr",
     "output_type": "stream",
     "text": [
      "10000it [00:06, 1489.24it/s]\n"
     ]
    },
    {
     "name": "stdout",
     "output_type": "stream",
     "text": [
      "Read 10000 in 7.421570062637329 | TOTAL: 450000 | 39622\n",
      "Reading 46-th batch of games...\n"
     ]
    },
    {
     "name": "stderr",
     "output_type": "stream",
     "text": [
      "10000it [00:06, 1557.26it/s]\n"
     ]
    },
    {
     "name": "stdout",
     "output_type": "stream",
     "text": [
      "Read 10000 in 7.102651834487915 | TOTAL: 460000 | 40451\n",
      "Reading 47-th batch of games...\n"
     ]
    },
    {
     "name": "stderr",
     "output_type": "stream",
     "text": [
      "10000it [00:06, 1439.71it/s]\n"
     ]
    },
    {
     "name": "stdout",
     "output_type": "stream",
     "text": [
      "Read 10000 in 7.628398180007935 | TOTAL: 470000 | 41365\n",
      "Reading 48-th batch of games...\n"
     ]
    },
    {
     "name": "stderr",
     "output_type": "stream",
     "text": [
      "10000it [00:06, 1458.90it/s]\n"
     ]
    },
    {
     "name": "stdout",
     "output_type": "stream",
     "text": [
      "Read 10000 in 7.563016414642334 | TOTAL: 480000 | 42273\n",
      "Reading 49-th batch of games...\n"
     ]
    },
    {
     "name": "stderr",
     "output_type": "stream",
     "text": [
      "10000it [00:07, 1337.30it/s]\n"
     ]
    },
    {
     "name": "stdout",
     "output_type": "stream",
     "text": [
      "Read 10000 in 8.180900812149048 | TOTAL: 490000 | 43262\n",
      "Reading 50-th batch of games...\n"
     ]
    },
    {
     "name": "stderr",
     "output_type": "stream",
     "text": [
      "10000it [00:06, 1463.57it/s]\n"
     ]
    },
    {
     "name": "stdout",
     "output_type": "stream",
     "text": [
      "Read 10000 in 7.619828701019287 | TOTAL: 500000 | 44151\n",
      "Reading 51-th batch of games...\n"
     ]
    },
    {
     "name": "stderr",
     "output_type": "stream",
     "text": [
      "10000it [00:06, 1446.43it/s]\n"
     ]
    },
    {
     "name": "stdout",
     "output_type": "stream",
     "text": [
      "Read 10000 in 7.654730558395386 | TOTAL: 510000 | 45050\n",
      "Reading 52-th batch of games...\n"
     ]
    },
    {
     "name": "stderr",
     "output_type": "stream",
     "text": [
      "10000it [00:06, 1591.64it/s]\n"
     ]
    },
    {
     "name": "stdout",
     "output_type": "stream",
     "text": [
      "Read 10000 in 7.0974085330963135 | TOTAL: 520000 | 45839\n",
      "Reading 53-th batch of games...\n"
     ]
    },
    {
     "name": "stderr",
     "output_type": "stream",
     "text": [
      "10000it [00:06, 1459.92it/s]\n"
     ]
    },
    {
     "name": "stdout",
     "output_type": "stream",
     "text": [
      "Read 10000 in 7.615213394165039 | TOTAL: 530000 | 46700\n",
      "Reading 54-th batch of games...\n"
     ]
    },
    {
     "name": "stderr",
     "output_type": "stream",
     "text": [
      "10000it [00:06, 1534.78it/s]\n"
     ]
    },
    {
     "name": "stdout",
     "output_type": "stream",
     "text": [
      "Read 10000 in 7.352936744689941 | TOTAL: 540000 | 47572\n",
      "Reading 55-th batch of games...\n"
     ]
    },
    {
     "name": "stderr",
     "output_type": "stream",
     "text": [
      "10000it [00:06, 1532.61it/s]\n"
     ]
    },
    {
     "name": "stdout",
     "output_type": "stream",
     "text": [
      "Read 10000 in 7.327844619750977 | TOTAL: 550000 | 48436\n",
      "Reading 56-th batch of games...\n"
     ]
    },
    {
     "name": "stderr",
     "output_type": "stream",
     "text": [
      "10000it [00:06, 1453.80it/s]\n"
     ]
    },
    {
     "name": "stdout",
     "output_type": "stream",
     "text": [
      "Read 10000 in 7.752438068389893 | TOTAL: 560000 | 49339\n",
      "Reading 57-th batch of games...\n"
     ]
    },
    {
     "name": "stderr",
     "output_type": "stream",
     "text": [
      "10000it [00:06, 1563.31it/s]\n"
     ]
    },
    {
     "name": "stdout",
     "output_type": "stream",
     "text": [
      "Read 10000 in 7.225982427597046 | TOTAL: 570000 | 50156\n",
      "Reading 58-th batch of games...\n"
     ]
    },
    {
     "name": "stderr",
     "output_type": "stream",
     "text": [
      "10000it [00:06, 1629.36it/s]\n"
     ]
    },
    {
     "name": "stdout",
     "output_type": "stream",
     "text": [
      "Read 10000 in 7.024374485015869 | TOTAL: 580000 | 50959\n",
      "Reading 59-th batch of games...\n"
     ]
    },
    {
     "name": "stderr",
     "output_type": "stream",
     "text": [
      "10000it [00:07, 1413.30it/s]\n"
     ]
    },
    {
     "name": "stdout",
     "output_type": "stream",
     "text": [
      "Read 10000 in 7.979081392288208 | TOTAL: 590000 | 51852\n",
      "Reading 60-th batch of games...\n"
     ]
    },
    {
     "name": "stderr",
     "output_type": "stream",
     "text": [
      "10000it [00:07, 1420.73it/s]\n"
     ]
    },
    {
     "name": "stdout",
     "output_type": "stream",
     "text": [
      "Read 10000 in 7.944817543029785 | TOTAL: 600000 | 52835\n",
      "Reading 61-th batch of games...\n"
     ]
    },
    {
     "name": "stderr",
     "output_type": "stream",
     "text": [
      "10000it [00:06, 1608.53it/s]\n"
     ]
    },
    {
     "name": "stdout",
     "output_type": "stream",
     "text": [
      "Read 10000 in 7.103219509124756 | TOTAL: 610000 | 53645\n",
      "Reading 62-th batch of games...\n"
     ]
    },
    {
     "name": "stderr",
     "output_type": "stream",
     "text": [
      "10000it [00:06, 1500.36it/s]\n"
     ]
    },
    {
     "name": "stdout",
     "output_type": "stream",
     "text": [
      "Read 10000 in 7.553091526031494 | TOTAL: 620000 | 54522\n",
      "Reading 63-th batch of games...\n"
     ]
    },
    {
     "name": "stderr",
     "output_type": "stream",
     "text": [
      "10000it [00:07, 1424.40it/s]\n"
     ]
    },
    {
     "name": "stdout",
     "output_type": "stream",
     "text": [
      "Read 10000 in 7.974748373031616 | TOTAL: 630000 | 55508\n",
      "Reading 64-th batch of games...\n"
     ]
    },
    {
     "name": "stderr",
     "output_type": "stream",
     "text": [
      "10000it [00:06, 1509.84it/s]\n"
     ]
    },
    {
     "name": "stdout",
     "output_type": "stream",
     "text": [
      "Read 10000 in 7.556646347045898 | TOTAL: 640000 | 56412\n",
      "Reading 65-th batch of games...\n"
     ]
    },
    {
     "name": "stderr",
     "output_type": "stream",
     "text": [
      "6316it [00:03, 1628.99it/s]"
     ]
    },
    {
     "name": "stdout",
     "output_type": "stream",
     "text": [
      "Skipping bad move: ['d4', 'd5', 'Bf4', 'Nc6', 'h3', 'Nf6', 'e3', 'Nh5', 'Bh2', 'g6', 'c4', 'Be6', 'cxd5', 'Bxd5', 'Nf3', 'Bg7', 'Nc3', 'O-O', 'Nxd5', 'Qxd5', 'Be2', 'e5', 'dxe5', 'Qxd1+', 'Rxd1', 'Rfd8', 'b3', 'Rxd1+', 'Bxd1', 'Nb4', 'a3', 'Nd3+', 'Kf1', 'Rd8', 'Be2', 'Nc1', 'g4', 'Bxe5', 'Bxe5', 'Ng7', 'b4', 'Rd2', 'Nd4', 'Ne6', 'Bf3', 'Ng5', 'Kg2', 'Nd3', 'Bg3', 'h5', 'Bxb7', 'f5', 'gxf5', 'gxf5', 'Nxf5', 'Ne6', 'Bd5', 'Kf7', 'Nd4', 'c5', 'Nxe6', 'cxb4', 'Nc5+', 'Kf6', 'Nxd3', 'Rxd3', 'Bc4', 'Rxa3', 'Bd6', 'Rc3', 'Be2', 'b3', 'Rb1', 'b2', 'Rxb2', 'Rc6', 'Ba3', 'a5', 'Rb5', 'a4', 'Ra5', 'Rc4', 'Bxc4', '*'] - * – #invalid san: '*'#\n",
      "Skipping bad move: ['e4', 'g6', 'Bc4', 'Bg7', 'c3', 'c6', 'd4', 'Qb6', 'Bb3', 'e6', 'e5', 'a5', 'a4', 'c5', 'Na3', 'cxd4', 'Nc4', 'Qc5', 'cxd4', 'Qb4+', 'Bd2', 'Qe7', 'Nd6+', 'Kd8', 'Nf3', 'f6', 'O-O', 'fxe5', 'dxe5', 'Nh6', 'Nxc8', 'Kxc8', 'Rc1+', 'Nc6', 'Nd4', 'Bxe5', 'Nxc6', 'dxc6', 'Bxh6', 'Rd8', 'Qg4', 'Bxb2', 'Rc2', 'Be5', 'Bxe6+', 'Kb8', 'Bg5', 'Bf6', 'Bxf6', 'Qxf6', 'Rfc1', 'Rd6', 'Ba2', 'Ka7', 'h3', 'Rad8', 'Qc4', 'Qe5', 'Rf1', 'Rd1', 'Rc1', 'R1d4', 'Qc3', 'R8d5', 'Bxd5', 'Qxd5', 'Rcd1', 'Rxd1', 'Rxd1', 'Qxd1+', 'Kh2', 'Qxa4', 'Qe3+', 'b6', 'Qe7+', 'Ka6', 'Qxh7', 'Qf4+', 'Kg1', 'Qc1+', 'Kh2', 'Qc2', 'f3', 'a4', 'Qe7', 'a3', 'Qxa3+', 'Kb7', 'Qe7+', 'Ka6', 'Qe8', 'b5', 'Qc8+', 'Ka5', 'Qa8+', 'Kb4', 'Qf8+', 'Kc4', 'Qf7+', 'Kb4', 'Qf4+', 'Ka5', 'Qc7+', 'Kb4', 'Qd6+', 'Kb3', 'Qe6+', 'Kb2', 'Qe5+', 'Kb1', 'h4', 'c5', 'Qb8', 'b4', 'Qf4', 'c4', 'h5', 'gxh5', 'Qe4', 'Qxe4', 'fxe4', 'c3', 'e5', 'c2', 'e6', 'c1=Q', 'e7', 'Qf4+', 'g3', 'Qe5', '*'] - * – #invalid san: '*'#\n",
      "Skipping bad move: ['c4', 'e5', 'Nc3', 'Bb4', 'e3', 'Bxc3', 'dxc3', 'd6', 'Be2', 'Nf6', 'b4', 'Be6', 'Ba3', 'a6', 'Qc2', 'Nc6', 'O-O-O', 'Qe7', 'Nf3', 'O-O', 'h4', 'Rad8', 'h5', 'd5', 'Qb3', 'dxc4', 'Bxc4', 'Bxc4', 'Qxc4', 'Rxd1+', 'Rxd1', 'Rd8', 'Rxd8+', 'Qxd8', 'b5', 'axb5', 'Qxb5', 'Nxh5', 'Nxe5', '*'] - * – #invalid san: '*'#\n",
      "Skipping bad move: ['e4', 'e5', 'Nf3', 'd6', 'd4', 'exd4', 'Qxd4', 'Nc6', 'Qe3', 'Nf6', 'Nc3', 'Be7', 'Nd5', 'Nxd5', 'exd5', 'Ne5', 'Nxe5', 'dxe5', 'Qxe5', 'O-O', 'Be3', 'Bd6', 'Qh5', 'Re8', 'O-O-O', 'c6', 'dxc6', 'bxc6', 'Bf4', 'Bxf4+', 'Kb1', 'Qg5', 'Qf3', 'Bb7', 'Bd3', 'Re7', 'Qh3', 'h6', 'g3', 'Be5', 'f4', 'Bxf4', 'gxf4', 'Qxf4', 'Rhf1', 'Qe5', 'Rg1', 'c5', 'Qg4', 'Bd5', 'Qxg7+', 'Qxg7', 'Rxg7+', 'Kxg7', 'Rg1+', 'Kh8', 'b3', 'Rae8', 'Kb2', 'Re1', 'Rg4', 'Rg8', 'Rh4', 'Rg5', 'Rxh6+', 'Kg7', 'Rh7+', 'Kf8', 'Rh8+', 'Ke7', 'Ra8', 'Bxa8', 'Kc3', 'Rge5', 'Kc4', 'Bd5+', 'Kxc5', 'Be4+', 'Kd4', 'Bxd3', '*'] - * – #invalid san: '*'#\n"
     ]
    },
    {
     "name": "stderr",
     "output_type": "stream",
     "text": [
      "10000it [00:06, 1564.52it/s]\n"
     ]
    },
    {
     "name": "stdout",
     "output_type": "stream",
     "text": [
      "Read 10000 in 7.329953908920288 | TOTAL: 650000 | 57249\n",
      "Reading 66-th batch of games...\n"
     ]
    },
    {
     "name": "stderr",
     "output_type": "stream",
     "text": [
      "10000it [00:06, 1563.06it/s]\n"
     ]
    },
    {
     "name": "stdout",
     "output_type": "stream",
     "text": [
      "Read 10000 in 7.377278566360474 | TOTAL: 660000 | 58093\n",
      "Reading 67-th batch of games...\n"
     ]
    },
    {
     "name": "stderr",
     "output_type": "stream",
     "text": [
      "10000it [00:06, 1451.66it/s]\n"
     ]
    },
    {
     "name": "stdout",
     "output_type": "stream",
     "text": [
      "Read 10000 in 7.89897346496582 | TOTAL: 670000 | 59003\n",
      "Reading 68-th batch of games...\n"
     ]
    },
    {
     "name": "stderr",
     "output_type": "stream",
     "text": [
      "10000it [00:06, 1452.96it/s]\n"
     ]
    },
    {
     "name": "stdout",
     "output_type": "stream",
     "text": [
      "Read 10000 in 7.869017839431763 | TOTAL: 680000 | 59870\n",
      "Reading 69-th batch of games...\n"
     ]
    },
    {
     "name": "stderr",
     "output_type": "stream",
     "text": [
      "10000it [00:06, 1446.41it/s]\n"
     ]
    },
    {
     "name": "stdout",
     "output_type": "stream",
     "text": [
      "Read 10000 in 7.957465648651123 | TOTAL: 690000 | 60729\n",
      "Reading 70-th batch of games...\n"
     ]
    },
    {
     "name": "stderr",
     "output_type": "stream",
     "text": [
      "10000it [00:06, 1498.27it/s]\n"
     ]
    },
    {
     "name": "stdout",
     "output_type": "stream",
     "text": [
      "Read 10000 in 7.699266195297241 | TOTAL: 700000 | 61554\n",
      "Reading 71-th batch of games...\n"
     ]
    },
    {
     "name": "stderr",
     "output_type": "stream",
     "text": [
      "10000it [00:07, 1331.08it/s]\n"
     ]
    },
    {
     "name": "stdout",
     "output_type": "stream",
     "text": [
      "Read 10000 in 8.547797918319702 | TOTAL: 710000 | 62515\n",
      "Reading 72-th batch of games...\n"
     ]
    },
    {
     "name": "stderr",
     "output_type": "stream",
     "text": [
      "10000it [00:06, 1493.32it/s]\n"
     ]
    },
    {
     "name": "stdout",
     "output_type": "stream",
     "text": [
      "Read 10000 in 7.78605055809021 | TOTAL: 720000 | 63422\n",
      "Reading 73-th batch of games...\n"
     ]
    },
    {
     "name": "stderr",
     "output_type": "stream",
     "text": [
      "10000it [00:07, 1420.84it/s]\n"
     ]
    },
    {
     "name": "stdout",
     "output_type": "stream",
     "text": [
      "Read 10000 in 8.07955026626587 | TOTAL: 730000 | 64327\n",
      "Reading 74-th batch of games...\n"
     ]
    },
    {
     "name": "stderr",
     "output_type": "stream",
     "text": [
      "10000it [00:06, 1460.81it/s]\n"
     ]
    },
    {
     "name": "stdout",
     "output_type": "stream",
     "text": [
      "Read 10000 in 7.946261167526245 | TOTAL: 740000 | 65221\n",
      "Reading 75-th batch of games...\n"
     ]
    },
    {
     "name": "stderr",
     "output_type": "stream",
     "text": [
      "10000it [00:06, 1551.10it/s]\n"
     ]
    },
    {
     "name": "stdout",
     "output_type": "stream",
     "text": [
      "Read 10000 in 7.531080007553101 | TOTAL: 750000 | 66043\n",
      "Reading 76-th batch of games...\n"
     ]
    },
    {
     "name": "stderr",
     "output_type": "stream",
     "text": [
      "10000it [00:07, 1359.39it/s]\n"
     ]
    },
    {
     "name": "stdout",
     "output_type": "stream",
     "text": [
      "Read 10000 in 8.430448770523071 | TOTAL: 760000 | 66992\n",
      "Reading 77-th batch of games...\n"
     ]
    },
    {
     "name": "stderr",
     "output_type": "stream",
     "text": [
      "10000it [00:06, 1433.66it/s]\n"
     ]
    },
    {
     "name": "stdout",
     "output_type": "stream",
     "text": [
      "Read 10000 in 8.079583406448364 | TOTAL: 770000 | 67904\n",
      "Reading 78-th batch of games...\n"
     ]
    },
    {
     "name": "stderr",
     "output_type": "stream",
     "text": [
      "10000it [00:06, 1607.84it/s]\n"
     ]
    },
    {
     "name": "stdout",
     "output_type": "stream",
     "text": [
      "Read 10000 in 7.376001596450806 | TOTAL: 780000 | 68713\n",
      "Reading 79-th batch of games...\n"
     ]
    },
    {
     "name": "stderr",
     "output_type": "stream",
     "text": [
      "10000it [00:06, 1598.34it/s]\n"
     ]
    },
    {
     "name": "stdout",
     "output_type": "stream",
     "text": [
      "Read 10000 in 7.3735411167144775 | TOTAL: 790000 | 69500\n",
      "Reading 80-th batch of games...\n"
     ]
    },
    {
     "name": "stderr",
     "output_type": "stream",
     "text": [
      "10000it [00:06, 1517.26it/s]\n"
     ]
    },
    {
     "name": "stdout",
     "output_type": "stream",
     "text": [
      "Read 10000 in 7.740766763687134 | TOTAL: 800000 | 70348\n",
      "Reading 81-th batch of games...\n"
     ]
    },
    {
     "name": "stderr",
     "output_type": "stream",
     "text": [
      "10000it [00:06, 1443.57it/s]\n"
     ]
    },
    {
     "name": "stdout",
     "output_type": "stream",
     "text": [
      "Read 10000 in 8.126491785049438 | TOTAL: 810000 | 71236\n",
      "Reading 82-th batch of games...\n"
     ]
    },
    {
     "name": "stderr",
     "output_type": "stream",
     "text": [
      "10000it [00:06, 1433.61it/s]\n"
     ]
    },
    {
     "name": "stdout",
     "output_type": "stream",
     "text": [
      "Read 10000 in 8.195820331573486 | TOTAL: 820000 | 72165\n",
      "Reading 83-th batch of games...\n"
     ]
    },
    {
     "name": "stderr",
     "output_type": "stream",
     "text": [
      "10000it [00:07, 1406.25it/s]\n"
     ]
    },
    {
     "name": "stdout",
     "output_type": "stream",
     "text": [
      "Read 10000 in 8.321399927139282 | TOTAL: 830000 | 73092\n",
      "Reading 84-th batch of games...\n"
     ]
    },
    {
     "name": "stderr",
     "output_type": "stream",
     "text": [
      "10000it [00:06, 1474.50it/s]\n"
     ]
    },
    {
     "name": "stdout",
     "output_type": "stream",
     "text": [
      "Read 10000 in 8.045229434967041 | TOTAL: 840000 | 73986\n",
      "Reading 85-th batch of games...\n"
     ]
    },
    {
     "name": "stderr",
     "output_type": "stream",
     "text": [
      "7904it [00:05, 1441.20it/s]"
     ]
    },
    {
     "name": "stdout",
     "output_type": "stream",
     "text": [
      "Skipping bad move: ['e4', 'd5', 'Nc3', 'd4', 'Na4', 'Bd7', 'c3', 'Bb5', 'Bxb5+', 'c6', 'Be2', 'd3', 'Bf3', 'Nf6', 'Nc5', 'e5', 'Qb3', 'Bxc5', 'c4', 'b6', 'Nh3', 'Qd4', 'O-O', 'O-O', 'Qd1', 'Qxc4', 'b3', 'Qd4', 'Ba3', 'Bxa3', 'Ng5', 'a5', 'Bg4', 'a4', 'Bf5', 'g6', 'Bh3', 'Nxe4', 'Nf3', 'Qd6', 'Nh4', 'axb3', 'Qxb3', 'Nxd2', 'Qc3', 'Nxf1', 'Rxf1', 'Bc5', 'Nf3', 'Rxa2', 'Nxe5', 'Re8', 'Nxd3', 'Ra3', 'Qc4', 'Rxd3', 'Bg4', 'b5', 'Qa2', 'Rd2', 'Qb1', 'Re4', 'Bf3', 'Rb4', 'Qa1', 'Bd4', 'Qc1', 'Rc4', 'Qb1', 'Rb4', 'Qc1', 'Bb2', 'Qb1', '*'] - * – #invalid san: '*'#\n",
      "Skipping bad move: ['e4', 'e5', 'd3', 'd6', 'Nc3', 'h6', 'Be2', 'Nf6', 'f4', 'h5', 'f5', 'd5', 'Bg5', 'd4', 'Bxf6', 'Qxf6', 'Nd5', 'Qd6', 'Nf3', 'f6', 'Qd2', 'c6', 'Nxf6+', 'gxf6', 'O-O-O', 'Na6', 'h3', 'Bd7', 'g4', 'hxg4', 'hxg4', 'Rxh1', 'Rxh1', 'O-O-O', 'g5', 'fxg5', 'Nxg5', 'Be7', 'Nf7', 'Qf6', 'Nxd8', 'Bxd8', 'Kb1', 'Bb6', 'Rh6', 'Qg7', 'f6', 'Qf7', 'Bh5', 'Qe6', 'Rh8+', 'Bd8', 'f7', 'Kc7', 'f8=Q', 'Be7', 'Bf7', 'Qd6', 'Qfh6', 'Bf6', 'Be8', 'Bxe8', 'Rxe8', 'Nb4', 'Qh7+', 'Kb6', 'a3', 'Na6', 'Qf5', 'Nc7', 'Rf8', 'Be7', 'Rf7', 'Nb5', 'Qdf2', 'Nc3+', 'bxc3', 'Qxa3', 'Rxe7', 'Qxe7', 'Q2f3', 'dxc3', 'Qf6', 'Qb4+', '*'] - * – #invalid san: '*'#\n"
     ]
    },
    {
     "name": "stderr",
     "output_type": "stream",
     "text": [
      "8334it [00:05, 1344.50it/s]"
     ]
    },
    {
     "name": "stdout",
     "output_type": "stream",
     "text": [
      "Skipping bad move: ['e4', 'Nc6', 'd4', 'd5', 'e5', 'Bf5', 'a3', 'e6', 'Nf3', 'h6', 'Be3', 'a6', 'Be2', 'Nge7', 'O-O', 'Bh7', 'Nbd2', 'Nf5', 'c4', 'Nxe3', 'fxe3', 'dxc4', 'Nxc4', 'Be7', 'Bd3', 'Bxd3', 'Qxd3', 'O-O', 'Nfd2', 'b5', 'Qe4', 'bxc4', 'Qxc6', 'Rb8', 'Nxc4', 'Rb3', 'Rfc1', 'Qb8', 'Rc3', 'Rxc3', 'bxc3', 'Qb3', 'Qxc7', 'Qxc3', 'Rf1', 'Bg5', 'Qc5', 'Bxe3+', 'Nxe3', 'Qxe3+', 'Kh1', 'Qxa3', '*'] - * – #invalid san: '*'#\n",
      "Skipping bad move: ['e3', 'g6', 'd3', 'Bg7', 'd4', 'd6', 'Nc3', 'Nd7', 'Nf3', 'Ngf6', 'Bd3', 'O-O', 'Bd2', 'c6', 'O-O', 'Qc7', 'Qe2', 'b6', 'Ng5', 'Bb7', 'Qf3', 'c5', 'Qh3', 'cxd4', 'e4', 'dxc3', 'Bxc3', 'Ne5', 'Bd2', 'Bc8', 'f3', 'Bxh3', 'gxh3', 'Nxd3', 'Rf2', 'Nh5', 'Rg2', 'Bd4+', 'Kh1', 'Nf2+', 'Kg1', 'Nxh3+', 'Kf1', 'N5f4', 'Rg3', 'Ne2', 'Kxe2', 'Nxg5', 'Rxg5', 'Qxc2', 'Rd1', 'Bxb2', 'Rg2', 'Bc3', '*'] - * – #invalid san: '*'#\n"
     ]
    },
    {
     "name": "stderr",
     "output_type": "stream",
     "text": [
      "9589it [00:06, 1482.18it/s]"
     ]
    },
    {
     "name": "stdout",
     "output_type": "stream",
     "text": [
      "Skipping bad move: ['e4', 'e5', 'Nf3', 'Nc6', 'Bc4', 'h6', 'c3', 'a6', 'd4', 'Bd6', 'd5', 'Nce7', 'h3', 'Nf6', 'Nbd2', 'b5', 'Bd3', 'O-O', 'g4', 'c5', 'c4', 'g5', 'Rg1', 'b4', 'h4', 'Ng6', 'hxg5', 'hxg5', 'Nxg5', 'Nf4', 'Ndf3', 'Ng6', 'Nh4', 'Nxh4', 'Rh1', 'Ng2+', 'Kf1', 'Nf4', 'Bxf4', 'exf4', 'Qf3', 'Re8', 'Qh3', 'Kf8', 'Qh8+', 'Ke7', 'Qg7', 'Rf8', 'Re1', 'Be5', '*'] - * – #invalid san: '*'#\n"
     ]
    },
    {
     "name": "stderr",
     "output_type": "stream",
     "text": [
      "10000it [00:06, 1464.52it/s]\n"
     ]
    },
    {
     "name": "stdout",
     "output_type": "stream",
     "text": [
      "Read 10000 in 8.065496444702148 | TOTAL: 850000 | 74873\n",
      "Reading 86-th batch of games...\n"
     ]
    },
    {
     "name": "stderr",
     "output_type": "stream",
     "text": [
      "175it [00:00, 1692.50it/s]"
     ]
    },
    {
     "name": "stdout",
     "output_type": "stream",
     "text": [
      "Skipping bad move: ['e4', 'e6', 'd4', 'c5', 'd5', 'e5', 'c4', 'Nf6', 'Nc3', 'Qa5', 'Bd2', 'Qb4', 'Qc2', 'Na6', 'Na4', 'Nxe4', 'Bxb4', 'Nxb4', 'Qxe4', 'd6', 'a3', 'f5', 'Qe2', 'a5', 'axb4', 'axb4', 'b3', 'Bd7', 'f4', 'e4', 'g3', 'g6', '*'] - * – #invalid san: '*'#\n",
      "Skipping bad move: ['e4', 'e5', 'Nf3', 'Qf6', 'Bc4', 'h6', 'O-O', 'g5', 'g4', 'h5', 'd3', 'hxg4', 'Bxg5', 'Qf5', 'exf5', 'gxf3', 'Qxf3', 'c6', 'f6', 'Bc5', 'Re1', 'd6', 'c3', 'b5', 'd4', 'bxc4', 'dxc5', 'd5', 'Rxe5+', 'Be6', 'b3', 'Nd7', 'Re2', 'Rh3', 'Qg2', 'Rh8', 'bxc4', 'Kd8', 'cxd5', 'Bxd5', 'Qg3', 'Nxc5', 'Qd6+', 'Nd7', 'c4', 'Bf3', 'Re3', 'Bg4', 'Qxc6', 'Rc8', 'Qd6', 'Rh5', 'Re5', 'Rxc4', 'Na3', 'Rc8', 'Rae1', '*'] - * – #invalid san: '*'#\n",
      "Skipping bad move: ['c4', 'e5', 'Qc2', 'Nf6', 'Nc3', 'd6', 'e3', 'Bg4', 'Nge2', 'Nbd7', 'Ng3', 'Be7', 'Bd3', 'O-O', 'f3', 'Be6', 'b4', 'g6', 'Bb2', 'a6', 'a3', 'd5', 'cxd5', 'Nxd5', 'O-O', 'Bd6', 'Na4', 'f5', 'Nc5', 'Bxc5', 'bxc5', 'c6', 'Be2', 'Re8', 'Rfd1', 'Qe7', 'Rac1', 'f4', 'exf4', 'exf4', 'Ne4', 'Bf5', 'd3', 'Ne3', 'Qb3+', 'Kf8', 'Rd2', 'Bxe4', 'dxe4', 'Nxc5', 'Qc3', 'Ne6', 'Qh8+', 'Kf7', 'Qxh7+', 'Kf8', 'Qxg6', 'Qf7', 'Qh6+', 'Ke7', '*'] - * – #invalid san: '*'#\n"
     ]
    },
    {
     "name": "stderr",
     "output_type": "stream",
     "text": [
      "345it [00:00, 1584.65it/s]"
     ]
    },
    {
     "name": "stdout",
     "output_type": "stream",
     "text": [
      "Skipping bad move: ['e4', 'c5', 'c3', 'a6', 'd4', 'cxd4', 'cxd4', 'e6', 'Nc3', 'Nf6', 'Be3', 'Bb4', 'f3', 'Qa5', 'Qc2', 'O-O', 'Ne2', 'Bxc3+', 'Nxc3', 'Qh5', 'Be2', 'Qg6', 'O-O', 'd5', 'Bd3', 'e5', 'exd5', 'Qh5', 'Rae1', 'Re8', 'Be2', 'Bf5', 'Ne4', 'Nbd7', 'f4', 'Bg4', 'dxe5', 'Bxe2', 'Qxe2', 'Qxe2', 'Rxe2', 'Nxd5', 'Bd4', 'Rac8', 'Nd6', '*'] - * – #invalid san: '*'#\n"
     ]
    },
    {
     "name": "stderr",
     "output_type": "stream",
     "text": [
      "549it [00:00, 1750.37it/s]"
     ]
    },
    {
     "name": "stdout",
     "output_type": "stream",
     "text": [
      "Skipping bad move: ['e4', 'd5', 'e5', 'd4', 'Nf3', 'Bf5', 'Bd3', 'e6', 'Bxf5', 'exf5', 'O-O', 'Nc6', 'd3', 'Bc5', 'Re1', 'Qd5', 'Bg5', 'Be7', 'c4', 'dxc3', 'Bxe7', 'Ncxe7', 'Nxc3', 'Qe6', 'd4', 'Nh6', 'Ng5', 'Qg6', 'h4', 'O-O-O', 'e6', 'Nd5', 'Nxd5', 'Rxd5', 'exf7', 'Nxf7', 'Nxf7', 'Qxf7', 'Re5', 'Rdd8', 'Qd3', 'g6', 'Rae1', 'Qxa2', 'd5', 'Qxb2', 'd6', 'Rxd6', 'Re8+', 'Rxe8', 'Rxe8+', 'Kd7', 'Qe3', 'Qf6', 'Rh8', 'Rd1+', 'Kh2', 'Qxh4+', 'Qh3', 'Qf4+', 'Qg3', 'Qh6+', 'Qh3', 'Qg7', 'Rxh7', '*'] - * – #invalid san: '*'#\n",
      "Skipping bad move: ['e4', 'e5', 'Bc4', 'Nf6', 'd3', 'd5', 'exd5', 'Be7', 'Nf3', 'c6', 'dxc6', 'Nxc6', 'h3', 'O-O', 'O-O', 'Bf5', 'Nc3', 'e4', 'Nh4', 'Qa5', 'dxe4', 'Nxe4', 'Nxf5', 'Qxf5', 'Bd3', 'Rad8', '*'] - * – #invalid san: '*'#\n",
      "Skipping bad move: ['e4', 'e6', 'd4', 'd5', 'exd5', 'Qxd5', 'Nc3', 'Qf5', 'Bd3', 'Qf6', 'Nf3', 'h6', 'O-O', 'Nc6', 'd5', 'Nd4', 'Nxd4', 'Qxd4', 'Be3', 'Qb4', 'dxe6', 'Bxe6', 'a3', '*'] - * – #invalid san: '*'#\n",
      "Skipping bad move: ['e4', 'c5', 'd4', 'cxd4', 'c3', 'dxc3', 'Bc4', 'e6', 'Qc2', 'd6', 'Nxc3', 'Nf6', 'Nge2', 'Be7', 'O-O', 'a6', 'a3', 'b5', 'Bb3', 'O-O', 'Ng3', 'Nc6', 'Rd1', 'e5', 'Nd5', 'Nd4', 'Qc3', 'Nxb3', 'Qxb3', 'Be6', 'Qe3', 'Nxd5', 'exd5', 'Bd7', 'Ne4', 'h6', 'Qf3', 'Rc8', 'Qg3', 'Kh8', 'Qe3', 'Bf5', 'Bd2', 'Bxe4', 'Qxe4', 'Bg5', 'Bb4', 'Rc4', 'Qf3', 'f6', 'Qf5', 'a5', 'Bc3', 'a4', 'Bb4', 'Rf4', 'Qe6', '*'] - * – #invalid san: '*'#\n",
      "Skipping bad move: ['e4', 'e5', 'Nf3', 'Nc6', 'Bb5', 'Qf6', 'd3', 'a6', 'Bxc6', 'Qxc6', 'Nxe5', 'Qe6', 'Bf4', 'd6', 'Ng4', 'Qg6', 'O-O', 'Bxg4', 'f3', 'Be6', 'Re1', 'O-O-O', 'Nc3', 'd5', 'g3', 'd4', 'Na4', 'Bb4', 'c3', 'dxc3', 'bxc3', 'Bxc3', 'Nxc3', 'Ne7', 'Rb1', 'Bc4', 'Re3', '*'] - * – #invalid san: '*'#\n",
      "Skipping bad move: ['e4', 'e5', 'd4', 'Qf6', 'Nf3', 'exd4', 'Nxd4', 'Bc5', 'Be3', 'Nc6', 'c3', 'Nh6', 'g3', 'O-O', 'Bg2', 'd6', 'O-O', 'Ne5', 'Nd2', 'Be6', 'N2b3', 'Nhg4', 'Nxc5', 'dxc5', 'Nxe6', 'fxe6', 'Bxc5', 'Rf7', 'h3', 'Rd8', 'Qe2', 'Nh6', '*'] - * – #invalid san: '*'#\n",
      "Skipping bad move: ['e3', 'e5', 'Ne2', 'd5', 'd4', 'e4', 'c4', 'dxc4', 'Nf4', 'g5', 'Nd5', 'c6', 'Ndc3', 'b5', 'g3', 'Bb4', 'a3', 'Qa5', 'Bg2', 'Bd6', 'O-O', 'b4', 'Nxe4', 'Be7', 'Nc5', 'Bxc5', 'dxc5', 'Qxc5', 'axb4', 'Qxb4', 'Ra4', 'Qb5', 'Nc3', 'Qc5', 'b4', 'Qb6', '*'] - * – #invalid san: '*'#\n",
      "Skipping bad move: ['d4', 'c6', 'c4', 'd5', 'Nc3', 'Bf5', 'Bf4', 'e6', 'e3', 'Bb4', 'a3', 'Bd6', 'b4', 'Bxf4', 'exf4', 'Nf6', 'Nf3', 'Nbd7', 'cxd5', 'cxd5', 'Bb5', 'O-O', 'O-O', 'a6', 'Ba4', 'b5', 'Bc2', 'Bxc2', 'Qxc2', 'Rc8', 'Rac1', 'Ne4', 'Qb2', 'Nxc3', 'Rxc3', 'Rxc3', 'Qxc3', 'Qc8', 'Qd3', 'Nf6', 'Ng5', 'h6', 'Nf3', 'Qc4', 'Qd2', 'Rc8', 'Ne5', 'Ne4', 'Qb2', 'Qc3', 'Qxc3', 'Rxc3', 'Nd7', 'Rxa3', 'Ne5', 'Rb3', 'Nc6', 'Ra3', 'Rc1', 'Rc3', 'Rxc3', 'Nxc3', 'Ne5', 'Ne2+', 'Kf1', 'Nxd4', 'Nc6', 'Nc2', 'Ne5', 'Nxb4', 'Ke2', 'a5', 'Kd2', 'a4', 'Kc3', 'Na6', 'Kb2', 'b4', 'Nd3', 'a3+', 'Ka2', 'Kf8', 'h4', 'Ke7', 'Nc1', 'Kd6', 'Nb3', 'Kc6', 'g3', 'Kb5', 'Nd4+', 'Kc4', 'Nb3', 'Nc5', 'f5', 'Nxb3', 'fxe6', 'fxe6', 'f4', 'Nc1+', 'Kb1', 'Nd3', 'f5', 'b3', 'fxe6', 'a2+', 'Ka1', 'b2+', 'Kxa2', 'Kc3', '*'] - * – #invalid san: '*'#\n",
      "Skipping bad move: ['e4', 'd6', 'd4', 'g6', 'Nf3', 'Bg7', 'Be3', 'e6', 'Bb5+', 'Bd7', 'Nc3', 'Ne7', 'O-O', 'O-O', 'Bg5', 'c6', 'Be2', 'f6', 'Be3', 'f5', 'e5', 'd5', 'h3', 'b5', 'a3', 'Na6', 'b4', 'h6', 'Qd2', 'g5', 'Nh2', 'f4', 'Bxf4', 'gxf4', 'Ng4', 'Ng6', 'Bf3', 'h5', '*'] - * – #invalid san: '*'#\n",
      "Skipping bad move: ['e4', 'e5', 'Nf3', 'Nf6', 'Nxe5', 'Nxe4', 'Qe2', 'f5', 'd3', 'd6', 'Nf3', 'Qe7', 'dxe4', 'fxe4', 'Nfd2', 'd5', 'c4', 'Be6', 'cxd5', 'Bxd5', 'Nc3', 'c6', 'Ncxe4', 'Bxe4', 'Qxe4', 'Qxe4+', 'Nxe4', 'Bb4+', 'Bd2', 'Bxd2+', 'Nxd2', 'Nd7', 'O-O-O', 'O-O-O', 'Bc4', 'Ne5', 'Rhe1', 'Nxc4', 'Nxc4', 'Rxd1+', 'Rxd1', 'b5', 'Nd6+', 'Kc7', 'Nf7', 'Rf8', 'Ne5', 'Rxf2', 'Rd7+', 'Kb6', 'Rd2', '*'] - * – #invalid san: '*'#\n",
      "Skipping bad move: ['d4', 'd5', 'Nf3', 'c6', 'Bf4', 'Na6', 'e3', 'Bg4', 'Nbd2', 'Nf6', 'c3', 'c5', 'Bd3', 'e6', 'Qc2', 'c4', 'Be2', 'b5', 'b3', 'Nc7', 'a4', 'a5', 'axb5', 'Nxb5', 'bxc4', 'Nd6', 'cxd5', 'Nxd5', 'Bxd6', 'Bxd6', 'Bd3', 'Bxf3', 'Nxf3', 'g6', 'Bb5+', 'Ke7', 'O-O', 'f6', 'Nd2', 'f5', 'Nc4', 'Bc7', 'e4', 'Nf4', '*'] - * – #invalid san: '*'#\n",
      "Skipping bad move: ['c4', 'c5', 'd4', 'cxd4', 'Qxd4', 'Nc6', 'Qd1', 'e5', 'Nc3', 'Nf6', 'Bg5', 'h6', 'Bh4', 'Be7', 'Nf3', 'O-O', 'e3', 'a6', 'Bg3', 'e4', 'Nd4', 'Nxd4', 'Qxd4', 'Re8', 'Nxe4', 'Nxe4', 'Qxe4', 'Bb4+', 'Ke2', 'Rxe4', 'a3', 'Ba5', 'b4', 'Bc7', 'Bf4', 'Bxf4', 'Kd3', 'Qe8', 'exf4', 'Rxf4', 'f3', '*'] - * – #invalid san: '*'#\n",
      "Skipping bad move: ['d4', 'c5', 'dxc5', 'Nc6', 'Nf3', 'e6', 'e4', 'Bxc5', 'c4', 'b6', 'Nc3', 'Ba6', 'Bf4', 'Nge7', 'Bd6', 'Bxd6', 'Qxd6', 'O-O', 'Ne5', 'Qc8', 'Nxd7', 'Rd8', 'Rd1', 'Qb7', 'c5', 'bxc5', 'Bxa6', 'Qxa6', 'Nxc5', 'Qb6', 'Nd7', 'Qxb2', 'Na4', 'Qb5', 'Nac5', 'Qb4+', 'Rd2', 'Qb1+', 'Rd1', 'Qb4+', '*'] - * – #invalid san: '*'#\n"
     ]
    },
    {
     "name": "stderr",
     "output_type": "stream",
     "text": [
      "747it [00:00, 1836.01it/s]"
     ]
    },
    {
     "name": "stdout",
     "output_type": "stream",
     "text": [
      "Skipping bad move: ['e4', 'c5', 'd4', 'cxd4', 'Qxd4', 'Nc6', 'Qd1', 'e6', 'Bb5', 'a6', 'Bxc6', 'bxc6', 'Nc3', 'd5', 'exd5', 'exd5', 'Nf3', 'Be7', 'O-O', 'Nf6', 'Bg5', 'O-O', 'Bxf6', 'Bxf6', 'Re1', 'Re8', 'Rxe8+', 'Qxe8', 'Qe1', 'Bb7', 'Qxe8+', 'Rxe8', 'Re1', 'Rxe1+', 'Nxe1', 'Bg5', 'g3', 'a5', 'Na4', 'Ba6', 'h4', 'Bf6', 'c3', 'd4', 'Nc5', 'Bc8', 'cxd4', 'Bxd4', 'Ne4', 'Bxb2', 'Nd3', 'Ba1', 'Nd6', 'Bg4', 'Nc4', 'a4', 'Nc5', 'Bd1', 'Ne3', 'Bh5', 'Nxa4', 'Bd4', 'Nc2', 'Bf6', 'Nb4', 'Bf3', 'Kh2', 'Be7', '*'] - * – #invalid san: '*'#\n",
      "Skipping bad move: ['d4', 'd5', 'c4', 'c5', 'cxd5', 'cxd4', 'Qxd4', 'Nc6', 'Qd1', 'Ne5', 'f4', 'Ng6', 'e4', 'Nxf4', 'Bxf4', 'h5', 'Nf3', 'Nf6', 'Bd3', 'Ng4', 'h3', 'Nf6', 'O-O', 'Qb6+', 'Kh1', 'Qxb2', 'Nbd2', 'Qa3', 'Nc4', 'Qc5', 'Rc1', 'Qc7', 'Bxc7', 'g6', 'e5', 'Bg7', 'exf6', 'O-O', 'fxg7', 'Kxg7', 'Ng5', 'f6', 'Ne6+', 'Bxe6', 'dxe6', 'Rac8', '*'] - * – #invalid san: '*'#\n",
      "Skipping bad move: ['d4', 'Nf6', 'e3', 'd5', 'Bd3', 'Nbd7', 'Nf3', 'e6', 'O-O', 'Bd6', 'c4', 'e5', 'c5', 'e4', 'cxd6', 'exf3', 'dxc7', 'Qxc7', 'Qxf3', 'O-O', 'Nc3', 'Re8', 'e4', 'dxe4', 'Bxe4', 'Nxe4', 'Nxe4', 'Re6', '*'] - * – #invalid san: '*'#\n",
      "Skipping bad move: ['e4', 'e5', 'd4', 'exd4', 'Bc4', 'Nf6', 'f3', 'Bc5', 'c3', 'dxc3', 'Nxc3', 'O-O', 'Nd5', 'Nxd5', 'Bxd5', 'c6', 'Bb3', 'd5', 'Bf4', 'dxe4', 'Qxd8', 'Rxd8', 'fxe4', 'Bb4+', 'Ke2', 'Bg4+', 'Nf3', 'Nd7', 'h3', 'Bxf3+', 'gxf3', 'Nc5', 'Bc2', 'b5', 'Rad1', 'Rxd1', 'Rxd1', 'Na4', 'Bxa4', 'bxa4', 'Rd4', 'c5', 'Rd7', 'h6', 'Bd6', 'g5', 'Rc7', '*'] - * – #invalid san: '*'#\n"
     ]
    },
    {
     "name": "stderr",
     "output_type": "stream",
     "text": [
      "1163it [00:00, 1969.13it/s]"
     ]
    },
    {
     "name": "stdout",
     "output_type": "stream",
     "text": [
      "Skipping bad move: ['e4', 'e5', 'Bc4', 'Nf6', 'Nf3', 'Nc6', 'Ng5', 'd5', 'exd5', 'Na5', 'd6', 'Nxc4', 'dxc7', 'Qxc7', 'd3', 'Nb6', 'O-O', 'Be7', 'Re1', 'O-O', 'b3', 'Re8', 'Bb2', '*'] - * – #invalid san: '*'#\n",
      "Skipping bad move: ['e4', 'e5', 'Nf3', 'd6', 'Bc4', 'Bg4', 'Bxf7+', 'Kxf7', 'd3', 'Nf6', 'h3', 'Bxf3', 'Qxf3', 'Nc6', 'Bg5', 'Be7', 'Nc3', 'Nd4', 'Qd1', 'Ke6', 'O-O', 'Nd7', 'f4', 'Bxg5', 'fxg5', 'Rf8', 'Rxf8', 'Qxf8', 'Qg4+', 'Ke7', 'Rc1', 'Kf7', 'Nd5', 'Kg8', 'c3', 'Ne6', 'Qxe6+', 'Qf7', 'Qxf7+', 'Kxf7', 'Nxc7', 'Rc8', 'Nd5', 'Rf8', 'Rf1+', 'Ke6', '*'] - * – #invalid san: '*'#\n",
      "Skipping bad move: ['d4', 'd5', 'c4', 'dxc4', 'e3', 'Nf6', 'Bxc4', 'e6', 'Bd2', 'a6', 'Nf3', 'c5', 'dxc5', 'Bxc5', 'O-O', 'O-O', 'Nc3', 'b5', 'Bd3', 'Bb7', 'Be2', 'Qe7', 'a3', 'Rd8', 'Qc1', '*'] - * – #invalid san: '*'#\n",
      "Skipping bad move: ['e4', 'e6', 'Qf3', 'Be7', 'c3', 'Nf6', 'd3', 'O-O', 'Be2', 'b6', 'Qg3', 'Bb7', 'Bh6', 'g6', 'Bxf8', 'Qxf8', 'h4', 'Qg7', 'h5', 'Ne8', 'hxg6', 'fxg6', 'Qh2', 'Nf6', 'Nf3', 'd6', 'Ng5', 'h6', 'Nxe6', 'Qf7', 'Qxh6', 'Qxe6', 'Qh8+', 'Kf7', '*'] - * – #invalid san: '*'#\n",
      "Skipping bad move: ['d4', 'e6', 'e4', 'd5', 'e5', 'c5', 'c3', 'Qb6', '*'] - * – #invalid san: '*'#\n",
      "Skipping bad move: ['Nf3', 'b5', 'e4', 'Bb7', '*'] - * – #invalid san: '*'#\n",
      "Skipping bad move: ['e4', 'e5', 'Nf3', 'Nc6', '*'] - * – #invalid san: '*'#\n"
     ]
    },
    {
     "name": "stderr",
     "output_type": "stream",
     "text": [
      "10000it [00:06, 1454.71it/s]\n"
     ]
    },
    {
     "name": "stdout",
     "output_type": "stream",
     "text": [
      "Read 10000 in 8.175294876098633 | TOTAL: 860000 | 75816\n",
      "Reading 87-th batch of games...\n"
     ]
    },
    {
     "name": "stderr",
     "output_type": "stream",
     "text": [
      "10000it [00:07, 1366.21it/s]\n"
     ]
    },
    {
     "name": "stdout",
     "output_type": "stream",
     "text": [
      "Read 10000 in 8.569481134414673 | TOTAL: 870000 | 76844\n",
      "Reading 88-th batch of games...\n"
     ]
    },
    {
     "name": "stderr",
     "output_type": "stream",
     "text": [
      "10000it [00:07, 1423.51it/s]\n"
     ]
    },
    {
     "name": "stdout",
     "output_type": "stream",
     "text": [
      "Read 10000 in 8.352511167526245 | TOTAL: 880000 | 77758\n",
      "Reading 89-th batch of games...\n"
     ]
    },
    {
     "name": "stderr",
     "output_type": "stream",
     "text": [
      "10000it [00:06, 1429.33it/s]\n"
     ]
    },
    {
     "name": "stdout",
     "output_type": "stream",
     "text": [
      "Read 10000 in 8.285995960235596 | TOTAL: 890000 | 78637\n",
      "Reading 90-th batch of games...\n"
     ]
    },
    {
     "name": "stderr",
     "output_type": "stream",
     "text": [
      "10000it [00:07, 1414.66it/s]\n"
     ]
    },
    {
     "name": "stdout",
     "output_type": "stream",
     "text": [
      "Read 10000 in 8.413202285766602 | TOTAL: 900000 | 79534\n",
      "Reading 91-th batch of games...\n"
     ]
    },
    {
     "name": "stderr",
     "output_type": "stream",
     "text": [
      "10000it [00:07, 1312.03it/s]\n"
     ]
    },
    {
     "name": "stdout",
     "output_type": "stream",
     "text": [
      "Read 10000 in 8.987620115280151 | TOTAL: 910000 | 80477\n",
      "Reading 92-th batch of games...\n"
     ]
    },
    {
     "name": "stderr",
     "output_type": "stream",
     "text": [
      "10000it [00:07, 1309.45it/s]\n"
     ]
    },
    {
     "name": "stdout",
     "output_type": "stream",
     "text": [
      "Read 10000 in 8.97219443321228 | TOTAL: 920000 | 81498\n",
      "Reading 93-th batch of games...\n"
     ]
    },
    {
     "name": "stderr",
     "output_type": "stream",
     "text": [
      "10000it [00:07, 1412.18it/s]\n"
     ]
    },
    {
     "name": "stdout",
     "output_type": "stream",
     "text": [
      "Read 10000 in 8.430217504501343 | TOTAL: 930000 | 82417\n",
      "Reading 94-th batch of games...\n"
     ]
    },
    {
     "name": "stderr",
     "output_type": "stream",
     "text": [
      "10000it [00:06, 1530.64it/s]\n"
     ]
    },
    {
     "name": "stdout",
     "output_type": "stream",
     "text": [
      "Read 10000 in 7.93660569190979 | TOTAL: 940000 | 83276\n",
      "Reading 95-th batch of games...\n"
     ]
    },
    {
     "name": "stderr",
     "output_type": "stream",
     "text": [
      "10000it [00:06, 1613.79it/s]\n"
     ]
    },
    {
     "name": "stdout",
     "output_type": "stream",
     "text": [
      "Read 10000 in 7.558917045593262 | TOTAL: 950000 | 84106\n",
      "Reading 96-th batch of games...\n"
     ]
    },
    {
     "name": "stderr",
     "output_type": "stream",
     "text": [
      "10000it [00:06, 1527.91it/s]\n"
     ]
    },
    {
     "name": "stdout",
     "output_type": "stream",
     "text": [
      "Read 10000 in 7.943039894104004 | TOTAL: 960000 | 84971\n",
      "Reading 97-th batch of games...\n"
     ]
    },
    {
     "name": "stderr",
     "output_type": "stream",
     "text": [
      "10000it [00:07, 1358.05it/s]\n"
     ]
    },
    {
     "name": "stdout",
     "output_type": "stream",
     "text": [
      "Read 10000 in 8.740315914154053 | TOTAL: 970000 | 85939\n",
      "Reading 98-th batch of games...\n"
     ]
    },
    {
     "name": "stderr",
     "output_type": "stream",
     "text": [
      "10000it [00:06, 1562.97it/s]\n"
     ]
    },
    {
     "name": "stdout",
     "output_type": "stream",
     "text": [
      "Read 10000 in 7.826435804367065 | TOTAL: 980000 | 86763\n",
      "Reading 99-th batch of games...\n"
     ]
    },
    {
     "name": "stderr",
     "output_type": "stream",
     "text": [
      "10000it [00:06, 1564.24it/s]\n"
     ]
    },
    {
     "name": "stdout",
     "output_type": "stream",
     "text": [
      "Read 10000 in 7.820502996444702 | TOTAL: 990000 | 87591\n",
      "Reading 100-th batch of games...\n"
     ]
    },
    {
     "name": "stderr",
     "output_type": "stream",
     "text": [
      "10000it [00:06, 1436.65it/s]\n"
     ]
    },
    {
     "name": "stdout",
     "output_type": "stream",
     "text": [
      "Read 10000 in 8.38920521736145 | TOTAL: 1000000 | 88506\n",
      "Reading 101-th batch of games...\n"
     ]
    },
    {
     "name": "stderr",
     "output_type": "stream",
     "text": [
      "10000it [00:07, 1418.96it/s]\n"
     ]
    },
    {
     "name": "stdout",
     "output_type": "stream",
     "text": [
      "Read 10000 in 8.488571166992188 | TOTAL: 1010000 | 89442\n",
      "Reading 102-th batch of games...\n"
     ]
    },
    {
     "name": "stderr",
     "output_type": "stream",
     "text": [
      "10000it [00:06, 1441.93it/s]\n"
     ]
    },
    {
     "name": "stdout",
     "output_type": "stream",
     "text": [
      "Read 10000 in 8.37845778465271 | TOTAL: 1020000 | 90354\n",
      "Reading 103-th batch of games...\n"
     ]
    },
    {
     "name": "stderr",
     "output_type": "stream",
     "text": [
      "10000it [00:07, 1321.71it/s]\n"
     ]
    },
    {
     "name": "stdout",
     "output_type": "stream",
     "text": [
      "Read 10000 in 9.010606288909912 | TOTAL: 1030000 | 91377\n",
      "Reading 104-th batch of games...\n"
     ]
    },
    {
     "name": "stderr",
     "output_type": "stream",
     "text": [
      "10000it [00:07, 1344.97it/s]\n"
     ]
    },
    {
     "name": "stdout",
     "output_type": "stream",
     "text": [
      "Read 10000 in 8.94343900680542 | TOTAL: 1040000 | 92405\n",
      "Reading 105-th batch of games...\n"
     ]
    },
    {
     "name": "stderr",
     "output_type": "stream",
     "text": [
      "10000it [00:07, 1398.27it/s]\n"
     ]
    },
    {
     "name": "stdout",
     "output_type": "stream",
     "text": [
      "Read 10000 in 8.66385531425476 | TOTAL: 1050000 | 93327\n",
      "Reading 106-th batch of games...\n"
     ]
    },
    {
     "name": "stderr",
     "output_type": "stream",
     "text": [
      "10000it [00:06, 1474.59it/s]\n"
     ]
    },
    {
     "name": "stdout",
     "output_type": "stream",
     "text": [
      "Read 10000 in 8.268550395965576 | TOTAL: 1060000 | 94205\n",
      "Reading 107-th batch of games...\n"
     ]
    },
    {
     "name": "stderr",
     "output_type": "stream",
     "text": [
      "5283it [00:03, 1402.91it/s]"
     ]
    },
    {
     "name": "stdout",
     "output_type": "stream",
     "text": [
      "Skipping bad move: ['d4', 'd5', 'c4', 'dxc4', 'e4', 'Nf6', 'e5', 'Nfd7', 'Bxc4', 'Nb6', 'Bb3', 'e6', 'Be3', 'Nc6', 'Nc3', 'Bd7', 'Nf3', 'Ba3', 'bxa3', 'Qe7', 'Qc1', 'O-O', 'O-O', 'Rad8', 'Bg5', 'f6', 'exf6', 'gxf6', 'Bh6', 'Rf7', 'Re1', 'e5', 'Bxf7+', 'Qxf7', 'Be3', 'Nxd4', 'Bxd4', 'exd4', 'Ne4', 'Bc6', 'Qc2', 'Qg6', 'Rac1', 'f5', 'Neg5', 'h6', 'Qb3+', 'Bd5', 'Qd3', 'hxg5', 'Ne5', 'Qd6', 'Qh3', 'Rd7', 'Qxf5', 'Rh7', 'Qxg5+', 'Rg7', 'Qf4', 'Bxg2', 'Ng4', 'Qxf4', 'Re8+', 'Kh7', 'h3', 'Rxg4', 'hxg4', 'Qxg4', 'Rg8', 'Qh3', 'Rxg2', 'Qe3', 'Rxc7+', '*'] - * – #invalid san: '*'#\n"
     ]
    },
    {
     "name": "stderr",
     "output_type": "stream",
     "text": [
      "10000it [00:06, 1517.47it/s]\n"
     ]
    },
    {
     "name": "stdout",
     "output_type": "stream",
     "text": [
      "Read 10000 in 8.107550382614136 | TOTAL: 1070000 | 95083\n",
      "Reading 108-th batch of games...\n"
     ]
    },
    {
     "name": "stderr",
     "output_type": "stream",
     "text": [
      "10000it [00:07, 1268.29it/s]\n"
     ]
    },
    {
     "name": "stdout",
     "output_type": "stream",
     "text": [
      "Read 10000 in 9.439368724822998 | TOTAL: 1080000 | 96132\n",
      "Reading 109-th batch of games...\n"
     ]
    },
    {
     "name": "stderr",
     "output_type": "stream",
     "text": [
      "10000it [00:06, 1449.46it/s]\n"
     ]
    },
    {
     "name": "stdout",
     "output_type": "stream",
     "text": [
      "Read 10000 in 8.44414234161377 | TOTAL: 1090000 | 97058\n",
      "Reading 110-th batch of games...\n"
     ]
    },
    {
     "name": "stderr",
     "output_type": "stream",
     "text": [
      "10000it [00:07, 1405.44it/s]\n"
     ]
    },
    {
     "name": "stdout",
     "output_type": "stream",
     "text": [
      "Read 10000 in 8.692507982254028 | TOTAL: 1100000 | 97978\n",
      "Reading 111-th batch of games...\n"
     ]
    },
    {
     "name": "stderr",
     "output_type": "stream",
     "text": [
      "10000it [00:07, 1351.94it/s]\n"
     ]
    },
    {
     "name": "stdout",
     "output_type": "stream",
     "text": [
      "Read 10000 in 8.992380142211914 | TOTAL: 1110000 | 98956\n",
      "Reading 112-th batch of games...\n"
     ]
    },
    {
     "name": "stderr",
     "output_type": "stream",
     "text": [
      "10000it [00:07, 1379.71it/s]\n"
     ]
    },
    {
     "name": "stdout",
     "output_type": "stream",
     "text": [
      "Read 10000 in 8.908087015151978 | TOTAL: 1120000 | 99869\n",
      "Reading 113-th batch of games...\n"
     ]
    },
    {
     "name": "stderr",
     "output_type": "stream",
     "text": [
      "10000it [00:06, 1523.36it/s]\n"
     ]
    },
    {
     "name": "stdout",
     "output_type": "stream",
     "text": [
      "Read 10000 in 8.211178541183472 | TOTAL: 1130000 | 100688\n",
      "Reading 114-th batch of games...\n"
     ]
    },
    {
     "name": "stderr",
     "output_type": "stream",
     "text": [
      "10000it [00:06, 1532.29it/s]\n"
     ]
    },
    {
     "name": "stdout",
     "output_type": "stream",
     "text": [
      "Read 10000 in 8.146826267242432 | TOTAL: 1140000 | 101564\n",
      "Reading 115-th batch of games...\n"
     ]
    },
    {
     "name": "stderr",
     "output_type": "stream",
     "text": [
      "10000it [00:06, 1616.70it/s]\n"
     ]
    },
    {
     "name": "stdout",
     "output_type": "stream",
     "text": [
      "Read 10000 in 7.825850486755371 | TOTAL: 1150000 | 102395\n",
      "Reading 116-th batch of games...\n"
     ]
    },
    {
     "name": "stderr",
     "output_type": "stream",
     "text": [
      "10000it [00:06, 1502.63it/s]\n"
     ]
    },
    {
     "name": "stdout",
     "output_type": "stream",
     "text": [
      "Read 10000 in 8.318333864212036 | TOTAL: 1160000 | 103295\n",
      "Reading 117-th batch of games...\n"
     ]
    },
    {
     "name": "stderr",
     "output_type": "stream",
     "text": [
      "10000it [00:07, 1285.04it/s]\n"
     ]
    },
    {
     "name": "stdout",
     "output_type": "stream",
     "text": [
      "Read 10000 in 9.442713499069214 | TOTAL: 1170000 | 104333\n",
      "Reading 118-th batch of games...\n"
     ]
    },
    {
     "name": "stderr",
     "output_type": "stream",
     "text": [
      "10000it [00:06, 1442.82it/s]\n"
     ]
    },
    {
     "name": "stdout",
     "output_type": "stream",
     "text": [
      "Read 10000 in 8.609840154647827 | TOTAL: 1180000 | 105240\n",
      "Reading 119-th batch of games...\n"
     ]
    },
    {
     "name": "stderr",
     "output_type": "stream",
     "text": [
      "10000it [00:06, 1587.96it/s]\n"
     ]
    },
    {
     "name": "stdout",
     "output_type": "stream",
     "text": [
      "Read 10000 in 7.989474534988403 | TOTAL: 1190000 | 106050\n",
      "Reading 120-th batch of games...\n"
     ]
    },
    {
     "name": "stderr",
     "output_type": "stream",
     "text": [
      "10000it [00:06, 1439.59it/s]\n"
     ]
    },
    {
     "name": "stdout",
     "output_type": "stream",
     "text": [
      "Read 10000 in 8.673969030380249 | TOTAL: 1200000 | 106977\n",
      "Reading 121-th batch of games...\n"
     ]
    },
    {
     "name": "stderr",
     "output_type": "stream",
     "text": [
      "10000it [00:07, 1404.24it/s]\n"
     ]
    },
    {
     "name": "stdout",
     "output_type": "stream",
     "text": [
      "Read 10000 in 8.823348999023438 | TOTAL: 1210000 | 107934\n",
      "Reading 122-th batch of games...\n"
     ]
    },
    {
     "name": "stderr",
     "output_type": "stream",
     "text": [
      "10000it [00:07, 1390.10it/s]\n"
     ]
    },
    {
     "name": "stdout",
     "output_type": "stream",
     "text": [
      "Read 10000 in 8.928774118423462 | TOTAL: 1220000 | 108869\n",
      "Reading 123-th batch of games...\n"
     ]
    },
    {
     "name": "stderr",
     "output_type": "stream",
     "text": [
      "10000it [00:06, 1557.21it/s]\n"
     ]
    },
    {
     "name": "stdout",
     "output_type": "stream",
     "text": [
      "Read 10000 in 8.174237489700317 | TOTAL: 1230000 | 109727\n",
      "Reading 124-th batch of games...\n"
     ]
    },
    {
     "name": "stderr",
     "output_type": "stream",
     "text": [
      "10000it [00:06, 1471.50it/s]\n"
     ]
    },
    {
     "name": "stdout",
     "output_type": "stream",
     "text": [
      "Read 10000 in 8.528806924819946 | TOTAL: 1240000 | 110650\n",
      "Reading 125-th batch of games...\n"
     ]
    },
    {
     "name": "stderr",
     "output_type": "stream",
     "text": [
      "10000it [00:07, 1339.57it/s]\n"
     ]
    },
    {
     "name": "stdout",
     "output_type": "stream",
     "text": [
      "Read 10000 in 9.215632438659668 | TOTAL: 1250000 | 111637\n",
      "Reading 126-th batch of games...\n"
     ]
    },
    {
     "name": "stderr",
     "output_type": "stream",
     "text": [
      "10000it [00:06, 1594.68it/s]\n"
     ]
    },
    {
     "name": "stdout",
     "output_type": "stream",
     "text": [
      "Read 10000 in 8.034459829330444 | TOTAL: 1260000 | 112445\n",
      "Reading 127-th batch of games...\n"
     ]
    },
    {
     "name": "stderr",
     "output_type": "stream",
     "text": [
      "10000it [00:06, 1470.81it/s]\n"
     ]
    },
    {
     "name": "stdout",
     "output_type": "stream",
     "text": [
      "Read 10000 in 8.59939169883728 | TOTAL: 1270000 | 113354\n",
      "Reading 128-th batch of games...\n"
     ]
    },
    {
     "name": "stderr",
     "output_type": "stream",
     "text": [
      "10000it [00:07, 1423.10it/s]\n"
     ]
    },
    {
     "name": "stdout",
     "output_type": "stream",
     "text": [
      "Read 10000 in 8.87807011604309 | TOTAL: 1280000 | 114270\n",
      "Reading 129-th batch of games...\n"
     ]
    },
    {
     "name": "stderr",
     "output_type": "stream",
     "text": [
      "10000it [00:07, 1388.08it/s]\n"
     ]
    },
    {
     "name": "stdout",
     "output_type": "stream",
     "text": [
      "Read 10000 in 9.065824747085571 | TOTAL: 1290000 | 115226\n",
      "Reading 130-th batch of games...\n"
     ]
    },
    {
     "name": "stderr",
     "output_type": "stream",
     "text": [
      "10000it [00:07, 1386.11it/s]\n"
     ]
    },
    {
     "name": "stdout",
     "output_type": "stream",
     "text": [
      "Read 10000 in 9.057666540145874 | TOTAL: 1300000 | 116180\n",
      "Reading 131-th batch of games...\n"
     ]
    },
    {
     "name": "stderr",
     "output_type": "stream",
     "text": [
      "10000it [00:07, 1306.51it/s]\n"
     ]
    },
    {
     "name": "stdout",
     "output_type": "stream",
     "text": [
      "Read 10000 in 9.525373697280884 | TOTAL: 1310000 | 117224\n",
      "Reading 132-th batch of games...\n"
     ]
    },
    {
     "name": "stderr",
     "output_type": "stream",
     "text": [
      "10000it [00:07, 1354.17it/s]\n"
     ]
    },
    {
     "name": "stdout",
     "output_type": "stream",
     "text": [
      "Read 10000 in 9.273677110671997 | TOTAL: 1320000 | 118199\n",
      "Reading 133-th batch of games...\n"
     ]
    },
    {
     "name": "stderr",
     "output_type": "stream",
     "text": [
      "10000it [00:06, 1518.19it/s]\n"
     ]
    },
    {
     "name": "stdout",
     "output_type": "stream",
     "text": [
      "Read 10000 in 8.477187871932983 | TOTAL: 1330000 | 119064\n",
      "Reading 134-th batch of games...\n"
     ]
    },
    {
     "name": "stderr",
     "output_type": "stream",
     "text": [
      "10000it [00:07, 1362.10it/s]\n"
     ]
    },
    {
     "name": "stdout",
     "output_type": "stream",
     "text": [
      "Read 10000 in 9.268387794494629 | TOTAL: 1340000 | 120074\n",
      "Reading 135-th batch of games...\n"
     ]
    },
    {
     "name": "stderr",
     "output_type": "stream",
     "text": [
      "10000it [00:07, 1384.59it/s]\n"
     ]
    },
    {
     "name": "stdout",
     "output_type": "stream",
     "text": [
      "Read 10000 in 9.161431312561035 | TOTAL: 1350000 | 121027\n",
      "Reading 136-th batch of games...\n"
     ]
    },
    {
     "name": "stderr",
     "output_type": "stream",
     "text": [
      "10000it [00:06, 1665.80it/s]\n"
     ]
    },
    {
     "name": "stdout",
     "output_type": "stream",
     "text": [
      "Read 10000 in 7.941269636154175 | TOTAL: 1360000 | 121833\n",
      "Reading 137-th batch of games...\n"
     ]
    },
    {
     "name": "stderr",
     "output_type": "stream",
     "text": [
      "10000it [00:06, 1457.57it/s]\n"
     ]
    },
    {
     "name": "stdout",
     "output_type": "stream",
     "text": [
      "Read 10000 in 8.828954935073853 | TOTAL: 1370000 | 122777\n",
      "Reading 138-th batch of games...\n"
     ]
    },
    {
     "name": "stderr",
     "output_type": "stream",
     "text": [
      "10000it [00:06, 1489.35it/s]\n"
     ]
    },
    {
     "name": "stdout",
     "output_type": "stream",
     "text": [
      "Read 10000 in 8.68782353401184 | TOTAL: 1380000 | 123697\n",
      "Reading 139-th batch of games...\n"
     ]
    },
    {
     "name": "stderr",
     "output_type": "stream",
     "text": [
      "10000it [00:06, 1653.42it/s]\n"
     ]
    },
    {
     "name": "stdout",
     "output_type": "stream",
     "text": [
      "Read 10000 in 8.037266969680786 | TOTAL: 1390000 | 124509\n",
      "Reading 140-th batch of games...\n"
     ]
    },
    {
     "name": "stderr",
     "output_type": "stream",
     "text": [
      "10000it [00:07, 1351.18it/s]\n"
     ]
    },
    {
     "name": "stdout",
     "output_type": "stream",
     "text": [
      "Read 10000 in 9.463636875152588 | TOTAL: 1400000 | 125492\n",
      "Reading 141-th batch of games...\n"
     ]
    },
    {
     "name": "stderr",
     "output_type": "stream",
     "text": [
      "10000it [00:06, 1441.90it/s]\n"
     ]
    },
    {
     "name": "stdout",
     "output_type": "stream",
     "text": [
      "Read 10000 in 8.985379219055176 | TOTAL: 1410000 | 126416\n",
      "Reading 142-th batch of games...\n"
     ]
    },
    {
     "name": "stderr",
     "output_type": "stream",
     "text": [
      "3849it [00:02, 1362.16it/s]"
     ]
    },
    {
     "name": "stdout",
     "output_type": "stream",
     "text": [
      "Skipping bad move: ['e4', 'e5', 'd4', 'exd4', 'Qxd4', 'Nc6', 'Qe3', 'Nf6', 'Nf3', 'd6', 'Bb5', 'a6', 'Bxc6+', 'bxc6', 'Nd4', 'c5', 'Nb3', 'Bb7', 'Nc3', 'a5', 'a4', 'g6', 'Nd5', 'Be7', 'Nxe7', 'Qxe7', 'Nd2', 'd5', 'e5', 'Ng4', 'Qf4', 'Nxe5', 'O-O', 'O-O-O', 'c4', 'd4', 'Nb3', 'Nc6', 'Re1', 'Qd6', 'Qxd6', 'Rxd6', 'Bf4', 'Rdd8', 'Bg5', 'Rd7', 'Bf6', 'Rd6', 'Bxh8', 'Nb4', 'Re8+', 'Kd7', 'Rae1', 'Re6', 'R8xe6', 'fxe6', 'Nxc5+', 'Kc6', 'Nxb7', 'Kxb7', 'Rxe6', 'd3', 'Re7', 'Kc6', 'Rxh7', 'd2', 'g3', 'd1=Q+', 'Kg2', 'Qd5+', 'Kh3', 'Qf5+', 'Kg2', 'Nd3', 'Bd4', 'Nxb2', '*'] - * – #invalid san: '*'#\n"
     ]
    },
    {
     "name": "stderr",
     "output_type": "stream",
     "text": [
      "4407it [00:02, 1595.01it/s]"
     ]
    },
    {
     "name": "stdout",
     "output_type": "stream",
     "text": [
      "Skipping bad move: ['e4', 'e5', 'Nf3', 'd6', 'h3', 'g6', 'Bc4', 'Be6', 'Bb5+', 'Nc6', 'Nc3', 'a6', 'Ba4', 'Nf6', 'd3', 'Bg7', 'Bg5', 'd5', 'h4', 'h5', 'b4', 'O-O', 'Bxc6', 'bxc6', 'Nxe5', 'Qd6', 'f4', 'Qxb4', 'Qd2', 'Qd4', 'Nxc6', 'Nxe4', 'Nxd4', 'Nxd2', 'Kxd2', 'Rae8', 'Nxe6', 'Rxe6', 'Rae1', 'Kh7', 'Nxd5', 'Rxe1', 'Rxe1', '*'] - * – #invalid san: '*'#\n",
      "Skipping bad move: ['e4', 'e5', 'Nf3', 'd6', 'Nc3', 'Nf6', 'Bc4', 'h6', 'O-O', 'Nc6', 'a3', 'a6', 'Ne2', 'Be7', 'd4', 'exd4', 'Nfxd4', 'Bd7', 'Bd3', 'O-O', 'Nf4', 'Nh7', 'Nd5', 'Bf6', 'c3', 'Bxd4', 'cxd4', 'Ne7', 'Qf3', 'Nxd5', 'exd5', 'Qf6', 'Qg3', 'Kh8', 'Re1', 'Rae8', 'Rxe8', 'Rxe8', 'Be3', 'Bf5', 'Bxf5', 'Qxf5', 'Rc1', 'Nf6', 'h3', 'Rc8', 'b3', 'Nxd5', 'b4', 'Nxe3', 'Qxe3', 'Qd7', 'd5', 'Re8', 'Qa7', 'Qa4', 'Qxb7', 'Qxa3', 'Qxc7', 'Qxb4', 'Qxf7', 'Re1+', 'Rxe1', 'Qxe1+', 'Kh2', 'Qe5+', 'g3', 'a5', 'Qf8+', 'Kh7', 'Qf3', 'a4', 'Qd3+', '*'] - * – #invalid san: '*'#\n",
      "Skipping bad move: ['e4', 'e5', 'Nf3', '*'] - * – #invalid san: '*'#\n"
     ]
    },
    {
     "name": "stderr",
     "output_type": "stream",
     "text": [
      "5020it [00:03, 1692.73it/s]"
     ]
    },
    {
     "name": "stdout",
     "output_type": "stream",
     "text": [
      "Skipping bad move: ['d4', 'Nf6', 'c4', 'e6', 'Nc3', 'Bb4', 'Qc2', 'O-O', 'f3', 'd5', 'e3', 'c5', 'Bd3', 'cxd4', 'exd4', 'Nc6', 'Be3', 'e5', 'cxd5', 'Qxd5', 'Ne2', 'exd4', 'Be4', 'Nxe4', 'Qxe4', 'Be6', 'Bxd4', 'Nxd4', 'Qxd4', 'Qxd4', 'Nxd4', 'Bc4', 'Nc2', 'Rfe8+', 'Kf2', 'Bxc3', 'bxc3', 'Re2+', 'Kg3', 'Rxc2', 'Rhe1', 'Rxc3', 'Re7', 'b6', 'Rae1', 'Kf8', '*'] - * – #invalid san: '*'#\n",
      "Skipping bad move: ['e4', 'c5', 'Bc4', 'd6', 'Qf3', 'e6', 'd3', 'Nc6', 'Bb5', 'Bd7', 'c3', 'Nf6', 'Bxc6', 'Bxc6', 'Bg5', 'Be7', 'Bxf6', 'Bxf6', 'Ne2', 'O-O', 'O-O', 'd5', 'Nd2', 'dxe4', 'Nxe4', 'Be7', 'Rad1', 'f5', 'Qh3', 'fxe4', 'Qxe6+', 'Kh8', 'dxe4', 'Qc7', 'Ng3', 'Rae8', 'Nh5', 'Bf6', 'Qh3', 'Bxe4', 'Nxf6', 'Rxf6', 'Rde1', 'Bg6', 'Rxe8+', 'Bxe8', 'Re1', 'Bc6', 'Qe3', 'Rf8', 'b3', 'Qf4', 'Qxc5', 'Qb8', 'c4', 'Re8', 'Rxe8+', 'Qxe8', 'h3', 'Qb8', 'f3', 'h6', 'Kf2', '*'] - * – #invalid san: '*'#\n",
      "Skipping bad move: ['e4', 'e5', 'Nf3', 'Nc6', 'Bc4', 'h6', 'Nc3', 'Bc5', 'Kf1', 'Nf6', 'd3', 'Ng4', 'Be3', 'Bxe3', 'Qe2', 'Bxf2', 'g3', 'Qf6', 'h3', 'Ne3+', 'Kxf2', 'Nxc4', 'dxc4', 'Nd4', 'Qe3', 'c6', 'Rac1', 'O-O', 'Kg2', 'd6', 'Rhf1', 'Qg6', 'Nh4', 'Qg5', 'Qxg5', 'hxg5', 'Nf5', 'Bxf5', 'exf5', 'f6', 'g4', 'a5', 'Rf2', 'a4', 'a3', 'Rab8', 'Rd2', 'Ra8', 'Ne2', 'Nxe2', 'Rxe2', 'Rab8', 'Rd1', 'Rfd8', 'Red2', 'd5', 'cxd5', 'cxd5', 'Rxd5', 'Rxd5', 'Rxd5', 'b5', 'Kf3', 'b4', 'axb4', 'Rxb4', 'Ra5', 'Rxb2', 'Rxa4', 'Rxc2', 'Ke4', 'Rc3', 'Ra8+', 'Kh7', 'Kd5', 'Rxh3', 'Ke6', 'Rh4', 'Ra4', 'g6', 'Ra7+', 'Kh6', 'Ra8', 'Rxg4', 'Kf7', '*'] - * – #invalid san: '*'#\n",
      "Skipping bad move: ['d4', 'd5', 'c4', 'dxc4', 'Nc3', 'Nf6', 'e4', 'e5', 'd5', 'c6', 'Bxc4', 'cxd5', 'exd5', 'Bd6', 'Bg5', 'Bd7', 'Nge2', 'O-O', 'O-O', 'b5', 'Bd3', 'a6', 'Qc2', 'a5', 'a3', 'b4', 'axb4', 'axb4', 'Rxa8', 'bxc3', 'Bxf6', 'Qxf6', 'Bxh7+', 'Kh8', 'Be4', 'cxb2', 'Qxb2', 'Qxf2+', 'Rxf2', 'Bh3', 'gxh3', 'Nc6', 'Rxf8+', 'Bxf8', 'dxc6', 'f5', 'Bxf5', 'Ba3', 'Qb8+', '*'] - * – #invalid san: '*'#\n",
      "Skipping bad move: ['e4', 'c5', 'Nf3', 'g6', 'Bc4', 'Bg7', 'Nc3', 'e6', 'O-O', 'Ne7', 'b3', 'O-O', 'Bb2', 'b6', 'Rb1', 'Bb7', 'Nb5', 'Bxb2', 'Rxb2', 'Bxe4', 'Nd6', 'Bd5', 'Bxd5', 'Nxd5', 'c4', 'Nb4', 'a3', 'Nd3', 'Rb1', 'Qc7', 'Nb5', 'Qf4', 'Qe2', 'Qf5', 'Nh4', 'Qg5', 'Nf3', 'Qf5', 'Nd6', 'Nf4', 'Qe3', 'Qf6', 'Ne4', 'Qf5', 'Nh4', 'Qg4', 'g3', 'Nh3+', 'Kg2', 'f5', '*'] - * – #invalid san: '*'#\n",
      "Skipping bad move: ['d4', 'd5', 'e3', 'Nf6', 'Nf3', 'Bg4', 'h3', 'Bxf3', 'Qxf3', 'c6', 'Nd2', 'b5', 'c4', 'bxc4', 'e4', 'dxe4', 'Nxe4', 'Nxe4', 'Qxe4', 'Qb6', 'Bxc4', 'Qb4+', 'Bd2', 'Qxc4', 'Rc1', 'Qb5', 'b3', 'e6', 'a4', 'Qb7', 'O-O', 'Bd6', 'b4', 'O-O', 'b5', 'cxb5', 'Qxb7', '*'] - * – #invalid san: '*'#\n",
      "Skipping bad move: ['e4', 'd5', 'exd5', 'Qxd5', 'Nc3', 'Qa5', 'Nf3', 'Nf6', 'a3', 'c5', 'd4', 'e6', 'dxc5', 'Bxc5', 'Bd2', 'O-O', 'Ne4', 'Qb6', 'Nxf6+', 'gxf6', 'Be3', 'Bxe3', 'fxe3', 'Qxe3+', 'Be2', 'e5', 'Qd3', 'Qc5', 'b4', 'Qb6', 'O-O-O', 'f5', 'Nh4', 'e4', 'Qg3+', 'Kh8', 'Qe5+', 'f6', 'Qd5', 'Be6', 'Qc5', '*'] - * – #invalid san: '*'#\n",
      "Skipping bad move: ['e4', 'e6', 'Nf3', 'Ne7', 'Bc4', 'd6', 'd3', 'Nd7', 'e5', 'g6', 'exd6', 'cxd6', 'Bf4', 'Nc6', 'Bb5', 'a6', 'Bxc6', 'bxc6', 'Be3', 'Bb7', 'Bd4', 'f6', 'O-O', 'h5', 'Qe2', 'c5', 'Bc3', 'g5', 'Re1', 'e5', 'Na3', 'Rh7', 'b4', 'Re7', 'bxc5', 'dxc5', 'Rab1', 'Bxf3', 'Qxf3', 'Rb8', 'Rxb8', 'Qxb8', 'Ba5', 'g4', 'Qe4', 'Bg7', 'Qg6+', 'Rf7', 'Nc4', 'Bf8', 'Qxh5', 'f5', 'Nxe5', 'Nxe5', 'Qg6', 'Qb7', 'Qg5', 'Be7', 'Qg8+', 'Bf8', '*'] - * – #invalid san: '*'#\n",
      "Skipping bad move: ['e4', 'e5', 'Nf3', 'Nc6', 'Bb5', 'Nge7', 'O-O', 'a6', 'Ba4', 'b5', 'Bb3', 'h6', 'Re1', 'g6', 'c3', 'Bg7', 'd3', 'O-O', 'Nbd2', 'd6', 'Nf1', 'Na5', 'Ng3', 'Bg4', 'Bc2', 'c5', 'Bd2', 'Nac6', 'a4', 'Bxf3', 'Qxf3', 'f5', 'axb5', 'axb5', 'Rxa8', 'Qxa8', 'd4', 'exd4', 'exf5', 'Ne5', 'Qxa8', 'Rxa8', 'cxd4', 'cxd4', 'fxg6', 'N7xg6', 'Nf5', 'd3', 'Bb3+', 'Kh7', 'Nxd6', 'Nc4', 'Nf5', 'Nxd2', 'Nxg7', 'Nxb3', 'Nf5', 'Ra1', 'Rxa1', '*'] - * – #invalid san: '*'#\n"
     ]
    },
    {
     "name": "stderr",
     "output_type": "stream",
     "text": [
      "5431it [00:03, 1762.79it/s]"
     ]
    },
    {
     "name": "stdout",
     "output_type": "stream",
     "text": [
      "Skipping bad move: ['d4', 'd5', 'c4', 'e6', 'Nc3', 'dxc4', 'Bf4', 'a6', 'Nf3', 'Nc6', 'e3', 'Nf6', 'Bxc4', 'Bb4', 'O-O', 'O-O', 'Qc2', 'Qe7', 'Bg5', 'h6', 'Bh4', 'g5', 'Bxg5', 'hxg5', 'Nxg5', 'b5', 'Bd3', 'Bb7', 'Ne2', 'Nd5', 'Bh7+', 'Kg7', 'h4', 'f6', 'Qg6+', 'Kh8', '*'] - * – #invalid san: '*'#\n",
      "Skipping bad move: ['e4', 'Nc6', 'Nf3', 'd5', 'exd5', 'Qxd5', 'c4', 'Qa5', 'Nc3', 'Bf5', 'd4', 'O-O-O', 'Be2', 'Nb4', 'O-O', 'h5', 'Nh4', 'Bc2', 'Qd2', 'Bh7', 'a3', 'Nc2', 'Ra2', 'Nxd4', 'Nb5', 'Qb6', 'Rd1', 'Nf3+', 'gxf3', 'Rxd2', 'Rxd2', 'a6', 'Nc3', 'e6', 'Rd3', 'Be7', 'Rd1', 'Bxh4', 'Bd3', 'Bxf2+', 'Kg2', 'h4', 'Bxh7', 'h3+', 'Kxh3', 'Rxh7+', 'Kg2', 'e5', 'Bg5', 'f6', 'Bd2', 'g5', 'Rf1', 'Bh4', 'h3', '*'] - * – #invalid san: '*'#\n",
      "Skipping bad move: ['e4', 'e5', 'Nf3', 'h6', 'Nxe5', 'Nf6', 'd3', 'Bd6', 'Nf3', 'Be7', 'Nc3', 'd6', 'e5', 'dxe5', 'Nxe5', 'Be6', 'd4', 'Nbd7', 'Nxd7', 'Qxd7', 'Be2', 'Nd5', 'Nxd5', 'Qxd5', 'O-O', 'Bd7', 'Bf3', 'Qb5', 'Re1', 'Qb4', 'Qe2', 'Be6', 'Bd2', 'Qd6', 'd5', 'Bd7', 'a3', 'a6', 'Bb4', 'c5', 'Bc3', 'Rd8', 'Bxg7', 'Bb5', 'Qe4', 'Rg8', 'Be5', '*'] - * – #invalid san: '*'#\n",
      "Skipping bad move: ['e4', 'e5', 'Nf3', 'Nc6', 'Bc4', 'a6', 'O-O', 'd6', 'c3', 'Bg4', 'h3', 'Bxf3', 'Qxf3', 'Nf6', 'd3', 'b5', 'Bb3', 'g6', 'Bg5', 'Bg7', 'Nd2', 'h6', 'Bh4', 'g5', 'Bg3', 'Na5', '*'] - * – #invalid san: '*'#\n",
      "Skipping bad move: ['e4', 'e5', 'Bc4', 'Nf6', 'd3', 'Bc5', 'Nf3', 'h6', 'Nxe5', 'O-O', 'Nxf7', 'Rxf7', 'Bxf7+', 'Kxf7', 'd4', 'Bb6', 'f3', 'd5', 'e5', 'Nfd7', 'c3', 'Kg8', 'Be3', 'Nc6', 'Nd2', 'a6', 'a3', 'Ba7', 'b4', 'b5', 'Nb3', 'Ncb8', 'Nc5', 'Nxc5', 'dxc5', 'c6', 'Qd2', 'Nd7', 'O-O', 'Nxe5', 'Bd4', 'Ng6', 'Rfe1', 'Bd7', 'Re3', 'Qf8', 'Qe2', 'Re8', 'Re1', 'Rxe3', 'Bxe3', 'Bb8', 'Bd4', 'Qf4', 'g3', 'Qf8', 'f4', 'Nh8', 'Qe7', 'Qxe7', 'Rxe7', 'Bg4', 'Rb7', 'Bc7', 'Rxc7', 'Kh7', 'Rxc6', '*'] - * – #invalid san: '*'#\n",
      "Skipping bad move: ['d4', 'd5', 'Nf3', 'Nc6', 'g3', 'h6', 'Bg2', 'Bg4', 'O-O', 'Nf6', 'Ne5', 'Qd6', 'Bf4', 'Nxe5', 'dxe5', 'Qa6', 'Nc3', 'Nh5', 'Be3', 'Nf4', 'Bxf4', 'O-O-O', '*'] - * – #invalid san: '*'#\n",
      "Skipping bad move: ['e4', 'e5', 'Nf3', 'Nc6', 'Bc4', 'Bc5', 'O-O', 'd6', 'd3', 'Bg4', 'Bg5', 'f6', 'Bh4', 'g5', 'Bg3', 'Nge7', 'h3', 'Bh5', 'Qd2', 'Bxf3', 'gxf3', 'Nd4', 'Qd1', '*'] - * – #invalid san: '*'#\n",
      "Skipping bad move: ['e4', 'e5', 'Nf3', 'Nf6', 'c3', 'Nc6', 'd4', 'exd4', '*'] - * – #invalid san: '*'#\n",
      "Skipping bad move: ['d4', 'd5', 'Bf4', 'e6', 'e3', 'Nf6', 'Nf3', 'c6', 'h4', 'Bd6', 'Bxd6', 'Qxd6', 'h5', 'h6', 'Ne5', '*'] - * – #invalid san: '*'#\n",
      "Skipping bad move: ['e4', 'e5', 'Nf3', 'd5', 'Bb5+', 'c6', 'Bd3', 'Nf6', 'exd5', 'e4', 'Bxe4', 'Nxe4', 'Qe2', '*'] - * – #invalid san: '*'#\n",
      "Skipping bad move: ['e4', 'g6', 'd3', 'Bg7', 'Be3', 'e6', 'Nf3', 'Ne7', 'Nc3', 'c6', 'Be2', 'd5', 'd4', 'a6', 'exd5', 'cxd5', 'a4', 'b5', 'axb5', 'a5', '*'] - * – #invalid san: '*'#\n"
     ]
    },
    {
     "name": "stderr",
     "output_type": "stream",
     "text": [
      "5745it [00:03, 2108.10it/s]"
     ]
    },
    {
     "name": "stdout",
     "output_type": "stream",
     "text": [
      "Skipping bad move: ['e4', 'c5', 'Bc4', 'e6', 'Nc3', 'a6', 'a3', 'd6', 'd3', 'Qc7', 'h3', 'Nc6', 'Nf3', 'Nf6', 'Bg5', 'Be7', 'Qc1', '*'] - * – #invalid san: '*'#\n"
     ]
    },
    {
     "name": "stderr",
     "output_type": "stream",
     "text": [
      "10000it [00:07, 1415.61it/s]\n"
     ]
    },
    {
     "name": "stdout",
     "output_type": "stream",
     "text": [
      "Read 10000 in 9.085807800292969 | TOTAL: 1420000 | 127302\n",
      "Reading 143-th batch of games...\n"
     ]
    },
    {
     "name": "stderr",
     "output_type": "stream",
     "text": [
      "10000it [00:07, 1428.31it/s]\n"
     ]
    },
    {
     "name": "stdout",
     "output_type": "stream",
     "text": [
      "Read 10000 in 9.075610399246216 | TOTAL: 1430000 | 128248\n",
      "Reading 144-th batch of games...\n"
     ]
    },
    {
     "name": "stderr",
     "output_type": "stream",
     "text": [
      "10000it [00:07, 1402.27it/s]\n"
     ]
    },
    {
     "name": "stdout",
     "output_type": "stream",
     "text": [
      "Read 10000 in 9.19822382926941 | TOTAL: 1440000 | 129219\n",
      "Reading 145-th batch of games...\n"
     ]
    },
    {
     "name": "stderr",
     "output_type": "stream",
     "text": [
      "10000it [00:06, 1474.44it/s]\n"
     ]
    },
    {
     "name": "stdout",
     "output_type": "stream",
     "text": [
      "Read 10000 in 8.840415716171265 | TOTAL: 1450000 | 130133\n",
      "Reading 146-th batch of games...\n"
     ]
    },
    {
     "name": "stderr",
     "output_type": "stream",
     "text": [
      "10000it [00:07, 1343.66it/s]\n"
     ]
    },
    {
     "name": "stdout",
     "output_type": "stream",
     "text": [
      "Read 10000 in 9.516734600067139 | TOTAL: 1460000 | 131109\n",
      "Reading 147-th batch of games...\n"
     ]
    },
    {
     "name": "stderr",
     "output_type": "stream",
     "text": [
      "10000it [00:07, 1277.65it/s]\n"
     ]
    },
    {
     "name": "stdout",
     "output_type": "stream",
     "text": [
      "Read 10000 in 9.893184423446655 | TOTAL: 1470000 | 132159\n",
      "Reading 148-th batch of games...\n"
     ]
    },
    {
     "name": "stderr",
     "output_type": "stream",
     "text": [
      "10000it [00:07, 1365.69it/s]\n"
     ]
    },
    {
     "name": "stdout",
     "output_type": "stream",
     "text": [
      "Read 10000 in 9.404723405838013 | TOTAL: 1480000 | 133132\n",
      "Reading 149-th batch of games...\n"
     ]
    },
    {
     "name": "stderr",
     "output_type": "stream",
     "text": [
      "10000it [00:07, 1387.81it/s]\n"
     ]
    },
    {
     "name": "stdout",
     "output_type": "stream",
     "text": [
      "Read 10000 in 9.300960063934326 | TOTAL: 1490000 | 134104\n",
      "Reading 150-th batch of games...\n"
     ]
    },
    {
     "name": "stderr",
     "output_type": "stream",
     "text": [
      "10000it [00:07, 1406.06it/s]\n"
     ]
    },
    {
     "name": "stdout",
     "output_type": "stream",
     "text": [
      "Read 10000 in 9.249449491500854 | TOTAL: 1500000 | 135100\n",
      "Reading 151-th batch of games...\n"
     ]
    },
    {
     "name": "stderr",
     "output_type": "stream",
     "text": [
      "10000it [00:07, 1386.08it/s]\n"
     ]
    },
    {
     "name": "stdout",
     "output_type": "stream",
     "text": [
      "Read 10000 in 9.316760301589966 | TOTAL: 1510000 | 136079\n",
      "Reading 152-th batch of games...\n"
     ]
    },
    {
     "name": "stderr",
     "output_type": "stream",
     "text": [
      "10000it [00:07, 1346.16it/s]\n"
     ]
    },
    {
     "name": "stdout",
     "output_type": "stream",
     "text": [
      "Read 10000 in 9.591906070709229 | TOTAL: 1520000 | 137051\n",
      "Reading 153-th batch of games...\n"
     ]
    },
    {
     "name": "stderr",
     "output_type": "stream",
     "text": [
      "10000it [00:07, 1371.91it/s]\n"
     ]
    },
    {
     "name": "stdout",
     "output_type": "stream",
     "text": [
      "Read 10000 in 9.432372331619263 | TOTAL: 1530000 | 138033\n",
      "Reading 154-th batch of games...\n"
     ]
    },
    {
     "name": "stderr",
     "output_type": "stream",
     "text": [
      "10000it [00:07, 1426.52it/s]\n"
     ]
    },
    {
     "name": "stdout",
     "output_type": "stream",
     "text": [
      "Read 10000 in 9.2227144241333 | TOTAL: 1540000 | 138981\n",
      "Reading 155-th batch of games...\n"
     ]
    },
    {
     "name": "stderr",
     "output_type": "stream",
     "text": [
      "10000it [00:06, 1487.95it/s]\n"
     ]
    },
    {
     "name": "stdout",
     "output_type": "stream",
     "text": [
      "Read 10000 in 8.912602186203003 | TOTAL: 1550000 | 139899\n",
      "Reading 156-th batch of games...\n"
     ]
    },
    {
     "name": "stderr",
     "output_type": "stream",
     "text": [
      "10000it [00:06, 1471.58it/s]\n"
     ]
    },
    {
     "name": "stdout",
     "output_type": "stream",
     "text": [
      "Read 10000 in 9.00752329826355 | TOTAL: 1560000 | 140820\n",
      "Reading 157-th batch of games...\n"
     ]
    },
    {
     "name": "stderr",
     "output_type": "stream",
     "text": [
      "10000it [00:07, 1405.44it/s]\n"
     ]
    },
    {
     "name": "stdout",
     "output_type": "stream",
     "text": [
      "Read 10000 in 9.333527326583862 | TOTAL: 1570000 | 141734\n",
      "Reading 158-th batch of games...\n"
     ]
    },
    {
     "name": "stderr",
     "output_type": "stream",
     "text": [
      "10000it [00:06, 1484.27it/s]\n"
     ]
    },
    {
     "name": "stdout",
     "output_type": "stream",
     "text": [
      "Read 10000 in 8.94595193862915 | TOTAL: 1580000 | 142609\n",
      "Reading 159-th batch of games...\n"
     ]
    },
    {
     "name": "stderr",
     "output_type": "stream",
     "text": [
      "10000it [00:06, 1470.79it/s]\n"
     ]
    },
    {
     "name": "stdout",
     "output_type": "stream",
     "text": [
      "Read 10000 in 9.038963556289673 | TOTAL: 1590000 | 143488\n",
      "Reading 160-th batch of games...\n"
     ]
    },
    {
     "name": "stderr",
     "output_type": "stream",
     "text": [
      "10000it [00:06, 1490.33it/s]\n"
     ]
    },
    {
     "name": "stdout",
     "output_type": "stream",
     "text": [
      "Read 10000 in 8.934980869293213 | TOTAL: 1600000 | 144390\n",
      "Reading 161-th batch of games...\n"
     ]
    },
    {
     "name": "stderr",
     "output_type": "stream",
     "text": [
      "10000it [00:06, 1580.20it/s]\n"
     ]
    },
    {
     "name": "stdout",
     "output_type": "stream",
     "text": [
      "Read 10000 in 8.60138750076294 | TOTAL: 1610000 | 145215\n",
      "Reading 162-th batch of games...\n"
     ]
    },
    {
     "name": "stderr",
     "output_type": "stream",
     "text": [
      "10000it [00:07, 1414.57it/s]\n"
     ]
    },
    {
     "name": "stdout",
     "output_type": "stream",
     "text": [
      "Read 10000 in 9.373316049575806 | TOTAL: 1620000 | 146099\n",
      "Reading 163-th batch of games...\n"
     ]
    },
    {
     "name": "stderr",
     "output_type": "stream",
     "text": [
      "10000it [00:07, 1426.31it/s]\n"
     ]
    },
    {
     "name": "stdout",
     "output_type": "stream",
     "text": [
      "Read 10000 in 9.334444999694824 | TOTAL: 1630000 | 147038\n",
      "Reading 164-th batch of games...\n"
     ]
    },
    {
     "name": "stderr",
     "output_type": "stream",
     "text": [
      "10000it [00:06, 1484.74it/s]\n"
     ]
    },
    {
     "name": "stdout",
     "output_type": "stream",
     "text": [
      "Read 10000 in 9.075520038604736 | TOTAL: 1640000 | 147877\n",
      "Reading 165-th batch of games...\n"
     ]
    },
    {
     "name": "stderr",
     "output_type": "stream",
     "text": [
      "2300it [00:01, 1540.65it/s]"
     ]
    },
    {
     "name": "stdout",
     "output_type": "stream",
     "text": [
      "Skipping bad move: ['e4', 'c5', 'Nf3', 'Nc6', 'a3', 'Nf6', 'Nc3', 'g6', 'e5', 'Ng4', 'h3', 'Ngxe5', 'Nxe5', 'Nxe5', 'Bb5', 'Bg7', 'O-O', 'O-O', 'Ba4', 'd6', 'Bb3', 'b5', 'f4', 'Nd7', 'Bd5', 'Rb8', 'Bc6', 'a6', 'Bd5', 'e6', 'Ba2', 'd5', 'Ne2', 'Bb7', 'd3', 'Nf6', 'c3', 'Qb6', 'Be3', 'Qc6', 'Rc1', 'd4', 'Rf3', 'dxe3', 'Qf1', 'Nd5', 'c4', 'bxc4', 'Bxc4', 'Bxb2', 'Rc2', 'Bg7', 'd4', 'cxd4', 'Bd3', 'Qd6', 'Qc1', 'Nc3', 'Rf1', 'Qd5', 'Rf3', 'Nxe2+', 'Rxe2', 'Qd6', 'Rf1', 'Rfc8', 'Qd1', 'Qxa3', 'Kh2', 'Qd6', 'Kg1', 'e5', 'fxe5', 'Qxe5', 'Kh1', 'Rc3', '*'] - * – #invalid san: '*'#\n"
     ]
    },
    {
     "name": "stderr",
     "output_type": "stream",
     "text": [
      "2985it [00:01, 1637.16it/s]"
     ]
    },
    {
     "name": "stdout",
     "output_type": "stream",
     "text": [
      "Skipping bad move: ['d4', 'Nf6', 'Bf4', 'd6', 'e3', 'g6', 'Nf3', 'Bg7', 'Be2', 'c5', 'c3', 'cxd4', 'exd4', 'Nc6', 'O-O', 'O-O', 'Nbd2', 'Re8', 'h3', 'e5', 'Bh2', '*'] - * – #invalid san: '*'#\n",
      "Skipping bad move: ['e4', 'e6', 'Nf3', 'd5', 'exd5', 'exd5', 'd4', 'Be6', 'Be2', 'Bb4+', 'c3', 'Bd6', 'O-O', 'Ne7', 'b3', 'O-O', 'c4', 'f5', 'Nc3', 'c6', 'Bb2', 'b5', 'cxb5', 'cxb5', 'Nxb5', 'a6', 'Nxd6', 'Qxd6', 'Rc1', 'Nd7', 'Qd2', 'Nb6', 'a4', 'Rad8', 'Ra1', 'Ng6', 'Ba3', 'Qc6', 'Bxf8', '*'] - * – #invalid san: '*'#\n"
     ]
    },
    {
     "name": "stderr",
     "output_type": "stream",
     "text": [
      "10000it [00:06, 1556.93it/s]\n"
     ]
    },
    {
     "name": "stdout",
     "output_type": "stream",
     "text": [
      "Read 10000 in 8.75305724143982 | TOTAL: 1650000 | 148714\n",
      "Reading 166-th batch of games...\n"
     ]
    },
    {
     "name": "stderr",
     "output_type": "stream",
     "text": [
      "10000it [00:07, 1390.79it/s]\n"
     ]
    },
    {
     "name": "stdout",
     "output_type": "stream",
     "text": [
      "Read 10000 in 9.580037117004395 | TOTAL: 1660000 | 149657\n",
      "Reading 167-th batch of games...\n"
     ]
    },
    {
     "name": "stderr",
     "output_type": "stream",
     "text": [
      "10000it [00:07, 1312.67it/s]\n"
     ]
    },
    {
     "name": "stdout",
     "output_type": "stream",
     "text": [
      "Read 10000 in 10.007611751556396 | TOTAL: 1670000 | 150666\n",
      "Reading 168-th batch of games...\n"
     ]
    },
    {
     "name": "stderr",
     "output_type": "stream",
     "text": [
      "10000it [00:06, 1625.46it/s]\n"
     ]
    },
    {
     "name": "stdout",
     "output_type": "stream",
     "text": [
      "Read 10000 in 8.492855072021484 | TOTAL: 1680000 | 151492\n",
      "Reading 169-th batch of games...\n"
     ]
    },
    {
     "name": "stderr",
     "output_type": "stream",
     "text": [
      "10000it [00:06, 1485.23it/s]\n"
     ]
    },
    {
     "name": "stdout",
     "output_type": "stream",
     "text": [
      "Read 10000 in 9.115094900131226 | TOTAL: 1690000 | 152352\n",
      "Reading 170-th batch of games...\n"
     ]
    },
    {
     "name": "stderr",
     "output_type": "stream",
     "text": [
      "10000it [00:06, 1430.35it/s]\n"
     ]
    },
    {
     "name": "stdout",
     "output_type": "stream",
     "text": [
      "Read 10000 in 9.415754556655884 | TOTAL: 1700000 | 153251\n",
      "Reading 171-th batch of games...\n"
     ]
    },
    {
     "name": "stderr",
     "output_type": "stream",
     "text": [
      "10000it [00:07, 1408.95it/s]\n"
     ]
    },
    {
     "name": "stdout",
     "output_type": "stream",
     "text": [
      "Read 10000 in 9.47825288772583 | TOTAL: 1710000 | 154207\n",
      "Reading 172-th batch of games...\n"
     ]
    },
    {
     "name": "stderr",
     "output_type": "stream",
     "text": [
      "10000it [00:06, 1431.89it/s]\n"
     ]
    },
    {
     "name": "stdout",
     "output_type": "stream",
     "text": [
      "Read 10000 in 9.36893606185913 | TOTAL: 1720000 | 155136\n",
      "Reading 173-th batch of games...\n"
     ]
    },
    {
     "name": "stderr",
     "output_type": "stream",
     "text": [
      "10000it [00:06, 1528.54it/s]\n"
     ]
    },
    {
     "name": "stdout",
     "output_type": "stream",
     "text": [
      "Read 10000 in 8.962926149368286 | TOTAL: 1730000 | 155992\n",
      "Reading 174-th batch of games...\n"
     ]
    },
    {
     "name": "stderr",
     "output_type": "stream",
     "text": [
      "10000it [00:06, 1610.85it/s]\n"
     ]
    },
    {
     "name": "stdout",
     "output_type": "stream",
     "text": [
      "Read 10000 in 8.622560501098633 | TOTAL: 1740000 | 156804\n",
      "Reading 175-th batch of games...\n"
     ]
    },
    {
     "name": "stderr",
     "output_type": "stream",
     "text": [
      "10000it [00:07, 1330.81it/s]\n"
     ]
    },
    {
     "name": "stdout",
     "output_type": "stream",
     "text": [
      "Read 10000 in 9.954623699188232 | TOTAL: 1750000 | 157645\n",
      "Reading 176-th batch of games...\n"
     ]
    },
    {
     "name": "stderr",
     "output_type": "stream",
     "text": [
      "10000it [00:06, 1461.22it/s]\n"
     ]
    },
    {
     "name": "stdout",
     "output_type": "stream",
     "text": [
      "Read 10000 in 9.283115863800049 | TOTAL: 1760000 | 158535\n",
      "Reading 177-th batch of games...\n"
     ]
    },
    {
     "name": "stderr",
     "output_type": "stream",
     "text": [
      "10000it [00:06, 1566.14it/s]\n"
     ]
    },
    {
     "name": "stdout",
     "output_type": "stream",
     "text": [
      "Read 10000 in 8.868393898010254 | TOTAL: 1770000 | 159369\n",
      "Reading 178-th batch of games...\n"
     ]
    },
    {
     "name": "stderr",
     "output_type": "stream",
     "text": [
      "10000it [00:06, 1598.91it/s]\n"
     ]
    },
    {
     "name": "stdout",
     "output_type": "stream",
     "text": [
      "Read 10000 in 8.754806995391846 | TOTAL: 1780000 | 160182\n",
      "Reading 179-th batch of games...\n"
     ]
    },
    {
     "name": "stderr",
     "output_type": "stream",
     "text": [
      "10000it [00:06, 1441.99it/s]\n"
     ]
    },
    {
     "name": "stdout",
     "output_type": "stream",
     "text": [
      "Read 10000 in 9.481677770614624 | TOTAL: 1790000 | 161052\n",
      "Reading 180-th batch of games...\n"
     ]
    },
    {
     "name": "stderr",
     "output_type": "stream",
     "text": [
      "10000it [00:06, 1432.81it/s]\n"
     ]
    },
    {
     "name": "stdout",
     "output_type": "stream",
     "text": [
      "Read 10000 in 9.564744234085083 | TOTAL: 1800000 | 161942\n",
      "Reading 181-th batch of games...\n"
     ]
    },
    {
     "name": "stderr",
     "output_type": "stream",
     "text": [
      "10000it [00:06, 1444.90it/s]\n"
     ]
    },
    {
     "name": "stdout",
     "output_type": "stream",
     "text": [
      "Read 10000 in 9.478489398956299 | TOTAL: 1810000 | 162832\n",
      "Reading 182-th batch of games...\n"
     ]
    },
    {
     "name": "stderr",
     "output_type": "stream",
     "text": [
      "10000it [00:06, 1480.88it/s]\n"
     ]
    },
    {
     "name": "stdout",
     "output_type": "stream",
     "text": [
      "Read 10000 in 9.311588764190674 | TOTAL: 1820000 | 163729\n",
      "Reading 183-th batch of games...\n"
     ]
    },
    {
     "name": "stderr",
     "output_type": "stream",
     "text": [
      "10000it [00:06, 1577.56it/s]\n"
     ]
    },
    {
     "name": "stdout",
     "output_type": "stream",
     "text": [
      "Read 10000 in 8.910884618759155 | TOTAL: 1830000 | 164565\n",
      "Reading 184-th batch of games...\n"
     ]
    },
    {
     "name": "stderr",
     "output_type": "stream",
     "text": [
      "10000it [00:06, 1470.51it/s]\n"
     ]
    },
    {
     "name": "stdout",
     "output_type": "stream",
     "text": [
      "Read 10000 in 9.34895634651184 | TOTAL: 1840000 | 165442\n",
      "Reading 185-th batch of games...\n"
     ]
    },
    {
     "name": "stderr",
     "output_type": "stream",
     "text": [
      "10000it [00:06, 1434.66it/s]\n"
     ]
    },
    {
     "name": "stdout",
     "output_type": "stream",
     "text": [
      "Read 10000 in 9.556920528411865 | TOTAL: 1850000 | 166373\n",
      "Reading 186-th batch of games...\n"
     ]
    },
    {
     "name": "stderr",
     "output_type": "stream",
     "text": [
      "10000it [00:07, 1345.30it/s]\n"
     ]
    },
    {
     "name": "stdout",
     "output_type": "stream",
     "text": [
      "Read 10000 in 10.040979862213135 | TOTAL: 1860000 | 167380\n",
      "Reading 187-th batch of games...\n"
     ]
    },
    {
     "name": "stderr",
     "output_type": "stream",
     "text": [
      "10000it [00:07, 1406.25it/s]\n"
     ]
    },
    {
     "name": "stdout",
     "output_type": "stream",
     "text": [
      "Read 10000 in 9.7244713306427 | TOTAL: 1870000 | 168318\n",
      "Reading 188-th batch of games...\n"
     ]
    },
    {
     "name": "stderr",
     "output_type": "stream",
     "text": [
      "10000it [00:06, 1439.09it/s]\n"
     ]
    },
    {
     "name": "stdout",
     "output_type": "stream",
     "text": [
      "Read 10000 in 9.58097505569458 | TOTAL: 1880000 | 169260\n",
      "Reading 189-th batch of games...\n"
     ]
    },
    {
     "name": "stderr",
     "output_type": "stream",
     "text": [
      "10000it [00:07, 1290.03it/s]\n"
     ]
    },
    {
     "name": "stdout",
     "output_type": "stream",
     "text": [
      "Read 10000 in 10.386192798614502 | TOTAL: 1890000 | 170246\n",
      "Reading 190-th batch of games...\n"
     ]
    },
    {
     "name": "stderr",
     "output_type": "stream",
     "text": [
      "10000it [00:07, 1419.12it/s]\n"
     ]
    },
    {
     "name": "stdout",
     "output_type": "stream",
     "text": [
      "Read 10000 in 9.718935489654541 | TOTAL: 1900000 | 171186\n",
      "Reading 191-th batch of games...\n"
     ]
    },
    {
     "name": "stderr",
     "output_type": "stream",
     "text": [
      "10000it [00:06, 1452.36it/s]\n"
     ]
    },
    {
     "name": "stdout",
     "output_type": "stream",
     "text": [
      "Read 10000 in 9.602296829223633 | TOTAL: 1910000 | 172065\n",
      "Reading 192-th batch of games...\n"
     ]
    },
    {
     "name": "stderr",
     "output_type": "stream",
     "text": [
      "10000it [00:06, 1484.82it/s]\n"
     ]
    },
    {
     "name": "stdout",
     "output_type": "stream",
     "text": [
      "Read 10000 in 9.391750574111938 | TOTAL: 1920000 | 172939\n",
      "Reading 193-th batch of games...\n"
     ]
    },
    {
     "name": "stderr",
     "output_type": "stream",
     "text": [
      "10000it [00:06, 1456.98it/s]\n"
     ]
    },
    {
     "name": "stdout",
     "output_type": "stream",
     "text": [
      "Read 10000 in 9.57900071144104 | TOTAL: 1930000 | 173815\n",
      "Reading 194-th batch of games...\n"
     ]
    },
    {
     "name": "stderr",
     "output_type": "stream",
     "text": [
      "10000it [00:06, 1522.49it/s]\n"
     ]
    },
    {
     "name": "stdout",
     "output_type": "stream",
     "text": [
      "Read 10000 in 9.263597011566162 | TOTAL: 1940000 | 174686\n",
      "Reading 195-th batch of games...\n"
     ]
    },
    {
     "name": "stderr",
     "output_type": "stream",
     "text": [
      "10000it [00:06, 1471.94it/s]\n"
     ]
    },
    {
     "name": "stdout",
     "output_type": "stream",
     "text": [
      "Read 10000 in 9.499775171279907 | TOTAL: 1950000 | 175565\n",
      "Reading 196-th batch of games...\n"
     ]
    },
    {
     "name": "stderr",
     "output_type": "stream",
     "text": [
      "10000it [00:06, 1554.11it/s]\n"
     ]
    },
    {
     "name": "stdout",
     "output_type": "stream",
     "text": [
      "Read 10000 in 9.147129535675049 | TOTAL: 1960000 | 176405\n",
      "Reading 197-th batch of games...\n"
     ]
    },
    {
     "name": "stderr",
     "output_type": "stream",
     "text": [
      "10000it [00:06, 1531.93it/s]\n"
     ]
    },
    {
     "name": "stdout",
     "output_type": "stream",
     "text": [
      "Read 10000 in 9.272074460983276 | TOTAL: 1970000 | 177249\n",
      "Reading 198-th batch of games...\n"
     ]
    },
    {
     "name": "stderr",
     "output_type": "stream",
     "text": [
      "10000it [00:07, 1396.63it/s]\n"
     ]
    },
    {
     "name": "stdout",
     "output_type": "stream",
     "text": [
      "Read 10000 in 10.040277242660522 | TOTAL: 1980000 | 178179\n",
      "Reading 199-th batch of games...\n"
     ]
    },
    {
     "name": "stderr",
     "output_type": "stream",
     "text": [
      "10000it [00:06, 1455.37it/s]\n"
     ]
    },
    {
     "name": "stdout",
     "output_type": "stream",
     "text": [
      "Read 10000 in 9.654191970825195 | TOTAL: 1990000 | 179091\n",
      "Reading 200-th batch of games...\n"
     ]
    },
    {
     "name": "stderr",
     "output_type": "stream",
     "text": [
      "10000it [00:06, 1532.72it/s]\n"
     ]
    },
    {
     "name": "stdout",
     "output_type": "stream",
     "text": [
      "Read 10000 in 9.309142351150513 | TOTAL: 2000000 | 179948\n",
      "Reading 201-th batch of games...\n"
     ]
    },
    {
     "name": "stderr",
     "output_type": "stream",
     "text": [
      "10000it [00:06, 1571.68it/s]\n"
     ]
    },
    {
     "name": "stdout",
     "output_type": "stream",
     "text": [
      "Read 10000 in 9.166454553604126 | TOTAL: 2010000 | 180774\n",
      "Reading 202-th batch of games...\n"
     ]
    },
    {
     "name": "stderr",
     "output_type": "stream",
     "text": [
      "10000it [00:07, 1416.45it/s]\n"
     ]
    },
    {
     "name": "stdout",
     "output_type": "stream",
     "text": [
      "Read 10000 in 9.900473356246948 | TOTAL: 2020000 | 181727\n",
      "Reading 203-th batch of games...\n"
     ]
    },
    {
     "name": "stderr",
     "output_type": "stream",
     "text": [
      "10000it [00:07, 1369.30it/s]\n"
     ]
    },
    {
     "name": "stdout",
     "output_type": "stream",
     "text": [
      "Read 10000 in 10.135390281677246 | TOTAL: 2030000 | 182679\n",
      "Reading 204-th batch of games...\n"
     ]
    },
    {
     "name": "stderr",
     "output_type": "stream",
     "text": [
      "10000it [00:06, 1463.15it/s]\n"
     ]
    },
    {
     "name": "stdout",
     "output_type": "stream",
     "text": [
      "Read 10000 in 9.693752527236938 | TOTAL: 2040000 | 183587\n",
      "Reading 205-th batch of games...\n"
     ]
    },
    {
     "name": "stderr",
     "output_type": "stream",
     "text": [
      "10000it [00:07, 1298.20it/s]\n"
     ]
    },
    {
     "name": "stdout",
     "output_type": "stream",
     "text": [
      "Read 10000 in 10.58201289176941 | TOTAL: 2050000 | 184611\n",
      "Reading 206-th batch of games...\n"
     ]
    },
    {
     "name": "stderr",
     "output_type": "stream",
     "text": [
      "10000it [00:06, 1465.56it/s]\n"
     ]
    },
    {
     "name": "stdout",
     "output_type": "stream",
     "text": [
      "Read 10000 in 9.731500148773193 | TOTAL: 2060000 | 185521\n",
      "Reading 207-th batch of games...\n"
     ]
    },
    {
     "name": "stderr",
     "output_type": "stream",
     "text": [
      "10000it [00:07, 1355.84it/s]\n"
     ]
    },
    {
     "name": "stdout",
     "output_type": "stream",
     "text": [
      "Read 10000 in 10.257983922958374 | TOTAL: 2070000 | 186498\n",
      "Reading 208-th batch of games...\n"
     ]
    },
    {
     "name": "stderr",
     "output_type": "stream",
     "text": [
      "10000it [00:07, 1359.04it/s]\n"
     ]
    },
    {
     "name": "stdout",
     "output_type": "stream",
     "text": [
      "Read 10000 in 10.267683506011963 | TOTAL: 2080000 | 187488\n",
      "Reading 209-th batch of games...\n"
     ]
    },
    {
     "name": "stderr",
     "output_type": "stream",
     "text": [
      "10000it [00:07, 1399.58it/s]\n"
     ]
    },
    {
     "name": "stdout",
     "output_type": "stream",
     "text": [
      "Read 10000 in 10.051008701324463 | TOTAL: 2090000 | 188379\n",
      "Reading 210-th batch of games...\n"
     ]
    },
    {
     "name": "stderr",
     "output_type": "stream",
     "text": [
      "10000it [00:07, 1410.21it/s]\n"
     ]
    },
    {
     "name": "stdout",
     "output_type": "stream",
     "text": [
      "Read 10000 in 10.03735899925232 | TOTAL: 2100000 | 189336\n",
      "Reading 211-th batch of games...\n"
     ]
    },
    {
     "name": "stderr",
     "output_type": "stream",
     "text": [
      "10000it [00:07, 1396.39it/s]\n"
     ]
    },
    {
     "name": "stdout",
     "output_type": "stream",
     "text": [
      "Read 10000 in 10.089811086654663 | TOTAL: 2110000 | 190277\n",
      "Reading 212-th batch of games...\n"
     ]
    },
    {
     "name": "stderr",
     "output_type": "stream",
     "text": [
      "10000it [00:06, 1461.40it/s]\n"
     ]
    },
    {
     "name": "stdout",
     "output_type": "stream",
     "text": [
      "Read 10000 in 9.815679550170898 | TOTAL: 2120000 | 191145\n",
      "Reading 213-th batch of games...\n"
     ]
    },
    {
     "name": "stderr",
     "output_type": "stream",
     "text": [
      "10000it [00:06, 1506.41it/s]\n"
     ]
    },
    {
     "name": "stdout",
     "output_type": "stream",
     "text": [
      "Read 10000 in 9.625474452972412 | TOTAL: 2130000 | 192021\n",
      "Reading 214-th batch of games...\n"
     ]
    },
    {
     "name": "stderr",
     "output_type": "stream",
     "text": [
      "10000it [00:06, 1500.58it/s]\n"
     ]
    },
    {
     "name": "stdout",
     "output_type": "stream",
     "text": [
      "Read 10000 in 9.680418014526367 | TOTAL: 2140000 | 192896\n",
      "Reading 215-th batch of games...\n"
     ]
    },
    {
     "name": "stderr",
     "output_type": "stream",
     "text": [
      "10000it [00:07, 1418.53it/s]\n"
     ]
    },
    {
     "name": "stdout",
     "output_type": "stream",
     "text": [
      "Read 10000 in 10.02095890045166 | TOTAL: 2150000 | 193806\n",
      "Reading 216-th batch of games...\n"
     ]
    },
    {
     "name": "stderr",
     "output_type": "stream",
     "text": [
      "10000it [00:06, 1524.87it/s]\n"
     ]
    },
    {
     "name": "stdout",
     "output_type": "stream",
     "text": [
      "Read 10000 in 9.607138633728027 | TOTAL: 2160000 | 194657\n",
      "Reading 217-th batch of games...\n"
     ]
    },
    {
     "name": "stderr",
     "output_type": "stream",
     "text": [
      "10000it [00:06, 1520.38it/s]\n"
     ]
    },
    {
     "name": "stdout",
     "output_type": "stream",
     "text": [
      "Read 10000 in 9.599594116210938 | TOTAL: 2170000 | 195545\n",
      "Reading 218-th batch of games...\n"
     ]
    },
    {
     "name": "stderr",
     "output_type": "stream",
     "text": [
      "10000it [00:06, 1515.34it/s]\n"
     ]
    },
    {
     "name": "stdout",
     "output_type": "stream",
     "text": [
      "Read 10000 in 9.654235124588013 | TOTAL: 2180000 | 196401\n",
      "Reading 219-th batch of games...\n"
     ]
    },
    {
     "name": "stderr",
     "output_type": "stream",
     "text": [
      "10000it [00:07, 1401.66it/s]\n"
     ]
    },
    {
     "name": "stdout",
     "output_type": "stream",
     "text": [
      "Read 10000 in 10.24913740158081 | TOTAL: 2190000 | 197358\n",
      "Reading 220-th batch of games...\n"
     ]
    },
    {
     "name": "stderr",
     "output_type": "stream",
     "text": [
      "10000it [00:07, 1413.63it/s]\n"
     ]
    },
    {
     "name": "stdout",
     "output_type": "stream",
     "text": [
      "Read 10000 in 10.149648427963257 | TOTAL: 2200000 | 198307\n",
      "Reading 221-th batch of games...\n"
     ]
    },
    {
     "name": "stderr",
     "output_type": "stream",
     "text": [
      "10000it [00:07, 1397.54it/s]\n"
     ]
    },
    {
     "name": "stdout",
     "output_type": "stream",
     "text": [
      "Read 10000 in 10.244083881378174 | TOTAL: 2210000 | 199206\n",
      "Reading 222-th batch of games...\n"
     ]
    },
    {
     "name": "stderr",
     "output_type": "stream",
     "text": [
      "10000it [00:07, 1415.07it/s]\n"
     ]
    },
    {
     "name": "stdout",
     "output_type": "stream",
     "text": [
      "Read 10000 in 10.188591718673706 | TOTAL: 2220000 | 200108\n",
      "Reading 223-th batch of games...\n"
     ]
    },
    {
     "name": "stderr",
     "output_type": "stream",
     "text": [
      "1512it [00:01, 1424.51it/s]"
     ]
    },
    {
     "name": "stdout",
     "output_type": "stream",
     "text": [
      "Skipping bad move: ['d4', 'd5', 'c4', 'Nf6', 'c5', 'Bf5', 'e3', 'Bxb1', 'Rxb1', 'Nc6', 'a3', 'Qd7', 'Bb5', 'e5', 'Qa4', 'exd4', 'Nf3', 'dxe3', 'Ne5', 'exf2+', 'Kf1', 'Qf5', 'Bd3', 'Qxe5', 'Bd2', 'Qd4', 'Qxd4', 'Nxd4', 'Rc1', 'Nb3', 'Rc2', 'Ng4', 'Bf5', 'Nxd2+', 'Rxd2', 'Ne3+', 'Kxf2', 'Nxf5', 'Rxd5', 'g6', 'Re1+', 'Be7', 'Red1', 'O-O', 'g4', 'c6', 'Rd7', 'Bh4+', 'Kf3', 'Ng7', 'Rxb7', 'Ne6', 'Rdd7', 'Nxc5', 'Rxa7', 'Nxd7', 'Rxd7', 'Rfe8', 'Rd6', 'Re6', 'Rd7', 'c5', 'Rc7', 'Re5', 'Kf4', 'Rd5', 'Ke4', 'Rad8', 'Kf3', 'Rd3+', 'Ke2', 'Rd2+', 'Ke3', 'R8d3+', 'Ke4', 'Rd4+', 'Ke5', 'c4', 'Rc8+', 'Kg7', 'a4', 'Rxg4', 'a5', 'Re2+', 'Kd5', 'Rg5+', 'Kxc4', 'Rxa5', 'Kb4', 'Ra7', 'Rc4', 'Rxb2+', 'Kc3', 'Rbb7', 'Rxh4', '*'] - * – #invalid san: '*'#\n"
     ]
    },
    {
     "name": "stderr",
     "output_type": "stream",
     "text": [
      "10000it [00:06, 1451.36it/s]\n"
     ]
    },
    {
     "name": "stdout",
     "output_type": "stream",
     "text": [
      "Read 10000 in 10.015970706939697 | TOTAL: 2230000 | 201057\n",
      "Reading 224-th batch of games...\n"
     ]
    },
    {
     "name": "stderr",
     "output_type": "stream",
     "text": [
      "10000it [00:07, 1409.60it/s]\n"
     ]
    },
    {
     "name": "stdout",
     "output_type": "stream",
     "text": [
      "Read 10000 in 10.221558332443237 | TOTAL: 2240000 | 201988\n",
      "Reading 225-th batch of games...\n"
     ]
    },
    {
     "name": "stderr",
     "output_type": "stream",
     "text": [
      "7605it [00:04, 1693.97it/s]"
     ]
    },
    {
     "name": "stdout",
     "output_type": "stream",
     "text": [
      "Skipping bad move: ['e4', 'e6', 'e5', 'f6', 'd4', 'fxe5', 'dxe5', 'Bc5', 'Nf3', 'Ne7', 'Bd3', 'O-O', 'O-O', 'Nbc6', 'Ng5', 'h6', 'Qh5', 'Nf5', 'Nf3', 'Ncd4', 'Nxd4', 'Bxd4', 'c3', 'Bxe5', 'g4', 'Ne7', 'Bxh6', 'gxh6', 'Qxe5', 'Nc6', 'Qe4', 'Rf7', 'Qg6+', 'Kf8', 'Qxh6+', 'Rg7', 'Qh8+', 'Kf7', 'Qh5+', 'Kf8', 'f4', 'Qe8', 'Qh8+', 'Kf7', 'Qh5+', 'Kf8', 'f5', 'Qxh5', 'fxe6+', 'Ke7', '*'] - * – #invalid san: '*'#\n"
     ]
    },
    {
     "name": "stderr",
     "output_type": "stream",
     "text": [
      "8145it [00:05, 1561.42it/s]"
     ]
    },
    {
     "name": "stdout",
     "output_type": "stream",
     "text": [
      "Skipping bad move: ['e4', 'e5', 'Nf3', 'Nc6', 'd4', 'd5', 'exd5', 'e4', 'dxc6', 'exf3', 'cxb7', 'Bxb7', 'gxf3', 'Qd5', 'Bg2', 'Bd6', 'Qe2+', 'Ne7', 'Be3', 'O-O', 'c4', 'Qa5+', 'Nc3', 'Bb4', 'O-O', 'f5', 'Bg5', 'Ng6', 'a3', 'Bd6', 'b4', 'Qb6', 'c5', 'Qa6', 'Qd2', 'Be7', 'b5', 'Qe6', 'd5', 'Qe5', 'Bxe7', 'Nxe7', 'Rfe1', 'Qf6', 'c6', 'Bc8', 'Bh3', 'f4', 'Bxc8', 'Raxc8', 'Ne4', 'Qf5', 'd6', 'Ng6', 'dxc7', 'Nh4', 'Nd6', 'Nxf3+', 'Kf1', 'Nxd2+', 'Kg2', 'Qg6+', 'Kh3', 'Qxd6', 'Red1', 'Qe6+', 'Kg2', 'Qe4+', 'f3', 'Qxf3+', 'Kg1', 'Qe3+', 'Kg2', 'f3+', 'Kh3', 'f2+', '*'] - * – #invalid san: '*'#\n"
     ]
    },
    {
     "name": "stderr",
     "output_type": "stream",
     "text": [
      "10000it [00:06, 1563.62it/s]\n"
     ]
    },
    {
     "name": "stdout",
     "output_type": "stream",
     "text": [
      "Read 10000 in 9.464672088623047 | TOTAL: 2250000 | 202851\n",
      "Reading 226-th batch of games...\n"
     ]
    },
    {
     "name": "stderr",
     "output_type": "stream",
     "text": [
      "10000it [00:07, 1311.41it/s]\n"
     ]
    },
    {
     "name": "stdout",
     "output_type": "stream",
     "text": [
      "Read 10000 in 10.88580060005188 | TOTAL: 2260000 | 203808\n",
      "Reading 227-th batch of games...\n"
     ]
    },
    {
     "name": "stderr",
     "output_type": "stream",
     "text": [
      "10000it [00:07, 1376.47it/s]\n"
     ]
    },
    {
     "name": "stdout",
     "output_type": "stream",
     "text": [
      "Read 10000 in 10.450402975082397 | TOTAL: 2270000 | 204761\n",
      "Reading 228-th batch of games...\n"
     ]
    },
    {
     "name": "stderr",
     "output_type": "stream",
     "text": [
      "10000it [00:07, 1398.90it/s]\n"
     ]
    },
    {
     "name": "stdout",
     "output_type": "stream",
     "text": [
      "Read 10000 in 10.360671043395996 | TOTAL: 2280000 | 205712\n",
      "Reading 229-th batch of games...\n"
     ]
    },
    {
     "name": "stderr",
     "output_type": "stream",
     "text": [
      "10000it [00:07, 1425.74it/s]\n"
     ]
    },
    {
     "name": "stdout",
     "output_type": "stream",
     "text": [
      "Read 10000 in 10.267942428588867 | TOTAL: 2290000 | 206625\n",
      "Reading 230-th batch of games...\n"
     ]
    },
    {
     "name": "stderr",
     "output_type": "stream",
     "text": [
      "10000it [00:07, 1417.42it/s]\n"
     ]
    },
    {
     "name": "stdout",
     "output_type": "stream",
     "text": [
      "Read 10000 in 10.293331146240234 | TOTAL: 2300000 | 207566\n",
      "Reading 231-th batch of games...\n"
     ]
    },
    {
     "name": "stderr",
     "output_type": "stream",
     "text": [
      "10000it [00:06, 1597.81it/s]\n"
     ]
    },
    {
     "name": "stdout",
     "output_type": "stream",
     "text": [
      "Read 10000 in 9.4685378074646 | TOTAL: 2310000 | 208383\n",
      "Reading 232-th batch of games...\n"
     ]
    },
    {
     "name": "stderr",
     "output_type": "stream",
     "text": [
      "10000it [00:06, 1519.99it/s]\n"
     ]
    },
    {
     "name": "stdout",
     "output_type": "stream",
     "text": [
      "Read 10000 in 9.834467887878418 | TOTAL: 2320000 | 209254\n",
      "Reading 233-th batch of games...\n"
     ]
    },
    {
     "name": "stderr",
     "output_type": "stream",
     "text": [
      "10000it [00:06, 1445.40it/s]\n"
     ]
    },
    {
     "name": "stdout",
     "output_type": "stream",
     "text": [
      "Read 10000 in 10.164828777313232 | TOTAL: 2330000 | 210160\n",
      "Reading 234-th batch of games...\n"
     ]
    },
    {
     "name": "stderr",
     "output_type": "stream",
     "text": [
      "10000it [00:06, 1448.12it/s]\n"
     ]
    },
    {
     "name": "stdout",
     "output_type": "stream",
     "text": [
      "Read 10000 in 10.219165086746216 | TOTAL: 2340000 | 211063\n",
      "Reading 235-th batch of games...\n"
     ]
    },
    {
     "name": "stderr",
     "output_type": "stream",
     "text": [
      "10000it [00:07, 1342.35it/s]\n"
     ]
    },
    {
     "name": "stdout",
     "output_type": "stream",
     "text": [
      "Read 10000 in 10.713407039642334 | TOTAL: 2350000 | 212034\n",
      "Reading 236-th batch of games...\n"
     ]
    },
    {
     "name": "stderr",
     "output_type": "stream",
     "text": [
      "10000it [00:07, 1427.46it/s]\n"
     ]
    },
    {
     "name": "stdout",
     "output_type": "stream",
     "text": [
      "Read 10000 in 10.290262699127197 | TOTAL: 2360000 | 212965\n",
      "Reading 237-th batch of games...\n"
     ]
    },
    {
     "name": "stderr",
     "output_type": "stream",
     "text": [
      "10000it [00:06, 1587.33it/s]\n"
     ]
    },
    {
     "name": "stdout",
     "output_type": "stream",
     "text": [
      "Read 10000 in 9.593360900878906 | TOTAL: 2370000 | 213797\n",
      "Reading 238-th batch of games...\n"
     ]
    },
    {
     "name": "stderr",
     "output_type": "stream",
     "text": [
      "10000it [00:06, 1576.91it/s]\n"
     ]
    },
    {
     "name": "stdout",
     "output_type": "stream",
     "text": [
      "Read 10000 in 9.630628108978271 | TOTAL: 2380000 | 214649\n",
      "Reading 239-th batch of games...\n"
     ]
    },
    {
     "name": "stderr",
     "output_type": "stream",
     "text": [
      "10000it [00:06, 1596.08it/s]\n"
     ]
    },
    {
     "name": "stdout",
     "output_type": "stream",
     "text": [
      "Read 10000 in 9.575491189956665 | TOTAL: 2390000 | 215464\n",
      "Reading 240-th batch of games...\n"
     ]
    },
    {
     "name": "stderr",
     "output_type": "stream",
     "text": [
      "10000it [00:05, 1694.21it/s]\n"
     ]
    },
    {
     "name": "stdout",
     "output_type": "stream",
     "text": [
      "Read 10000 in 9.274978160858154 | TOTAL: 2400000 | 216268\n",
      "Reading 241-th batch of games...\n"
     ]
    },
    {
     "name": "stderr",
     "output_type": "stream",
     "text": [
      "10000it [00:06, 1545.35it/s]\n"
     ]
    },
    {
     "name": "stdout",
     "output_type": "stream",
     "text": [
      "Read 10000 in 9.830969333648682 | TOTAL: 2410000 | 217122\n",
      "Reading 242-th batch of games...\n"
     ]
    },
    {
     "name": "stderr",
     "output_type": "stream",
     "text": [
      "3534it [00:02, 1668.38it/s]"
     ]
    },
    {
     "name": "stdout",
     "output_type": "stream",
     "text": [
      "Skipping bad move: ['e4', 'c5', 'Qh5', 'e6', 'f3', 'Nf6', 'Qg4', 'Nxg4', '*'] - * – #invalid san: '*'#\n"
     ]
    },
    {
     "name": "stderr",
     "output_type": "stream",
     "text": [
      "8514it [00:05, 1590.27it/s]"
     ]
    },
    {
     "name": "stdout",
     "output_type": "stream",
     "text": [
      "Skipping bad move: ['e4', 'e6', 'Nf3', 'd5', 'e5', 'c5', 'Nc3', 'Qb6', 'd3', 'Nc6', 'b3', 'g6', 'Na4', 'Qc7', 'Bg5', 'Bg7', 'Bf6', 'Bxf6', 'exf6', 'Nxf6', 'Nxc5', 'O-O', 'Be2', 'Qa5+', 'b4', 'Qxb4+', 'c3', 'Qxc5', 'O-O', 'Bd7', 'Rc1', 'Rfe8', 'd4', 'Qd6', 'Bb5', 'a6', 'Bxc6', 'Bxc6', 'Ne5', 'b5', 'Qf3', 'Rac8', 'Qxf6', 'Rc7', 'Nxc6', 'Qxc6', 'Rfe1', 'Rec8', 'Re3', 'Qb6', 'Rf3', 'Qa5', 'h3', 'Qxa2', 'Kh2', 'a5', 'c4', 'bxc4', 'Rcc3', 'a4', 'Rf4', 'Qb2', 'Rcf3', 'Qb7', 'Qg5', 'a3', 'Qe5', 'a2', 'Ra3', 'Qb2', 'Ra6', 'a1=Q', 'Rc6', 'Rxc6', 'Qf6', 'R6c7', 'Qxg6+', 'fxg6', 'Rf8+', 'Rxf8', '*'] - * – #invalid san: '*'#\n",
      "Skipping bad move: ['e4', 'd5', 'exd5', 'e6', 'dxe6', 'Bxe6', 'Nc3', 'Qe7', 'Nf3', 'Nc6', 'Be2', 'O-O-O', 'O-O', 'h5', 'a4', 'h4', 'h3', 'Qd7', 'd3', 'Bd6', 'Re1', 'Bxh3', 'Bf1', 'Bg4', 'Bg5', 'h3', 'g3', 'h2+', 'Kh1', 'f6', 'Bf4', 'g5', 'Bxd6', 'Qxd6', 'Ne4', 'Qd5', 'Bg2', 'Nd4', 'c4', 'Qd7', 'Nc5', 'Qd6', 'b4', 'b6', 'Ne4', 'Qxb4', 'Rb1', 'Qf8', 'c5', 'f5', 'cxb6', 'axb6', 'a5', 'fxe4', 'Rxe4', 'Nxf3', 'Rxg4', 'Ng1', 'a6', 'Qxf2', 'a7', 'Kd7', 'Rd4+', 'Qxd4', '*'] - * – #invalid san: '*'#\n",
      "Skipping bad move: ['d4', 'e6', 'a3', 'c5', 'e3', 'cxd4', 'exd4', 'd5', 'Nc3', 'Nc6', 'Nf3', 'Nf6', 'Bb5', 'a6', 'Ba4', 'b5', 'Bb3', 'Be7', 'O-O', 'O-O', 'Re1', 'Rb8', 'Ne5', 'Nxe5', 'dxe5', 'Nd7', 'a4', 'Nc5', 'axb5', 'Nxb3', 'cxb3', 'axb5', 'Be3', 'b4', 'Ne2', 'Bd7', 'Ba7', 'Ra8', 'Qd4', 'f6', 'Bb6', 'Qc8', 'Rxa8', 'Qxa8', 'exf6', 'Bxf6', 'Qxb4', 'Bxb2', 'Bc5', 'Rb8', 'Qd2', 'Bc6', 'Qxb2', 'e5', 'Qxe5', 'Re8', 'Qf4', 'd4', 'Bxd4', 'Bxg2', 'Qg4', 'g6', 'Be3', 'Bb7', 'Qc4+', '*'] - * – #invalid san: '*'#\n"
     ]
    },
    {
     "name": "stderr",
     "output_type": "stream",
     "text": [
      "9206it [00:06, 1616.35it/s]"
     ]
    },
    {
     "name": "stdout",
     "output_type": "stream",
     "text": [
      "Skipping bad move: ['e4', 'e5', 'Nf3', 'Nc6', 'Bb5', 'a6', 'Bxc6', 'dxc6', 'Nc3', 'Bd6', 'd4', 'exd4', 'Qxd4', 'Nf6', 'Bg5', 'Be7', 'Qxd8+', 'Bxd8', 'e5', 'h6', 'Bxf6', 'gxf6', 'exf6', 'Bxf6', 'O-O-O', 'O-O', 'Ne4', 'Bg7', 'Rd8', 'Bg4', 'Rxa8', 'Rxa8', 'Nfd2', 'Rd8', 'f3', 'Bf5', 'Rd1', 'h5', 'h3', 'Bh6', 'g4', 'Bxe4', 'fxe4', 'hxg4', 'hxg4', 'Rd4', 'c3', 'Rxe4', 'Kc2', 'Bxd2', 'Rxd2', 'Rxg4', 'Rf2', 'Rg6', 'Re2', 'Rd6', 'Rf2', 'Rg6', 'Re2', 'Rg2', '*'] - * – #invalid san: '*'#\n"
     ]
    },
    {
     "name": "stderr",
     "output_type": "stream",
     "text": [
      "9865it [00:06, 1360.19it/s]"
     ]
    },
    {
     "name": "stdout",
     "output_type": "stream",
     "text": [
      "Skipping bad move: ['e4', 'c5', 'd4', 'cxd4', 'Qxd4', 'Nc6', 'Qd1', 'Nf6', 'Nc3', 'a6', 'f4', 'd6', 'Nf3', 'Qc7', 'Bc4', 'e6', 'Be3', 'b5', 'Bb3', 'Bb7', 'Qd2', 'Be7', 'O-O-O', 'O-O-O', 'a3', 'Na5', 'Bxe6+', 'fxe6', 'Ng5', 'Nc4', 'Qd3', 'Bxe4', 'Ncxe4', 'Nxe4', 'Nf7', 'Nxe3', 'Qxe3', 'Nf6', 'Nxh8', 'Rxh8', 'Qxe6+', 'Kb8', 'Rhe1', 'Rc8', 'c3', 'Ng8', 'g4', 'Bf6', 'Re3', 'h6', 'Rxd6', 'Ne7', 'Rb6+', 'Ka7', 'Rxa6+', 'Kb7', 'Rb6+', 'Qxb6', 'Qd7+', 'Rc7', 'Qe6', 'Nc6', 'Qe4', 'Re7', 'Qxe7+', 'Bxe7', 'Rxe7+', 'Nxe7', 'f5', 'Qg1+', 'Kc2', 'Nd5', 'Kb3', 'Ka6', 'Ka2', 'Ka5', 'f6', 'gxf6', 'g5', 'Ka4', 'gxh6', 'Qc5', 'Kb1', 'Qc4', 'Kc1', 'Ne3', 'Kb1', '*'] - * – #invalid san: '*'#\n"
     ]
    },
    {
     "name": "stderr",
     "output_type": "stream",
     "text": [
      "10000it [00:06, 1479.32it/s]\n"
     ]
    },
    {
     "name": "stdout",
     "output_type": "stream",
     "text": [
      "Read 10000 in 10.146303176879883 | TOTAL: 2420000 | 218059\n",
      "Reading 243-th batch of games...\n"
     ]
    },
    {
     "name": "stderr",
     "output_type": "stream",
     "text": [
      "724it [00:00, 1856.52it/s]"
     ]
    },
    {
     "name": "stdout",
     "output_type": "stream",
     "text": [
      "Skipping bad move: ['Nf3', 'd5', 'd3', 'c5', 'e3', 'Bf5', 'Be2', 'Nc6', 'O-O', 'e6', 'Nh4', 'Bg6', 'Nxg6', 'hxg6', 'g3', 'Qd6', 'Bf3', 'Nf6', 'c3', 'Be7', 'Qb3', 'O-O-O', 'c4', 'Na5', 'Qb5', 'Qb6', 'Qxb6', 'axb6', 'cxd5', 'exd5', 'Bd2', 'Nc6', 'Nc3', 'Ne5', 'Be2', 'd4', 'exd4', 'Rxd4', 'Nb5', 'Rd5', 'Bf4', 'Nxd3', 'Na7+', 'Kd7', 'Bxd3', 'Rxd3', 'Rad1', 'Rxd1', 'Rxd1+', 'Ke6', 'Re1+', 'Kd7', 'Nb5', 'Ra8', 'Rd1+', 'Kc8', 'a3', 'Nh5', 'Bd6', 'Bxd6', 'Nxd6+', 'Kc7', 'Nxf7', 'Nf6', 'Ne5', 'g5', 'h4', 'gxh4', 'gxh4', 'Re8', 'Ng6', 'Nd7', 'Kg2', 'Re2', 'b3', 'Ra2', 'a4', 'Rb2', 'Rd3', 'Kc6', 'Ne7+', 'Kc7', 'Nd5+', 'Kc6', 'Ne7+', 'Kc7', 'Re3', 'Rd2', 'Ng6', 'Nf6', 'Re7+', 'Rd7', 'Rxd7+', 'Kxd7', 'Ne5+', 'Ke6', 'Nc4', 'Nd7', 'Nd2', 'Kd5', 'Kf3', 'Kd4', 'Ke2', 'Kc3', 'f4', 'Nf6', 'h5', 'Nxh5', 'f5', 'Nf4+', 'Ke3', 'Nd5+', 'Ke2', 'Nb4', 'Nc4', 'Kxb3', 'Nxb6', '*'] - * – #invalid san: '*'#\n"
     ]
    },
    {
     "name": "stderr",
     "output_type": "stream",
     "text": [
      "1085it [00:00, 1407.28it/s]"
     ]
    },
    {
     "name": "stdout",
     "output_type": "stream",
     "text": [
      "Skipping bad move: ['e4', 'e5', 'Nf3', 'f5', 'exf5', 'Nf6', 'Qe2', 'Be7', 'd4', 'O-O', 'Qc4+', 'd5', 'Qc3', 'e4', 'Ne5', 'Bxf5', 'Na3', 'a5', 'Be3', 'Bb4', 'Qxb4', 'axb4', 'Nb5', 'c6', 'Bg5', 'cxb5', 'Bxb5', 'e3', 'f3', 'Bxc2', 'Rc1', 'Qa5', 'a4', 'b3+', 'Ke2', 'Qd2+', 'Kf1', 'Qxc1+', 'Ke2', 'Qxh1', 'Kxe3', 'Qe1+', 'Kf4', 'Nfd7+', 'Kg4', 'Nxe5+', 'dxe5', 'Qxe5', 'h4', 'h6', 'Bd2', 'Bf5+', 'Kh5', 'g6+', 'Kxh6', 'Qg7+', 'Kg5', 'Qf6+', 'Kf4', 'Nc6', 'Bxc6', 'bxc6', 'Bc3', 'Qd6+', 'Kg5', 'Qd8+', 'Kf4', 'Bh3+', '*'] - * – #invalid san: '*'#\n",
      "Skipping bad move: ['e3', 'd5', 'Nf3', 'c5', 'Ne5', 'Nf6', 'Bb5+', 'Bd7', 'Nxd7', 'Nbxd7', 'd4', 'Qa5+', '*'] - * – #invalid san: '*'#\n",
      "Skipping bad move: ['e4', 'e5', 'Bc4', 'Nf6', 'Bxf7+', 'Kxf7', 'Qf3', 'd6', 'Qb3+', 'Be6', 'Qxb7', 'Nbd7', 'Nf3', 'Be7', 'Ng5+', 'Kg6', 'Nxe6', 'Nc5', 'Nxd8', 'Nxb7', 'Nxb7', 'Rab8', 'Na5', 'Nxe4', 'O-O', 'Rhf8', 'Nc6', 'Rbe8', 'Nxe7+', 'Rxe7', 'd3', 'Ng5', 'Nd2', 'h6', 'Ne4', 'Nxe4', 'dxe4', 'Ref7', 'Be3', 'a5', 'a4', 'Kf6', 'b4', 'Ke6', 'bxa5', 'Ra8', 'a6', 'c6', 'a7', 'c5', 'a5', 'Rfxa7', 'a6', 'g5', 'Rfd1', 'Rxa6', 'Rxa6', 'Rxa6', 'h3', 'Ra2', 'c4', 'Re2', 'Bd2', 'Kd7', 'Ba5', 'Kc6', 'Bd8', 'Rxe4', 'Bf6', 'Kb6', 'Be7', 'Kc6', 'Rxd6+', 'Kc7', 'Rd5', 'Rxc4', 'Bxc5', 'Rc1+', 'Kh2', 'Kc6', 'Rxe5', 'Rxc5', 'Re6+', 'Kb5', 'Rxh6', 'Kc4', 'Rg6', 'Kd4', 'g3', 'Ke4', 'Kg2', 'Kd3', 'h4', 'gxh4', 'gxh4', 'Rh5', 'Kg3', 'Ke4', 'Rg5', 'Rxg5+', 'hxg5', 'Kf5', 'f4', 'Kg6', '*'] - * – #invalid san: '*'#\n"
     ]
    },
    {
     "name": "stderr",
     "output_type": "stream",
     "text": [
      "10000it [00:07, 1389.94it/s]\n"
     ]
    },
    {
     "name": "stdout",
     "output_type": "stream",
     "text": [
      "Read 10000 in 10.549296855926514 | TOTAL: 2430000 | 219004\n",
      "Reading 244-th batch of games...\n"
     ]
    },
    {
     "name": "stderr",
     "output_type": "stream",
     "text": [
      "10000it [00:06, 1441.12it/s]\n"
     ]
    },
    {
     "name": "stdout",
     "output_type": "stream",
     "text": [
      "Skipping bad move: ['d4', 'd5', 'Bf4', 'Nf6', 'e3', 'a6', 'c3', 'c5', 'dxc5', 'e5', 'Bxe5', 'Bxc5', 'Bd4', 'Nbd7', 'Nf3', 'O-O', 'Nbd2', 'Bxd4', 'Nxd4', 'Qc7', 'g3', 'Ne5', 'N2f3', 'Bg4', 'Bg2', 'Rae8', 'O-O', 'Nxf3+', 'Nxf3', 'Rd8', 'Qb3', 'Ne4', 'Rad1', 'Be6', 'Nd4', 'Rd6', 'Nxe6', 'fxe6', 'Bxe4', 'Rb6', 'Qc2', 'dxe4', 'Qxe4', 'Rxb2', 'Qxe6+', 'Kh8', 'Qe4', 'Rxa2', 'Rb1', 'Rb8', 'f4', 'Rd2', 'Rfd1', 'Rxd1+', 'Rxd1', 'Rd8', 'Rxd8+', 'Qxd8', '*'] - * – #invalid san: '*'#\n",
      "Read 10000 in 10.377058267593384 | TOTAL: 2440000 | 219920\n",
      "Reading 245-th batch of games...\n"
     ]
    },
    {
     "name": "stderr",
     "output_type": "stream",
     "text": [
      "140it [00:00, 1345.14it/s]"
     ]
    },
    {
     "name": "stdout",
     "output_type": "stream",
     "text": [
      "Skipping bad move: ['e4', 'a6', 'Nf3', 'b6', 'Nc3', 'd6', 'd4', 'e6', 'Bd3', 'g6', 'O-O', 'Bg7', 'Re1', 'Ne7', 'h3', 'Nd7', 'Bg5', 'Bb7', 'Bxe7', 'Qxe7', 'e5', 'O-O', 'exd6', 'cxd6', 'Qd2', 'Nf6', 'Nh2', 'h5', 'Bc4', 'Rac8', 'Bb3', 'b5', 'a4', 'b4', 'Ne2', 'Qc7', 'Nf3', 'Bxf3', 'gxf3', 'a5', 'Ng3', 'Qc6', 'Ne4', 'Qb6', 'Kf1', 'Nxe4', 'fxe4', 'Qxd4', 'Qxd4', 'Bxd4', 'c3', 'Bg7', 'cxb4', 'axb4', 'Ra2', 'Rfd8', 'Rd1', 'Rc6', 'Kg2', 'd5', 'exd5', 'exd5', 'Rd3', 'Rcd6', 'f3', '*'] - * – #invalid san: '*'#\n"
     ]
    },
    {
     "name": "stderr",
     "output_type": "stream",
     "text": [
      "434it [00:00, 1285.63it/s]"
     ]
    },
    {
     "name": "stdout",
     "output_type": "stream",
     "text": [
      "Skipping bad move: ['d4', 'c5', 'c4', 'd6', 'd5', 'Nf6', 'Nc3', 'g6', 'e4', 'Bg7', 'Nf3', 'O-O', 'e5', 'Bg4', 'exf6', 'exf6', 'Be2', 'Re8', 'h3', 'Bxf3', 'gxf3', 'Nd7', 'O-O', 'Nb6', 'Kh1', 'f5', 'Qc2', 'Qd7', 'b3', 'Re7', 'Kh2', 'Rae8', 'Bd3', 'a5', 'Na4', 'Nxa4', 'bxa4', 'Bxa1', 'Bg5', 'Bg7', 'Bxe7', 'Rxe7', 'Rb1', 'b6', 'Rxb6', 'Qc7', 'Rb5', 'Re8', 'Qd2', 'Rb8', 'Qxa5', 'Rxb5', 'Qxc7', 'Be5+', 'Kg2', 'Rb2', 'Qc8+', 'Kg7', 'Qd7', 'Rxa2', 'h4', 'Bd4', 'Kg3', 'Rxf2', 'h5', 'Rd2', 'Qxd6', 'Rxd3', 'Qe7', 'Bf6', 'Qd7', 'Rd4', '*'] - * – #invalid san: '*'#\n"
     ]
    },
    {
     "name": "stderr",
     "output_type": "stream",
     "text": [
      "10000it [00:06, 1486.87it/s]\n"
     ]
    },
    {
     "name": "stdout",
     "output_type": "stream",
     "text": [
      "Read 10000 in 10.19688606262207 | TOTAL: 2450000 | 220824\n",
      "Reading 246-th batch of games...\n"
     ]
    },
    {
     "name": "stderr",
     "output_type": "stream",
     "text": [
      "10000it [00:07, 1400.00it/s]\n"
     ]
    },
    {
     "name": "stdout",
     "output_type": "stream",
     "text": [
      "Read 10000 in 10.556686639785767 | TOTAL: 2460000 | 221778\n",
      "Reading 247-th batch of games...\n"
     ]
    },
    {
     "name": "stderr",
     "output_type": "stream",
     "text": [
      "10000it [00:07, 1404.64it/s]\n"
     ]
    },
    {
     "name": "stdout",
     "output_type": "stream",
     "text": [
      "Read 10000 in 10.560406684875488 | TOTAL: 2470000 | 222746\n",
      "Reading 248-th batch of games...\n"
     ]
    },
    {
     "name": "stderr",
     "output_type": "stream",
     "text": [
      "10000it [00:06, 1576.91it/s]\n"
     ]
    },
    {
     "name": "stdout",
     "output_type": "stream",
     "text": [
      "Read 10000 in 9.823997020721436 | TOTAL: 2480000 | 223589\n",
      "Reading 249-th batch of games...\n"
     ]
    },
    {
     "name": "stderr",
     "output_type": "stream",
     "text": [
      "682it [00:00, 1288.25it/s]"
     ]
    },
    {
     "name": "stdout",
     "output_type": "stream",
     "text": [
      "Skipping bad move: ['e4', 'Nf6', 'Nf3', 'Nxe4', 'Qe2', 'Nc5', 'Qc4', 'd6', 'd4', 'Be6', '*'] - * – #invalid san: '*'#\n"
     ]
    },
    {
     "name": "stderr",
     "output_type": "stream",
     "text": [
      "10000it [00:07, 1350.39it/s]\n"
     ]
    },
    {
     "name": "stdout",
     "output_type": "stream",
     "text": [
      "Read 10000 in 10.983706951141357 | TOTAL: 2490000 | 224546\n",
      "Reading 250-th batch of games...\n"
     ]
    },
    {
     "name": "stderr",
     "output_type": "stream",
     "text": [
      "10000it [00:07, 1361.60it/s]\n"
     ]
    },
    {
     "name": "stdout",
     "output_type": "stream",
     "text": [
      "Read 10000 in 10.812221050262451 | TOTAL: 2500000 | 225540\n",
      "Reading 251-th batch of games...\n"
     ]
    },
    {
     "name": "stderr",
     "output_type": "stream",
     "text": [
      "10000it [00:07, 1347.71it/s]\n"
     ]
    },
    {
     "name": "stdout",
     "output_type": "stream",
     "text": [
      "Read 10000 in 10.88411283493042 | TOTAL: 2510000 | 226542\n",
      "Reading 252-th batch of games...\n"
     ]
    },
    {
     "name": "stderr",
     "output_type": "stream",
     "text": [
      "10000it [00:06, 1434.49it/s]\n"
     ]
    },
    {
     "name": "stdout",
     "output_type": "stream",
     "text": [
      "Read 10000 in 10.45764970779419 | TOTAL: 2520000 | 227463\n",
      "Reading 253-th batch of games...\n"
     ]
    },
    {
     "name": "stderr",
     "output_type": "stream",
     "text": [
      "10000it [00:07, 1360.58it/s]\n"
     ]
    },
    {
     "name": "stdout",
     "output_type": "stream",
     "text": [
      "Read 10000 in 10.93528151512146 | TOTAL: 2530000 | 228441\n",
      "Reading 254-th batch of games...\n"
     ]
    },
    {
     "name": "stderr",
     "output_type": "stream",
     "text": [
      "10000it [00:06, 1509.99it/s]\n"
     ]
    },
    {
     "name": "stdout",
     "output_type": "stream",
     "text": [
      "Read 10000 in 10.130587816238403 | TOTAL: 2540000 | 229345\n",
      "Reading 255-th batch of games...\n"
     ]
    },
    {
     "name": "stderr",
     "output_type": "stream",
     "text": [
      "10000it [00:06, 1557.56it/s]\n"
     ]
    },
    {
     "name": "stdout",
     "output_type": "stream",
     "text": [
      "Read 10000 in 9.97905707359314 | TOTAL: 2550000 | 230249\n",
      "Reading 256-th batch of games...\n"
     ]
    },
    {
     "name": "stderr",
     "output_type": "stream",
     "text": [
      "10000it [00:07, 1386.42it/s]\n"
     ]
    },
    {
     "name": "stdout",
     "output_type": "stream",
     "text": [
      "Read 10000 in 10.799646139144897 | TOTAL: 2560000 | 231204\n",
      "Reading 257-th batch of games...\n"
     ]
    },
    {
     "name": "stderr",
     "output_type": "stream",
     "text": [
      "10000it [00:06, 1635.46it/s]\n"
     ]
    },
    {
     "name": "stdout",
     "output_type": "stream",
     "text": [
      "Read 10000 in 9.69849443435669 | TOTAL: 2570000 | 232023\n",
      "Reading 258-th batch of games...\n"
     ]
    },
    {
     "name": "stderr",
     "output_type": "stream",
     "text": [
      "10000it [00:06, 1565.66it/s]\n"
     ]
    },
    {
     "name": "stdout",
     "output_type": "stream",
     "text": [
      "Read 10000 in 10.055188417434692 | TOTAL: 2580000 | 232870\n",
      "Reading 259-th batch of games...\n"
     ]
    },
    {
     "name": "stderr",
     "output_type": "stream",
     "text": [
      "10000it [00:05, 1727.38it/s]\n"
     ]
    },
    {
     "name": "stdout",
     "output_type": "stream",
     "text": [
      "Read 10000 in 9.438331604003906 | TOTAL: 2590000 | 233663\n",
      "Reading 260-th batch of games...\n"
     ]
    },
    {
     "name": "stderr",
     "output_type": "stream",
     "text": [
      "10000it [00:06, 1608.25it/s]\n"
     ]
    },
    {
     "name": "stdout",
     "output_type": "stream",
     "text": [
      "Read 10000 in 9.93082880973816 | TOTAL: 2600000 | 234470\n",
      "Reading 261-th batch of games...\n"
     ]
    },
    {
     "name": "stderr",
     "output_type": "stream",
     "text": [
      "10000it [00:05, 1671.76it/s]\n"
     ]
    },
    {
     "name": "stdout",
     "output_type": "stream",
     "text": [
      "Read 10000 in 9.614449739456177 | TOTAL: 2610000 | 235237\n",
      "Reading 262-th batch of games...\n"
     ]
    },
    {
     "name": "stderr",
     "output_type": "stream",
     "text": [
      "10000it [00:05, 1677.43it/s]\n"
     ]
    },
    {
     "name": "stdout",
     "output_type": "stream",
     "text": [
      "Read 10000 in 9.686038255691528 | TOTAL: 2620000 | 236017\n",
      "Reading 263-th batch of games...\n"
     ]
    },
    {
     "name": "stderr",
     "output_type": "stream",
     "text": [
      "10000it [00:07, 1426.47it/s]\n"
     ]
    },
    {
     "name": "stdout",
     "output_type": "stream",
     "text": [
      "Read 10000 in 10.738496541976929 | TOTAL: 2630000 | 236955\n",
      "Reading 264-th batch of games...\n"
     ]
    },
    {
     "name": "stderr",
     "output_type": "stream",
     "text": [
      "10000it [00:06, 1496.41it/s]\n"
     ]
    },
    {
     "name": "stdout",
     "output_type": "stream",
     "text": [
      "Read 10000 in 10.420615434646606 | TOTAL: 2640000 | 237849\n",
      "Reading 265-th batch of games...\n"
     ]
    },
    {
     "name": "stderr",
     "output_type": "stream",
     "text": [
      "10000it [00:07, 1423.40it/s]\n"
     ]
    },
    {
     "name": "stdout",
     "output_type": "stream",
     "text": [
      "Read 10000 in 10.790589570999146 | TOTAL: 2650000 | 238804\n",
      "Reading 266-th batch of games...\n"
     ]
    },
    {
     "name": "stderr",
     "output_type": "stream",
     "text": [
      "10000it [00:06, 1564.38it/s]\n"
     ]
    },
    {
     "name": "stdout",
     "output_type": "stream",
     "text": [
      "Read 10000 in 10.138586521148682 | TOTAL: 2660000 | 239674\n",
      "Reading 267-th batch of games...\n"
     ]
    },
    {
     "name": "stderr",
     "output_type": "stream",
     "text": [
      "10000it [00:06, 1515.09it/s]\n"
     ]
    },
    {
     "name": "stdout",
     "output_type": "stream",
     "text": [
      "Read 10000 in 10.372577667236328 | TOTAL: 2670000 | 240565\n",
      "Reading 268-th batch of games...\n"
     ]
    },
    {
     "name": "stderr",
     "output_type": "stream",
     "text": [
      "10000it [00:06, 1483.97it/s]\n"
     ]
    },
    {
     "name": "stdout",
     "output_type": "stream",
     "text": [
      "Read 10000 in 10.486701488494873 | TOTAL: 2680000 | 241465\n",
      "Reading 269-th batch of games...\n"
     ]
    },
    {
     "name": "stderr",
     "output_type": "stream",
     "text": [
      "10000it [00:07, 1365.90it/s]\n"
     ]
    },
    {
     "name": "stdout",
     "output_type": "stream",
     "text": [
      "Read 10000 in 11.134692192077637 | TOTAL: 2690000 | 242415\n",
      "Reading 270-th batch of games...\n"
     ]
    },
    {
     "name": "stderr",
     "output_type": "stream",
     "text": [
      "10000it [00:06, 1465.15it/s]\n"
     ]
    },
    {
     "name": "stdout",
     "output_type": "stream",
     "text": [
      "Read 10000 in 10.614805698394775 | TOTAL: 2700000 | 243352\n",
      "Reading 271-th batch of games...\n"
     ]
    },
    {
     "name": "stderr",
     "output_type": "stream",
     "text": [
      "10000it [00:06, 1458.04it/s]\n"
     ]
    },
    {
     "name": "stdout",
     "output_type": "stream",
     "text": [
      "Read 10000 in 10.643857717514038 | TOTAL: 2710000 | 244248\n",
      "Reading 272-th batch of games...\n"
     ]
    },
    {
     "name": "stderr",
     "output_type": "stream",
     "text": [
      "10000it [00:06, 1562.94it/s]\n"
     ]
    },
    {
     "name": "stdout",
     "output_type": "stream",
     "text": [
      "Read 10000 in 10.25005555152893 | TOTAL: 2720000 | 245107\n",
      "Reading 273-th batch of games...\n"
     ]
    },
    {
     "name": "stderr",
     "output_type": "stream",
     "text": [
      "10000it [00:06, 1490.06it/s]\n"
     ]
    },
    {
     "name": "stdout",
     "output_type": "stream",
     "text": [
      "Read 10000 in 10.606865406036377 | TOTAL: 2730000 | 245974\n",
      "Reading 274-th batch of games...\n"
     ]
    },
    {
     "name": "stderr",
     "output_type": "stream",
     "text": [
      "10000it [00:07, 1331.43it/s]\n"
     ]
    },
    {
     "name": "stdout",
     "output_type": "stream",
     "text": [
      "Read 10000 in 11.333207607269287 | TOTAL: 2740000 | 246965\n",
      "Reading 275-th batch of games...\n"
     ]
    },
    {
     "name": "stderr",
     "output_type": "stream",
     "text": [
      "10000it [00:07, 1352.47it/s]\n"
     ]
    },
    {
     "name": "stdout",
     "output_type": "stream",
     "text": [
      "Read 10000 in 11.214438676834106 | TOTAL: 2750000 | 247937\n",
      "Reading 276-th batch of games...\n"
     ]
    },
    {
     "name": "stderr",
     "output_type": "stream",
     "text": [
      "10000it [00:07, 1351.98it/s]\n"
     ]
    },
    {
     "name": "stdout",
     "output_type": "stream",
     "text": [
      "Read 10000 in 11.281602382659912 | TOTAL: 2760000 | 248901\n",
      "Reading 277-th batch of games...\n"
     ]
    },
    {
     "name": "stderr",
     "output_type": "stream",
     "text": [
      "10000it [00:06, 1429.43it/s]\n"
     ]
    },
    {
     "name": "stdout",
     "output_type": "stream",
     "text": [
      "Read 10000 in 10.869849920272827 | TOTAL: 2770000 | 249853\n",
      "Reading 278-th batch of games...\n"
     ]
    },
    {
     "name": "stderr",
     "output_type": "stream",
     "text": [
      "10000it [00:07, 1354.87it/s]"
     ]
    },
    {
     "name": "stdout",
     "output_type": "stream",
     "text": [
      "Read 10000 in 11.24953293800354 | TOTAL: 2780000 | 250830\n"
     ]
    },
    {
     "name": "stderr",
     "output_type": "stream",
     "text": [
      "\n"
     ]
    }
   ],
   "source": [
    "import csv\n",
    "from time import time\n",
    "\n",
    "from tqdm import tqdm\n",
    "HEADERS=[\n",
    "    \"Event\", \"White\", \"Black\", \"Result\", \"UTCDate\", \"UTCTime\", \"WhiteElo\", \n",
    "    \"BlackElo\", \"WhiteRatingDiff\", \"BlackRatingDiff\", \"ECO\", \"Opening\", \n",
    "    \"TimeControl\", \"Termination\", \"AN\"\n",
    "]\n",
    "\n",
    "start = 1 # To ignore headers\n",
    "total = 0\n",
    "READ_SIZE = 10_000\n",
    "RUN = True\n",
    "num_games_saved = 0\n",
    "num_batches = 1\n",
    "try:\n",
    "    with open(\"./dataset/processed/results_ELO_1500_250k.csv\", \"w\") as f:\n",
    "        writer = csv.writer(f)\n",
    "        while RUN:\n",
    "            ti = time()\n",
    "            games_df = pd.read_csv('./dataset/raw/chess_games.csv', skiprows=start, nrows=READ_SIZE, names=HEADERS)\n",
    "\n",
    "            print(f\"Reading {num_batches}-th batch of games...\")\n",
    "            # Result, WhiteElo, BlackElo, TimeControl, BoardPositions: uint_64[], move_played\n",
    "            for index, game in tqdm(games_df.iterrows()):\n",
    "                board = chess.Board()\n",
    "                # Get PGN\n",
    "                Result = game[\"Result\"]\n",
    "                WhiteElo = int(game[\"WhiteElo\"])\n",
    "                BlackElo = int(game[\"BlackElo\"])\n",
    "                TimeControl = game[\"TimeControl\"]\n",
    "                moves_string = clean_pgn(game[\"AN\"])\n",
    "\n",
    "                bitmaps = []\n",
    "\n",
    "                tokens = moves_string.replace(\"\\n\", \" \").split()\n",
    "                moves = [token for token in tokens if not token[0].isdigit() and '.' not in token]\n",
    "                sideToPlay = True # True for white, False for Black\n",
    "                numMoves = 0\n",
    "                if not(1400 < WhiteElo < 1600) or not(1400 < BlackElo < 1600):\n",
    "                    continue\n",
    "                for move in moves:\n",
    "                    try:\n",
    "                        move: chess.Move = board.push_san(move)\n",
    "                        numMoves += 1\n",
    "                        if numMoves < 8 or board.is_game_over():\n",
    "                            continue\n",
    "\n",
    "\n",
    "                        bitmap = board_to_tensor(board, sideToPlay)\n",
    "                        possible_moves = get_possible_moves(board)\n",
    "                        writer.writerow([\n",
    "                            bitmap.tolist(), # bitmaps\n",
    "                            MOVE_DICTIONARY[move.uci()[:4]], # Played move\n",
    "                            # 0 for invalid 1 for valid; To keep constant size\n",
    "                            possible_moves.tolist(),\n",
    "                        ])\n",
    "                        sideToPlay = not sideToPlay\n",
    "                    except Exception as e:\n",
    "                        print(f\"Skipping bad move: {moves} - {move} – #{e}#\")\n",
    "                        break\n",
    "                num_games_saved+=1\n",
    "            \n",
    "            start += READ_SIZE\n",
    "            tf = time()\n",
    "            total += len(games_df)\n",
    "            num_batches += 1\n",
    "            print(f\"Read {len(games_df)} in {tf-ti} | TOTAL: {total} | {num_games_saved}\")\n",
    "\n",
    "            if 250_000 <= num_games_saved:\n",
    "                RUN = False\n",
    "\n",
    "except Exception as e:\n",
    "    print(e.with_traceback())"
   ]
  }
 ],
 "metadata": {
  "kernelspec": {
   "display_name": ".venv",
   "language": "python",
   "name": "python3"
  },
  "language_info": {
   "codemirror_mode": {
    "name": "ipython",
    "version": 3
   },
   "file_extension": ".py",
   "mimetype": "text/x-python",
   "name": "python",
   "nbconvert_exporter": "python",
   "pygments_lexer": "ipython3",
   "version": "3.11.9"
  }
 },
 "nbformat": 4,
 "nbformat_minor": 5
}
