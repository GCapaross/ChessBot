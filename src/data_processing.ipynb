{
 "cells": [
  {
   "cell_type": "markdown",
   "id": "16def7fd",
   "metadata": {},
   "source": [
    "# Data cleaning\n",
    "## Data structure\n",
    "Raw data has match info and the game PGN format (moves made in the games)\n",
    "Example:\n",
    "\n",
    "```\n",
    "                Event            White       Black Result     UTCDate   UTCTime \\\n",
    "0           Classical          eisaaaa    HAMID449    1-0  2016.06.30  22:00:01 \\\n",
    "1               Blitz           go4jas  Sergei1973    0-1  2016.06.30  22:00:01 \\\n",
    "2    Blitz tournament  Evangelistaizac      kafune    1-0  2016.06.30  22:00:02 \\\n",
    "3      Correspondence           Jvayne    Wsjvayne    1-0  2016.06.30  22:00:02 \\\n",
    "4    Blitz tournament           kyoday   BrettDale    0-1  2016.06.30  22:00:02 \\\n",
    "\n",
    "    WhiteElo  BlackElo  WhiteRatingDiff  BlackRatingDiff  ECO\n",
    "0       1901      1896             11.0            -11.0  D10\n",
    "1       1641      1627            -11.0             12.0  C20\n",
    "2       1647      1688             13.0            -13.0  B01\n",
    "3       1706      1317             27.0            -25.0  A00\n",
    "4       1945      1900            -14.0             13.0  B9 \n",
    "\n",
    "                                         Opening  TimeControl   Termination                                                     AN\n",
    "0                                    Slav Defense       300+5  Time forfeit      1. d4 d5 2. c4 c6 3. e3 a6 4. Nf3 e5 5. cxd5 e...\n",
    "1                       King's Pawn Opening: 2.b3       300+0        Normal      1. e4 e5 2. b3 Nf6 3. Bb2 Nc6 4. Nf3 d6 5. d3 ...\n",
    "2   Scandinavian Defense: Mieses-Kotroc Variation       180+0  Time forfeit      1. e4 d5 2. exd5 Qxd5 3. Nf3 Bg4 4. Be2 Nf6 5....\n",
    "3                            Van't Kruijs Opening           -        Normal      1. e3 Nf6 2. Bc4 d6 3. e4 e6 4. Nf3 Nxe4 5. Nd...\n",
    "4     Sicilian Defense: Najdorf, Lipnitsky Attack       180+0  Time forfeit      1. e4 c5 2. Nf3 d6 3. d4 cxd4 4. Nxd4 Nf6 5. N...\n",
    "```\n",
    "So a few columns of the game info and then a column called `AN` that contains the PGN of the game, so we must convert this table into gameboards\n",
    "From this data, the most important data to save is `Result`, `ELO`s, `TimeControl` and `AN`\n"
   ]
  },
  {
   "cell_type": "code",
   "execution_count": null,
   "id": "ffe9bd2a",
   "metadata": {},
   "outputs": [],
   "source": [
    "import pandas as pd\n",
    "import chess\n",
    "import numpy as np\n",
    "\n",
    "piece_to_idx = {\n",
    "    'P': 0, 'N': 1, 'B': 2, 'R': 3, 'Q': 4, 'K': 5,\n",
    "    'p': 6, 'n': 7, 'b': 8, 'r': 9, 'q': 10, 'k': 11\n",
    "}\n",
    "\n",
    "def board_to_tensor(board: chess.Board, sideToPlay: bool):\n",
    "    tensor = np.zeros(13, dtype=np.uint64) # each board is represented in a int(8*8)-> uint64, a bit for each square\n",
    "    for square in chess.SQUARES:\n",
    "        piece = board.piece_at(square)\n",
    "        if piece:\n",
    "            idx = piece_to_idx[piece.symbol()]\n",
    "            tensor[idx] |= 1<<square # Set the bit to 1 at square for the board idx\n",
    "    tensor[12] = 1 if sideToPlay else 0\n",
    "    return tensor\n",
    "\n",
    "def get_possible_moves(board: chess.Board) -> np.ndarray[np.uint64]: # np.ndarray[np.uint64, shape=(63)]\n",
    "    array = np.zeros(shape=(63,), dtype=np.uint64) # 64*63 bits\n",
    "    for move in board.legal_moves:\n",
    "        move_idx = MOVE_DICTIONARY[move.uci()[:4]]\n",
    "        num_idx = move_idx // 64\n",
    "        bit_idx = move_idx % 64\n",
    "        array[num_idx] |= 1<<bit_idx\n",
    "    return array\n",
    "\n",
    "\n",
    "letters = [\"a\", \"b\", \"c\", \"d\", \"e\", \"f\", \"g\", \"h\"]\n",
    "numbers = list(range(1, 10)) # [1..9]\n",
    "MOVE_DICTIONARY = {}\n",
    "cumulative = 0\n",
    "for i in range(8):\n",
    "    for j in range(8):\n",
    "        for k in range(8):\n",
    "            for w in range (8):\n",
    "                if (i == k and j == w):\n",
    "                    cumulative += 1\n",
    "                    continue\n",
    "                from_square = f\"{letters[i]}{numbers[j]}\"\n",
    "                to_square = f\"{letters[k]}{numbers[w]}\"\n",
    "                MOVE_DICTIONARY[f\"{from_square}{to_square}\"] = (i * 8**3) + (j * 8**2) + (k * 8) + w - cumulative\n",
    "REVERSE_MOVE_DICTIONARY = {\n",
    "    value: key for key, value in MOVE_DICTIONARY.items()\n",
    "}"
   ]
  },
  {
   "cell_type": "code",
   "execution_count": 2,
   "id": "202ec7f4",
   "metadata": {},
   "outputs": [],
   "source": [
    "import re\n",
    "\n",
    "def clean_pgn(pgn_text):\n",
    "    # Remove {...} comments and [%...] evals\n",
    "    cleaned = re.sub(r'\\{[^}]*\\}', '', pgn_text)\n",
    "    cleaned = re.sub(r'\\[%[^]]*\\]', '', cleaned)\n",
    "    # cleaned = re.sub(r'[0-9]+\\.\\.\\.', '', cleaned)\n",
    "    cleaned = re.sub(r'\\?!?', '', cleaned)\n",
    "    return cleaned\n",
    "\n"
   ]
  },
  {
   "cell_type": "code",
   "execution_count": null,
   "id": "0e8939f8",
   "metadata": {},
   "outputs": [
    {
     "name": "stdout",
     "output_type": "stream",
     "text": [
      "Reading 1-th batch of games...\n"
     ]
    },
    {
     "name": "stderr",
     "output_type": "stream",
     "text": [
      "10000it [01:15, 132.83it/s]\n"
     ]
    },
    {
     "name": "stdout",
     "output_type": "stream",
     "text": [
      "Read 10000 in 75.35231304168701 | TOTAL: 10000\n",
      "Reading 2-th batch of games...\n"
     ]
    },
    {
     "name": "stderr",
     "output_type": "stream",
     "text": [
      "10000it [01:14, 133.81it/s]\n"
     ]
    },
    {
     "name": "stdout",
     "output_type": "stream",
     "text": [
      "Read 10000 in 74.81473231315613 | TOTAL: 20000\n",
      "Reading 3-th batch of games...\n"
     ]
    },
    {
     "name": "stderr",
     "output_type": "stream",
     "text": [
      "10000it [01:15, 132.25it/s]\n"
     ]
    },
    {
     "name": "stdout",
     "output_type": "stream",
     "text": [
      "Read 10000 in 75.76021242141724 | TOTAL: 30000\n",
      "Reading 4-th batch of games...\n"
     ]
    },
    {
     "name": "stderr",
     "output_type": "stream",
     "text": [
      "10000it [01:15, 131.85it/s]\n"
     ]
    },
    {
     "name": "stdout",
     "output_type": "stream",
     "text": [
      "Read 10000 in 76.00544452667236 | TOTAL: 40000\n",
      "Reading 5-th batch of games...\n"
     ]
    },
    {
     "name": "stderr",
     "output_type": "stream",
     "text": [
      "10000it [01:15, 133.10it/s]"
     ]
    },
    {
     "name": "stdout",
     "output_type": "stream",
     "text": [
      "Read 10000 in 75.25275897979736 | TOTAL: 50000\n"
     ]
    },
    {
     "name": "stderr",
     "output_type": "stream",
     "text": [
      "\n"
     ]
    }
   ],
   "source": [
    "import csv\n",
    "from time import time\n",
    "\n",
    "from tqdm import tqdm\n",
    "HEADERS=[\n",
    "    \"Event\", \"White\", \"Black\", \"Result\", \"UTCDate\", \"UTCTime\", \"WhiteElo\", \n",
    "    \"BlackElo\", \"WhiteRatingDiff\", \"BlackRatingDiff\", \"ECO\", \"Opening\", \n",
    "    \"TimeControl\", \"Termination\", \"AN\"\n",
    "]\n",
    "\n",
    "start = 1 # To ignore headers\n",
    "total = 0\n",
    "READ_SIZE = 10_000\n",
    "RUN = True\n",
    "i = 1\n",
    "try:\n",
    "    with open(\"./dataset/processed/results.csv\", \"w\") as f:\n",
    "        writer = csv.writer(f)\n",
    "        while RUN:\n",
    "            ti = time()\n",
    "            games_df = pd.read_csv('./dataset/raw/chess_games.csv', skiprows=start, nrows=READ_SIZE, names=HEADERS)\n",
    "\n",
    "            print(f\"Reading {i}-th batch of games...\")\n",
    "            # Result, WhiteElo, BlackElo, TimeControl, BoardPositions: uint_64[], move_played\n",
    "            for index, game in tqdm(games_df.iterrows()):\n",
    "                board = chess.Board()\n",
    "                # Get PGN\n",
    "                Result = game[\"Result\"]\n",
    "                WhiteElo = game[\"WhiteElo\"]\n",
    "                BlackElo = game[\"BlackElo\"]\n",
    "                TimeControl = game[\"TimeControl\"]\n",
    "                moves_string = clean_pgn(game[\"AN\"])\n",
    "\n",
    "                bitmaps = []\n",
    "\n",
    "                tokens = moves_string.replace(\"\\n\", \" \").split()\n",
    "                moves = [token for token in tokens if not token[0].isdigit() and '.' not in token]\n",
    "                sideToPlay = True # True for white, False for Black\n",
    "                numMoves = 0\n",
    "                for move in moves:\n",
    "                    try:\n",
    "                        move: chess.Move = board.push_san(move)\n",
    "                        numMoves += 1\n",
    "                        # if numMoves < 10:\n",
    "                        #     continue\n",
    "\n",
    "                        bitmap = board_to_tensor(board, sideToPlay)\n",
    "                        possible_moves = get_possible_moves(board)\n",
    "                        writer.writerow([\n",
    "                            bitmap.tolist(), # bitmaps\n",
    "                            MOVE_DICTIONARY[move.uci()[:4]], # Played move\n",
    "                            # 0 for invalid 1 for valid; To keep constant size\n",
    "                            possible_moves.tolist(),\n",
    "                        ])\n",
    "                        sideToPlay = not sideToPlay\n",
    "                    except Exception as e:\n",
    "                        print(f\"Skipping bad move: {moves} - {move} – #{e}#\")\n",
    "                        break\n",
    "            \n",
    "            start += READ_SIZE\n",
    "            tf = time()\n",
    "            total += len(games_df)\n",
    "            i+=1\n",
    "            print(f\"Read {len(games_df)} in {tf-ti} | TOTAL: {total}\")\n",
    "\n",
    "            if 50_000 <= total:\n",
    "                RUN = False\n",
    "\n",
    "except Exception as e:\n",
    "    print(e.with_traceback())"
   ]
  },
  {
   "cell_type": "code",
   "execution_count": null,
   "id": "3e9fa3b9",
   "metadata": {},
   "outputs": [
    {
     "name": "stderr",
     "output_type": "stream",
     "text": [
      "0it [00:00, ?it/s]\n"
     ]
    }
   ],
   "source": [
    "games_df\n",
    "with open(\"./dataset/processed/example.csv\", \"w\") as f:\n",
    "    writer = csv.writer(f)\n",
    "    for index, game in tqdm(games_df.iterrows()):\n",
    "        board = chess.Board()\n",
    "        # Get PGN\n",
    "        Result = game[\"Result\"]\n",
    "        WhiteElo = game[\"WhiteElo\"]\n",
    "        BlackElo = game[\"BlackElo\"]\n",
    "        TimeControl = game[\"TimeControl\"]\n",
    "        moves_string = clean_pgn(game[\"AN\"])\n",
    "\n",
    "        bitmaps = []\n",
    "\n",
    "        tokens = moves_string.replace(\"\\n\", \" \").split()\n",
    "        moves = [token for token in tokens if not token[0].isdigit() and '.' not in token]\n",
    "        sideToPlay = True # True for white, False for Black\n",
    "        numMoves = 0\n",
    "        for move in moves:\n",
    "            try:\n",
    "                move: chess.Move = board.push_san(move)\n",
    "                numMoves += 1\n",
    "                # if numMoves < 10:\n",
    "                #     continue\n",
    "\n",
    "                bitmap = board_to_tensor(board, sideToPlay)\n",
    "                possible_moves = get_possible_moves(board)\n",
    "                writer.writerow([\n",
    "                    bitmap.tolist(), # bitmaps\n",
    "                    MOVE_DICTIONARY[move.uci()[:4]], # Played move\n",
    "                    # 0 for invalid 1 for valid; To keep constant size\n",
    "                    possible_moves.tolist(),\n",
    "                ])\n",
    "                sideToPlay = not sideToPlay\n",
    "            except Exception as e:\n",
    "                print(f\"Skipping bad move: {moves} - {move} – #{e}#\")\n",
    "                break\n",
    "        break\n",
    "\n",
    "output_df = pd.read_csv(\"./dataset/processed/example.csv\", names=[\"bitmap\", \"move_played\", \"possible_moves\"])"
   ]
  },
  {
   "cell_type": "code",
   "execution_count": 7,
   "id": "bea40bb7",
   "metadata": {},
   "outputs": [
    {
     "data": {
      "text/html": [
       "<div>\n",
       "<style scoped>\n",
       "    .dataframe tbody tr th:only-of-type {\n",
       "        vertical-align: middle;\n",
       "    }\n",
       "\n",
       "    .dataframe tbody tr th {\n",
       "        vertical-align: top;\n",
       "    }\n",
       "\n",
       "    .dataframe thead th {\n",
       "        text-align: right;\n",
       "    }\n",
       "</style>\n",
       "<table border=\"1\" class=\"dataframe\">\n",
       "  <thead>\n",
       "    <tr style=\"text-align: right;\">\n",
       "      <th></th>\n",
       "      <th>bitmap</th>\n",
       "      <th>move_played</th>\n",
       "      <th>possible_moves</th>\n",
       "    </tr>\n",
       "  </thead>\n",
       "  <tbody>\n",
       "    <tr>\n",
       "      <th>0</th>\n",
       "      <td>[268496640, 66, 36, 129, 8, 16, 71776119061217...</td>\n",
       "      <td>2113</td>\n",
       "      <td>[0, 0, 0, 0, 0, 13835058055282163712, 0, 0, 0,...</td>\n",
       "    </tr>\n",
       "    <tr>\n",
       "      <th>1</th>\n",
       "      <td>[268496640, 66, 36, 129, 8, 16, 71215368131051...</td>\n",
       "      <td>895</td>\n",
       "      <td>[0, 3, 0, 0, 0, 0, 0, 288230376151711744, 512,...</td>\n",
       "    </tr>\n",
       "    <tr>\n",
       "      <th>2</th>\n",
       "      <td>[269018880, 66, 36, 129, 8, 16, 71215368131051...</td>\n",
       "      <td>1600</td>\n",
       "      <td>[0, 0, 0, 0, 0, 13835058055282163712, 0, 0, 0,...</td>\n",
       "    </tr>\n",
       "    <tr>\n",
       "      <th>3</th>\n",
       "      <td>[269018880, 66, 36, 129, 8, 16, 71215368131051...</td>\n",
       "      <td>1463</td>\n",
       "      <td>[0, 3, 0, 0, 0, 0, 0, 288230376151711744, 6604...</td>\n",
       "    </tr>\n",
       "    <tr>\n",
       "      <th>4</th>\n",
       "      <td>[269018880, 262208, 36, 129, 8, 16, 7121536813...</td>\n",
       "      <td>521</td>\n",
       "      <td>[0, 0, 0, 0, 0, 13835058055282163712, 0, 0, 0,...</td>\n",
       "    </tr>\n",
       "    <tr>\n",
       "      <th>...</th>\n",
       "      <td>...</td>\n",
       "      <td>...</td>\n",
       "      <td>...</td>\n",
       "    </tr>\n",
       "    <tr>\n",
       "      <th>59</th>\n",
       "      <td>[8741376, 134217728, 524288, 0, 4096, 64, 4247...</td>\n",
       "      <td>3391</td>\n",
       "      <td>[0, 0, 1, 0, 0, 0, 0, 0, 0, 3, 0, 0, 0, 0, 0, ...</td>\n",
       "    </tr>\n",
       "    <tr>\n",
       "      <th>60</th>\n",
       "      <td>[10830336, 134217728, 524288, 0, 4096, 64, 424...</td>\n",
       "      <td>2624</td>\n",
       "      <td>[0, 0, 0, 0, 0, 13835058055282163712, 0, 0, 0,...</td>\n",
       "    </tr>\n",
       "    <tr>\n",
       "      <th>61</th>\n",
       "      <td>[10830336, 134217728, 524288, 0, 4096, 64, 424...</td>\n",
       "      <td>2254</td>\n",
       "      <td>[0, 0, 1, 0, 0, 0, 0, 0, 0, 3, 0, 0, 0, 0, 0, ...</td>\n",
       "    </tr>\n",
       "    <tr>\n",
       "      <th>62</th>\n",
       "      <td>[10830336, 134217728, 524288, 0, 4096, 32768, ...</td>\n",
       "      <td>3080</td>\n",
       "      <td>[0, 0, 0, 0, 0, 13835058055282163712, 0, 0, 0,...</td>\n",
       "    </tr>\n",
       "    <tr>\n",
       "      <th>63</th>\n",
       "      <td>[10830336, 134217728, 524288, 0, 0, 32768, 424...</td>\n",
       "      <td>3183</td>\n",
       "      <td>[0, 0, 1, 0, 0, 0, 0, 0, 0, 3, 0, 0, 0, 0, 0, ...</td>\n",
       "    </tr>\n",
       "  </tbody>\n",
       "</table>\n",
       "<p>64 rows × 3 columns</p>\n",
       "</div>"
      ],
      "text/plain": [
       "                                               bitmap  move_played  \\\n",
       "0   [268496640, 66, 36, 129, 8, 16, 71776119061217...         2113   \n",
       "1   [268496640, 66, 36, 129, 8, 16, 71215368131051...          895   \n",
       "2   [269018880, 66, 36, 129, 8, 16, 71215368131051...         1600   \n",
       "3   [269018880, 66, 36, 129, 8, 16, 71215368131051...         1463   \n",
       "4   [269018880, 262208, 36, 129, 8, 16, 7121536813...          521   \n",
       "..                                                ...          ...   \n",
       "59  [8741376, 134217728, 524288, 0, 4096, 64, 4247...         3391   \n",
       "60  [10830336, 134217728, 524288, 0, 4096, 64, 424...         2624   \n",
       "61  [10830336, 134217728, 524288, 0, 4096, 64, 424...         2254   \n",
       "62  [10830336, 134217728, 524288, 0, 4096, 32768, ...         3080   \n",
       "63  [10830336, 134217728, 524288, 0, 0, 32768, 424...         3183   \n",
       "\n",
       "                                       possible_moves  \n",
       "0   [0, 0, 0, 0, 0, 13835058055282163712, 0, 0, 0,...  \n",
       "1   [0, 3, 0, 0, 0, 0, 0, 288230376151711744, 512,...  \n",
       "2   [0, 0, 0, 0, 0, 13835058055282163712, 0, 0, 0,...  \n",
       "3   [0, 3, 0, 0, 0, 0, 0, 288230376151711744, 6604...  \n",
       "4   [0, 0, 0, 0, 0, 13835058055282163712, 0, 0, 0,...  \n",
       "..                                                ...  \n",
       "59  [0, 0, 1, 0, 0, 0, 0, 0, 0, 3, 0, 0, 0, 0, 0, ...  \n",
       "60  [0, 0, 0, 0, 0, 13835058055282163712, 0, 0, 0,...  \n",
       "61  [0, 0, 1, 0, 0, 0, 0, 0, 0, 3, 0, 0, 0, 0, 0, ...  \n",
       "62  [0, 0, 0, 0, 0, 13835058055282163712, 0, 0, 0,...  \n",
       "63  [0, 0, 1, 0, 0, 0, 0, 0, 0, 3, 0, 0, 0, 0, 0, ...  \n",
       "\n",
       "[64 rows x 3 columns]"
      ]
     },
     "execution_count": 7,
     "metadata": {},
     "output_type": "execute_result"
    }
   ],
   "source": [
    "output_df"
   ]
  }
 ],
 "metadata": {
  "kernelspec": {
   "display_name": ".venv",
   "language": "python",
   "name": "python3"
  },
  "language_info": {
   "codemirror_mode": {
    "name": "ipython",
    "version": 3
   },
   "file_extension": ".py",
   "mimetype": "text/x-python",
   "name": "python",
   "nbconvert_exporter": "python",
   "pygments_lexer": "ipython3",
   "version": "3.11.9"
  }
 },
 "nbformat": 4,
 "nbformat_minor": 5
}
