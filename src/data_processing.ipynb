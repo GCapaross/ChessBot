{
 "cells": [
  {
   "cell_type": "markdown",
   "id": "16def7fd",
   "metadata": {},
   "source": [
    "# Data cleaning\n",
    "## Data structure\n",
    "Raw data has match info and the game PGN format (moves made in the games)\n",
    "Example:\n",
    "\n",
    "```\n",
    "                Event            White       Black Result     UTCDate   UTCTime \\\n",
    "0           Classical          eisaaaa    HAMID449    1-0  2016.06.30  22:00:01 \\\n",
    "1               Blitz           go4jas  Sergei1973    0-1  2016.06.30  22:00:01 \\\n",
    "2    Blitz tournament  Evangelistaizac      kafune    1-0  2016.06.30  22:00:02 \\\n",
    "3      Correspondence           Jvayne    Wsjvayne    1-0  2016.06.30  22:00:02 \\\n",
    "4    Blitz tournament           kyoday   BrettDale    0-1  2016.06.30  22:00:02 \\\n",
    "\n",
    "    WhiteElo  BlackElo  WhiteRatingDiff  BlackRatingDiff  ECO\n",
    "0       1901      1896             11.0            -11.0  D10\n",
    "1       1641      1627            -11.0             12.0  C20\n",
    "2       1647      1688             13.0            -13.0  B01\n",
    "3       1706      1317             27.0            -25.0  A00\n",
    "4       1945      1900            -14.0             13.0  B9 \n",
    "\n",
    "                                         Opening  TimeControl   Termination                                                     AN\n",
    "0                                    Slav Defense       300+5  Time forfeit      1. d4 d5 2. c4 c6 3. e3 a6 4. Nf3 e5 5. cxd5 e...\n",
    "1                       King's Pawn Opening: 2.b3       300+0        Normal      1. e4 e5 2. b3 Nf6 3. Bb2 Nc6 4. Nf3 d6 5. d3 ...\n",
    "2   Scandinavian Defense: Mieses-Kotroc Variation       180+0  Time forfeit      1. e4 d5 2. exd5 Qxd5 3. Nf3 Bg4 4. Be2 Nf6 5....\n",
    "3                            Van't Kruijs Opening           -        Normal      1. e3 Nf6 2. Bc4 d6 3. e4 e6 4. Nf3 Nxe4 5. Nd...\n",
    "4     Sicilian Defense: Najdorf, Lipnitsky Attack       180+0  Time forfeit      1. e4 c5 2. Nf3 d6 3. d4 cxd4 4. Nxd4 Nf6 5. N...\n",
    "```\n",
    "So a few columns of the game info and then a column called `AN` that contains the PGN of the game, so we must convert this table into gameboards\n",
    "From this data, the most important data to save is `Result`, `ELO`s, `TimeControl` and `AN`\n"
   ]
  },
  {
   "cell_type": "code",
   "execution_count": 4,
   "id": "ffe9bd2a",
   "metadata": {},
   "outputs": [],
   "source": [
    "import pandas as pd\n",
    "import chess\n",
    "import numpy as np\n",
    "\n",
    "piece_to_idx = {\n",
    "    'P': 0, 'N': 1, 'B': 2, 'R': 3, 'Q': 4, 'K': 5,\n",
    "    'p': 6, 'n': 7, 'b': 8, 'r': 9, 'q': 10, 'k': 11\n",
    "}\n",
    "\n",
    "def board_to_tensor(board: chess.Board, sideToPlay: bool):\n",
    "    tensor = np.zeros(13, dtype=np.uint64) # each board is represented in a int(8*8)-> uint64, a bit for each square\n",
    "    for square in chess.SQUARES:\n",
    "        piece = board.piece_at(square)\n",
    "        if piece:\n",
    "            idx = piece_to_idx[piece.symbol()]\n",
    "            tensor[idx] |= 1<<square # Set the bit to 1 at square for the board idx\n",
    "    tensor[12] = 1 if sideToPlay else 0\n",
    "    return tensor\n",
    "\n",
    "def get_possible_moves(board: chess.Board) -> np.ndarray[np.uint64]: # np.ndarray[np.uint64, shape=(63)]\n",
    "    array = np.zeros(shape=(64,), dtype=np.uint64) # 64*63 bits (is set to 64 just to maintain homogeneity)\n",
    "    for move in board.legal_moves:\n",
    "        move_idx = MOVE_DICTIONARY[move.uci()[:4]]\n",
    "        num_idx = move_idx // 64\n",
    "        bit_idx = move_idx % 64\n",
    "        array[num_idx] |= 1<<bit_idx\n",
    "    return array\n",
    "\n",
    "\n",
    "letters = [\"a\", \"b\", \"c\", \"d\", \"e\", \"f\", \"g\", \"h\"]\n",
    "numbers = list(range(1, 10)) # [1..9]\n",
    "MOVE_DICTIONARY = {}\n",
    "cumulative = 0\n",
    "for num_games_saved in range(8):\n",
    "    for j in range(8):\n",
    "        for k in range(8):\n",
    "            for w in range (8):\n",
    "                if (num_games_saved == k and j == w):\n",
    "                    cumulative += 1\n",
    "                    continue\n",
    "                from_square = f\"{letters[num_games_saved]}{numbers[j]}\"\n",
    "                to_square = f\"{letters[k]}{numbers[w]}\"\n",
    "                MOVE_DICTIONARY[f\"{from_square}{to_square}\"] = (num_games_saved * 8**3) + (j * 8**2) + (k * 8) + w - cumulative\n",
    "REVERSE_MOVE_DICTIONARY = {\n",
    "    value: key for key, value in MOVE_DICTIONARY.items()\n",
    "}"
   ]
  },
  {
   "cell_type": "code",
   "execution_count": 5,
   "id": "202ec7f4",
   "metadata": {},
   "outputs": [],
   "source": [
    "import re\n",
    "\n",
    "def clean_pgn(pgn_text):\n",
    "    # Remove {...} comments and [%...] evals\n",
    "    cleaned = re.sub(r'\\{[^}]*\\}', '', pgn_text)\n",
    "    cleaned = re.sub(r'\\[%[^]]*\\]', '', cleaned)\n",
    "    # cleaned = re.sub(r'[0-9]+\\.\\.\\.', '', cleaned)\n",
    "    cleaned = re.sub(r'\\?!?', '', cleaned)\n",
    "    return cleaned\n",
    "\n"
   ]
  },
  {
   "cell_type": "code",
   "execution_count": 6,
   "id": "0e8939f8",
   "metadata": {},
   "outputs": [
    {
     "name": "stdout",
     "output_type": "stream",
     "text": [
      "Reading 1-th batch of games...\n"
     ]
    },
    {
     "name": "stderr",
     "output_type": "stream",
     "text": [
      "10000it [00:07, 1333.50it/s]\n"
     ]
    },
    {
     "name": "stdout",
     "output_type": "stream",
     "text": [
      "Read 10000 in 7.870232820510864 | TOTAL: 10000 | 939\n",
      "Reading 2-th batch of games...\n"
     ]
    },
    {
     "name": "stderr",
     "output_type": "stream",
     "text": [
      "10000it [00:07, 1380.68it/s]\n"
     ]
    },
    {
     "name": "stdout",
     "output_type": "stream",
     "text": [
      "Read 10000 in 7.34575629234314 | TOTAL: 20000 | 1848\n",
      "Reading 3-th batch of games...\n"
     ]
    },
    {
     "name": "stderr",
     "output_type": "stream",
     "text": [
      "10000it [00:06, 1467.67it/s]\n"
     ]
    },
    {
     "name": "stdout",
     "output_type": "stream",
     "text": [
      "Read 10000 in 6.968638896942139 | TOTAL: 30000 | 2741\n",
      "Reading 4-th batch of games...\n"
     ]
    },
    {
     "name": "stderr",
     "output_type": "stream",
     "text": [
      "10000it [00:06, 1527.89it/s]\n"
     ]
    },
    {
     "name": "stdout",
     "output_type": "stream",
     "text": [
      "Read 10000 in 6.665080785751343 | TOTAL: 40000 | 3624\n",
      "Reading 5-th batch of games...\n"
     ]
    },
    {
     "name": "stderr",
     "output_type": "stream",
     "text": [
      "10000it [00:06, 1455.85it/s]\n"
     ]
    },
    {
     "name": "stdout",
     "output_type": "stream",
     "text": [
      "Read 10000 in 7.048427104949951 | TOTAL: 50000 | 4516\n",
      "Reading 6-th batch of games...\n"
     ]
    },
    {
     "name": "stderr",
     "output_type": "stream",
     "text": [
      "10000it [00:06, 1466.28it/s]\n"
     ]
    },
    {
     "name": "stdout",
     "output_type": "stream",
     "text": [
      "Read 10000 in 7.02899956703186 | TOTAL: 60000 | 5388\n",
      "Reading 7-th batch of games...\n"
     ]
    },
    {
     "name": "stderr",
     "output_type": "stream",
     "text": [
      "10000it [00:07, 1361.05it/s]\n"
     ]
    },
    {
     "name": "stdout",
     "output_type": "stream",
     "text": [
      "Read 10000 in 7.515100717544556 | TOTAL: 70000 | 6319\n",
      "Reading 8-th batch of games...\n"
     ]
    },
    {
     "name": "stderr",
     "output_type": "stream",
     "text": [
      "10000it [00:06, 1456.72it/s]\n"
     ]
    },
    {
     "name": "stdout",
     "output_type": "stream",
     "text": [
      "Read 10000 in 7.100871324539185 | TOTAL: 80000 | 7161\n",
      "Reading 9-th batch of games...\n"
     ]
    },
    {
     "name": "stderr",
     "output_type": "stream",
     "text": [
      "10000it [00:07, 1393.55it/s]\n"
     ]
    },
    {
     "name": "stdout",
     "output_type": "stream",
     "text": [
      "Read 10000 in 7.375486612319946 | TOTAL: 90000 | 8107\n",
      "Reading 10-th batch of games...\n"
     ]
    },
    {
     "name": "stderr",
     "output_type": "stream",
     "text": [
      "10000it [00:07, 1326.58it/s]\n"
     ]
    },
    {
     "name": "stdout",
     "output_type": "stream",
     "text": [
      "Read 10000 in 7.805805206298828 | TOTAL: 100000 | 9075\n",
      "Reading 11-th batch of games...\n"
     ]
    },
    {
     "name": "stderr",
     "output_type": "stream",
     "text": [
      "10000it [00:07, 1376.98it/s]\n"
     ]
    },
    {
     "name": "stdout",
     "output_type": "stream",
     "text": [
      "Read 10000 in 7.487231492996216 | TOTAL: 110000 | 9993\n",
      "Reading 12-th batch of games...\n"
     ]
    },
    {
     "name": "stderr",
     "output_type": "stream",
     "text": [
      "10000it [00:07, 1408.84it/s]\n"
     ]
    },
    {
     "name": "stdout",
     "output_type": "stream",
     "text": [
      "Read 10000 in 7.389220237731934 | TOTAL: 120000 | 10921\n",
      "Reading 13-th batch of games...\n"
     ]
    },
    {
     "name": "stderr",
     "output_type": "stream",
     "text": [
      "10000it [00:06, 1556.44it/s]\n"
     ]
    },
    {
     "name": "stdout",
     "output_type": "stream",
     "text": [
      "Read 10000 in 6.667329549789429 | TOTAL: 130000 | 11745\n",
      "Reading 14-th batch of games...\n"
     ]
    },
    {
     "name": "stderr",
     "output_type": "stream",
     "text": [
      "10000it [00:06, 1513.54it/s]\n"
     ]
    },
    {
     "name": "stdout",
     "output_type": "stream",
     "text": [
      "Read 10000 in 6.865509510040283 | TOTAL: 140000 | 12613\n",
      "Reading 15-th batch of games...\n"
     ]
    },
    {
     "name": "stderr",
     "output_type": "stream",
     "text": [
      "10000it [00:06, 1509.48it/s]\n"
     ]
    },
    {
     "name": "stdout",
     "output_type": "stream",
     "text": [
      "Read 10000 in 6.926027297973633 | TOTAL: 150000 | 13429\n",
      "Reading 16-th batch of games...\n"
     ]
    },
    {
     "name": "stderr",
     "output_type": "stream",
     "text": [
      "10000it [00:06, 1548.05it/s]\n"
     ]
    },
    {
     "name": "stdout",
     "output_type": "stream",
     "text": [
      "Read 10000 in 6.7485129833221436 | TOTAL: 160000 | 14259\n",
      "Reading 17-th batch of games...\n"
     ]
    },
    {
     "name": "stderr",
     "output_type": "stream",
     "text": [
      "10000it [00:06, 1431.82it/s]\n"
     ]
    },
    {
     "name": "stdout",
     "output_type": "stream",
     "text": [
      "Read 10000 in 7.334336519241333 | TOTAL: 170000 | 15178\n",
      "Reading 18-th batch of games...\n"
     ]
    },
    {
     "name": "stderr",
     "output_type": "stream",
     "text": [
      "10000it [00:07, 1403.26it/s]\n"
     ]
    },
    {
     "name": "stdout",
     "output_type": "stream",
     "text": [
      "Read 10000 in 7.500615358352661 | TOTAL: 180000 | 16106\n",
      "Reading 19-th batch of games...\n"
     ]
    },
    {
     "name": "stderr",
     "output_type": "stream",
     "text": [
      "10000it [00:07, 1426.06it/s]\n"
     ]
    },
    {
     "name": "stdout",
     "output_type": "stream",
     "text": [
      "Read 10000 in 7.34860372543335 | TOTAL: 190000 | 17012\n",
      "Reading 20-th batch of games...\n"
     ]
    },
    {
     "name": "stderr",
     "output_type": "stream",
     "text": [
      "10000it [00:07, 1289.10it/s]\n"
     ]
    },
    {
     "name": "stdout",
     "output_type": "stream",
     "text": [
      "Read 10000 in 8.15158987045288 | TOTAL: 200000 | 17972\n",
      "Reading 21-th batch of games...\n"
     ]
    },
    {
     "name": "stderr",
     "output_type": "stream",
     "text": [
      "10000it [00:07, 1403.66it/s]\n"
     ]
    },
    {
     "name": "stdout",
     "output_type": "stream",
     "text": [
      "Read 10000 in 7.490124940872192 | TOTAL: 210000 | 18886\n",
      "Reading 22-th batch of games...\n"
     ]
    },
    {
     "name": "stderr",
     "output_type": "stream",
     "text": [
      "10000it [00:07, 1321.47it/s]\n"
     ]
    },
    {
     "name": "stdout",
     "output_type": "stream",
     "text": [
      "Read 10000 in 8.002735137939453 | TOTAL: 220000 | 19843\n",
      "Reading 23-th batch of games...\n"
     ]
    },
    {
     "name": "stderr",
     "output_type": "stream",
     "text": [
      "10000it [00:06, 1468.57it/s]\n"
     ]
    },
    {
     "name": "stdout",
     "output_type": "stream",
     "text": [
      "Read 10000 in 7.192998170852661 | TOTAL: 230000 | 20724\n",
      "Reading 24-th batch of games...\n"
     ]
    },
    {
     "name": "stderr",
     "output_type": "stream",
     "text": [
      "10000it [00:06, 1515.82it/s]\n"
     ]
    },
    {
     "name": "stdout",
     "output_type": "stream",
     "text": [
      "Read 10000 in 7.0602805614471436 | TOTAL: 240000 | 21577\n",
      "Reading 25-th batch of games...\n"
     ]
    },
    {
     "name": "stderr",
     "output_type": "stream",
     "text": [
      "10000it [00:06, 1469.79it/s]\n"
     ]
    },
    {
     "name": "stdout",
     "output_type": "stream",
     "text": [
      "Read 10000 in 7.228078603744507 | TOTAL: 250000 | 22433\n",
      "Reading 26-th batch of games...\n"
     ]
    },
    {
     "name": "stderr",
     "output_type": "stream",
     "text": [
      "10000it [00:06, 1473.54it/s]\n"
     ]
    },
    {
     "name": "stdout",
     "output_type": "stream",
     "text": [
      "Read 10000 in 7.273404598236084 | TOTAL: 260000 | 23305\n",
      "Reading 27-th batch of games...\n"
     ]
    },
    {
     "name": "stderr",
     "output_type": "stream",
     "text": [
      "10000it [00:06, 1593.71it/s]\n"
     ]
    },
    {
     "name": "stdout",
     "output_type": "stream",
     "text": [
      "Read 10000 in 6.710845708847046 | TOTAL: 270000 | 24142\n",
      "Reading 28-th batch of games...\n"
     ]
    },
    {
     "name": "stderr",
     "output_type": "stream",
     "text": [
      "10000it [00:06, 1469.27it/s]\n"
     ]
    },
    {
     "name": "stdout",
     "output_type": "stream",
     "text": [
      "Read 10000 in 7.262572526931763 | TOTAL: 280000 | 25027\n",
      "Reading 29-th batch of games...\n"
     ]
    },
    {
     "name": "stderr",
     "output_type": "stream",
     "text": [
      "10000it [00:06, 1561.04it/s]\n"
     ]
    },
    {
     "name": "stdout",
     "output_type": "stream",
     "text": [
      "Read 10000 in 6.931878566741943 | TOTAL: 290000 | 25868\n",
      "Reading 30-th batch of games...\n"
     ]
    },
    {
     "name": "stderr",
     "output_type": "stream",
     "text": [
      "10000it [00:06, 1446.70it/s]\n"
     ]
    },
    {
     "name": "stdout",
     "output_type": "stream",
     "text": [
      "Read 10000 in 7.387641191482544 | TOTAL: 300000 | 26741\n",
      "Reading 31-th batch of games...\n"
     ]
    },
    {
     "name": "stderr",
     "output_type": "stream",
     "text": [
      "10000it [00:06, 1513.87it/s]\n"
     ]
    },
    {
     "name": "stdout",
     "output_type": "stream",
     "text": [
      "Read 10000 in 7.091502904891968 | TOTAL: 310000 | 27565\n",
      "Reading 32-th batch of games...\n"
     ]
    },
    {
     "name": "stderr",
     "output_type": "stream",
     "text": [
      "10000it [00:06, 1521.14it/s]\n"
     ]
    },
    {
     "name": "stdout",
     "output_type": "stream",
     "text": [
      "Read 10000 in 7.13236141204834 | TOTAL: 320000 | 28420\n",
      "Reading 33-th batch of games...\n"
     ]
    },
    {
     "name": "stderr",
     "output_type": "stream",
     "text": [
      "10000it [00:06, 1491.14it/s]\n"
     ]
    },
    {
     "name": "stdout",
     "output_type": "stream",
     "text": [
      "Read 10000 in 7.223925590515137 | TOTAL: 330000 | 29302\n",
      "Reading 34-th batch of games...\n"
     ]
    },
    {
     "name": "stderr",
     "output_type": "stream",
     "text": [
      "10000it [00:07, 1341.96it/s]\n"
     ]
    },
    {
     "name": "stdout",
     "output_type": "stream",
     "text": [
      "Read 10000 in 8.057716846466064 | TOTAL: 340000 | 30240\n",
      "Reading 35-th batch of games...\n"
     ]
    },
    {
     "name": "stderr",
     "output_type": "stream",
     "text": [
      "10000it [00:06, 1508.11it/s]\n"
     ]
    },
    {
     "name": "stdout",
     "output_type": "stream",
     "text": [
      "Read 10000 in 7.193569660186768 | TOTAL: 350000 | 31043\n",
      "Reading 36-th batch of games...\n"
     ]
    },
    {
     "name": "stderr",
     "output_type": "stream",
     "text": [
      "10000it [00:06, 1548.00it/s]\n"
     ]
    },
    {
     "name": "stdout",
     "output_type": "stream",
     "text": [
      "Read 10000 in 7.038237571716309 | TOTAL: 360000 | 31846\n",
      "Reading 37-th batch of games...\n"
     ]
    },
    {
     "name": "stderr",
     "output_type": "stream",
     "text": [
      "10000it [00:07, 1318.22it/s]\n"
     ]
    },
    {
     "name": "stdout",
     "output_type": "stream",
     "text": [
      "Read 10000 in 8.218154191970825 | TOTAL: 370000 | 32687\n",
      "Reading 38-th batch of games...\n"
     ]
    },
    {
     "name": "stderr",
     "output_type": "stream",
     "text": [
      "10000it [00:06, 1473.75it/s]\n"
     ]
    },
    {
     "name": "stdout",
     "output_type": "stream",
     "text": [
      "Read 10000 in 7.528122425079346 | TOTAL: 380000 | 33522\n",
      "Reading 39-th batch of games...\n"
     ]
    },
    {
     "name": "stderr",
     "output_type": "stream",
     "text": [
      "10000it [00:06, 1478.08it/s]\n"
     ]
    },
    {
     "name": "stdout",
     "output_type": "stream",
     "text": [
      "Read 10000 in 7.4028918743133545 | TOTAL: 390000 | 34350\n",
      "Reading 40-th batch of games...\n"
     ]
    },
    {
     "name": "stderr",
     "output_type": "stream",
     "text": [
      "10000it [00:06, 1464.03it/s]\n"
     ]
    },
    {
     "name": "stdout",
     "output_type": "stream",
     "text": [
      "Read 10000 in 7.480183839797974 | TOTAL: 400000 | 35176\n",
      "Reading 41-th batch of games...\n"
     ]
    },
    {
     "name": "stderr",
     "output_type": "stream",
     "text": [
      "10000it [00:06, 1502.48it/s]\n"
     ]
    },
    {
     "name": "stdout",
     "output_type": "stream",
     "text": [
      "Read 10000 in 7.34788966178894 | TOTAL: 410000 | 36026\n",
      "Reading 42-th batch of games...\n"
     ]
    },
    {
     "name": "stderr",
     "output_type": "stream",
     "text": [
      "10000it [00:06, 1431.94it/s]\n"
     ]
    },
    {
     "name": "stdout",
     "output_type": "stream",
     "text": [
      "Read 10000 in 7.652076721191406 | TOTAL: 420000 | 36971\n",
      "Reading 43-th batch of games...\n"
     ]
    },
    {
     "name": "stderr",
     "output_type": "stream",
     "text": [
      "10000it [00:07, 1417.95it/s]\n"
     ]
    },
    {
     "name": "stdout",
     "output_type": "stream",
     "text": [
      "Read 10000 in 7.801868200302124 | TOTAL: 430000 | 37883\n",
      "Reading 44-th batch of games...\n"
     ]
    },
    {
     "name": "stderr",
     "output_type": "stream",
     "text": [
      "10000it [00:06, 1520.44it/s]\n"
     ]
    },
    {
     "name": "stdout",
     "output_type": "stream",
     "text": [
      "Read 10000 in 7.269696474075317 | TOTAL: 440000 | 38737\n",
      "Reading 45-th batch of games...\n"
     ]
    },
    {
     "name": "stderr",
     "output_type": "stream",
     "text": [
      "10000it [00:06, 1440.74it/s]\n"
     ]
    },
    {
     "name": "stdout",
     "output_type": "stream",
     "text": [
      "Read 10000 in 7.675040245056152 | TOTAL: 450000 | 39622\n",
      "Reading 46-th batch of games...\n"
     ]
    },
    {
     "name": "stderr",
     "output_type": "stream",
     "text": [
      "10000it [00:06, 1464.22it/s]\n"
     ]
    },
    {
     "name": "stdout",
     "output_type": "stream",
     "text": [
      "Read 10000 in 7.598703622817993 | TOTAL: 460000 | 40451\n",
      "Reading 47-th batch of games...\n"
     ]
    },
    {
     "name": "stderr",
     "output_type": "stream",
     "text": [
      "10000it [00:07, 1398.00it/s]\n"
     ]
    },
    {
     "name": "stdout",
     "output_type": "stream",
     "text": [
      "Read 10000 in 7.924944877624512 | TOTAL: 470000 | 41365\n",
      "Reading 48-th batch of games...\n"
     ]
    },
    {
     "name": "stderr",
     "output_type": "stream",
     "text": [
      "10000it [00:07, 1418.91it/s]\n"
     ]
    },
    {
     "name": "stdout",
     "output_type": "stream",
     "text": [
      "Read 10000 in 7.789685487747192 | TOTAL: 480000 | 42273\n",
      "Reading 49-th batch of games...\n"
     ]
    },
    {
     "name": "stderr",
     "output_type": "stream",
     "text": [
      "10000it [00:07, 1263.86it/s]\n"
     ]
    },
    {
     "name": "stdout",
     "output_type": "stream",
     "text": [
      "Read 10000 in 8.714117050170898 | TOTAL: 490000 | 43262\n",
      "Reading 50-th batch of games...\n"
     ]
    },
    {
     "name": "stderr",
     "output_type": "stream",
     "text": [
      "10000it [00:07, 1427.32it/s]\n"
     ]
    },
    {
     "name": "stdout",
     "output_type": "stream",
     "text": [
      "Read 10000 in 7.826236724853516 | TOTAL: 500000 | 44151\n",
      "Reading 51-th batch of games...\n"
     ]
    },
    {
     "name": "stderr",
     "output_type": "stream",
     "text": [
      "10000it [00:07, 1392.31it/s]\n"
     ]
    },
    {
     "name": "stdout",
     "output_type": "stream",
     "text": [
      "Read 10000 in 8.013488054275513 | TOTAL: 510000 | 45050\n",
      "Reading 52-th batch of games...\n"
     ]
    },
    {
     "name": "stderr",
     "output_type": "stream",
     "text": [
      "10000it [00:06, 1607.53it/s]\n"
     ]
    },
    {
     "name": "stdout",
     "output_type": "stream",
     "text": [
      "Read 10000 in 7.066640615463257 | TOTAL: 520000 | 45839\n",
      "Reading 53-th batch of games...\n"
     ]
    },
    {
     "name": "stderr",
     "output_type": "stream",
     "text": [
      "10000it [00:07, 1409.79it/s]\n"
     ]
    },
    {
     "name": "stdout",
     "output_type": "stream",
     "text": [
      "Read 10000 in 7.92664361000061 | TOTAL: 530000 | 46700\n",
      "Reading 54-th batch of games...\n"
     ]
    },
    {
     "name": "stderr",
     "output_type": "stream",
     "text": [
      "10000it [00:06, 1447.43it/s]\n"
     ]
    },
    {
     "name": "stdout",
     "output_type": "stream",
     "text": [
      "Read 10000 in 7.77057147026062 | TOTAL: 540000 | 47572\n",
      "Reading 55-th batch of games...\n"
     ]
    },
    {
     "name": "stderr",
     "output_type": "stream",
     "text": [
      "10000it [00:06, 1470.40it/s]\n"
     ]
    },
    {
     "name": "stdout",
     "output_type": "stream",
     "text": [
      "Read 10000 in 7.630624771118164 | TOTAL: 550000 | 48436\n",
      "Reading 56-th batch of games...\n"
     ]
    },
    {
     "name": "stderr",
     "output_type": "stream",
     "text": [
      "10000it [00:07, 1403.59it/s]\n"
     ]
    },
    {
     "name": "stdout",
     "output_type": "stream",
     "text": [
      "Read 10000 in 8.02131199836731 | TOTAL: 560000 | 49339\n",
      "Reading 57-th batch of games...\n"
     ]
    },
    {
     "name": "stderr",
     "output_type": "stream",
     "text": [
      "10000it [00:06, 1554.94it/s]"
     ]
    },
    {
     "name": "stdout",
     "output_type": "stream",
     "text": [
      "Read 10000 in 7.337378740310669 | TOTAL: 570000 | 50156\n"
     ]
    },
    {
     "name": "stderr",
     "output_type": "stream",
     "text": [
      "\n"
     ]
    }
   ],
   "source": [
    "import csv\n",
    "from time import time\n",
    "\n",
    "from tqdm import tqdm\n",
    "HEADERS=[\n",
    "    \"Event\", \"White\", \"Black\", \"Result\", \"UTCDate\", \"UTCTime\", \"WhiteElo\", \n",
    "    \"BlackElo\", \"WhiteRatingDiff\", \"BlackRatingDiff\", \"ECO\", \"Opening\", \n",
    "    \"TimeControl\", \"Termination\", \"AN\"\n",
    "]\n",
    "\n",
    "start = 1 # To ignore headers\n",
    "total = 0\n",
    "READ_SIZE = 10_000\n",
    "RUN = True\n",
    "num_games_saved = 0\n",
    "num_batches = 1\n",
    "try:\n",
    "    with open(\"./dataset/processed/results_ELO_1500.csv\", \"w\") as f:\n",
    "        writer = csv.writer(f)\n",
    "        while RUN:\n",
    "            ti = time()\n",
    "            games_df = pd.read_csv('./dataset/raw/chess_games.csv', skiprows=start, nrows=READ_SIZE, names=HEADERS)\n",
    "\n",
    "            print(f\"Reading {num_batches}-th batch of games...\")\n",
    "            # Result, WhiteElo, BlackElo, TimeControl, BoardPositions: uint_64[], move_played\n",
    "            for index, game in tqdm(games_df.iterrows()):\n",
    "                board = chess.Board()\n",
    "                # Get PGN\n",
    "                Result = game[\"Result\"]\n",
    "                WhiteElo = int(game[\"WhiteElo\"])\n",
    "                BlackElo = int(game[\"BlackElo\"])\n",
    "                TimeControl = game[\"TimeControl\"]\n",
    "                moves_string = clean_pgn(game[\"AN\"])\n",
    "\n",
    "                bitmaps = []\n",
    "\n",
    "                tokens = moves_string.replace(\"\\n\", \" \").split()\n",
    "                moves = [token for token in tokens if not token[0].isdigit() and '.' not in token]\n",
    "                sideToPlay = True # True for white, False for Black\n",
    "                numMoves = 0\n",
    "                if not(1400 < WhiteElo < 1600) or not(1400 < BlackElo < 1600):\n",
    "                    continue\n",
    "                for move in moves:\n",
    "                    try:\n",
    "                        move: chess.Move = board.push_san(move)\n",
    "                        numMoves += 1\n",
    "                        if numMoves < 8 or board.is_game_over():\n",
    "                            continue\n",
    "\n",
    "\n",
    "                        bitmap = board_to_tensor(board, sideToPlay)\n",
    "                        possible_moves = get_possible_moves(board)\n",
    "                        writer.writerow([\n",
    "                            bitmap.tolist(), # bitmaps\n",
    "                            MOVE_DICTIONARY[move.uci()[:4]], # Played move\n",
    "                            # 0 for invalid 1 for valid; To keep constant size\n",
    "                            possible_moves.tolist(),\n",
    "                        ])\n",
    "                        sideToPlay = not sideToPlay\n",
    "                    except Exception as e:\n",
    "                        print(f\"Skipping bad move: {moves} - {move} – #{e}#\")\n",
    "                        break\n",
    "                num_games_saved+=1\n",
    "            \n",
    "            start += READ_SIZE\n",
    "            tf = time()\n",
    "            total += len(games_df)\n",
    "            num_batches += 1\n",
    "            print(f\"Read {len(games_df)} in {tf-ti} | TOTAL: {total} | {num_games_saved}\")\n",
    "\n",
    "            if 50_000 <= num_games_saved:\n",
    "                RUN = False\n",
    "\n",
    "except Exception as e:\n",
    "    print(e.with_traceback())"
   ]
  }
 ],
 "metadata": {
  "kernelspec": {
   "display_name": ".venv",
   "language": "python",
   "name": "python3"
  },
  "language_info": {
   "codemirror_mode": {
    "name": "ipython",
    "version": 3
   },
   "file_extension": ".py",
   "mimetype": "text/x-python",
   "name": "python",
   "nbconvert_exporter": "python",
   "pygments_lexer": "ipython3",
   "version": "3.11.9"
  }
 },
 "nbformat": 4,
 "nbformat_minor": 5
}
