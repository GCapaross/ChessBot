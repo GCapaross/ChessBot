{
 "cells": [
  {
   "cell_type": "markdown",
   "id": "16def7fd",
   "metadata": {},
   "source": [
    "# Data cleaning\n",
    "## Data structure\n",
    "Raw data has match info and the game PGN format (moves made in the games)\n",
    "Example:\n",
    "\n",
    "```\n",
    "                Event            White       Black Result     UTCDate   UTCTime \\\n",
    "0           Classical          eisaaaa    HAMID449    1-0  2016.06.30  22:00:01 \\\n",
    "1               Blitz           go4jas  Sergei1973    0-1  2016.06.30  22:00:01 \\\n",
    "2    Blitz tournament  Evangelistaizac      kafune    1-0  2016.06.30  22:00:02 \\\n",
    "3      Correspondence           Jvayne    Wsjvayne    1-0  2016.06.30  22:00:02 \\\n",
    "4    Blitz tournament           kyoday   BrettDale    0-1  2016.06.30  22:00:02 \\\n",
    "\n",
    "    WhiteElo  BlackElo  WhiteRatingDiff  BlackRatingDiff  ECO\n",
    "0       1901      1896             11.0            -11.0  D10\n",
    "1       1641      1627            -11.0             12.0  C20\n",
    "2       1647      1688             13.0            -13.0  B01\n",
    "3       1706      1317             27.0            -25.0  A00\n",
    "4       1945      1900            -14.0             13.0  B9 \n",
    "\n",
    "                                         Opening  TimeControl   Termination                                                     AN\n",
    "0                                    Slav Defense       300+5  Time forfeit      1. d4 d5 2. c4 c6 3. e3 a6 4. Nf3 e5 5. cxd5 e...\n",
    "1                       King's Pawn Opening: 2.b3       300+0        Normal      1. e4 e5 2. b3 Nf6 3. Bb2 Nc6 4. Nf3 d6 5. d3 ...\n",
    "2   Scandinavian Defense: Mieses-Kotroc Variation       180+0  Time forfeit      1. e4 d5 2. exd5 Qxd5 3. Nf3 Bg4 4. Be2 Nf6 5....\n",
    "3                            Van't Kruijs Opening           -        Normal      1. e3 Nf6 2. Bc4 d6 3. e4 e6 4. Nf3 Nxe4 5. Nd...\n",
    "4     Sicilian Defense: Najdorf, Lipnitsky Attack       180+0  Time forfeit      1. e4 c5 2. Nf3 d6 3. d4 cxd4 4. Nxd4 Nf6 5. N...\n",
    "```\n",
    "So a few columns of the game info and then a column called `AN` that contains the PGN of the game, so we must convert this table into gameboards\n",
    "From this data, the most important data to save is `Result`, `ELO`s, `TimeControl` and `AN`\n"
   ]
  },
  {
   "cell_type": "code",
   "execution_count": 5,
   "id": "ffe9bd2a",
   "metadata": {},
   "outputs": [],
   "source": [
    "import pandas as pd\n",
    "import chess\n",
    "import numpy as np\n",
    "\n",
    "piece_to_idx = {\n",
    "    'P': 0, 'N': 1, 'B': 2, 'R': 3, 'Q': 4, 'K': 5,\n",
    "    'p': 6, 'n': 7, 'b': 8, 'r': 9, 'q': 10, 'k': 11\n",
    "}\n",
    "\n",
    "def board_to_tensor(board: chess.Board, sideToPlay: bool):\n",
    "    tensor = np.zeros(13, dtype=np.uint64) # each board is represented in a int(8*8)-> uint64, a bit for each square\n",
    "    for square in chess.SQUARES:\n",
    "        piece = board.piece_at(square)\n",
    "        if piece:\n",
    "            idx = piece_to_idx[piece.symbol()]\n",
    "            tensor[idx] |= 1<<square # Set the bit to 1 at square for the board idx\n",
    "    # tensor[12] = 1 if sideToPlay else 0\n",
    "    return tensor\n",
    "\n",
    "def get_possible_moves(board: chess.Board) -> np.ndarray[np.uint64]: # np.ndarray[np.uint64, shape=(63)]\n",
    "    array = np.zeros(shape=(64,), dtype=np.uint64) # 64*63 bits (is set to 64 just to maintain homogeneity)\n",
    "    for move in board.legal_moves:\n",
    "        move_idx = MOVE_DICTIONARY[move.uci()[:4]]\n",
    "        num_idx = move_idx // 64\n",
    "        bit_idx = move_idx % 64\n",
    "        array[num_idx] |= 1<<bit_idx\n",
    "    return array\n",
    "\n",
    "\n",
    "letters = [\"a\", \"b\", \"c\", \"d\", \"e\", \"f\", \"g\", \"h\"]\n",
    "numbers = list(range(1, 10)) # [1..9]\n",
    "MOVE_DICTIONARY = {}\n",
    "cumulative = 0\n",
    "for num_games_saved in range(8):\n",
    "    for j in range(8):\n",
    "        for k in range(8):\n",
    "            for w in range (8):\n",
    "                if (num_games_saved == k and j == w):\n",
    "                    cumulative += 1\n",
    "                    continue\n",
    "                from_square = f\"{letters[num_games_saved]}{numbers[j]}\"\n",
    "                to_square = f\"{letters[k]}{numbers[w]}\"\n",
    "                MOVE_DICTIONARY[f\"{from_square}{to_square}\"] = (num_games_saved * 8**3) + (j * 8**2) + (k * 8) + w - cumulative\n",
    "REVERSE_MOVE_DICTIONARY = {\n",
    "    value: key for key, value in MOVE_DICTIONARY.items()\n",
    "}"
   ]
  },
  {
   "cell_type": "code",
   "execution_count": 6,
   "id": "202ec7f4",
   "metadata": {},
   "outputs": [],
   "source": [
    "import re\n",
    "\n",
    "def clean_pgn(pgn_text):\n",
    "    # Remove {...} comments and [%...] evals\n",
    "    cleaned = re.sub(r'\\{[^}]*\\}', '', pgn_text)\n",
    "    cleaned = re.sub(r'\\[%[^]]*\\]', '', cleaned)\n",
    "    # cleaned = re.sub(r'[0-9]+\\.\\.\\.', '', cleaned)\n",
    "    cleaned = re.sub(r'\\?!?', '', cleaned)\n",
    "    return cleaned\n",
    "\n"
   ]
  },
  {
   "cell_type": "code",
   "execution_count": 7,
   "id": "0e8939f8",
   "metadata": {},
   "outputs": [
    {
     "name": "stdout",
     "output_type": "stream",
     "text": [
      "Reading 1-th batch of games...\n"
     ]
    },
    {
     "name": "stderr",
     "output_type": "stream",
     "text": [
      "10000it [00:08, 1203.86it/s]\n"
     ]
    },
    {
     "name": "stdout",
     "output_type": "stream",
     "text": [
      "Read 10000 in 8.644449234008789 | TOTAL: 10000 | 939\n",
      "Reading 2-th batch of games...\n"
     ]
    },
    {
     "name": "stderr",
     "output_type": "stream",
     "text": [
      "10000it [00:08, 1228.51it/s]\n"
     ]
    },
    {
     "name": "stdout",
     "output_type": "stream",
     "text": [
      "Read 10000 in 8.239701986312866 | TOTAL: 20000 | 1848\n",
      "Reading 3-th batch of games...\n"
     ]
    },
    {
     "name": "stderr",
     "output_type": "stream",
     "text": [
      "10000it [00:07, 1327.53it/s]\n"
     ]
    },
    {
     "name": "stdout",
     "output_type": "stream",
     "text": [
      "Read 10000 in 7.681756496429443 | TOTAL: 30000 | 2741\n",
      "Reading 4-th batch of games...\n"
     ]
    },
    {
     "name": "stderr",
     "output_type": "stream",
     "text": [
      "10000it [00:07, 1397.59it/s]\n"
     ]
    },
    {
     "name": "stdout",
     "output_type": "stream",
     "text": [
      "Read 10000 in 7.269893407821655 | TOTAL: 40000 | 3624\n",
      "Reading 5-th batch of games...\n"
     ]
    },
    {
     "name": "stderr",
     "output_type": "stream",
     "text": [
      "10000it [00:07, 1333.34it/s]\n"
     ]
    },
    {
     "name": "stdout",
     "output_type": "stream",
     "text": [
      "Read 10000 in 7.638554096221924 | TOTAL: 50000 | 4516\n",
      "Reading 6-th batch of games...\n"
     ]
    },
    {
     "name": "stderr",
     "output_type": "stream",
     "text": [
      "10000it [00:07, 1329.47it/s]\n"
     ]
    },
    {
     "name": "stdout",
     "output_type": "stream",
     "text": [
      "Read 10000 in 7.66652250289917 | TOTAL: 60000 | 5388\n",
      "Reading 7-th batch of games...\n"
     ]
    },
    {
     "name": "stderr",
     "output_type": "stream",
     "text": [
      "10000it [00:08, 1224.78it/s]\n"
     ]
    },
    {
     "name": "stdout",
     "output_type": "stream",
     "text": [
      "Read 10000 in 8.325124502182007 | TOTAL: 70000 | 6319\n",
      "Reading 8-th batch of games...\n"
     ]
    },
    {
     "name": "stderr",
     "output_type": "stream",
     "text": [
      "10000it [00:07, 1371.79it/s]\n"
     ]
    },
    {
     "name": "stdout",
     "output_type": "stream",
     "text": [
      "Read 10000 in 7.455922842025757 | TOTAL: 80000 | 7161\n",
      "Reading 9-th batch of games...\n"
     ]
    },
    {
     "name": "stderr",
     "output_type": "stream",
     "text": [
      "10000it [00:08, 1243.42it/s]\n"
     ]
    },
    {
     "name": "stdout",
     "output_type": "stream",
     "text": [
      "Read 10000 in 8.27109694480896 | TOTAL: 90000 | 8107\n",
      "Reading 10-th batch of games...\n"
     ]
    },
    {
     "name": "stderr",
     "output_type": "stream",
     "text": [
      "10000it [00:08, 1228.16it/s]\n"
     ]
    },
    {
     "name": "stdout",
     "output_type": "stream",
     "text": [
      "Read 10000 in 8.34715986251831 | TOTAL: 100000 | 9075\n",
      "Reading 11-th batch of games...\n"
     ]
    },
    {
     "name": "stderr",
     "output_type": "stream",
     "text": [
      "10000it [00:08, 1247.43it/s]\n"
     ]
    },
    {
     "name": "stdout",
     "output_type": "stream",
     "text": [
      "Read 10000 in 8.22925591468811 | TOTAL: 110000 | 9993\n",
      "Reading 12-th batch of games...\n"
     ]
    },
    {
     "name": "stderr",
     "output_type": "stream",
     "text": [
      "10000it [00:07, 1262.37it/s]\n"
     ]
    },
    {
     "name": "stdout",
     "output_type": "stream",
     "text": [
      "Read 10000 in 8.173838138580322 | TOTAL: 120000 | 10921\n",
      "Reading 13-th batch of games...\n"
     ]
    },
    {
     "name": "stderr",
     "output_type": "stream",
     "text": [
      "10000it [00:07, 1411.18it/s]\n"
     ]
    },
    {
     "name": "stdout",
     "output_type": "stream",
     "text": [
      "Read 10000 in 7.345448732376099 | TOTAL: 130000 | 11745\n",
      "Reading 14-th batch of games...\n"
     ]
    },
    {
     "name": "stderr",
     "output_type": "stream",
     "text": [
      "10000it [00:07, 1368.74it/s]\n"
     ]
    },
    {
     "name": "stdout",
     "output_type": "stream",
     "text": [
      "Read 10000 in 7.618567705154419 | TOTAL: 140000 | 12613\n",
      "Reading 15-th batch of games...\n"
     ]
    },
    {
     "name": "stderr",
     "output_type": "stream",
     "text": [
      "10000it [00:07, 1335.10it/s]\n"
     ]
    },
    {
     "name": "stdout",
     "output_type": "stream",
     "text": [
      "Read 10000 in 7.769639492034912 | TOTAL: 150000 | 13429\n",
      "Reading 16-th batch of games...\n"
     ]
    },
    {
     "name": "stderr",
     "output_type": "stream",
     "text": [
      "10000it [00:07, 1388.59it/s]\n"
     ]
    },
    {
     "name": "stdout",
     "output_type": "stream",
     "text": [
      "Read 10000 in 7.53776216506958 | TOTAL: 160000 | 14259\n",
      "Reading 17-th batch of games...\n"
     ]
    },
    {
     "name": "stderr",
     "output_type": "stream",
     "text": [
      "10000it [00:07, 1293.86it/s]\n"
     ]
    },
    {
     "name": "stdout",
     "output_type": "stream",
     "text": [
      "Read 10000 in 8.045767307281494 | TOTAL: 170000 | 15178\n",
      "Reading 18-th batch of games...\n"
     ]
    },
    {
     "name": "stderr",
     "output_type": "stream",
     "text": [
      "10000it [00:07, 1265.46it/s]\n"
     ]
    },
    {
     "name": "stdout",
     "output_type": "stream",
     "text": [
      "Read 10000 in 8.282756805419922 | TOTAL: 180000 | 16106\n",
      "Reading 19-th batch of games...\n"
     ]
    },
    {
     "name": "stderr",
     "output_type": "stream",
     "text": [
      "10000it [00:07, 1287.55it/s]\n"
     ]
    },
    {
     "name": "stdout",
     "output_type": "stream",
     "text": [
      "Read 10000 in 8.092992782592773 | TOTAL: 190000 | 17012\n",
      "Reading 20-th batch of games...\n"
     ]
    },
    {
     "name": "stderr",
     "output_type": "stream",
     "text": [
      "10000it [00:08, 1158.84it/s]\n"
     ]
    },
    {
     "name": "stdout",
     "output_type": "stream",
     "text": [
      "Read 10000 in 9.041783571243286 | TOTAL: 200000 | 17972\n",
      "Reading 21-th batch of games...\n"
     ]
    },
    {
     "name": "stderr",
     "output_type": "stream",
     "text": [
      "10000it [00:08, 1248.06it/s]\n"
     ]
    },
    {
     "name": "stdout",
     "output_type": "stream",
     "text": [
      "Read 10000 in 8.390672445297241 | TOTAL: 210000 | 18886\n",
      "Reading 22-th batch of games...\n"
     ]
    },
    {
     "name": "stderr",
     "output_type": "stream",
     "text": [
      "10000it [00:08, 1240.04it/s]\n"
     ]
    },
    {
     "name": "stdout",
     "output_type": "stream",
     "text": [
      "Read 10000 in 8.44861650466919 | TOTAL: 220000 | 19843\n",
      "Reading 23-th batch of games...\n"
     ]
    },
    {
     "name": "stderr",
     "output_type": "stream",
     "text": [
      "10000it [00:07, 1377.44it/s]\n"
     ]
    },
    {
     "name": "stdout",
     "output_type": "stream",
     "text": [
      "Read 10000 in 7.646055698394775 | TOTAL: 230000 | 20724\n",
      "Reading 24-th batch of games...\n"
     ]
    },
    {
     "name": "stderr",
     "output_type": "stream",
     "text": [
      "10000it [00:07, 1391.23it/s]\n"
     ]
    },
    {
     "name": "stdout",
     "output_type": "stream",
     "text": [
      "Read 10000 in 7.625539064407349 | TOTAL: 240000 | 21577\n",
      "Reading 25-th batch of games...\n"
     ]
    },
    {
     "name": "stderr",
     "output_type": "stream",
     "text": [
      "10000it [00:07, 1377.37it/s]\n"
     ]
    },
    {
     "name": "stdout",
     "output_type": "stream",
     "text": [
      "Read 10000 in 7.727782964706421 | TOTAL: 250000 | 22433\n",
      "Reading 26-th batch of games...\n"
     ]
    },
    {
     "name": "stderr",
     "output_type": "stream",
     "text": [
      "10000it [00:07, 1388.48it/s]\n"
     ]
    },
    {
     "name": "stdout",
     "output_type": "stream",
     "text": [
      "Read 10000 in 7.6129982471466064 | TOTAL: 260000 | 23305\n",
      "Reading 27-th batch of games...\n"
     ]
    },
    {
     "name": "stderr",
     "output_type": "stream",
     "text": [
      "10000it [00:06, 1456.59it/s]\n"
     ]
    },
    {
     "name": "stdout",
     "output_type": "stream",
     "text": [
      "Read 10000 in 7.29938268661499 | TOTAL: 270000 | 24142\n",
      "Reading 28-th batch of games...\n"
     ]
    },
    {
     "name": "stderr",
     "output_type": "stream",
     "text": [
      "10000it [00:07, 1392.02it/s]\n"
     ]
    },
    {
     "name": "stdout",
     "output_type": "stream",
     "text": [
      "Read 10000 in 7.630439758300781 | TOTAL: 280000 | 25027\n",
      "Reading 29-th batch of games...\n"
     ]
    },
    {
     "name": "stderr",
     "output_type": "stream",
     "text": [
      "10000it [00:06, 1428.65it/s]\n"
     ]
    },
    {
     "name": "stdout",
     "output_type": "stream",
     "text": [
      "Read 10000 in 7.531796932220459 | TOTAL: 290000 | 25868\n",
      "Reading 30-th batch of games...\n"
     ]
    },
    {
     "name": "stderr",
     "output_type": "stream",
     "text": [
      "10000it [00:07, 1325.55it/s]\n"
     ]
    },
    {
     "name": "stdout",
     "output_type": "stream",
     "text": [
      "Read 10000 in 8.040568828582764 | TOTAL: 300000 | 26741\n",
      "Reading 31-th batch of games...\n"
     ]
    },
    {
     "name": "stderr",
     "output_type": "stream",
     "text": [
      "10000it [00:07, 1367.49it/s]\n"
     ]
    },
    {
     "name": "stdout",
     "output_type": "stream",
     "text": [
      "Read 10000 in 7.799785852432251 | TOTAL: 310000 | 27565\n",
      "Reading 32-th batch of games...\n"
     ]
    },
    {
     "name": "stderr",
     "output_type": "stream",
     "text": [
      "10000it [00:07, 1381.41it/s]\n"
     ]
    },
    {
     "name": "stdout",
     "output_type": "stream",
     "text": [
      "Read 10000 in 7.795697450637817 | TOTAL: 320000 | 28420\n",
      "Reading 33-th batch of games...\n"
     ]
    },
    {
     "name": "stderr",
     "output_type": "stream",
     "text": [
      "10000it [00:07, 1368.13it/s]\n"
     ]
    },
    {
     "name": "stdout",
     "output_type": "stream",
     "text": [
      "Read 10000 in 7.852860689163208 | TOTAL: 330000 | 29302\n",
      "Reading 34-th batch of games...\n"
     ]
    },
    {
     "name": "stderr",
     "output_type": "stream",
     "text": [
      "10000it [00:08, 1235.61it/s]\n"
     ]
    },
    {
     "name": "stdout",
     "output_type": "stream",
     "text": [
      "Read 10000 in 8.688997268676758 | TOTAL: 340000 | 30240\n",
      "Reading 35-th batch of games...\n"
     ]
    },
    {
     "name": "stderr",
     "output_type": "stream",
     "text": [
      "10000it [00:07, 1405.99it/s]\n"
     ]
    },
    {
     "name": "stdout",
     "output_type": "stream",
     "text": [
      "Read 10000 in 7.6686952114105225 | TOTAL: 350000 | 31043\n",
      "Reading 36-th batch of games...\n"
     ]
    },
    {
     "name": "stderr",
     "output_type": "stream",
     "text": [
      "10000it [00:07, 1383.99it/s]\n"
     ]
    },
    {
     "name": "stdout",
     "output_type": "stream",
     "text": [
      "Read 10000 in 7.807011365890503 | TOTAL: 360000 | 31846\n",
      "Reading 37-th batch of games...\n"
     ]
    },
    {
     "name": "stderr",
     "output_type": "stream",
     "text": [
      "10000it [00:07, 1358.59it/s]\n"
     ]
    },
    {
     "name": "stdout",
     "output_type": "stream",
     "text": [
      "Read 10000 in 7.934517860412598 | TOTAL: 370000 | 32687\n",
      "Reading 38-th batch of games...\n"
     ]
    },
    {
     "name": "stderr",
     "output_type": "stream",
     "text": [
      "10000it [00:07, 1376.46it/s]\n"
     ]
    },
    {
     "name": "stdout",
     "output_type": "stream",
     "text": [
      "Read 10000 in 7.887926816940308 | TOTAL: 380000 | 33522\n",
      "Reading 39-th batch of games...\n"
     ]
    },
    {
     "name": "stderr",
     "output_type": "stream",
     "text": [
      "10000it [00:07, 1401.11it/s]\n"
     ]
    },
    {
     "name": "stdout",
     "output_type": "stream",
     "text": [
      "Read 10000 in 7.757328748703003 | TOTAL: 390000 | 34350\n",
      "Reading 40-th batch of games...\n"
     ]
    },
    {
     "name": "stderr",
     "output_type": "stream",
     "text": [
      "10000it [00:07, 1368.24it/s]\n"
     ]
    },
    {
     "name": "stdout",
     "output_type": "stream",
     "text": [
      "Read 10000 in 7.943890571594238 | TOTAL: 400000 | 35176\n",
      "Reading 41-th batch of games...\n"
     ]
    },
    {
     "name": "stderr",
     "output_type": "stream",
     "text": [
      "10000it [00:07, 1370.34it/s]\n"
     ]
    },
    {
     "name": "stdout",
     "output_type": "stream",
     "text": [
      "Read 10000 in 8.019845962524414 | TOTAL: 410000 | 36026\n",
      "Reading 42-th batch of games...\n"
     ]
    },
    {
     "name": "stderr",
     "output_type": "stream",
     "text": [
      "10000it [00:08, 1249.93it/s]\n"
     ]
    },
    {
     "name": "stdout",
     "output_type": "stream",
     "text": [
      "Read 10000 in 8.662577390670776 | TOTAL: 420000 | 36971\n",
      "Reading 43-th batch of games...\n"
     ]
    },
    {
     "name": "stderr",
     "output_type": "stream",
     "text": [
      "10000it [00:07, 1257.99it/s]\n"
     ]
    },
    {
     "name": "stdout",
     "output_type": "stream",
     "text": [
      "Read 10000 in 8.705304145812988 | TOTAL: 430000 | 37883\n",
      "Reading 44-th batch of games...\n"
     ]
    },
    {
     "name": "stderr",
     "output_type": "stream",
     "text": [
      "10000it [00:08, 1248.92it/s]\n"
     ]
    },
    {
     "name": "stdout",
     "output_type": "stream",
     "text": [
      "Read 10000 in 8.740654945373535 | TOTAL: 440000 | 38737\n",
      "Reading 45-th batch of games...\n"
     ]
    },
    {
     "name": "stderr",
     "output_type": "stream",
     "text": [
      "10000it [00:08, 1194.84it/s]\n"
     ]
    },
    {
     "name": "stdout",
     "output_type": "stream",
     "text": [
      "Read 10000 in 9.098841428756714 | TOTAL: 450000 | 39622\n",
      "Reading 46-th batch of games...\n"
     ]
    },
    {
     "name": "stderr",
     "output_type": "stream",
     "text": [
      "10000it [00:07, 1273.15it/s]\n"
     ]
    },
    {
     "name": "stdout",
     "output_type": "stream",
     "text": [
      "Read 10000 in 8.595641374588013 | TOTAL: 460000 | 40451\n",
      "Reading 47-th batch of games...\n"
     ]
    },
    {
     "name": "stderr",
     "output_type": "stream",
     "text": [
      "10000it [00:08, 1214.67it/s]\n"
     ]
    },
    {
     "name": "stdout",
     "output_type": "stream",
     "text": [
      "Read 10000 in 9.04657769203186 | TOTAL: 470000 | 41365\n",
      "Reading 48-th batch of games...\n"
     ]
    },
    {
     "name": "stderr",
     "output_type": "stream",
     "text": [
      "10000it [00:08, 1229.98it/s]\n"
     ]
    },
    {
     "name": "stdout",
     "output_type": "stream",
     "text": [
      "Read 10000 in 8.876656532287598 | TOTAL: 480000 | 42273\n",
      "Reading 49-th batch of games...\n"
     ]
    },
    {
     "name": "stderr",
     "output_type": "stream",
     "text": [
      "10000it [00:08, 1143.85it/s]\n"
     ]
    },
    {
     "name": "stdout",
     "output_type": "stream",
     "text": [
      "Read 10000 in 9.513035774230957 | TOTAL: 490000 | 43262\n",
      "Reading 50-th batch of games...\n"
     ]
    },
    {
     "name": "stderr",
     "output_type": "stream",
     "text": [
      "10000it [00:08, 1244.50it/s]\n"
     ]
    },
    {
     "name": "stdout",
     "output_type": "stream",
     "text": [
      "Read 10000 in 8.823207139968872 | TOTAL: 500000 | 44151\n",
      "Reading 51-th batch of games...\n"
     ]
    },
    {
     "name": "stderr",
     "output_type": "stream",
     "text": [
      "10000it [00:08, 1155.07it/s]\n"
     ]
    },
    {
     "name": "stdout",
     "output_type": "stream",
     "text": [
      "Read 10000 in 9.436676263809204 | TOTAL: 510000 | 45050\n",
      "Reading 52-th batch of games...\n"
     ]
    },
    {
     "name": "stderr",
     "output_type": "stream",
     "text": [
      "10000it [00:07, 1314.51it/s]\n"
     ]
    },
    {
     "name": "stdout",
     "output_type": "stream",
     "text": [
      "Read 10000 in 8.499630451202393 | TOTAL: 520000 | 45839\n",
      "Reading 53-th batch of games...\n"
     ]
    },
    {
     "name": "stderr",
     "output_type": "stream",
     "text": [
      "10000it [00:07, 1288.52it/s]\n"
     ]
    },
    {
     "name": "stdout",
     "output_type": "stream",
     "text": [
      "Read 10000 in 8.823467254638672 | TOTAL: 530000 | 46700\n",
      "Reading 54-th batch of games...\n"
     ]
    },
    {
     "name": "stderr",
     "output_type": "stream",
     "text": [
      "10000it [00:07, 1325.55it/s]\n"
     ]
    },
    {
     "name": "stdout",
     "output_type": "stream",
     "text": [
      "Read 10000 in 8.420501232147217 | TOTAL: 540000 | 47572\n",
      "Reading 55-th batch of games...\n"
     ]
    },
    {
     "name": "stderr",
     "output_type": "stream",
     "text": [
      "10000it [00:07, 1281.59it/s]\n"
     ]
    },
    {
     "name": "stdout",
     "output_type": "stream",
     "text": [
      "Read 10000 in 8.66593050956726 | TOTAL: 550000 | 48436\n",
      "Reading 56-th batch of games...\n"
     ]
    },
    {
     "name": "stderr",
     "output_type": "stream",
     "text": [
      "10000it [00:08, 1227.15it/s]\n"
     ]
    },
    {
     "name": "stdout",
     "output_type": "stream",
     "text": [
      "Read 10000 in 9.02623963356018 | TOTAL: 560000 | 49339\n",
      "Reading 57-th batch of games...\n"
     ]
    },
    {
     "name": "stderr",
     "output_type": "stream",
     "text": [
      "10000it [00:07, 1372.57it/s]"
     ]
    },
    {
     "name": "stdout",
     "output_type": "stream",
     "text": [
      "Read 10000 in 8.199848651885986 | TOTAL: 570000 | 50156\n"
     ]
    },
    {
     "name": "stderr",
     "output_type": "stream",
     "text": [
      "\n"
     ]
    }
   ],
   "source": [
    "import csv\n",
    "from time import time\n",
    "\n",
    "from tqdm import tqdm\n",
    "HEADERS=[\n",
    "    \"Event\", \"White\", \"Black\", \"Result\", \"UTCDate\", \"UTCTime\", \"WhiteElo\", \n",
    "    \"BlackElo\", \"WhiteRatingDiff\", \"BlackRatingDiff\", \"ECO\", \"Opening\", \n",
    "    \"TimeControl\", \"Termination\", \"AN\"\n",
    "]\n",
    "\n",
    "start = 1 # To ignore headers\n",
    "total = 0\n",
    "READ_SIZE = 10_000\n",
    "RUN = True\n",
    "num_games_saved = 0\n",
    "num_batches = 1\n",
    "try:\n",
    "    with open(\"./dataset/processed/results_ELO_1500_50k.csv\", \"w\") as f:\n",
    "        writer = csv.writer(f)\n",
    "        while RUN:\n",
    "            ti = time()\n",
    "            games_df = pd.read_csv('./dataset/raw/chess_games.csv', skiprows=start, nrows=READ_SIZE, names=HEADERS)\n",
    "\n",
    "            print(f\"Reading {num_batches}-th batch of games...\")\n",
    "            # Result, WhiteElo, BlackElo, TimeControl, BoardPositions: uint_64[], move_played\n",
    "            for index, game in tqdm(games_df.iterrows()):\n",
    "                board = chess.Board()\n",
    "                # Get PGN\n",
    "                Result = game[\"Result\"]\n",
    "                WhiteElo = int(game[\"WhiteElo\"])\n",
    "                BlackElo = int(game[\"BlackElo\"])\n",
    "                TimeControl = game[\"TimeControl\"]\n",
    "                moves_string = clean_pgn(game[\"AN\"])\n",
    "\n",
    "                bitmaps = []\n",
    "\n",
    "                tokens = moves_string.replace(\"\\n\", \" \").split()\n",
    "                moves = [token for token in tokens if not token[0].isdigit() and '.' not in token]\n",
    "                numMoves = 0\n",
    "                if not(1400 < WhiteElo < 1600) or not(1400 < BlackElo < 1600):\n",
    "                    continue\n",
    "\n",
    "                sideToPlay = True # True for white, False for Black\n",
    "                for move in moves:\n",
    "                    try:\n",
    "                        bitmap = board_to_tensor(board, sideToPlay)\n",
    "                        possible_moves = get_possible_moves(board)\n",
    "\n",
    "                        move: chess.Move = board.push_san(move)\n",
    "                        numMoves += 1\n",
    "                        \n",
    "                        if numMoves < 8 or board.is_game_over():\n",
    "                            sideToPlay = not sideToPlay\n",
    "                            continue\n",
    "\n",
    "                        writer.writerow([\n",
    "                            bitmap.tolist(), # bitmaps\n",
    "                            MOVE_DICTIONARY[move.uci()[:4]], # Played move\n",
    "                            # 0 for invalid 1 for valid; To keep constant size\n",
    "                            possible_moves.tolist(),\n",
    "                        ])\n",
    "                        sideToPlay = not sideToPlay\n",
    "\n",
    "                    except Exception as e:\n",
    "                        print(f\"Skipping bad move: {moves} - {move} – #{e}#\")\n",
    "                        break\n",
    "                num_games_saved+=1\n",
    "            \n",
    "            start += READ_SIZE\n",
    "            tf = time()\n",
    "            total += len(games_df)\n",
    "            num_batches += 1\n",
    "            print(f\"Read {len(games_df)} in {tf-ti} | TOTAL: {total} | {num_games_saved}\")\n",
    "\n",
    "            if 50_000 <= num_games_saved:\n",
    "                RUN = False\n",
    "\n",
    "except Exception as e:\n",
    "    print(e.with_traceback())"
   ]
  }
 ],
 "metadata": {
  "kernelspec": {
   "display_name": ".venv",
   "language": "python",
   "name": "python3"
  },
  "language_info": {
   "codemirror_mode": {
    "name": "ipython",
    "version": 3
   },
   "file_extension": ".py",
   "mimetype": "text/x-python",
   "name": "python",
   "nbconvert_exporter": "python",
   "pygments_lexer": "ipython3",
   "version": "3.11.9"
  }
 },
 "nbformat": 4,
 "nbformat_minor": 5
}
