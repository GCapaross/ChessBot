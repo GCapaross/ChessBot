{
 "cells": [
  {
   "cell_type": "code",
   "execution_count": 13,
   "metadata": {},
   "outputs": [],
   "source": [
    "import os\n",
    "import numpy as np\n",
    "\n",
    "import torch\n",
    "import torch.nn as nn\n",
    "import torch.nn.functional as F\n",
    "import torch.optim as optim\n",
    "\n",
    "import chess\n",
    "import chess.pgn\n",
    "\n",
    "from torch.utils.data import Dataset, DataLoader, IterableDataset\n",
    "\n",
    "from time import time\n",
    "import tqdm\n",
    "\n",
    "HEADERS = (\"result\", \"whiteElo\", \"blackElo\", \"timeControl\", \"sideToPlay\", \"bitmaps\", \"movePlayed\")\n",
    "TRAINING_SET_SIZE = 2867018\n",
    "BATCH_SIZE = 64"
   ]
  },
  {
   "cell_type": "code",
   "execution_count": 14,
   "id": "a8184abd",
   "metadata": {},
   "outputs": [],
   "source": [
    "def extract_fens_from_pgn(pgn_file, label_from=\"result\"):\n",
    "    positions = []\n",
    "    with open(pgn_file, \"r\", encoding=\"utf-8\") as f:\n",
    "        while True:\n",
    "            game = chess.pgn.read_game(f)\n",
    "            if game is None:\n",
    "                break\n",
    "\n",
    "            board = game.board()\n",
    "            result = game.headers.get(\"Result\")\n",
    "\n",
    "            # Label based on game outcome\n",
    "            if result == \"1-0\":\n",
    "                label = 1.0\n",
    "            elif result == \"0-1\":\n",
    "                label = -1.0\n",
    "            else:\n",
    "                label = 0.0\n",
    "\n",
    "            # Step through moves\n",
    "            for move in game.mainline_moves():\n",
    "                board.push(move)\n",
    "                fen = board.fen()\n",
    "                positions.append((fen, label))  # ← You can also call Stockfish here if you want\n",
    "\n",
    "    return positions\n"
   ]
  },
  {
   "cell_type": "code",
   "execution_count": 15,
   "id": "8e5bc8f3",
   "metadata": {},
   "outputs": [],
   "source": [
    "import torch.nn as nn\n",
    "import torch.nn.functional as F\n",
    "class PositionEvaluatorNet(nn.Module):\n",
    "    def __init__(self):\n",
    "        super().__init__()\n",
    "        self.conv1 = nn.Conv2d(13, 32, 3, padding=1)\n",
    "        self.conv2 = nn.Conv2d(32, 64, 3, padding=1)\n",
    "        self.fc1 = nn.Linear(64 * 8 * 8, 128)\n",
    "        self.fc2 = nn.Linear(128, 1)\n",
    "\n",
    "    def forward(self, x):\n",
    "        x = F.relu(self.conv1(x))\n",
    "        x = F.relu(self.conv2(x))\n",
    "        x = x.view(-1, 64 * 8 * 8)\n",
    "        x = F.relu(self.fc1(x))\n",
    "        return torch.tanh(self.fc2(x))  # Output between -1 and 1\n",
    "    \n",
    "\n",
    "class ChessBotNetwork(nn.Module):\n",
    "    def __init__(self):\n",
    "        super().__init__()\n",
    "        # 13 channels: 12 pieces + side to play (tensor[true's|false's])\n",
    "        self.conv1 = nn.Conv2d(13, 64, kernel_size=3, padding=1)\n",
    "        self.conv2 = nn.Conv2d(64, 128, kernel_size=3, padding=1)\n",
    "        self.flatten = nn.Flatten()\n",
    "        self.fc1 = nn.Linear(8 * 8 * 128, 256)\n",
    "        self.fc2 = nn.Linear(256, 64)\n",
    "        self.relu = nn.ReLU()\n",
    "\n",
    "        # Initialize weights\n",
    "        nn.init.kaiming_uniform_(self.conv1.weight, nonlinearity='relu')\n",
    "        nn.init.kaiming_uniform_(self.conv2.weight, nonlinearity='relu')\n",
    "        nn.init.xavier_uniform_(self.fc1.weight)\n",
    "        nn.init.xavier_uniform_(self.fc2.weight)\n",
    "\n",
    "\n",
    "    def forward(self, x):\n",
    "        x = self.relu(self.conv1(x))\n",
    "        x = self.relu(self.conv2(x))\n",
    "        x = self.flatten(x)\n",
    "        x = self.relu(self.fc1(x))\n",
    "        x = self.fc2(x)  # Output raw logits\n",
    "        return x\n",
    "## Idea:\n",
    "##   One model that answers \"best piece to move in this position\"\n",
    "##   Then another model that answers \"best square to move piece X to\""
   ]
  },
  {
   "cell_type": "code",
   "execution_count": 16,
   "id": "0338429a",
   "metadata": {},
   "outputs": [],
   "source": [
    "piece_to_idx = {\n",
    "    'P': 0, 'N': 1, 'B': 2, 'R': 3, 'Q': 4, 'K': 5,\n",
    "    'p': 6, 'n': 7, 'b': 8, 'r': 9, 'q': 10, 'k': 11\n",
    "}\n",
    "\n",
    "def board_to_tensor(board):\n",
    "    tensor = np.zeros((12, 8, 8), dtype=np.uint8)\n",
    "    for square in chess.SQUARES:\n",
    "        piece = board.piece_at(square)\n",
    "        if piece:\n",
    "            idx = piece_to_idx[piece.symbol()]\n",
    "            row = 7 - square // 8\n",
    "            col = square % 8\n",
    "            tensor[idx, row, col] = 1\n",
    "    return tensor\n",
    "\n",
    "def idxToUci(idx):\n",
    "    return chr(ord('a') + idx % 8) + str(idx // 8 + 1)"
   ]
  },
  {
   "cell_type": "code",
   "execution_count": 17,
   "id": "e442ecda",
   "metadata": {},
   "outputs": [],
   "source": [
    "import ast\n",
    "import csv\n",
    "from io import StringIO\n",
    "import json\n",
    "import random\n",
    "from typing import Literal\n",
    "import pandas as pd\n",
    "import polars as pl\n",
    "\n",
    "class ChessEvalDataset(Dataset):\n",
    "# class ChessEvalDataset(IterableDataset):\n",
    "    def __init__(self, file: str, model: Literal[\"pieces\", \"moves\"] = \"pieces\", load_batch_size = 6_400):\n",
    "        self.model = model\n",
    "        self.lazy_dataset = pl.scan_csv(file, has_header=False, new_columns=HEADERS)\n",
    "        self.batch_size = load_batch_size\n",
    "        self.feature_cols = [\"bitmaps\", \"sideToPlay\"]\n",
    "        self.target_col = \"movePlayed\"\n",
    "        self.cached_batches = {}\n",
    "        self.batches_ids: list[int] = list()\n",
    "        self.total_rows = self.lazy_dataset.select(pl.len()).collect().item()\n",
    "\n",
    "    def __len__(self):\n",
    "        return self.total_rows\n",
    "    \n",
    "    def __uciMoveToSquare(self, move: str):\n",
    "        return (ord(move[0]) - ord('a')) + (int(move[1]) - 1) * 8\n",
    "\n",
    "    def __getitem__(self, idx):\n",
    "        # Calculate which batch this index belongs to\n",
    "            batch_idx = idx // self.batch_size\n",
    "            \n",
    "            # Check if this batch is already cached\n",
    "            if batch_idx not in self.cached_batches:\n",
    "                # Calculate batch range\n",
    "                start_idx = batch_idx * self.batch_size\n",
    "                end_idx = min((batch_idx + 1) * self.batch_size, self.total_rows)\n",
    "                \n",
    "                # Fetch only this batch of data using offset and limit\n",
    "                batch_dataset = (self.lazy_dataset\n",
    "                            .slice(start_idx, end_idx - start_idx)\n",
    "                            .collect())\n",
    "                \n",
    "                # Process features and target\n",
    "                features = batch_dataset.select(self.feature_cols)\n",
    "                bitmaps = np.empty(shape=(end_idx-start_idx, 12, 8, 8))\n",
    "\n",
    "                bitmaps_list = [json.loads(bmp) for bmp in features[\"bitmaps\"]]\n",
    "                bitmaps = np.array(bitmaps_list, dtype=np.float32)\n",
    "\n",
    "\n",
    "                side_channels = np.array([\n",
    "                    np.ones((1, 8, 8)) if side == \"True\" else np.zeros((1, 8, 8))\n",
    "                    for side in features[\"sideToPlay\"]\n",
    "                ], dtype=np.float32)\n",
    "    \n",
    "                bitmaps = np.concatenate((bitmaps, side_channels), axis = 1)\n",
    "                features = torch.tensor(bitmaps, dtype=torch.float32)\n",
    "                \n",
    "                targets = batch_dataset.select(self.target_col).to_numpy()\n",
    "                target_values = np.empty(shape=(end_idx-start_idx))\n",
    "                for idx, move in enumerate(targets):\n",
    "                    move = move[0]\n",
    "                    if self.model == \"pieces\":\n",
    "                        label = move[:2]\n",
    "                    else:\n",
    "                        label = move[2:]\n",
    "                    target_values[idx] = self.__uciMoveToSquare(label)\n",
    "                    \n",
    "                targets = torch.tensor(target_values, dtype=torch.long)\n",
    "                \n",
    "                # Cache this batch\n",
    "                self.cached_batches[batch_idx] = (features, targets)\n",
    "                \n",
    "                if len(self.cached_batches) > 1:  # Keep only 1 batches in memory, delete oldest\n",
    "                    self.cached_batches.pop(self.batches_ids[0])\n",
    "                    self.batches_ids.pop(0)\n",
    "                self.batches_ids.append(batch_idx)\n",
    "\n",
    "            \n",
    "            # Get the item from the cached batch\n",
    "            features, targets = self.cached_batches[batch_idx]\n",
    "            idx_in_batch = idx % self.batch_size\n",
    "            \n",
    "            return features[idx_in_batch], targets[idx_in_batch]\n",
    "\n",
    "    # def parse_line(self, line: str):\n",
    "    #     parts = next(\n",
    "    #         csv.DictReader(StringIO(line), quoting=csv.QUOTE_MINIMAL, fieldnames=HEADERS)\n",
    "    #     )\n",
    "        \n",
    "    #     entry = {\n",
    "    #         \"bitmaps\": ast.literal_eval(parts[\"bitmaps\"]),\n",
    "    #         \"sideToPlay\": parts[\"sideToPlay\"] == \"True\",\n",
    "    #         \"movePlayed\": parts[\"movePlayed\"]\n",
    "    #     }\n",
    "\n",
    "    #     bitmaps = np.array(entry[\"bitmaps\"])\n",
    "    #     side_channel = np.ones((1, 8, 8)) if entry[\"sideToPlay\"] else np.zeros((1, 8, 8))\n",
    "\n",
    "    #     bitmaps = np.concatenate((bitmaps, side_channel))\n",
    "    #     X = torch.tensor(bitmaps, dtype=torch.float32)\n",
    "\n",
    "    #     move = entry[\"movePlayed\"]\n",
    "    #     if self.model == \"pieces\":\n",
    "    #         label = move[:2]\n",
    "    #     else:\n",
    "    #         label = move[2:]\n",
    "    #     y = torch.tensor(self.__uciMoveToSquare(label)).long()\n",
    "    #     print(X)\n",
    "    #     print(y)\n",
    "    #     return X, y\n",
    "    \n",
    "    # def __iter__(self):\n",
    "    #     READ_SIZE = 16_384 # 4.5GiB in GPU\n",
    "    #     with open(self.file, \"r\") as f:\n",
    "    #         for idx in range(TRAINING_SET_SIZE):\n",
    "    #             lines = f.readlines(READ_SIZE)\n",
    "    #             X_batch = torch.empty(READ_SIZE, 13, 8, 8)\n",
    "    #             y_batch = torch.empty(READ_SIZE, 64, 1)\n",
    "    #             for idx, line in enumerate(lines):\n",
    "    #                 # self.open_file.seek(self.offsets[idx]) # Go to line idx\n",
    "    #                 # yield self.parse_line(self.open_file.readline())\n",
    "    #                 X, y = self.parse_line(line)\n",
    "    #                 X_batch[idx] = X\n",
    "    #                 y_batch[idx] = y\n",
    "    #             yield X_batch, y_batch"
   ]
  },
  {
   "cell_type": "code",
   "execution_count": null,
   "id": "7916a846",
   "metadata": {},
   "outputs": [
    {
     "name": "stdout",
     "output_type": "stream",
     "text": [
      "True\n",
      "Using device:  cuda\n"
     ]
    },
    {
     "name": "stderr",
     "output_type": "stream",
     "text": [
      "100%|██████████| 44798/44798 [09:11<00:00, 81.19it/s]  \n"
     ]
    },
    {
     "name": "stdout",
     "output_type": "stream",
     "text": [
      "Epoch 0, Loss: 3.5458 - 2.8151 | Time: 551.7901456356049\n"
     ]
    },
    {
     "name": "stderr",
     "output_type": "stream",
     "text": [
      "100%|██████████| 44798/44798 [09:10<00:00, 81.38it/s]  \n"
     ]
    },
    {
     "name": "stdout",
     "output_type": "stream",
     "text": [
      "Epoch 1, Loss: 2.9989 - 2.6375 | Time: 550.5076780319214\n"
     ]
    },
    {
     "name": "stderr",
     "output_type": "stream",
     "text": [
      "100%|██████████| 44798/44798 [09:12<00:00, 81.10it/s]  \n"
     ]
    },
    {
     "name": "stdout",
     "output_type": "stream",
     "text": [
      "Epoch 2, Loss: 2.8198 - 2.5813 | Time: 552.4139201641083\n"
     ]
    },
    {
     "name": "stderr",
     "output_type": "stream",
     "text": [
      "100%|██████████| 44798/44798 [09:08<00:00, 81.68it/s]  \n"
     ]
    },
    {
     "name": "stdout",
     "output_type": "stream",
     "text": [
      "Epoch 3, Loss: 2.6120 - 2.5501 | Time: 548.4742512702942\n"
     ]
    },
    {
     "name": "stderr",
     "output_type": "stream",
     "text": [
      "100%|██████████| 44798/44798 [09:11<00:00, 81.19it/s]  \n"
     ]
    },
    {
     "name": "stdout",
     "output_type": "stream",
     "text": [
      "Epoch 4, Loss: 2.5908 - 2.5294 | Time: 551.7676954269409\n"
     ]
    },
    {
     "name": "stderr",
     "output_type": "stream",
     "text": [
      "100%|██████████| 44798/44798 [09:11<00:00, 81.16it/s]  \n"
     ]
    },
    {
     "name": "stdout",
     "output_type": "stream",
     "text": [
      "Epoch 5, Loss: 2.4443 - 2.5151 | Time: 551.953362941742\n"
     ]
    },
    {
     "name": "stderr",
     "output_type": "stream",
     "text": [
      "100%|██████████| 44798/44798 [09:12<00:00, 81.02it/s]  \n"
     ]
    },
    {
     "name": "stdout",
     "output_type": "stream",
     "text": [
      "Epoch 6, Loss: 2.4662 - 2.5045 | Time: 552.9496583938599\n"
     ]
    },
    {
     "name": "stderr",
     "output_type": "stream",
     "text": [
      "100%|██████████| 44798/44798 [09:11<00:00, 81.26it/s]  \n"
     ]
    },
    {
     "name": "stdout",
     "output_type": "stream",
     "text": [
      "Epoch 7, Loss: 2.4281 - 2.4973 | Time: 551.3337068557739\n"
     ]
    },
    {
     "name": "stderr",
     "output_type": "stream",
     "text": [
      "100%|██████████| 44798/44798 [09:15<00:00, 80.65it/s]  \n"
     ]
    },
    {
     "name": "stdout",
     "output_type": "stream",
     "text": [
      "Epoch 8, Loss: 2.5981 - 2.4913 | Time: 555.4715375900269\n"
     ]
    },
    {
     "name": "stderr",
     "output_type": "stream",
     "text": [
      "100%|██████████| 44798/44798 [09:14<00:00, 80.86it/s]  \n"
     ]
    },
    {
     "name": "stdout",
     "output_type": "stream",
     "text": [
      "Epoch 9, Loss: 2.4316 - 2.4869 | Time: 554.0221173763275\n"
     ]
    },
    {
     "name": "stderr",
     "output_type": "stream",
     "text": [
      "100%|██████████| 44798/44798 [09:13<00:00, 80.94it/s]  \n"
     ]
    },
    {
     "name": "stdout",
     "output_type": "stream",
     "text": [
      "Epoch 10, Loss: 2.4665 - 2.4834 | Time: 553.4593617916107\n"
     ]
    },
    {
     "name": "stderr",
     "output_type": "stream",
     "text": [
      "100%|██████████| 44798/44798 [09:17<00:00, 80.39it/s]  \n"
     ]
    },
    {
     "name": "stdout",
     "output_type": "stream",
     "text": [
      "Epoch 11, Loss: 2.5155 - 2.4803 | Time: 557.2920262813568\n"
     ]
    },
    {
     "name": "stderr",
     "output_type": "stream",
     "text": [
      "100%|██████████| 44798/44798 [09:13<00:00, 80.88it/s]  \n"
     ]
    },
    {
     "name": "stdout",
     "output_type": "stream",
     "text": [
      "Epoch 12, Loss: 2.4834 - 2.4777 | Time: 553.9028615951538\n"
     ]
    },
    {
     "name": "stderr",
     "output_type": "stream",
     "text": [
      "100%|██████████| 44798/44798 [09:18<00:00, 80.26it/s]  \n"
     ]
    },
    {
     "name": "stdout",
     "output_type": "stream",
     "text": [
      "Epoch 13, Loss: 2.2772 - 2.4755 | Time: 558.1461434364319\n"
     ]
    },
    {
     "name": "stderr",
     "output_type": "stream",
     "text": [
      "100%|██████████| 44798/44798 [09:11<00:00, 81.24it/s]  \n"
     ]
    },
    {
     "name": "stdout",
     "output_type": "stream",
     "text": [
      "Epoch 14, Loss: 2.4089 - 2.4738 | Time: 551.4092671871185\n"
     ]
    },
    {
     "name": "stderr",
     "output_type": "stream",
     "text": [
      "100%|██████████| 44798/44798 [09:19<00:00, 80.08it/s]  \n"
     ]
    },
    {
     "name": "stdout",
     "output_type": "stream",
     "text": [
      "Epoch 15, Loss: 2.3967 - 2.4726 | Time: 559.4352178573608\n"
     ]
    },
    {
     "name": "stderr",
     "output_type": "stream",
     "text": [
      "100%|██████████| 44798/44798 [09:18<00:00, 80.19it/s]  \n"
     ]
    },
    {
     "name": "stdout",
     "output_type": "stream",
     "text": [
      "Epoch 16, Loss: 2.2989 - 2.4714 | Time: 558.6377696990967\n"
     ]
    },
    {
     "name": "stderr",
     "output_type": "stream",
     "text": [
      "100%|██████████| 44798/44798 [09:19<00:00, 80.10it/s]  \n"
     ]
    },
    {
     "name": "stdout",
     "output_type": "stream",
     "text": [
      "Epoch 17, Loss: 2.3548 - 2.4701 | Time: 559.2723956108093\n"
     ]
    },
    {
     "name": "stderr",
     "output_type": "stream",
     "text": [
      "100%|██████████| 44798/44798 [09:19<00:00, 80.05it/s]  \n"
     ]
    },
    {
     "name": "stdout",
     "output_type": "stream",
     "text": [
      "Epoch 18, Loss: 2.3393 - 2.4696 | Time: 559.6375710964203\n"
     ]
    },
    {
     "name": "stderr",
     "output_type": "stream",
     "text": [
      "100%|██████████| 44798/44798 [09:23<00:00, 79.48it/s]  \n"
     ]
    },
    {
     "name": "stdout",
     "output_type": "stream",
     "text": [
      "Epoch 19, Loss: 2.3741 - 2.4685 | Time: 563.6495125293732\n"
     ]
    },
    {
     "name": "stderr",
     "output_type": "stream",
     "text": [
      "100%|██████████| 44798/44798 [09:18<00:00, 80.15it/s]  \n"
     ]
    },
    {
     "name": "stdout",
     "output_type": "stream",
     "text": [
      "Epoch 20, Loss: 2.2033 - 2.4677 | Time: 558.9563934803009\n"
     ]
    },
    {
     "name": "stderr",
     "output_type": "stream",
     "text": [
      " 31%|███▏      | 14050/44798 [03:07<01:10, 434.41it/s]"
     ]
    }
   ],
   "source": [
    "DATASET_PATH = '../dataset/processed/results_skip_initial.csv'\n",
    "NUM_EPOCHS = 100\n",
    "\n",
    "TRAINING_MODE = \"pieces\" # \"pieces\" or \"moves\"\n",
    "MODEL_WEIGHTS_OUTPUT_PATH = \"pieces_model_v2_SKIP_COMPLETE.pth\"\n",
    "test = ChessEvalDataset(file = DATASET_PATH, model=TRAINING_MODE, load_batch_size = 300_000)\n",
    "loader = DataLoader(test, batch_size=64, shuffle=False)\n",
    "\n",
    "device = torch.device(\"cuda\" if torch.cuda.is_available() else \"cpu\")\n",
    "model = ChessBotNetwork().to(device)\n",
    "\n",
    "optimizer = torch.optim.Adam(model.parameters(), lr=0.001)\n",
    "loss_fn = torch.nn.CrossEntropyLoss()\n",
    "\n",
    "print(torch.cuda.is_available())\n",
    "print(\"Using device: \", device)\n",
    "for epoch in range(NUM_EPOCHS):\n",
    "    model.train()\n",
    "    t0 = time()\n",
    "    running_loss = 0.0\n",
    "    for board_tensor_batch, target_eval_batch in tqdm.tqdm(loader):\n",
    "        # # Load data to GPU\n",
    "        # board_tensor_batch, target_eval_batch = board_tensor_batch.to(device), target_eval_batch.to(device)\n",
    "\n",
    "        # # Clear gradients\n",
    "        # optimizer.zero_grad()\n",
    "        \n",
    "        # # predict\n",
    "        # pred = model(board_tensor_batch)\n",
    "\n",
    "        # # Calculate loss\n",
    "        # loss = loss_fn(pred, target_eval_batch)\n",
    "        # loss.backward()\n",
    "\n",
    "        # optimizer.step()\n",
    "        board_tensor_batch, target_eval_batch = board_tensor_batch.to(device), target_eval_batch.to(device)  # Move data to GPU\n",
    "        optimizer.zero_grad()\n",
    "\n",
    "        outputs = model(board_tensor_batch)  # Raw logits\n",
    "\n",
    "        # Compute loss\n",
    "        loss = loss_fn(outputs, target_eval_batch)\n",
    "        loss.backward()\n",
    "        \n",
    "        # Gradient clipping\n",
    "        torch.nn.utils.clip_grad_norm_(model.parameters(), max_norm=1.0)\n",
    "        \n",
    "        optimizer.step()\n",
    "        running_loss += loss.item()\n",
    "    tf = time()\n",
    "    print(f\"Epoch {epoch}, Loss: {loss.item():.4f} - {running_loss / len(loader):.4f} | Time: {tf-t0}\")\n",
    "\n",
    "    if epoch % 5 == 0:\n",
    "        torch.save(model.state_dict(), f\"pieces_model_v2_SKIP_COMPLETE_epoch_{epoch+1}.pth\")       \n",
    "# Save the trained model\n",
    "torch.save(model.state_dict(), MODEL_WEIGHTS_OUTPUT_PATH)"
   ]
  },
  {
   "cell_type": "code",
   "execution_count": null,
   "id": "d917ebef",
   "metadata": {},
   "outputs": [
    {
     "name": "stdout",
     "output_type": "stream",
     "text": [
      "PANDAS: Took 0.6680021286010742 seconds to read the dataset\n",
      "POLAR: Took 0.07720422744750977 seconds to read the dataset\n"
     ]
    }
   ],
   "source": [
    "# import csv\n",
    "# from io import StringIO\n",
    "# import pandas as pd\n",
    "# import numpy as np\n",
    "# import ast\n",
    "# torch.save(model.state_dict(), \"pieces_model_skip_initial_full_dataset.pth\")\n",
    "# test = pd.read_csv(\n",
    "#     '../dataset/processed/results_skip_initial.csv', \n",
    "#     nrows = 20, \n",
    "#     names = HEADERS,\n",
    "# )\n",
    "# entry = test.iloc[0]\n",
    "# bitmaps = np.array(ast.literal_eval(entry[\"bitmaps\"]))\n",
    "# side_channel = np.ones((1, 8, 8)) if entry[\"sideToPlay\"] == \"True\" else np.zeros((1, 8, 8))\n",
    "\n",
    "# bitmaps = np.concatenate((bitmaps, side_channel), axis=0)\n",
    "# X = bitmaps\n",
    "# played_move = entry[\"movePlayed\"]\n",
    "import pandas as pd\n",
    "from time import time\n",
    "DATASET_PATH = '../dataset/processed/results_skip_initial.csv'\n",
    "t0 = time()\n",
    "df = pd.read_csv(DATASET_PATH, names=HEADERS, nrows=50_000)\n",
    "print(f\"PANDAS: Took {time() - t0} seconds to read the dataset\")\n",
    "\n",
    "\n",
    "import polars as pl\n",
    "lazy_dataset = pl.scan_csv(DATASET_PATH, has_header=False, new_columns=HEADERS)\n",
    "t0 = time()\n",
    "batch_dataset = (lazy_dataset\n",
    "            .slice(0, 50_000)\n",
    "            .collect())\n",
    "features = batch_dataset.select([\"bitmaps\", \"sideToPlay\", \"movePlayed\"])\n",
    "print(f\"POLAR: Took {time() - t0} seconds to read the dataset\")\n",
    "# PANDAS: Took 0.6252572536468506 seconds to read the dataset\n",
    "# POLAR: Took 0.07185816764831543 seconds to read the dataset"
   ]
  },
  {
   "cell_type": "code",
   "execution_count": null,
   "id": "919a9acf",
   "metadata": {},
   "outputs": [
    {
     "ename": "RuntimeError",
     "evalue": "PytorchStreamReader failed locating file data/0: file not found",
     "output_type": "error",
     "traceback": [
      "\u001b[31m---------------------------------------------------------------------------\u001b[39m",
      "\u001b[31mRuntimeError\u001b[39m                              Traceback (most recent call last)",
      "\u001b[36mCell\u001b[39m\u001b[36m \u001b[39m\u001b[32mIn[7]\u001b[39m\u001b[32m, line 5\u001b[39m\n\u001b[32m      3\u001b[39m device = torch.device(\u001b[33m\"\u001b[39m\u001b[33mcpu\u001b[39m\u001b[33m\"\u001b[39m)\n\u001b[32m      4\u001b[39m trained_model = ChessBotNetwork().to(device)\n\u001b[32m----> \u001b[39m\u001b[32m5\u001b[39m trained_model.load_state_dict(\u001b[43mtorch\u001b[49m\u001b[43m.\u001b[49m\u001b[43mload\u001b[49m\u001b[43m(\u001b[49m\u001b[33;43m\"\u001b[39;49m\u001b[33;43m./pieces_model_skip_initial_full_dataset.pth\u001b[39;49m\u001b[33;43m\"\u001b[39;49m\u001b[43m)\u001b[49m)\n\u001b[32m      6\u001b[39m trained_model.eval()  \u001b[38;5;66;03m# Set model to evaluation mode\u001b[39;00m\n\u001b[32m      8\u001b[39m \u001b[38;5;28;01mdef\u001b[39;00m\u001b[38;5;250m \u001b[39m\u001b[34mpredict_move\u001b[39m(bitmaps):\n",
      "\u001b[36mFile \u001b[39m\u001b[32m/media/jgaspar/7CCE3FA7CE3F589A1/LEI/3_Ano/2_Semestre/TAA/ChessBot/.venv/lib/python3.11/site-packages/torch/serialization.py:1516\u001b[39m, in \u001b[36mload\u001b[39m\u001b[34m(f, map_location, pickle_module, weights_only, mmap, **pickle_load_args)\u001b[39m\n\u001b[32m   1514\u001b[39m \u001b[38;5;28;01mif\u001b[39;00m weights_only:\n\u001b[32m   1515\u001b[39m     \u001b[38;5;28;01mtry\u001b[39;00m:\n\u001b[32m-> \u001b[39m\u001b[32m1516\u001b[39m         \u001b[38;5;28;01mreturn\u001b[39;00m \u001b[43m_load\u001b[49m\u001b[43m(\u001b[49m\n\u001b[32m   1517\u001b[39m \u001b[43m            \u001b[49m\u001b[43mopened_zipfile\u001b[49m\u001b[43m,\u001b[49m\n\u001b[32m   1518\u001b[39m \u001b[43m            \u001b[49m\u001b[43mmap_location\u001b[49m\u001b[43m,\u001b[49m\n\u001b[32m   1519\u001b[39m \u001b[43m            \u001b[49m\u001b[43m_weights_only_unpickler\u001b[49m\u001b[43m,\u001b[49m\n\u001b[32m   1520\u001b[39m \u001b[43m            \u001b[49m\u001b[43moverall_storage\u001b[49m\u001b[43m=\u001b[49m\u001b[43moverall_storage\u001b[49m\u001b[43m,\u001b[49m\n\u001b[32m   1521\u001b[39m \u001b[43m            \u001b[49m\u001b[43m*\u001b[49m\u001b[43m*\u001b[49m\u001b[43mpickle_load_args\u001b[49m\u001b[43m,\u001b[49m\n\u001b[32m   1522\u001b[39m \u001b[43m        \u001b[49m\u001b[43m)\u001b[49m\n\u001b[32m   1523\u001b[39m     \u001b[38;5;28;01mexcept\u001b[39;00m pickle.UnpicklingError \u001b[38;5;28;01mas\u001b[39;00m e:\n\u001b[32m   1524\u001b[39m         \u001b[38;5;28;01mraise\u001b[39;00m pickle.UnpicklingError(_get_wo_message(\u001b[38;5;28mstr\u001b[39m(e))) \u001b[38;5;28;01mfrom\u001b[39;00m\u001b[38;5;250m \u001b[39m\u001b[38;5;28;01mNone\u001b[39;00m\n",
      "\u001b[36mFile \u001b[39m\u001b[32m/media/jgaspar/7CCE3FA7CE3F589A1/LEI/3_Ano/2_Semestre/TAA/ChessBot/.venv/lib/python3.11/site-packages/torch/serialization.py:2114\u001b[39m, in \u001b[36m_load\u001b[39m\u001b[34m(zip_file, map_location, pickle_module, pickle_file, overall_storage, **pickle_load_args)\u001b[39m\n\u001b[32m   2112\u001b[39m \u001b[38;5;28;01mglobal\u001b[39;00m _serialization_tls\n\u001b[32m   2113\u001b[39m _serialization_tls.map_location = map_location\n\u001b[32m-> \u001b[39m\u001b[32m2114\u001b[39m result = \u001b[43munpickler\u001b[49m\u001b[43m.\u001b[49m\u001b[43mload\u001b[49m\u001b[43m(\u001b[49m\u001b[43m)\u001b[49m\n\u001b[32m   2115\u001b[39m _serialization_tls.map_location = \u001b[38;5;28;01mNone\u001b[39;00m\n\u001b[32m   2117\u001b[39m torch._utils._validate_loaded_sparse_tensors()\n",
      "\u001b[36mFile \u001b[39m\u001b[32m/media/jgaspar/7CCE3FA7CE3F589A1/LEI/3_Ano/2_Semestre/TAA/ChessBot/.venv/lib/python3.11/site-packages/torch/_weights_only_unpickler.py:532\u001b[39m, in \u001b[36mUnpickler.load\u001b[39m\u001b[34m(self)\u001b[39m\n\u001b[32m    524\u001b[39m     \u001b[38;5;28;01mif\u001b[39;00m (\n\u001b[32m    525\u001b[39m         \u001b[38;5;28mtype\u001b[39m(pid) \u001b[38;5;129;01mis\u001b[39;00m \u001b[38;5;28mtuple\u001b[39m\n\u001b[32m    526\u001b[39m         \u001b[38;5;129;01mand\u001b[39;00m \u001b[38;5;28mlen\u001b[39m(pid) > \u001b[32m0\u001b[39m\n\u001b[32m    527\u001b[39m         \u001b[38;5;129;01mand\u001b[39;00m torch.serialization._maybe_decode_ascii(pid[\u001b[32m0\u001b[39m]) != \u001b[33m\"\u001b[39m\u001b[33mstorage\u001b[39m\u001b[33m\"\u001b[39m\n\u001b[32m    528\u001b[39m     ):\n\u001b[32m    529\u001b[39m         \u001b[38;5;28;01mraise\u001b[39;00m UnpicklingError(\n\u001b[32m    530\u001b[39m             \u001b[33mf\u001b[39m\u001b[33m\"\u001b[39m\u001b[33mOnly persistent_load of storage is allowed, but got \u001b[39m\u001b[38;5;132;01m{\u001b[39;00mpid[\u001b[32m0\u001b[39m]\u001b[38;5;132;01m}\u001b[39;00m\u001b[33m\"\u001b[39m\n\u001b[32m    531\u001b[39m         )\n\u001b[32m--> \u001b[39m\u001b[32m532\u001b[39m     \u001b[38;5;28mself\u001b[39m.append(\u001b[38;5;28;43mself\u001b[39;49m\u001b[43m.\u001b[49m\u001b[43mpersistent_load\u001b[49m\u001b[43m(\u001b[49m\u001b[43mpid\u001b[49m\u001b[43m)\u001b[49m)\n\u001b[32m    533\u001b[39m \u001b[38;5;28;01melif\u001b[39;00m key[\u001b[32m0\u001b[39m] \u001b[38;5;129;01min\u001b[39;00m [BINGET[\u001b[32m0\u001b[39m], LONG_BINGET[\u001b[32m0\u001b[39m]]:\n\u001b[32m    534\u001b[39m     idx = (read(\u001b[32m1\u001b[39m) \u001b[38;5;28;01mif\u001b[39;00m key[\u001b[32m0\u001b[39m] == BINGET[\u001b[32m0\u001b[39m] \u001b[38;5;28;01melse\u001b[39;00m unpack(\u001b[33m\"\u001b[39m\u001b[33m<I\u001b[39m\u001b[33m\"\u001b[39m, read(\u001b[32m4\u001b[39m)))[\u001b[32m0\u001b[39m]\n",
      "\u001b[36mFile \u001b[39m\u001b[32m/media/jgaspar/7CCE3FA7CE3F589A1/LEI/3_Ano/2_Semestre/TAA/ChessBot/.venv/lib/python3.11/site-packages/torch/serialization.py:2078\u001b[39m, in \u001b[36m_load.<locals>.persistent_load\u001b[39m\u001b[34m(saved_id)\u001b[39m\n\u001b[32m   2076\u001b[39m \u001b[38;5;28;01melse\u001b[39;00m:\n\u001b[32m   2077\u001b[39m     nbytes = numel * torch._utils._element_size(dtype)\n\u001b[32m-> \u001b[39m\u001b[32m2078\u001b[39m     typed_storage = \u001b[43mload_tensor\u001b[49m\u001b[43m(\u001b[49m\n\u001b[32m   2079\u001b[39m \u001b[43m        \u001b[49m\u001b[43mdtype\u001b[49m\u001b[43m,\u001b[49m\u001b[43m \u001b[49m\u001b[43mnbytes\u001b[49m\u001b[43m,\u001b[49m\u001b[43m \u001b[49m\u001b[43mkey\u001b[49m\u001b[43m,\u001b[49m\u001b[43m \u001b[49m\u001b[43m_maybe_decode_ascii\u001b[49m\u001b[43m(\u001b[49m\u001b[43mlocation\u001b[49m\u001b[43m)\u001b[49m\n\u001b[32m   2080\u001b[39m \u001b[43m    \u001b[49m\u001b[43m)\u001b[49m\n\u001b[32m   2082\u001b[39m \u001b[38;5;28;01mreturn\u001b[39;00m typed_storage\n",
      "\u001b[36mFile \u001b[39m\u001b[32m/media/jgaspar/7CCE3FA7CE3F589A1/LEI/3_Ano/2_Semestre/TAA/ChessBot/.venv/lib/python3.11/site-packages/torch/serialization.py:2031\u001b[39m, in \u001b[36m_load.<locals>.load_tensor\u001b[39m\u001b[34m(dtype, numel, key, location)\u001b[39m\n\u001b[32m   2024\u001b[39m         \u001b[38;5;28;01mif\u001b[39;00m storage_offset != zip_file.get_record_offset(name):\n\u001b[32m   2025\u001b[39m             \u001b[38;5;28;01mraise\u001b[39;00m \u001b[38;5;167;01mRuntimeError\u001b[39;00m(\n\u001b[32m   2026\u001b[39m                 \u001b[33m\"\u001b[39m\u001b[33mThis is a debug assert that was run as the `TORCH_SERIALIZATION_DEBUG` environment \u001b[39m\u001b[33m\"\u001b[39m\n\u001b[32m   2027\u001b[39m                 \u001b[33mf\u001b[39m\u001b[33m\"\u001b[39m\u001b[33mvariable was set: Incorrect offset for \u001b[39m\u001b[38;5;132;01m{\u001b[39;00mname\u001b[38;5;132;01m}\u001b[39;00m\u001b[33m, got \u001b[39m\u001b[38;5;132;01m{\u001b[39;00mstorage_offset\u001b[38;5;132;01m}\u001b[39;00m\u001b[33m expected \u001b[39m\u001b[33m\"\u001b[39m\n\u001b[32m   2028\u001b[39m                 \u001b[33mf\u001b[39m\u001b[33m\"\u001b[39m\u001b[38;5;132;01m{\u001b[39;00mzip_file.get_record_offset(name)\u001b[38;5;132;01m}\u001b[39;00m\u001b[33m\"\u001b[39m\n\u001b[32m   2029\u001b[39m             )\n\u001b[32m   2030\u001b[39m     storage = (\n\u001b[32m-> \u001b[39m\u001b[32m2031\u001b[39m         \u001b[43mzip_file\u001b[49m\u001b[43m.\u001b[49m\u001b[43mget_storage_from_record\u001b[49m\u001b[43m(\u001b[49m\u001b[43mname\u001b[49m\u001b[43m,\u001b[49m\u001b[43m \u001b[49m\u001b[43mnumel\u001b[49m\u001b[43m,\u001b[49m\u001b[43m \u001b[49m\u001b[43mtorch\u001b[49m\u001b[43m.\u001b[49m\u001b[43mUntypedStorage\u001b[49m\u001b[43m)\u001b[49m\n\u001b[32m   2032\u001b[39m         ._typed_storage()\n\u001b[32m   2033\u001b[39m         ._untyped_storage\n\u001b[32m   2034\u001b[39m     )\n\u001b[32m   2035\u001b[39m \u001b[38;5;66;03m# swap here if byteswapping is needed\u001b[39;00m\n\u001b[32m   2036\u001b[39m \u001b[38;5;28;01mif\u001b[39;00m byteorderdata \u001b[38;5;129;01mis\u001b[39;00m \u001b[38;5;129;01mnot\u001b[39;00m \u001b[38;5;28;01mNone\u001b[39;00m:\n",
      "\u001b[31mRuntimeError\u001b[39m: PytorchStreamReader failed locating file data/0: file not found"
     ]
    }
   ],
   "source": [
    "import torch\n",
    "device = torch.device(\"cuda\" if torch.cuda.is_available() else \"cpu\")\n",
    "device = torch.device(\"cpu\")\n",
    "trained_model = ChessBotNetwork().to(device)\n",
    "trained_model.load_state_dict(torch.load(\"./pieces_model_skip_initial_full_dataset.pth\"))\n",
    "trained_model.eval()  # Set model to evaluation mode\n",
    "\n",
    "def predict_move(bitmaps):\n",
    "    X_tensor = torch.tensor(bitmaps, dtype=torch.float32).cuda().to(device)\n",
    "    \n",
    "    with torch.no_grad():\n",
    "        logits = trained_model(X_tensor)\n",
    "    \n",
    "    logits = logits.squeeze(0)  # Remove batch dimension\n",
    "    \n",
    "    probabilities = torch.softmax(logits, dim=0).cpu().numpy()  # Convert to probabilities\n",
    "    \n",
    "    return probabilities"
   ]
  },
  {
   "cell_type": "code",
   "execution_count": null,
   "id": "34cfcf54",
   "metadata": {},
   "outputs": [],
   "source": [
    "# import matplotlib.pyplot as plt\n",
    "# import chess\n",
    "\n",
    "# def plot_board(bitmaps, move_probs=None):\n",
    "#     board = np.zeros((8,8,3))\n",
    "#     colors = [(240/255, 217/255, 181/255), (181/255, 136/255, 99/255)]\n",
    "\n",
    "#     fig, ax = plt.subplots(figsize=(8, 8))\n",
    "#     for i in range(8):\n",
    "#         for j in range(8):\n",
    "#             color = colors[(i + j) % 2]\n",
    "#             rect = plt.Rectangle((j, 7-i), 1, 1, facecolor=color)\n",
    "#             ax.add_patch(rect)\n",
    "#             piece_symbols = ['P', 'N', 'B', 'R', 'Q', 'K', 'p', 'n', 'b', 'r', 'q', 'k']\n",
    "\n",
    "#     for idx, symbol in enumerate(piece_symbols):\n",
    "#         channel = bitmaps[idx]\n",
    "#         for i in range(8):\n",
    "#             for j in range(8):\n",
    "#                 if channel[i, j] == 1:\n",
    "#                     ax.text(j + 0.5, 7-i + 0.5, symbol, fontsize=24, ha='center', va='center')\n",
    "\n",
    "#     if move_probs is not None:\n",
    "#         for i in range(8):\n",
    "#             for j in range(8):\n",
    "#                 prob = move_probs[i, j]\n",
    "#                 if prob > 0.05: \n",
    "#                     ax.text(j + 0.5, 7-i + 0.8, f\"{prob:.2f}\", fontsize=8, color=\"red\", ha='center')\n",
    "\n",
    "#     ax.set_xlim(0, 8)\n",
    "#     ax.set_ylim(0, 8)\n",
    "#     ax.set_xticks([])\n",
    "#     ax.set_yticks([])\n",
    "#     plt.show()\n",
    "\n",
    "\n",
    "########## WORKING CODDE:\n",
    "# import matplotlib.pyplot as plt\n",
    "# import numpy as np\n",
    "\n",
    "# # Mapping of piece letters to unicode chess symbols\n",
    "# PIECE_UNICODE = {\n",
    "#     'P': '♙', 'N': '♘', 'B': '♗', 'R': '♖', 'Q': '♕', 'K': '♔',\n",
    "#     'p': '♟︎', 'n': '♞', 'b': '♝', 'r': '♜', 'q': '♛', 'k': '♚'\n",
    "# }\n",
    "\n",
    "# def plot_board(bitmaps, move_probs=None):\n",
    "#     board = np.zeros((8, 8, 3))\n",
    "#     colors = [(240/255, 217/255, 181/255), (181/255, 136/255, 99/255)]\n",
    "\n",
    "#     fig, ax = plt.subplots(figsize=(8, 8))\n",
    "\n",
    "#     # Draw squares\n",
    "#     for i in range(8):\n",
    "#         for j in range(8):\n",
    "#             color = colors[(i + j) % 2]\n",
    "#             rect = plt.Rectangle((j, 7-i), 1, 1, facecolor=color)\n",
    "#             ax.add_patch(rect)\n",
    "\n",
    "#     # Draw pieces\n",
    "#     piece_symbols = [ 'P', 'N', 'B', 'R', 'Q', 'K', 'p', 'n', 'b', 'r', 'q', 'k']\n",
    "#     for idx, symbol in enumerate(piece_symbols):\n",
    "#         channel = bitmaps[idx]\n",
    "#         for i in range(8):\n",
    "#             for j in range(8):\n",
    "#                 if channel[i, j] == 1:\n",
    "#                     piece_unicode = PIECE_UNICODE[symbol]\n",
    "#                     ax.text(j + 0.5, 7 - i + 0.5, piece_unicode, fontsize=48, ha='center', va='center')\n",
    "\n",
    "#     # Draw move probabilities\n",
    "#     if move_probs is not None:\n",
    "#         for i in range(8):\n",
    "#             for j in range(8):\n",
    "#                 prob = move_probs[i, j]\n",
    "#                 if prob > 0:  # Show only significant probs\n",
    "#                     ax.text(j + 0.5, 7 - i + 0.1, f\"{prob:.2f}\", fontsize=8, color=\"red\", ha='center')\n",
    "#                     # ax.text(j + 0.5, i + 0.8, f\"{i*8 + j}\", fontsize=8, color=\"red\", ha='center')\n",
    "\n",
    "#     # Add a-h and 1-8 labels\n",
    "#     # files = ['h', 'g', 'f', 'e', 'd', 'c', 'b', 'a']\n",
    "#     files = ['a', 'b', 'c', 'd', 'e', 'f', 'g', 'h']\n",
    "#     ranks = ['8', '7', '6', '5', '4', '3', '2', '1']\n",
    "#     for i in range(8):\n",
    "#         # Bottom labels\n",
    "#         ax.text(i + 0.5, -0.3, files[i], ha='center', va='center', fontsize=14)\n",
    "#         # Left side labels\n",
    "#         ax.text(-0.3, i + 0.5, ranks[7-i], ha='center', va='center', fontsize=14)\n",
    "\n",
    "#     ax.set_xlim(0, 8)\n",
    "#     ax.set_ylim(0, 8)\n",
    "#     ax.set_xticks([])\n",
    "#     ax.set_yticks([])\n",
    "#     plt.gca().set_aspect('equal', adjustable='box')\n",
    "#     plt.show()\n"
   ]
  },
  {
   "cell_type": "code",
   "execution_count": null,
   "id": "e891e5f3",
   "metadata": {},
   "outputs": [
    {
     "data": {
      "image/png": "[encoded data removed]",
      "text/plain": [
       "<Figure size 800x800 with 1 Axes>"
      ]
     },
     "metadata": {},
     "output_type": "display_data"
    },
    {
     "data": {
      "text/plain": [
       "array([4.6589840e-03, 8.3108813e-02, 7.6623895e-04, 7.5574476e-01,\n",
       "       7.6813303e-02, 2.0228499e-06, 5.6386908e-04, 8.0368619e-07],\n",
       "      dtype=float32)"
      ]
     },
     "execution_count": 10,
     "metadata": {},
     "output_type": "execute_result"
    }
   ],
   "source": [
    "# y = predict_move(bitmaps)  # model output\n",
    "# y2 = np.reshape(y, (8, 8)) # reshape to 8x8\n",
    "# plot_board(bitmaps, move_probs=y2)\n",
    "# np.max(y2, axis=1)"
   ]
  },
  {
   "cell_type": "code",
   "execution_count": null,
   "id": "e7d7f31c",
   "metadata": {},
   "outputs": [
    {
     "data": {
      "image/png": "[encoded data removed]",
      "text/plain": [
       "<Figure size 800x800 with 1 Axes>"
      ]
     },
     "metadata": {},
     "output_type": "display_data"
    }
   ],
   "source": [
    "# board = chess.Board()\n",
    "# probs = np.zeros((8, 8))\n",
    "# input_tensor = board_to_tensor(board)\n",
    "\n",
    "# while not board.is_game_over():\n",
    "#     plot_board(input_tensor, move_probs=np.reshape(probs, (8,8)))\n",
    "\n",
    "#     user_move = input(\"Your move (e.g., e2e4): \")\n",
    "#     if user_move == \"exit\":\n",
    "#         break\n",
    "#     try:\n",
    "#         board.push_san(user_move)\n",
    "#     except Exception as e:\n",
    "#         print(\"Invalid move. Try again.\")\n",
    "#         continue\n",
    "\n",
    "#     # Convert board to bitmap\n",
    "#     bitmaps = board_to_tensor(board)\n",
    "#     side_channel = np.ones((1, 8, 8)) if board.turn == chess.WHITE else np.zeros((1, 8, 8))\n",
    "#     input_tensor = np.concatenate((bitmaps, side_channel), axis=0)\n",
    "\n",
    "#     # Model predicts best move\n",
    "#     probs = predict_move(input_tensor)\n",
    "#     best_square_idx = np.argmax(probs, keepdims=True)\n",
    "    \n",
    "#     # Here you can pick any legal move from that square (some logic needed)\n",
    "#     # For now, let's print it\n",
    "#     print(f\"Model suggests moving from square index {idxToUci(int(best_square_idx))}\") # Doesnt work idxToUci\n"
   ]
  }
 ],
 "metadata": {
  "kernelspec": {
   "display_name": ".venv",
   "language": "python",
   "name": "python3"
  },
  "language_info": {
   "codemirror_mode": {
    "name": "ipython",
    "version": 3
   },
   "file_extension": ".py",
   "mimetype": "text/x-python",
   "name": "python",
   "nbconvert_exporter": "python",
   "pygments_lexer": "ipython3",
   "version": "3.11.9"
  }
 },
 "nbformat": 4,
 "nbformat_minor": 5
}
