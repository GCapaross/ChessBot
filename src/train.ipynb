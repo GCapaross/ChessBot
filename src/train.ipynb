{
 "cells": [
  {
   "cell_type": "code",
   "execution_count": null,
   "id": "f1200a19",
   "metadata": {},
   "outputs": [],
   "source": [
    "import numpy as np\n",
    "import torch\n",
    "import time\n",
    "import tqdm\n",
    "import pickle\n",
    "\n",
    "# Load the move dictionary created during the data-processing\n",
    "MOVE_DICTIONARY = pickle.load(open(\"./model/move_dictionary.p\", \"rb\"))"
   ]
  },
  {
   "cell_type": "markdown",
   "id": "66156df7",
   "metadata": {},
   "source": [
    "# Initialize Dataset and Dataload\n",
    "## Dataset\n",
    "Our dataset consists of around 10M moves, played by humans with Lichess ELO of at least 2100, to ensure quality moves, pre-processed in file `data_processing.ipynb`\n",
    "Our dataset is written in csv files, with just two columns `bitmaps` that represent the game state and `move played` that represents the game played by a human in that game state. \n",
    "\n",
    "As our dataset contains a very large number of examples we load it in batches of `NUM_EXAMPLES_TO_LOAD_PER_FETCH`, normally 640k examples at a time.\n",
    "This is imperative as fetching 1.2M examples will use around 5gb ram, and, since the training was made in a GPU with 6GB of VRAM, we couldn't load the entire dataset at once.\n",
    "\n",
    "This loaded batch is shuffled to prevent any inherent order or pattern in the data from affecting the training, especially sinced our data consists of moves of games that are read in order.\n",
    "\n",
    "## Dataloader\n",
    "Dataloader serves the purpose of fetching the data from our dataset and dividing the examples in batches of `TRAINING_BATCH_SIZE` elements "
   ]
  },
  {
   "cell_type": "code",
   "execution_count": 2,
   "id": "e442ecda",
   "metadata": {},
   "outputs": [],
   "source": [
    "from torch.utils.data import DataLoader\n",
    "from ChessDataset import ChessEvalDataset\n",
    "\n",
    "DATASET_PATH = '../dataset/processed/test_elite/results_black.csv'\n",
    "## !IMPORTANT: This dictates how much ram will be used, and how much data will be loaded\n",
    "# 640_000 loads around 5gb, dont push this too high as it will crash if ram deplects\n",
    "# NUM_EXAMPLES_TO_LOAD_PER_FETCH = 1_280_000 \n",
    "NUM_EXAMPLES_TO_LOAD_PER_FETCH = 320_000\n",
    "TRAINING_BATCH_SIZE = 64\n",
    "\n",
    "HEADERS = (\"bitmaps\", \"movePlayed\")\n",
    "dataset = ChessEvalDataset(\n",
    "    file = DATASET_PATH, \n",
    "    validation_size = 25_000,\n",
    "    load_batch_size = NUM_EXAMPLES_TO_LOAD_PER_FETCH,\n",
    "    headers = HEADERS\n",
    ")\n",
    "dataloader = DataLoader(dataset, batch_size=TRAINING_BATCH_SIZE, shuffle=False) # Shuffle is made in the dataset manually"
   ]
  },
  {
   "cell_type": "markdown",
   "id": "b967d507",
   "metadata": {},
   "source": [
    "# Model\n",
    "We use a model, saved in the file `model.py`present in the folder `./model/models/architecture_2Conv/model.py` (this allowed us to have a versioning system of our models) \n",
    "\n",
    "The final model consists of two Convolutional layers and two fully connected layers, that receive a 8x8x12 tensor, which represent the game state (8x8 squares, 6 white pieces and 6 black pieces)\n",
    "\n",
    "And has 1800 outputs, each represent a played move (moves played in our dataset)\n",
    "We didn't used all possible moves (64x63 moves) because since we didn't have all the possible moves represented in our dataset our model wasn't converging to acceptable values (40% validation accuracy) "
   ]
  },
  {
   "cell_type": "code",
   "execution_count": null,
   "id": "acf001f1",
   "metadata": {},
   "outputs": [],
   "source": [
    "device = torch.device(\"cuda\" if torch.cuda.is_available() else \"cpu\")\n",
    "import gc\n",
    "# from models.architecture_batchnorm_2Conv.model import CompleteChessBotNetwork\n",
    "from model.architecture_2Conv_classes.model import ChessModel as ChessModel\n",
    "model = ChessModel(len(MOVE_DICTIONARY), kernel_size=7).to(device)"
   ]
  },
  {
   "cell_type": "markdown",
   "id": "4f021dc7",
   "metadata": {},
   "source": [
    "# Training Loop\n",
    "Our training loop, written in pseudocode:\n",
    "```\n",
    "For each epoch:\n",
    "    For batch in dataloader.get_next_batch():\n",
    "        bitmaps, expected_moves = batch\n",
    "        predictions = model.predict(bitmaps)\n",
    "\n",
    "        loss = CrossEntropyLoss(predictions, expected_moves)\n",
    "        loss.backpropagation()\n",
    "\n",
    "    validation_dataset = get_validation_dataset()\n",
    "    loss, accuracy = evaluate_accuracy(validation_dataset)\n",
    "\n",
    "    if epoch % 5 == 0:\n",
    "        save_model(model)\n",
    "```\n",
    "We also save the weights of our model every 5 epochs.\n",
    "\n",
    "## Optimizer and Scheduler\n",
    "We use, as an optimizer, Adam (Adaptive Moment Estimation) optimizer, which adjust learning rates during training, as it works well with large datasets and complex models because it uses memory efficiently and adapts the learning rate for each parameter automatically.\n",
    "\n",
    "## Loss Function\n",
    "As a classification problem, we use Cross Entropy Loss to calculate the loss of each batch\n",
    "\n",
    "## Model Accuracy Evaluation\n",
    "To evaluate our model, we extract, in the beginning, 50k examples from the dataset that are never used in the training phase, which allows us to see how well our model generalizes."
   ]
  },
  {
   "cell_type": "code",
   "execution_count": null,
   "id": "7916a846",
   "metadata": {},
   "outputs": [
    {
     "name": "stdout",
     "output_type": "stream",
     "text": [
      "True\n",
      "Using device:  cuda\n"
     ]
    },
    {
     "name": "stderr",
     "output_type": "stream",
     "text": [
      "Batch Accuracy: 42.19%: 100%|██████████| 157405/157405 [18:48<00:00, 139.49it/s]\n"
     ]
    },
    {
     "name": "stdout",
     "output_type": "stream",
     "text": [
      "Epoch 21 - 1.6497 | Training Accuracy: 49.05%| Time: 1129.2576994895935\n",
      "Validation set - accuracy: 41.93% | loss: 1.9877\n",
      "\n"
     ]
    },
    {
     "name": "stderr",
     "output_type": "stream",
     "text": [
      "Batch Accuracy: 46.88%: 100%|██████████| 157405/157405 [18:27<00:00, 142.15it/s]\n"
     ]
    },
    {
     "name": "stdout",
     "output_type": "stream",
     "text": [
      "Epoch 22 - 1.6450 | Training Accuracy: 49.18%| Time: 1108.1505796909332\n",
      "Validation set - accuracy: 42.02% | loss: 1.9964\n",
      "\n"
     ]
    },
    {
     "name": "stderr",
     "output_type": "stream",
     "text": [
      "Batch Accuracy: 46.88%: 100%|██████████| 157405/157405 [18:35<00:00, 141.17it/s]\n"
     ]
    },
    {
     "name": "stdout",
     "output_type": "stream",
     "text": [
      "Epoch 23 - 1.6408 | Training Accuracy: 49.30%| Time: 1115.7941944599152\n",
      "Validation set - accuracy: 42.02% | loss: 1.9888\n",
      "\n"
     ]
    },
    {
     "name": "stderr",
     "output_type": "stream",
     "text": [
      "Batch Accuracy: 48.44%: 100%|██████████| 157405/157405 [18:07<00:00, 144.75it/s]\n"
     ]
    },
    {
     "name": "stdout",
     "output_type": "stream",
     "text": [
      "Epoch 24 - 1.6369 | Training Accuracy: 49.41%| Time: 1088.2141144275665\n",
      "Validation set - accuracy: 42.11% | loss: 1.9917\n",
      "\n"
     ]
    },
    {
     "name": "stderr",
     "output_type": "stream",
     "text": [
      "Batch Accuracy: 39.06%: 100%|██████████| 157405/157405 [18:02<00:00, 145.45it/s]\n"
     ]
    },
    {
     "name": "stdout",
     "output_type": "stream",
     "text": [
      "Epoch 25 - 1.6333 | Training Accuracy: 49.49%| Time: 1082.9902493953705\n",
      "Validation set - accuracy: 42.28% | loss: 1.9992\n",
      "\n"
     ]
    },
    {
     "name": "stderr",
     "output_type": "stream",
     "text": [
      "Batch Accuracy: 51.56%: 100%|██████████| 157405/157405 [17:57<00:00, 146.12it/s]\n"
     ]
    },
    {
     "name": "stdout",
     "output_type": "stream",
     "text": [
      "Epoch 26 - 1.6297 | Training Accuracy: 49.60%| Time: 1077.987300157547\n",
      "Validation set - accuracy: 41.84% | loss: 1.9976\n",
      "\n"
     ]
    },
    {
     "name": "stderr",
     "output_type": "stream",
     "text": [
      "Batch Accuracy: 50.00%: 100%|██████████| 157405/157405 [19:18<00:00, 135.88it/s] \n"
     ]
    },
    {
     "name": "stdout",
     "output_type": "stream",
     "text": [
      "Epoch 27 - 1.6267 | Training Accuracy: 49.67%| Time: 1159.1764605045319\n",
      "Validation set - accuracy: 42.04% | loss: 2.0029\n",
      "\n"
     ]
    },
    {
     "name": "stderr",
     "output_type": "stream",
     "text": [
      "Batch Accuracy: 45.31%: 100%|██████████| 157405/157405 [17:46<00:00, 147.58it/s]\n"
     ]
    },
    {
     "name": "stdout",
     "output_type": "stream",
     "text": [
      "Epoch 28 - 1.6237 | Training Accuracy: 49.75%| Time: 1067.38348031044\n",
      "Validation set - accuracy: 41.85% | loss: 2.0169\n",
      "\n"
     ]
    },
    {
     "name": "stderr",
     "output_type": "stream",
     "text": [
      "Batch Accuracy: 42.19%: 100%|██████████| 157405/157405 [17:43<00:00, 148.00it/s]\n"
     ]
    },
    {
     "name": "stdout",
     "output_type": "stream",
     "text": [
      "Epoch 29 - 1.6210 | Training Accuracy: 49.83%| Time: 1064.3305485248566\n",
      "Validation set - accuracy: 42.02% | loss: 2.0055\n",
      "\n"
     ]
    },
    {
     "name": "stderr",
     "output_type": "stream",
     "text": [
      "Batch Accuracy: 62.50%: 100%|██████████| 157405/157405 [18:45<00:00, 139.83it/s] \n"
     ]
    },
    {
     "name": "stdout",
     "output_type": "stream",
     "text": [
      "Epoch 30 - 1.6184 | Training Accuracy: 49.89%| Time: 1126.4589579105377\n",
      "Validation set - accuracy: 41.87% | loss: 2.0168\n",
      "\n"
     ]
    },
    {
     "name": "stderr",
     "output_type": "stream",
     "text": [
      "Batch Accuracy: 42.19%: 100%|██████████| 157405/157405 [20:14<00:00, 129.59it/s] \n"
     ]
    },
    {
     "name": "stdout",
     "output_type": "stream",
     "text": [
      "Epoch 31 - 1.6161 | Training Accuracy: 49.95%| Time: 1215.4824821949005\n",
      "Validation set - accuracy: 42.14% | loss: 2.0055\n",
      "\n"
     ]
    },
    {
     "name": "stderr",
     "output_type": "stream",
     "text": [
      "Batch Accuracy: 37.50%:  70%|██████▉   | 109763/157405 [13:56<06:12, 127.95it/s] "
     ]
    }
   ],
   "source": [
    "NUM_EPOCHS = 60\n",
    "OUTPUT_PATH = './model/architecture_2Conv_classes/blackOnly_7kernel'\n",
    "\n",
    "# Continue with pretrained weights\n",
    "# model.load_state_dict(torch.load(\"./model/architecture_2Conv_classes/blackOnly_7kernel/epoch-20.pth\"))\n",
    "\n",
    "optimizer = torch.optim.Adam(model.parameters(), lr=1e-4)\n",
    "scheduler = torch.optim.lr_scheduler.StepLR(optimizer, step_size=30, gamma=0.5)\n",
    "loss_fn = torch.nn.CrossEntropyLoss()\n",
    "\n",
    "\n",
    "print(torch.cuda.is_available())\n",
    "print(\"Using device: \", device)\n",
    "with open(f\"{OUTPUT_PATH}/training.log\", \"a+\") as f:\n",
    "    for epoch in range(1, NUM_EPOCHS+1):\n",
    "        model.train()\n",
    "        t0 = time.time()\n",
    "        avg_loss = 0.0\n",
    "        correct = 0\n",
    "        for board_tensor, target_eval in (pbar := tqdm.tqdm(dataloader)):        \n",
    "            board_tensor, target_eval = board_tensor.to(device), target_eval.to(device)  # Move data to GPU\n",
    "            optimizer.zero_grad()\n",
    "            pred = model(board_tensor)\n",
    "\n",
    "            # Compute loss with valid move vlaidaiton\n",
    "            loss = loss_fn(pred, target_eval.squeeze(1))\n",
    "            loss.backward()\n",
    "            \n",
    "            # Gradient clipping\n",
    "            torch.nn.utils.clip_grad_norm_(model.parameters(), max_norm=1.0)\n",
    "            \n",
    "            optimizer.step()\n",
    "            avg_loss += loss.item()\n",
    "\n",
    "            batch_correct = (pred.argmax(dim=1) == target_eval[:, 0]).sum().item()\n",
    "            correct += batch_correct\n",
    "            pbar.set_description(f\"Batch Accuracy: {batch_correct*100 / (TRAINING_BATCH_SIZE):.2f}%\")\n",
    "        scheduler.step()\n",
    "        \n",
    "        # Validation set\n",
    "        model.eval()\n",
    "        validation_features, validation_targets = dataset.get_validation_set()\n",
    "        validation_features = validation_features.to(device)\n",
    "        validation_targets = validation_targets.to(device)\n",
    "        with torch.no_grad():\n",
    "            pred = model(validation_features)\n",
    "            validation_set_loss = loss_fn(pred, validation_targets.squeeze(1))\n",
    "            validation_set_correct = (pred.argmax(dim=1) == validation_targets[:, 0]).sum().item()\n",
    "            validation_set_accuracy = 100 * validation_set_correct / len(validation_targets)\n",
    "            pred = pred.cpu()\n",
    "            validation_features = validation_features.cpu()\n",
    "            validation_targets = validation_targets.cpu()\n",
    "\n",
    "        accuracy = 100 * correct / (len(dataloader) * TRAINING_BATCH_SIZE)\n",
    "        tf = time.time()\n",
    "        f.write(f\"Epoch {epoch} - {avg_loss / len(dataloader):.4f} | Training Accuracy: {accuracy:.2f}%| Time: {tf-t0}\\n\")\n",
    "        f.write(f\"Validation set - accuracy: {validation_set_accuracy:.2f}% | loss: {validation_set_loss:.4f}\\n\\n\")\n",
    "        f.flush()\n",
    "        print(f\"Epoch {epoch} - {avg_loss / len(dataloader):.4f} | Training Accuracy: {accuracy:.2f}%| Time: {tf-t0}\")\n",
    "        print(f\"Validation set - accuracy: {validation_set_accuracy:.2f}% | loss: {validation_set_loss:.4f}\\n\")\n",
    "\n",
    "        # Free GPU memory\n",
    "        del validation_features, validation_targets, validation_set_loss, validation_set_accuracy\n",
    "        gc.collect()\n",
    "        torch.cuda.empty_cache()\n",
    "        \n",
    "        if epoch % 5 == 0:\n",
    "            torch.save(model.state_dict(), f\"{OUTPUT_PATH}/epoch-{epoch}.pth\")"
   ]
  }
 ],
 "metadata": {
  "kernelspec": {
   "display_name": ".venv",
   "language": "python",
   "name": "python3"
  },
  "language_info": {
   "codemirror_mode": {
    "name": "ipython",
    "version": 3
   },
   "file_extension": ".py",
   "mimetype": "text/x-python",
   "name": "python",
   "nbconvert_exporter": "python",
   "pygments_lexer": "ipython3",
   "version": "3.11.9"
  }
 },
 "nbformat": 4,
 "nbformat_minor": 5
}
